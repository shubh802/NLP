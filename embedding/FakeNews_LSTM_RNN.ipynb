{
 "cells": [
  {
   "cell_type": "markdown",
   "metadata": {},
   "source": [
    "### Fake News Classifier\n",
    "######  Dataset: https://www.kaggle.com/c/fake-news/data?select=train.csv"
   ]
  },
  {
   "cell_type": "code",
   "execution_count": 3,
   "metadata": {},
   "outputs": [
    {
     "name": "stdout",
     "output_type": "stream",
     "text": [
      "Collecting pandas\n",
      "  Downloading pandas-1.1.3-cp37-cp37m-win_amd64.whl (8.7 MB)\n",
      "Requirement already satisfied: python-dateutil>=2.7.3 in c:\\users\\ag20459\\appdata\\local\\continuum\\anaconda3\\envs\\tf2_2\\lib\\site-packages (from pandas) (2.8.1)"
     ]
    },
    {
     "name": "stderr",
     "output_type": "stream",
     "text": [
      "The system cannot find the path specified.\n",
      "WARNING: You are using pip version 20.0.2; however, version 20.2.3 is available.\n",
      "You should consider upgrading via the 'C:\\Users\\AG20459\\AppData\\Local\\Continuum\\anaconda3\\envs\\tf2_2\\python.exe -m pip install --upgrade pip' command.\n"
     ]
    },
    {
     "name": "stdout",
     "output_type": "stream",
     "text": [
      "\n",
      "Collecting pytz>=2017.2\n",
      "  Downloading pytz-2020.1-py2.py3-none-any.whl (510 kB)\n",
      "Requirement already satisfied: numpy>=1.15.4 in c:\\users\\ag20459\\appdata\\local\\continuum\\anaconda3\\envs\\tf2_2\\lib\\site-packages (from pandas) (1.18.5)\n",
      "Requirement already satisfied: six>=1.5 in c:\\users\\ag20459\\appdata\\local\\continuum\\anaconda3\\envs\\tf2_2\\lib\\site-packages (from python-dateutil>=2.7.3->pandas) (1.15.0)\n",
      "Installing collected packages: pytz, pandas\n",
      "Successfully installed pandas-1.1.3 pytz-2020.1\n"
     ]
    }
   ],
   "source": [
    "!pip install pandas"
   ]
  },
  {
   "cell_type": "code",
   "execution_count": 15,
   "metadata": {},
   "outputs": [],
   "source": [
    "import pandas as pd"
   ]
  },
  {
   "cell_type": "code",
   "execution_count": 16,
   "metadata": {},
   "outputs": [
    {
     "output_type": "execute_result",
     "data": {
      "text/plain": "   id                                              title              author  \\\n0   0  House Dem Aide: We Didn’t Even See Comey’s Let...       Darrell Lucus   \n1   1  FLYNN: Hillary Clinton, Big Woman on Campus - ...     Daniel J. Flynn   \n2   2                  Why the Truth Might Get You Fired  Consortiumnews.com   \n3   3  15 Civilians Killed In Single US Airstrike Hav...     Jessica Purkiss   \n4   4  Iranian woman jailed for fictional unpublished...      Howard Portnoy   \n\n                                                text  label  \n0  House Dem Aide: We Didn’t Even See Comey’s Let...      1  \n1  Ever get the feeling your life circles the rou...      0  \n2  Why the Truth Might Get You Fired October 29, ...      1  \n3  Videos 15 Civilians Killed In Single US Airstr...      1  \n4  Print \\nAn Iranian woman has been sentenced to...      1  ",
      "text/html": "<div>\n<style scoped>\n    .dataframe tbody tr th:only-of-type {\n        vertical-align: middle;\n    }\n\n    .dataframe tbody tr th {\n        vertical-align: top;\n    }\n\n    .dataframe thead th {\n        text-align: right;\n    }\n</style>\n<table border=\"1\" class=\"dataframe\">\n  <thead>\n    <tr style=\"text-align: right;\">\n      <th></th>\n      <th>id</th>\n      <th>title</th>\n      <th>author</th>\n      <th>text</th>\n      <th>label</th>\n    </tr>\n  </thead>\n  <tbody>\n    <tr>\n      <th>0</th>\n      <td>0</td>\n      <td>House Dem Aide: We Didn’t Even See Comey’s Let...</td>\n      <td>Darrell Lucus</td>\n      <td>House Dem Aide: We Didn’t Even See Comey’s Let...</td>\n      <td>1</td>\n    </tr>\n    <tr>\n      <th>1</th>\n      <td>1</td>\n      <td>FLYNN: Hillary Clinton, Big Woman on Campus - ...</td>\n      <td>Daniel J. Flynn</td>\n      <td>Ever get the feeling your life circles the rou...</td>\n      <td>0</td>\n    </tr>\n    <tr>\n      <th>2</th>\n      <td>2</td>\n      <td>Why the Truth Might Get You Fired</td>\n      <td>Consortiumnews.com</td>\n      <td>Why the Truth Might Get You Fired October 29, ...</td>\n      <td>1</td>\n    </tr>\n    <tr>\n      <th>3</th>\n      <td>3</td>\n      <td>15 Civilians Killed In Single US Airstrike Hav...</td>\n      <td>Jessica Purkiss</td>\n      <td>Videos 15 Civilians Killed In Single US Airstr...</td>\n      <td>1</td>\n    </tr>\n    <tr>\n      <th>4</th>\n      <td>4</td>\n      <td>Iranian woman jailed for fictional unpublished...</td>\n      <td>Howard Portnoy</td>\n      <td>Print \\nAn Iranian woman has been sentenced to...</td>\n      <td>1</td>\n    </tr>\n  </tbody>\n</table>\n</div>"
     },
     "metadata": {},
     "execution_count": 16
    }
   ],
   "source": [
    "df = pd.read_csv('C:\\\\dataset\\\\fakenews\\\\train.csv')\n",
    "df.head()"
   ]
  },
  {
   "cell_type": "code",
   "execution_count": 17,
   "metadata": {},
   "outputs": [],
   "source": [
    "df = df.dropna()"
   ]
  },
  {
   "cell_type": "code",
   "execution_count": 18,
   "metadata": {},
   "outputs": [],
   "source": [
    "# Independent Features\n",
    "x = df.drop('label', axis=1)"
   ]
  },
  {
   "cell_type": "code",
   "execution_count": 19,
   "metadata": {},
   "outputs": [],
   "source": [
    "# Dependent features\n",
    "y = df['label']"
   ]
  },
  {
   "cell_type": "code",
   "execution_count": 20,
   "metadata": {},
   "outputs": [
    {
     "output_type": "execute_result",
     "data": {
      "text/plain": "(18285, 4)"
     },
     "metadata": {},
     "execution_count": 20
    }
   ],
   "source": [
    "x.shape"
   ]
  },
  {
   "cell_type": "code",
   "execution_count": 21,
   "metadata": {},
   "outputs": [
    {
     "output_type": "execute_result",
     "data": {
      "text/plain": "(18285,)"
     },
     "metadata": {},
     "execution_count": 21
    }
   ],
   "source": [
    "y.shape"
   ]
  },
  {
   "cell_type": "code",
   "execution_count": 22,
   "metadata": {},
   "outputs": [],
   "source": [
    "import tensorflow as tf"
   ]
  },
  {
   "cell_type": "code",
   "execution_count": 23,
   "metadata": {},
   "outputs": [
    {
     "output_type": "execute_result",
     "data": {
      "text/plain": "'2.3.1'"
     },
     "metadata": {},
     "execution_count": 23
    }
   ],
   "source": [
    "tf.__version__"
   ]
  },
  {
   "cell_type": "code",
   "execution_count": 24,
   "metadata": {},
   "outputs": [],
   "source": [
    "from tensorflow.keras.layers import Embedding\n",
    "from tensorflow.keras.preprocessing.sequence import pad_sequences\n",
    "from tensorflow.keras.models import Sequential\n",
    "from tensorflow.keras.preprocessing.text import one_hot\n",
    "from tensorflow.keras.layers import LSTM\n",
    "from tensorflow.keras.layers import Dense"
   ]
  },
  {
   "cell_type": "code",
   "execution_count": 25,
   "metadata": {},
   "outputs": [],
   "source": [
    "# Vocab size\n",
    "voc_size = 5000"
   ]
  },
  {
   "cell_type": "markdown",
   "metadata": {},
   "source": [
    "##### Onehot Representation"
   ]
  },
  {
   "cell_type": "code",
   "execution_count": 27,
   "metadata": {},
   "outputs": [],
   "source": [
    "messages = x.copy()\n",
    "messages.reset_index(inplace=True)"
   ]
  },
  {
   "cell_type": "code",
   "execution_count": 33,
   "metadata": {},
   "outputs": [
    {
     "output_type": "execute_result",
     "data": {
      "text/plain": "0        House Dem Aide: We Didn’t Even See Comey’s Let...\n1        FLYNN: Hillary Clinton, Big Woman on Campus - ...\n2                        Why the Truth Might Get You Fired\n3        15 Civilians Killed In Single US Airstrike Hav...\n4        Iranian woman jailed for fictional unpublished...\n                               ...                        \n18280    Rapper T.I.: Trump a ’Poster Child For White S...\n18281    N.F.L. Playoffs: Schedule, Matchups and Odds -...\n18282    Macy’s Is Said to Receive Takeover Approach by...\n18283    NATO, Russia To Hold Parallel Exercises In Bal...\n18284                            What Keeps the F-35 Alive\nName: title, Length: 18285, dtype: object"
     },
     "metadata": {},
     "execution_count": 33
    }
   ],
   "source": [
    "messages['title']"
   ]
  },
  {
   "cell_type": "code",
   "execution_count": 29,
   "metadata": {
    "tags": []
   },
   "outputs": [
    {
     "output_type": "stream",
     "name": "stdout",
     "text": "Processing c:\\users\\ag20459\\appdata\\local\\pip\\cache\\wheels\\45\\6c\\46\\a1865e7ba706b3817f5d1b2ff7ce8996aabdd0d03d47ba0266\\nltk-3.5-py3-none-any.whl\nCollecting tqdm\n  Downloading tqdm-4.50.0-py2.py3-none-any.whl (70 kB)\nCollecting click\n  Downloading click-7.1.2-py2.py3-none-any.whl (82 kB)\nCollecting regex\n  Using cached regex-2020.9.27-cp37-cp37m-win_amd64.whl (268 kB)\nCollecting joblib\n  Using cached joblib-0.17.0-py3-none-any.whl (301 kB)\nInstalling collected packages: tqdm, click, regex, joblib, nltk\nSuccessfully installed click-7.1.2 joblib-0.17.0 nltk-3.5 regex-2020.9.27 tqdm-4.50.0\nThe system cannot find the path specified.\nWARNING: You are using pip version 20.0.2; however, version 20.2.3 is available.\nYou should consider upgrading via the 'C:\\Users\\AG20459\\AppData\\Local\\Continuum\\anaconda3\\envs\\tf2_2\\python.exe -m pip install --upgrade pip' command.\n"
    }
   ],
   "source": [
    "!pip install nltk"
   ]
  },
  {
   "cell_type": "code",
   "execution_count": 30,
   "metadata": {},
   "outputs": [],
   "source": [
    " import nltk\n",
    " import re\n",
    " from nltk.corpus import stopwords"
   ]
  },
  {
   "cell_type": "code",
   "execution_count": 31,
   "metadata": {
    "tags": []
   },
   "outputs": [
    {
     "output_type": "stream",
     "name": "stderr",
     "text": "[nltk_data] Downloading package stopwords to\n[nltk_data]     C:\\Users\\AG20459\\AppData\\Roaming\\nltk_data...\n[nltk_data]   Package stopwords is already up-to-date!\n"
    },
    {
     "output_type": "execute_result",
     "data": {
      "text/plain": "True"
     },
     "metadata": {},
     "execution_count": 31
    }
   ],
   "source": [
    "nltk.download('stopwords')"
   ]
  },
  {
   "cell_type": "code",
   "execution_count": 40,
   "metadata": {
    "tags": [
     "outputPrepend"
    ]
   },
   "outputs": [
    {
     "output_type": "stream",
     "name": "stdout",
     "text": "1\n14952\n14953\n14954\n14955\n14956\n14957\n14958\n14959\n14960\n14961\n14962\n14963\n14964\n14965\n14966\n14967\n14968\n14969\n14970\n14971\n14972\n14973\n14974\n14975\n14976\n14977\n14978\n14979\n14980\n14981\n14982\n14983\n14984\n14985\n14986\n14987\n14988\n14989\n14990\n14991\n14992\n14993\n14994\n14995\n14996\n14997\n14998\n14999\n15000\n15001\n15002\n15003\n15004\n15005\n15006\n15007\n15008\n15009\n15010\n15011\n15012\n15013\n15014\n15015\n15016\n15017\n15018\n15019\n15020\n15021\n15022\n15023\n15024\n15025\n15026\n15027\n15028\n15029\n15030\n15031\n15032\n15033\n15034\n15035\n15036\n15037\n15038\n15039\n15040\n15041\n15042\n15043\n15044\n15045\n15046\n15047\n15048\n15049\n15050\n15051\n15052\n15053\n15054\n15055\n15056\n15057\n15058\n15059\n15060\n15061\n15062\n15063\n15064\n15065\n15066\n15067\n15068\n15069\n15070\n15071\n15072\n15073\n15074\n15075\n15076\n15077\n15078\n15079\n15080\n15081\n15082\n15083\n15084\n15085\n15086\n15087\n15088\n15089\n15090\n15091\n15092\n15093\n15094\n15095\n15096\n15097\n15098\n15099\n15100\n15101\n15102\n15103\n15104\n15105\n15106\n15107\n15108\n15109\n15110\n15111\n15112\n15113\n15114\n15115\n15116\n15117\n15118\n15119\n15120\n15121\n15122\n15123\n15124\n15125\n15126\n15127\n15128\n15129\n15130\n15131\n15132\n15133\n15134\n15135\n15136\n15137\n15138\n15139\n15140\n15141\n15142\n15143\n15144\n15145\n15146\n15147\n15148\n15149\n15150\n15151\n15152\n15153\n15154\n15155\n15156\n15157\n15158\n15159\n15160\n15161\n15162\n15163\n15164\n15165\n15166\n15167\n15168\n15169\n15170\n15171\n15172\n15173\n15174\n15175\n15176\n15177\n15178\n15179\n15180\n15181\n15182\n15183\n15184\n15185\n15186\n15187\n15188\n15189\n15190\n15191\n15192\n15193\n15194\n15195\n15196\n15197\n15198\n15199\n15200\n15201\n15202\n15203\n15204\n15205\n15206\n15207\n15208\n15209\n15210\n15211\n15212\n15213\n15214\n15215\n15216\n15217\n15218\n15219\n15220\n15221\n15222\n15223\n15224\n15225\n15226\n15227\n15228\n15229\n15230\n15231\n15232\n15233\n15234\n15235\n15236\n15237\n15238\n15239\n15240\n15241\n15242\n15243\n15244\n15245\n15246\n15247\n15248\n15249\n15250\n15251\n15252\n15253\n15254\n15255\n15256\n15257\n15258\n15259\n15260\n15261\n15262\n15263\n15264\n15265\n15266\n15267\n15268\n15269\n15270\n15271\n15272\n15273\n15274\n15275\n15276\n15277\n15278\n15279\n15280\n15281\n15282\n15283\n15284\n15285\n15286\n15287\n15288\n15289\n15290\n15291\n15292\n15293\n15294\n15295\n15296\n15297\n15298\n15299\n15300\n15301\n15302\n15303\n15304\n15305\n15306\n15307\n15308\n15309\n15310\n15311\n15312\n15313\n15314\n15315\n15316\n15317\n15318\n15319\n15320\n15321\n15322\n15323\n15324\n15325\n15326\n15327\n15328\n15329\n15330\n15331\n15332\n15333\n15334\n15335\n15336\n15337\n15338\n15339\n15340\n15341\n15342\n15343\n15344\n15345\n15346\n15347\n15348\n15349\n15350\n15351\n15352\n15353\n15354\n15355\n15356\n15357\n15358\n15359\n15360\n15361\n15362\n15363\n15364\n15365\n15366\n15367\n15368\n15369\n15370\n15371\n15372\n15373\n15374\n15375\n15376\n15377\n15378\n15379\n15380\n15381\n15382\n15383\n15384\n15385\n15386\n15387\n15388\n15389\n15390\n15391\n15392\n15393\n15394\n15395\n15396\n15397\n15398\n15399\n15400\n15401\n15402\n15403\n15404\n15405\n15406\n15407\n15408\n15409\n15410\n15411\n15412\n15413\n15414\n15415\n15416\n15417\n15418\n15419\n15420\n15421\n15422\n15423\n15424\n15425\n15426\n15427\n15428\n15429\n15430\n15431\n15432\n15433\n15434\n15435\n15436\n15437\n15438\n15439\n15440\n15441\n15442\n15443\n15444\n15445\n15446\n15447\n15448\n15449\n15450\n15451\n15452\n15453\n15454\n15455\n15456\n15457\n15458\n15459\n15460\n15461\n15462\n15463\n15464\n15465\n15466\n15467\n15468\n15469\n15470\n15471\n15472\n15473\n15474\n15475\n15476\n15477\n15478\n15479\n15480\n15481\n15482\n15483\n15484\n15485\n15486\n15487\n15488\n15489\n15490\n15491\n15492\n15493\n15494\n15495\n15496\n15497\n15498\n15499\n15500\n15501\n15502\n15503\n15504\n15505\n15506\n15507\n15508\n15509\n15510\n15511\n15512\n15513\n15514\n15515\n15516\n15517\n15518\n15519\n15520\n15521\n15522\n15523\n15524\n15525\n15526\n15527\n15528\n15529\n15530\n15531\n15532\n15533\n15534\n15535\n15536\n15537\n15538\n15539\n15540\n15541\n15542\n15543\n15544\n15545\n15546\n15547\n15548\n15549\n15550\n15551\n15552\n15553\n15554\n15555\n15556\n15557\n15558\n15559\n15560\n15561\n15562\n15563\n15564\n15565\n15566\n15567\n15568\n15569\n15570\n15571\n15572\n15573\n15574\n15575\n15576\n15577\n15578\n15579\n15580\n15581\n15582\n15583\n15584\n15585\n15586\n15587\n15588\n15589\n15590\n15591\n15592\n15593\n15594\n15595\n15596\n15597\n15598\n15599\n15600\n15601\n15602\n15603\n15604\n15605\n15606\n15607\n15608\n15609\n15610\n15611\n15612\n15613\n15614\n15615\n15616\n15617\n15618\n15619\n15620\n15621\n15622\n15623\n15624\n15625\n15626\n15627\n15628\n15629\n15630\n15631\n15632\n15633\n15634\n15635\n15636\n15637\n15638\n15639\n15640\n15641\n15642\n15643\n15644\n15645\n15646\n15647\n15648\n15649\n15650\n15651\n15652\n15653\n15654\n15655\n15656\n15657\n15658\n15659\n15660\n15661\n15662\n15663\n15664\n15665\n15666\n15667\n15668\n15669\n15670\n15671\n15672\n15673\n15674\n15675\n15676\n15677\n15678\n15679\n15680\n15681\n15682\n15683\n15684\n15685\n15686\n15687\n15688\n15689\n15690\n15691\n15692\n15693\n15694\n15695\n15696\n15697\n15698\n15699\n15700\n15701\n15702\n15703\n15704\n15705\n15706\n15707\n15708\n15709\n15710\n15711\n15712\n15713\n15714\n15715\n15716\n15717\n15718\n15719\n15720\n15721\n15722\n15723\n15724\n15725\n15726\n15727\n15728\n15729\n15730\n15731\n15732\n15733\n15734\n15735\n15736\n15737\n15738\n15739\n15740\n15741\n15742\n15743\n15744\n15745\n15746\n15747\n15748\n15749\n15750\n15751\n15752\n15753\n15754\n15755\n15756\n15757\n15758\n15759\n15760\n15761\n15762\n15763\n15764\n15765\n15766\n15767\n15768\n15769\n15770\n15771\n15772\n15773\n15774\n15775\n15776\n15777\n15778\n15779\n15780\n15781\n15782\n15783\n15784\n15785\n15786\n15787\n15788\n15789\n15790\n15791\n15792\n15793\n15794\n15795\n15796\n15797\n15798\n15799\n15800\n15801\n15802\n15803\n15804\n15805\n15806\n15807\n15808\n15809\n15810\n15811\n15812\n15813\n15814\n15815\n15816\n15817\n15818\n15819\n15820\n15821\n15822\n15823\n15824\n15825\n15826\n15827\n15828\n15829\n15830\n15831\n15832\n15833\n15834\n15835\n15836\n15837\n15838\n15839\n15840\n15841\n15842\n15843\n15844\n15845\n15846\n15847\n15848\n15849\n15850\n15851\n15852\n15853\n15854\n15855\n15856\n15857\n15858\n15859\n15860\n15861\n15862\n15863\n15864\n15865\n15866\n15867\n15868\n15869\n15870\n15871\n15872\n15873\n15874\n15875\n15876\n15877\n15878\n15879\n15880\n15881\n15882\n15883\n15884\n15885\n15886\n15887\n15888\n15889\n15890\n15891\n15892\n15893\n15894\n15895\n15896\n15897\n15898\n15899\n15900\n15901\n15902\n15903\n15904\n15905\n15906\n15907\n15908\n15909\n15910\n15911\n15912\n15913\n15914\n15915\n15916\n15917\n15918\n15919\n15920\n15921\n15922\n15923\n15924\n15925\n15926\n15927\n15928\n15929\n15930\n15931\n15932\n15933\n15934\n15935\n15936\n15937\n15938\n15939\n15940\n15941\n15942\n15943\n15944\n15945\n15946\n15947\n15948\n15949\n15950\n15951\n15952\n15953\n15954\n15955\n15956\n15957\n15958\n15959\n15960\n15961\n15962\n15963\n15964\n15965\n15966\n15967\n15968\n15969\n15970\n15971\n15972\n15973\n15974\n15975\n15976\n15977\n15978\n15979\n15980\n15981\n15982\n15983\n15984\n15985\n15986\n15987\n15988\n15989\n15990\n15991\n15992\n15993\n15994\n15995\n15996\n15997\n15998\n15999\n16000\n16001\n16002\n16003\n16004\n16005\n16006\n16007\n16008\n16009\n16010\n16011\n16012\n16013\n16014\n16015\n16016\n16017\n16018\n16019\n16020\n16021\n16022\n16023\n16024\n16025\n16026\n16027\n16028\n16029\n16030\n16031\n16032\n16033\n16034\n16035\n16036\n16037\n16038\n16039\n16040\n16041\n16042\n16043\n16044\n16045\n16046\n16047\n16048\n16049\n16050\n16051\n16052\n16053\n16054\n16055\n16056\n16057\n16058\n16059\n16060\n16061\n16062\n16063\n16064\n16065\n16066\n16067\n16068\n16069\n16070\n16071\n16072\n16073\n16074\n16075\n16076\n16077\n16078\n16079\n16080\n16081\n16082\n16083\n16084\n16085\n16086\n16087\n16088\n16089\n16090\n16091\n16092\n16093\n16094\n16095\n16096\n16097\n16098\n16099\n16100\n16101\n16102\n16103\n16104\n16105\n16106\n16107\n16108\n16109\n16110\n16111\n16112\n16113\n16114\n16115\n16116\n16117\n16118\n16119\n16120\n16121\n16122\n16123\n16124\n16125\n16126\n16127\n16128\n16129\n16130\n16131\n16132\n16133\n16134\n16135\n16136\n16137\n16138\n16139\n16140\n16141\n16142\n16143\n16144\n16145\n16146\n16147\n16148\n16149\n16150\n16151\n16152\n16153\n16154\n16155\n16156\n16157\n16158\n16159\n16160\n16161\n16162\n16163\n16164\n16165\n16166\n16167\n16168\n16169\n16170\n16171\n16172\n16173\n16174\n16175\n16176\n16177\n16178\n16179\n16180\n16181\n16182\n16183\n16184\n16185\n16186\n16187\n16188\n16189\n16190\n16191\n16192\n16193\n16194\n16195\n16196\n16197\n16198\n16199\n16200\n16201\n16202\n16203\n16204\n16205\n16206\n16207\n16208\n16209\n16210\n16211\n16212\n16213\n16214\n16215\n16216\n16217\n16218\n16219\n16220\n16221\n16222\n16223\n16224\n16225\n16226\n16227\n16228\n16229\n16230\n16231\n16232\n16233\n16234\n16235\n16236\n16237\n16238\n16239\n16240\n16241\n16242\n16243\n16244\n16245\n16246\n16247\n16248\n16249\n16250\n16251\n16252\n16253\n16254\n16255\n16256\n16257\n16258\n16259\n16260\n16261\n16262\n16263\n16264\n16265\n16266\n16267\n16268\n16269\n16270\n16271\n16272\n16273\n16274\n16275\n16276\n16277\n16278\n16279\n16280\n16281\n16282\n16283\n16284\n16285\n16286\n16287\n16288\n16289\n16290\n16291\n16292\n16293\n16294\n16295\n16296\n16297\n16298\n16299\n16300\n16301\n16302\n16303\n16304\n16305\n16306\n16307\n16308\n16309\n16310\n16311\n16312\n16313\n16314\n16315\n16316\n16317\n16318\n16319\n16320\n16321\n16322\n16323\n16324\n16325\n16326\n16327\n16328\n16329\n16330\n16331\n16332\n16333\n16334\n16335\n16336\n16337\n16338\n16339\n16340\n16341\n16342\n16343\n16344\n16345\n16346\n16347\n16348\n16349\n16350\n16351\n16352\n16353\n16354\n16355\n16356\n16357\n16358\n16359\n16360\n16361\n16362\n16363\n16364\n16365\n16366\n16367\n16368\n16369\n16370\n16371\n16372\n16373\n16374\n16375\n16376\n16377\n16378\n16379\n16380\n16381\n16382\n16383\n16384\n16385\n16386\n16387\n16388\n16389\n16390\n16391\n16392\n16393\n16394\n16395\n16396\n16397\n16398\n16399\n16400\n16401\n16402\n16403\n16404\n16405\n16406\n16407\n16408\n16409\n16410\n16411\n16412\n16413\n16414\n16415\n16416\n16417\n16418\n16419\n16420\n16421\n16422\n16423\n16424\n16425\n16426\n16427\n16428\n16429\n16430\n16431\n16432\n16433\n16434\n16435\n16436\n16437\n16438\n16439\n16440\n16441\n16442\n16443\n16444\n16445\n16446\n16447\n16448\n16449\n16450\n16451\n16452\n16453\n16454\n16455\n16456\n16457\n16458\n16459\n16460\n16461\n16462\n16463\n16464\n16465\n16466\n16467\n16468\n16469\n16470\n16471\n16472\n16473\n16474\n16475\n16476\n16477\n16478\n16479\n16480\n16481\n16482\n16483\n16484\n16485\n16486\n16487\n16488\n16489\n16490\n16491\n16492\n16493\n16494\n16495\n16496\n16497\n16498\n16499\n16500\n16501\n16502\n16503\n16504\n16505\n16506\n16507\n16508\n16509\n16510\n16511\n16512\n16513\n16514\n16515\n16516\n16517\n16518\n16519\n16520\n16521\n16522\n16523\n16524\n16525\n16526\n16527\n16528\n16529\n16530\n16531\n16532\n16533\n16534\n16535\n16536\n16537\n16538\n16539\n16540\n16541\n16542\n16543\n16544\n16545\n16546\n16547\n16548\n16549\n16550\n16551\n16552\n16553\n16554\n16555\n16556\n16557\n16558\n16559\n16560\n16561\n16562\n16563\n16564\n16565\n16566\n16567\n16568\n16569\n16570\n16571\n16572\n16573\n16574\n16575\n16576\n16577\n16578\n16579\n16580\n16581\n16582\n16583\n16584\n16585\n16586\n16587\n16588\n16589\n16590\n16591\n16592\n16593\n16594\n16595\n16596\n16597\n16598\n16599\n16600\n16601\n16602\n16603\n16604\n16605\n16606\n16607\n16608\n16609\n16610\n16611\n16612\n16613\n16614\n16615\n16616\n16617\n16618\n16619\n16620\n16621\n16622\n16623\n16624\n16625\n16626\n16627\n16628\n16629\n16630\n16631\n16632\n16633\n16634\n16635\n16636\n16637\n16638\n16639\n16640\n16641\n16642\n16643\n16644\n16645\n16646\n16647\n16648\n16649\n16650\n16651\n16652\n16653\n16654\n16655\n16656\n16657\n16658\n16659\n16660\n16661\n16662\n16663\n16664\n16665\n16666\n16667\n16668\n16669\n16670\n16671\n16672\n16673\n16674\n16675\n16676\n16677\n16678\n16679\n16680\n16681\n16682\n16683\n16684\n16685\n16686\n16687\n16688\n16689\n16690\n16691\n16692\n16693\n16694\n16695\n16696\n16697\n16698\n16699\n16700\n16701\n16702\n16703\n16704\n16705\n16706\n16707\n16708\n16709\n16710\n16711\n16712\n16713\n16714\n16715\n16716\n16717\n16718\n16719\n16720\n16721\n16722\n16723\n16724\n16725\n16726\n16727\n16728\n16729\n16730\n16731\n16732\n16733\n16734\n16735\n16736\n16737\n16738\n16739\n16740\n16741\n16742\n16743\n16744\n16745\n16746\n16747\n16748\n16749\n16750\n16751\n16752\n16753\n16754\n16755\n16756\n16757\n16758\n16759\n16760\n16761\n16762\n16763\n16764\n16765\n16766\n16767\n16768\n16769\n16770\n16771\n16772\n16773\n16774\n16775\n16776\n16777\n16778\n16779\n16780\n16781\n16782\n16783\n16784\n16785\n16786\n16787\n16788\n16789\n16790\n16791\n16792\n16793\n16794\n16795\n16796\n16797\n16798\n16799\n16800\n16801\n16802\n16803\n16804\n16805\n16806\n16807\n16808\n16809\n16810\n16811\n16812\n16813\n16814\n16815\n16816\n16817\n16818\n16819\n16820\n16821\n16822\n16823\n16824\n16825\n16826\n16827\n16828\n16829\n16830\n16831\n16832\n16833\n16834\n16835\n16836\n16837\n16838\n16839\n16840\n16841\n16842\n16843\n16844\n16845\n16846\n16847\n16848\n16849\n16850\n16851\n16852\n16853\n16854\n16855\n16856\n16857\n16858\n16859\n16860\n16861\n16862\n16863\n16864\n16865\n16866\n16867\n16868\n16869\n16870\n16871\n16872\n16873\n16874\n16875\n16876\n16877\n16878\n16879\n16880\n16881\n16882\n16883\n16884\n16885\n16886\n16887\n16888\n16889\n16890\n16891\n16892\n16893\n16894\n16895\n16896\n16897\n16898\n16899\n16900\n16901\n16902\n16903\n16904\n16905\n16906\n16907\n16908\n16909\n16910\n16911\n16912\n16913\n16914\n16915\n16916\n16917\n16918\n16919\n16920\n16921\n16922\n16923\n16924\n16925\n16926\n16927\n16928\n16929\n16930\n16931\n16932\n16933\n16934\n16935\n16936\n16937\n16938\n16939\n16940\n16941\n16942\n16943\n16944\n16945\n16946\n16947\n16948\n16949\n16950\n16951\n16952\n16953\n16954\n16955\n16956\n16957\n16958\n16959\n16960\n16961\n16962\n16963\n16964\n16965\n16966\n16967\n16968\n16969\n16970\n16971\n16972\n16973\n16974\n16975\n16976\n16977\n16978\n16979\n16980\n16981\n16982\n16983\n16984\n16985\n16986\n16987\n16988\n16989\n16990\n16991\n16992\n16993\n16994\n16995\n16996\n16997\n16998\n16999\n17000\n17001\n17002\n17003\n17004\n17005\n17006\n17007\n17008\n17009\n17010\n17011\n17012\n17013\n17014\n17015\n17016\n17017\n17018\n17019\n17020\n17021\n17022\n17023\n17024\n17025\n17026\n17027\n17028\n17029\n17030\n17031\n17032\n17033\n17034\n17035\n17036\n17037\n17038\n17039\n17040\n17041\n17042\n17043\n17044\n17045\n17046\n17047\n17048\n17049\n17050\n17051\n17052\n17053\n17054\n17055\n17056\n17057\n17058\n17059\n17060\n17061\n17062\n17063\n17064\n17065\n17066\n17067\n17068\n17069\n17070\n17071\n17072\n17073\n17074\n17075\n17076\n17077\n17078\n17079\n17080\n17081\n17082\n17083\n17084\n17085\n17086\n17087\n17088\n17089\n17090\n17091\n17092\n17093\n17094\n17095\n17096\n17097\n17098\n17099\n17100\n17101\n17102\n17103\n17104\n17105\n17106\n17107\n17108\n17109\n17110\n17111\n17112\n17113\n17114\n17115\n17116\n17117\n17118\n17119\n17120\n17121\n17122\n17123\n17124\n17125\n17126\n17127\n17128\n17129\n17130\n17131\n17132\n17133\n17134\n17135\n17136\n17137\n17138\n17139\n17140\n17141\n17142\n17143\n17144\n17145\n17146\n17147\n17148\n17149\n17150\n17151\n17152\n17153\n17154\n17155\n17156\n17157\n17158\n17159\n17160\n17161\n17162\n17163\n17164\n17165\n17166\n17167\n17168\n17169\n17170\n17171\n17172\n17173\n17174\n17175\n17176\n17177\n17178\n17179\n17180\n17181\n17182\n17183\n17184\n17185\n17186\n17187\n17188\n17189\n17190\n17191\n17192\n17193\n17194\n17195\n17196\n17197\n17198\n17199\n17200\n17201\n17202\n17203\n17204\n17205\n17206\n17207\n17208\n17209\n17210\n17211\n17212\n17213\n17214\n17215\n17216\n17217\n17218\n17219\n17220\n17221\n17222\n17223\n17224\n17225\n17226\n17227\n17228\n17229\n17230\n17231\n17232\n17233\n17234\n17235\n17236\n17237\n17238\n17239\n17240\n17241\n17242\n17243\n17244\n17245\n17246\n17247\n17248\n17249\n17250\n17251\n17252\n17253\n17254\n17255\n17256\n17257\n17258\n17259\n17260\n17261\n17262\n17263\n17264\n17265\n17266\n17267\n17268\n17269\n17270\n17271\n17272\n17273\n17274\n17275\n17276\n17277\n17278\n17279\n17280\n17281\n17282\n17283\n17284\n17285\n17286\n17287\n17288\n17289\n17290\n17291\n17292\n17293\n17294\n17295\n17296\n17297\n17298\n17299\n17300\n17301\n17302\n17303\n17304\n17305\n17306\n17307\n17308\n17309\n17310\n17311\n17312\n17313\n17314\n17315\n17316\n17317\n17318\n17319\n17320\n17321\n17322\n17323\n17324\n17325\n17326\n17327\n17328\n17329\n17330\n17331\n17332\n17333\n17334\n17335\n17336\n17337\n17338\n17339\n17340\n17341\n17342\n17343\n17344\n17345\n17346\n17347\n17348\n17349\n17350\n17351\n17352\n17353\n17354\n17355\n17356\n17357\n17358\n17359\n17360\n17361\n17362\n17363\n17364\n17365\n17366\n17367\n17368\n17369\n17370\n17371\n17372\n17373\n17374\n17375\n17376\n17377\n17378\n17379\n17380\n17381\n17382\n17383\n17384\n17385\n17386\n17387\n17388\n17389\n17390\n17391\n17392\n17393\n17394\n17395\n17396\n17397\n17398\n17399\n17400\n17401\n17402\n17403\n17404\n17405\n17406\n17407\n17408\n17409\n17410\n17411\n17412\n17413\n17414\n17415\n17416\n17417\n17418\n17419\n17420\n17421\n17422\n17423\n17424\n17425\n17426\n17427\n17428\n17429\n17430\n17431\n17432\n17433\n17434\n17435\n17436\n17437\n17438\n17439\n17440\n17441\n17442\n17443\n17444\n17445\n17446\n17447\n17448\n17449\n17450\n17451\n17452\n17453\n17454\n17455\n17456\n17457\n17458\n17459\n17460\n17461\n17462\n17463\n17464\n17465\n17466\n17467\n17468\n17469\n17470\n17471\n17472\n17473\n17474\n17475\n17476\n17477\n17478\n17479\n17480\n17481\n17482\n17483\n17484\n17485\n17486\n17487\n17488\n17489\n17490\n17491\n17492\n17493\n17494\n17495\n17496\n17497\n17498\n17499\n17500\n17501\n17502\n17503\n17504\n17505\n17506\n17507\n17508\n17509\n17510\n17511\n17512\n17513\n17514\n17515\n17516\n17517\n17518\n17519\n17520\n17521\n17522\n17523\n17524\n17525\n17526\n17527\n17528\n17529\n17530\n17531\n17532\n17533\n17534\n17535\n17536\n17537\n17538\n17539\n17540\n17541\n17542\n17543\n17544\n17545\n17546\n17547\n17548\n17549\n17550\n17551\n17552\n17553\n17554\n17555\n17556\n17557\n17558\n17559\n17560\n17561\n17562\n17563\n17564\n17565\n17566\n17567\n17568\n17569\n17570\n17571\n17572\n17573\n17574\n17575\n17576\n17577\n17578\n17579\n17580\n17581\n17582\n17583\n17584\n17585\n17586\n17587\n17588\n17589\n17590\n17591\n17592\n17593\n17594\n17595\n17596\n17597\n17598\n17599\n17600\n17601\n17602\n17603\n17604\n17605\n17606\n17607\n17608\n17609\n17610\n17611\n17612\n17613\n17614\n17615\n17616\n17617\n17618\n17619\n17620\n17621\n17622\n17623\n17624\n17625\n17626\n17627\n17628\n17629\n17630\n17631\n17632\n17633\n17634\n17635\n17636\n17637\n17638\n17639\n17640\n17641\n17642\n17643\n17644\n17645\n17646\n17647\n17648\n17649\n17650\n17651\n17652\n17653\n17654\n17655\n17656\n17657\n17658\n17659\n17660\n17661\n17662\n17663\n17664\n17665\n17666\n17667\n17668\n17669\n17670\n17671\n17672\n17673\n17674\n17675\n17676\n17677\n17678\n17679\n17680\n17681\n17682\n17683\n17684\n17685\n17686\n17687\n17688\n17689\n17690\n17691\n17692\n17693\n17694\n17695\n17696\n17697\n17698\n17699\n17700\n17701\n17702\n17703\n17704\n17705\n17706\n17707\n17708\n17709\n17710\n17711\n17712\n17713\n17714\n17715\n17716\n17717\n17718\n17719\n17720\n17721\n17722\n17723\n17724\n17725\n17726\n17727\n17728\n17729\n17730\n17731\n17732\n17733\n17734\n17735\n17736\n17737\n17738\n17739\n17740\n17741\n17742\n17743\n17744\n17745\n17746\n17747\n17748\n17749\n17750\n17751\n17752\n17753\n17754\n17755\n17756\n17757\n17758\n17759\n17760\n17761\n17762\n17763\n17764\n17765\n17766\n17767\n17768\n17769\n17770\n17771\n17772\n17773\n17774\n17775\n17776\n17777\n17778\n17779\n17780\n17781\n17782\n17783\n17784\n17785\n17786\n17787\n17788\n17789\n17790\n17791\n17792\n17793\n17794\n17795\n17796\n17797\n17798\n17799\n17800\n17801\n17802\n17803\n17804\n17805\n17806\n17807\n17808\n17809\n17810\n17811\n17812\n17813\n17814\n17815\n17816\n17817\n17818\n17819\n17820\n17821\n17822\n17823\n17824\n17825\n17826\n17827\n17828\n17829\n17830\n17831\n17832\n17833\n17834\n17835\n17836\n17837\n17838\n17839\n17840\n17841\n17842\n17843\n17844\n17845\n17846\n17847\n17848\n17849\n17850\n17851\n17852\n17853\n17854\n17855\n17856\n17857\n17858\n17859\n17860\n17861\n17862\n17863\n17864\n17865\n17866\n17867\n17868\n17869\n17870\n17871\n17872\n17873\n17874\n17875\n17876\n17877\n17878\n17879\n17880\n17881\n17882\n17883\n17884\n17885\n17886\n17887\n17888\n17889\n17890\n17891\n17892\n17893\n17894\n17895\n17896\n17897\n17898\n17899\n17900\n17901\n17902\n17903\n17904\n17905\n17906\n17907\n17908\n17909\n17910\n17911\n17912\n17913\n17914\n17915\n17916\n17917\n17918\n17919\n17920\n17921\n17922\n17923\n17924\n17925\n17926\n17927\n17928\n17929\n17930\n17931\n17932\n17933\n17934\n17935\n17936\n17937\n17938\n17939\n17940\n17941\n17942\n17943\n17944\n17945\n17946\n17947\n17948\n17949\n17950\n17951\n17952\n17953\n17954\n17955\n17956\n17957\n17958\n17959\n17960\n17961\n17962\n17963\n17964\n17965\n17966\n17967\n17968\n17969\n17970\n17971\n17972\n17973\n17974\n17975\n17976\n17977\n17978\n17979\n17980\n17981\n17982\n17983\n17984\n17985\n17986\n17987\n17988\n17989\n17990\n17991\n17992\n17993\n17994\n17995\n17996\n17997\n17998\n17999\n18000\n18001\n18002\n18003\n18004\n18005\n18006\n18007\n18008\n18009\n18010\n18011\n18012\n18013\n18014\n18015\n18016\n18017\n18018\n18019\n18020\n18021\n18022\n18023\n18024\n18025\n18026\n18027\n18028\n18029\n18030\n18031\n18032\n18033\n18034\n18035\n18036\n18037\n18038\n18039\n18040\n18041\n18042\n18043\n18044\n18045\n18046\n18047\n18048\n18049\n18050\n18051\n18052\n18053\n18054\n18055\n18056\n18057\n18058\n18059\n18060\n18061\n18062\n18063\n18064\n18065\n18066\n18067\n18068\n18069\n18070\n18071\n18072\n18073\n18074\n18075\n18076\n18077\n18078\n18079\n18080\n18081\n18082\n18083\n18084\n18085\n18086\n18087\n18088\n18089\n18090\n18091\n18092\n18093\n18094\n18095\n18096\n18097\n18098\n18099\n18100\n18101\n18102\n18103\n18104\n18105\n18106\n18107\n18108\n18109\n18110\n18111\n18112\n18113\n18114\n18115\n18116\n18117\n18118\n18119\n18120\n18121\n18122\n18123\n18124\n18125\n18126\n18127\n18128\n18129\n18130\n18131\n18132\n18133\n18134\n18135\n18136\n18137\n18138\n18139\n18140\n18141\n18142\n18143\n18144\n18145\n18146\n18147\n18148\n18149\n18150\n18151\n18152\n18153\n18154\n18155\n18156\n18157\n18158\n18159\n18160\n18161\n18162\n18163\n18164\n18165\n18166\n18167\n18168\n18169\n18170\n18171\n18172\n18173\n18174\n18175\n18176\n18177\n18178\n18179\n18180\n18181\n18182\n18183\n18184\n18185\n18186\n18187\n18188\n18189\n18190\n18191\n18192\n18193\n18194\n18195\n18196\n18197\n18198\n18199\n18200\n18201\n18202\n18203\n18204\n18205\n18206\n18207\n18208\n18209\n18210\n18211\n18212\n18213\n18214\n18215\n18216\n18217\n18218\n18219\n18220\n18221\n18222\n18223\n18224\n18225\n18226\n18227\n18228\n18229\n18230\n18231\n18232\n18233\n18234\n18235\n18236\n18237\n18238\n18239\n18240\n18241\n18242\n18243\n18244\n18245\n18246\n18247\n18248\n18249\n18250\n18251\n18252\n18253\n18254\n18255\n18256\n18257\n18258\n18259\n18260\n18261\n18262\n18263\n18264\n18265\n18266\n18267\n18268\n18269\n18270\n18271\n18272\n18273\n18274\n18275\n18276\n18277\n18278\n18279\n18280\n18281\n18282\n18283\n18284\n"
    }
   ],
   "source": [
    "### Dataset Preprocessing\n",
    "from nltk.stem.porter import PorterStemmer\n",
    "ps = PorterStemmer()\n",
    "corpus = []\n",
    "for i in range(0, len(messages)):\n",
    "    print(i)\n",
    "    review = re.sub('[^a-zA-Z]', ' ', messages['title'][i])\n",
    "    review = review.lower()\n",
    "    review = review.split()\n",
    "    \n",
    "    review = [ps.stem(word) for word in review if not word in stopwords.words('english')]\n",
    "    review = ' '.join(review)\n",
    "    corpus.append(review)"
   ]
  },
  {
   "cell_type": "code",
   "execution_count": 41,
   "metadata": {
    "tags": []
   },
   "outputs": [
    {
     "output_type": "execute_result",
     "data": {
      "text/plain": "chut new york time',\n 'stranahan steve bannon nail media fight trump breitbart',\n 'texa elector expect massiv corrupt relat elector colleg vote',\n 'guilti power nullif counteract govern tyranni',\n 'trillion new debt day',\n 'tori councillor say homeless peopl elimin',\n 'review hillbilli elegi tough love analysi poor back trump new york time',\n 'crimin chief',\n 'govern lie movi',\n 'trump brexit defeat global anyway',\n 'face congress sport offici begin confront sexual abus new york time',\n 'airbnb end fight new york citi fine new york time',\n 'big pharma martin shkreli suspend twitter breitbart',\n 'next big tech corridor seattl vancouv planner hope new york time',\n 'evid robot win race american job new york time',\n 'see africa road new york time',\n 'happen hip hop hillari goe dead broke brace',\n 'bill maher high trump state free speech new era new york time',\n 'l p g tour donald trump complic new york time',\n 'legend art cashin trump presid new world order gold brexit great depress see panic',\n 'fl sheriff day goe arrest lot illeg alien prey peopl breitbart',\n 'donald trump threaten cancel berkeley feder fund riot shut milo event',\n '',\n 'bill herz last war world broadcast crew die new york time',\n 'gari johnson equat syria death caus assad west new york time',\n 'republican senat bill defund un anti israel resolut',\n 'rose evanski pioneer women hairstyl die new york time',\n 'blackston saudi arabia announc billion invest u infrastructur breitbart',\n 'satur fat heart diseas greatest scam histori medicin',\n 'dem sen merkley gorsuch nomin court pack scheme turn nomin breitbart',\n 'four common mistak burn wood',\n 'push internet privaci rule move statehous new york time',\n 'madonna gave surpris pop concert support clinton new york time',\n 'trump support plan anti trump ralli lack tax reform',\n 'british healthcar offer glimps futur obamacar',\n 'trump iranian presid rouhani better care breitbart',\n 'break sec defens carter attempt fool american public veteran caught red hand',\n 'putin advis take credit trump victori mayb help bit wikileak',\n 'warren buffett stake suggest appl grown new york time',\n 'fbi clinton email investig shift poll number significantli trump favor',\n 'hillari horrifi pic surfac overnight want',\n 'paul lepag governor main say quit new york time',\n 'colorado radio station paul martin interview dave hodg elect fraud stand rock',\n 'bill clinton want call someth complet ridicul hillari elect',\n 'son death salli mann stage haunt show new york time',\n 'trump team link russia crisscross washington new york time',\n 'north korean arrest kill kim jong un half brother new york time',\n 'surgeon admit mammographi outdat harm women',\n 'war street pari arm migrant fight run battl french capit',\n 'oscar voter meryl streep nomin anti trump speech',\n 'texa enact anti sharia law',\n 'chicago polic board chair windi citi need feder help turn tide crime breitbart',\n 'look beyond novemb th song oligarchi doom',\n 'neil young celebr st birthday perform stand rock',\n 'exclus amid paul ryan obamacar push mississippi chri mcdaniel prep potenti senat run breitbart',\n 'boom short list peopl inspir michel obama',\n 'artist go boycott grammi face fallout fraught award new york time',\n 'video idiot destroy trump hollywood star get bad news second later',\n 'elit want global economi collaps',\n 'best health benefit sweat',\n 'senat confirm scott pruitt e p head new york time',\n 'cricket snake crab mix fact fraud new york subway new york time',\n 'session potenti deputi face stern test russia inquiri new york time',\n 'suicid squad top box offic second weekend new york time',\n 'health insur plan rate hike obamacar exchang breitbart',\n 'look like someon think democrat ohio full manur',\n 'syrian war report novemb govt forc relaunch offens oper insid outsid aleppo',\n 'mysteri solv get hillari clinton get movin twitchi com',\n 'senat narrowli pass rollback obama era auto r rule new york time',\n 'cramp costli bay area cri build babi build new york time',\n 'champion optim obama hail clinton polit heir new york time',\n 'fiona appl releas trump protest chant new york time',\n 'susan rice u must integr lgbt right gov foreign polici',\n 'trump organ move avoid possibl conflict interest new york time',\n 'sweden brink polic forc push break point violenc amid migrant influx',\n 'comment hemp vs cotton ultim showdown hemp readdress cannabi kuebiko co',\n 'jare kushner trump son law clear serv advis new york time',\n 'fisherman face life prison catch worth cocain sell breitbart',\n 'step ring roll punch new york time',\n 'adnan sy serial podcast get retrial murder case new york time',\n 'scientist say weird signal space probabl alien',\n 'u swimmer disput robberi claim fuel tension brazil new york time',\n 'way take self care vacat new york time',\n 'economist sign letter urg america vote donald trump',\n 'campaign long expens chaotic mayb good thing new york time',\n 'alien megastructur star target million seti search',\n 'brazen kill myanmar lawyer came spar militari new york time',\n 'jane pauley back new york time',\n 'deutsch bank consid altern pay cash bonu',\n 'danni dyer footbal foul up dvd second',\n 'lack oxford comma could cost main compani million overtim disput new york time',\n 'european parliament committe consid legal right robot breitbart',\n 'rex tillerson aggress dealmak whose tie russia may prompt scrutini new york time',\n 'fbi conduct new investig email clinton privat illeg server',\n 'heart mine us empir cultur industri',\n 'report megyn trash trump newt murdoch announc replac avail',\n 'russian scientist track sea lion space',\n 'seiz definit popul reuter warn us chao come',\n 'seaworthi readi earli unveil new york time',\n 'donald trump add k mcfarland nation secur team new york time',\n 'snowstorm bring wintri mix slush gripe new york time',\n 'republican wilder tillerson thursday even brief new york time',\n 'review bryan cranston shine lyndon johnson way new york time',\n 'samsung urg consum stop use galaxi note batteri fire new york time',\n 'elect result discuss presidenti elect open thread',\n 'ag lynch told fbi director comey go public new clinton email investig',\n 'donald trump rise white ident polit',\n 'red blue divid six view america new york time',\n 'franc identifi nd man attack church kill priest new york time',\n 'dreamer arrest nationwid gang crackdown',\n 'maxin water american public get weari trump impeach yet breitbart',\n 'wwn horoscop',\n 'deport italian mobster caught sneak across u mexico border',\n 'leak audio hillari clinton push rig palestin elect',\n 'iranian saudi proxi struggl tore apart middl east new york time',\n 'lavrov kerri discuss syrian settlement',\n 'l influenc de usa et de l otan dan le rapport de l ue avec la chine manlio dinucci',\n 'open border group gird h b fight',\n 'weinerg expos darker dirtier secret imagin',\n 'trump elect break chain polit correct',\n 'whitehous gov take climat page put america first energi plan breitbart',\n 'iran warn presid elect trump mess sweetheart nuclear deal obama',\n 'toni perkin trump eo affirm jefferson doctrin separ church state',\n 'moon fell heaven',\n 'mom star launch campaign plan parenthood',\n 'assad lesson aleppo forc work consequ new york time',\n 'penc bossert bannon demot continu play import polici role breitbart',\n 'bundi ranch occupi acquit count challeng corrupt bureau land manag',\n 'report googl face fine billion eu antitrust case breitbart',\n 'ask thom york write cover quot book',\n 'internet flasher',\n 'gretchen carlson suit aim retali discrimin new york time',\n 'googl launch ai program detect hate speech breitbart',\n 'poll show hillari lead useless mislead cartoon',\n 'last second lane merger good traffic new york time',\n 'macau skip casino embrac past new york time',\n 'montreal ungainli unlov christma tree new york time',\n 'photo jupit nasa spacecraft near far new york time',\n 'trump labor pick andrew puzder critic minimum wage increas new york time',\n 'nico rosberg take formula one driver titl despit lewi hamilton win abu dhabi new york time',\n 'sensori isol tank taught brain new york time',\n 'chelsea handler botch tweet attack trump grandchild',\n 'report trump move tax reform plan without speaker paul ryan breitbart',\n 'ag jeff session unveil program acceler deport imprison illeg breitbart',\n 'former us attorney dc new hillari email probe result revolt insid fbi',\n 'keep appear ruin former dalla banker new york time',\n 'sesam seed knee osteoarthr',\n 'white cop interact black real life',\n 'pennsylvania republican push ban privat gun sale breitbart',\n 'review warcraft orc differ domain fight heart new york time',\n 'good peopl share bad info need fact check click share',\n 'charit wed registri new york time',\n 'nypd raid hillari properti found ruin life usa newsflash',\n 'feinstein gorsuch originalist doctrin realli troubl origin would allow segreg breitbart',\n 'confront flare obama travel parti reach china new york time',\n 'reason appli job trump administr',\n 'thought silver market rig',\n 'hear agn martin seren john zorn frenzi music new york time',\n 'must see welcom famili mani hispan american vote donald trump',\n 'iraqi forc enter western mosul fierc battl isi new york time',\n 'european futur putin migrant crisi video',\n 'roll stone defam case magazin report order pay million new york time',\n 'hillari sick tire suffer weiner backup',\n 'taiwan itali joe mcknight friday even brief new york time',\n 'shiit militia say close tal afar turkey warn limit',\n 'brother clinton campaign chair activ foreign agent saudi arabian payrol',\n 'must fight trump goe conserv freedom caucu new york time',\n 'isi kidnap kill least civilian afghanistan',\n 'hold hillari account',\n 'break ted cruz call special prosecutor investig hillari truthfe',\n 'spare gunman charleston churchgoer describ night terror new york time',\n 'war satur fat harm peopl poor countri shun tradit fat like coconut oil',\n 'democrat garland mind mobil suprem court fight new york time',\n 'comment best kind milk dairi best kind milk dairi collect evolut apg editori',\n 'harri reid blast comey misconduct drop bombshel fbi sit russian trump info',\n 'nation review conservat inc plan cave even immigr',\n 'watch thug call us marin pussi bare live tell tale',\n 'next us presid psycho lesbian plu break news video',\n 'critic see effort counti town purg minor voter roll new york time',\n 'even brief hillari clinton donald trump cultur revolut new york time',\n 'indiana parent lose babi year live jail abus say never happen',\n 'roll stone paint blue new album new york time',\n 'uber extend oliv branch local govern data new york time',\n 'wilder put dutch first brussel africa asylum seeker',\n 'donald trump good educ enrich mind soul',\n 'watch brad pitt play afghanistan war gener war machin teaser breitbart',\n 'two power earthquak strike central itali',\n 'indoor garden made easi nutritow',\n 'elizabeth warren defin sleazi hypocrisi',\n 'rush limbaugh reilli departur natur campaign breitbart',\n 'museum truste trump donor support group deni climat chang new york time',\n 'cecil richard credit plan parenthood support stop ahca breitbart',\n 'switch chip know anymor',\n 'u conced million payment iran delay prison leverag new york time',\n 'australia say foil terrorist plot new york time',\n 'orovil dam state feder govern share blame',\n 'daili traditionalist jeff schoep nsm',\n 'michael moor joe blow vote trump ultim f elit human molotov cocktail',\n 'jaguar owner shahid khan oppos trump immigr ban new york time',\n 'anti trump advert side bu realli visual clever see motion',\n 'piano man mani face stranger stori new york time',\n 'ticket releas harri potter curs child new york time',\n 'fbi visit man home film us postal distribut center',\n 'hispan crowd boo marco rubio stage',\n 'fire tv report receiv thousand sexual violent threat',\n 'detain illeg alien end day hunger strike',\n 'break silenc offic testifi kill walter scott new york time',\n 'illeg immigr allegedli kill park spot',\n 'presid trump honor littl sister poor first white hous nat l day prayer year breitbart',\n 'hillari clinton support call recount vote battleground state',\n 'hbo scrap jon stewart anim comedi seri',\n 'sentenc murder rare book dealer',\n 'latest stock market invest book financi market',\n 'fashion industri ceo support plan parenthood civic respons',\n 'anti trump protest paid stage craigslist reveal',\n 'men exercis put damper sex life new york time',\n 'bake soda coconut oil kill cancer eye open evid',\n 'trump cite evid suggest susan rice commit crime new york time',\n 'breitbart news daili gorsuch scotu breitbart',\n 'hillari arrest',\n 'siri open smart lock let neighbor walk hous',\n 'donald trump michael phelp zika tuesday even brief new york time',\n 'obama furiou fed deplor drop piec gift',\n 'l mark year sinc rodney king riot breitbart',\n 'de facto us al qaeda allianc inform',\n 'cori booker paul rever moment underway russian come breitbart',\n 'rapper troy ave shot brooklyn new york time',\n 'seattl judg ignor jihad convict prior impos refuge reform ban breitbart',\n 'texa student skip school protest arrest violent crimin',\n 'trump aid tri reassur europ mani wari new york time',\n 'china trigger next global recess',\n 'bomb kill baghdad new york time',\n 'comment black racism martin wright',\n 'thank fbi clinton email investig shift poll number significantli trump favor',\n 'u rescu attempt afghanistan miss western hostag hour new york time',\n 'rick rule look sprott asset manag client money right',\n 'farm owner arrest protest dakota access pipelin theft land',\n 'trump pois lift ban c black site prison new york time',\n 'tesla musk investig solarc congress',\n 'ridicul stupid thing men keep women',\n 'press tv duff un condemn moder terrorist',\n 'nemesi scourg western world',\n 'trump budget new foundat american great breitbart',\n 'exclus islam state support vow terror group retak mosul liber',\n 'roll thunder motorcyclist return c honor pow mia breitbart',\n 'interest fun fact stethoscop',\n 'china seek bigger role world stage xi jinp go davo world econom forum new york time',\n 'veteran prepar join stand rock protest stop dakota access pipelin',\n 'photo latin america condemn venezuela excess use forc protest breitbart',\n 'sugar feed cancer cell may even creat',\n 'john kerri urg ground militari aircraft key area syria new york time',\n 'outsid money favor hillari clinton rate donald trump new york time',\n 'fake news new york time target breitbart report truth breitbart',\n 'blast new yorker examin psycholog shrapnel new york time',\n 'resist schwarzenegg call grassroot revolut u exit pari agreement',\n 'virginia offici request u inquiri inmat death jail new york time',\n 'report voter fraud crash cours',\n 'associ press report admit fake news stori hillari clinton',\n 'review garth brook bring rous anthem ballad yanke stadium new york time',\n 'sicher trainieren beim spin gilt ab sofort helmpflicht',\n 'everi asset class collaps need look wealth term mani chicken much ga buy',\n 'review halt catch fire time travel silicon valley dawn new york time',\n 'obama use religi test favor muslim christian',\n 'wingsuit flyer vs tree',\n 'turkey say airport bomber kyrgyzstan russia uzbekistan new york time',\n 'turmer power artifici drug',\n 'facebook caught sell target advertis exclud differ race',\n 'gatlinburg resid return home wildfir destruct new york time',\n 'year old girl use human bomb nigeria attack',\n 'shock berkeley poll california voter want democrat work trump breitbart',\n 'famili terror attack victim sue twitter provid resourc servic isi breitbart',\n 'philippin leader vow pardon polic accus mayor death new york time',\n 'fda found manipul media favor big pharma',\n 'jay h lehr begin end epa',\n 'imahdi arriv satan practic leader',\n 'ag session dem sen harri abl rush fast make nervou breitbart',\n 'u n envoy say u still back palestinian state new york time',\n 'trump happen',\n 'japan vote strengthen shinzo abe goal chang constitut new york time',\n 'trump camp caught cam brag voter suppress women black video',\n 'chelsea man ask obama cut sentenc time serv new york time',\n 'red sox broadcast jerri remi think foreign player use translat',\n 'shi ite militia join iraq mosul attack',\n 'escap reign super bowl commerci polit prove inescap new york time',\n 'naval brief novemb th ledahu',\n 'scandal video footag anonym expos huma hillari',\n 'jar new level confront conflict hit washington new york time',\n 'clinton transmit classifi info lawyer',\n 'hillari russian hack guid american might trump breitbart',\n 'gener elect campaign suspend wake manchest suicid bomb',\n 'grand slam father son film smash hit famili',\n 'venezuela econom crisi mean left fail',\n 'herd stamped wild boar kill three islam state jihadist breitbart',\n 'venu mar believ gender often wrong new york time',\n 'obama pardon list hotel magnat own studio new york time',\n 'suspect captur ambush style kill two iowa cop',\n 'megyn sic kelli gowdi triumphantli comment hillari case reopen',\n 'famili friendli polici friendliest male professor new york time',\n 'ringo starr anuncia que deja lo beatl',\n 'war less immin clinton defeat',\n 'mi chief present russia grow threat british interest',\n 'washington state upend trump travel ban new york time',\n 'protect swerv polic chief caught speed get laugh ticket video',\n 'fake news trump hit mexico explod',\n 'go wikileak',\n 'former cia director blame millenni wikileak document breitbart',\n 'tell stori slaveri new york time',\n 'live wire dutch elect high turnout expect controversi turkish mosqu poll centr',\n 'shave mean freedom omar',\n 'bombshel leak email expos muslim got obama administr',\n 'nativ american part ten lost tribe jewish peopl',\n 'blm rapper bill alleg son nasti surpris hillari',\n 'kevin durant join golden state warrior new york time',\n 'indian call center becom major center defraud american breitbart',\n 'congress attorney gener lynch plead fifth secret iran ransom payment',\n 'lo angel time editori lose trump narcissist demagogu breitbart',\n 'swirl untruth falsehood call lie lie new york time',\n 'hillari clinton lead donald trump new hampshir florida poll show new york time',\n 'gene wilder huma abedin donald trump monday even brief new york time',\n 'watch blimp crash catch fire us open breitbart',\n 'toddler loos gun car mother die new york time',\n 'asian american actor fight visibl ignor new york time',\n 'mexican feel environ',\n 'insid donald trump last stand anxiou nomine seek assur new york time',\n 'park servic name divers nation landmark new york time',\n 'weiner rise white hous alli disgrac ex congressman hire breitbart',\n 'trump lose grab musket former congressman readi go full revolut',\n 'decod north korea claim success nuclear test new york time',\n 'bill belichick wit list testifi aaron hernandez doubl murder case breitbart',\n 'l mayor silent citi rise violent crime breitbart',\n 'theresa may new british prime minist give bori johnson key post new york time',\n 'donald trump hillari clinton iphon wednesday even brief new york time',\n 'usa kill million peopl victim nation sinc world war ii',\n 'polic offic face backlash hillari photo',\n 'shakespear remain authent bore',\n 'georgia candid jon ossoff film firm financ facebook fact check funder',\n 'effort defeat isi u iran imped one anoth new york time',\n 'rick put bullet trump wilson potu support see scalis shoot bless breitbart',\n 'western intellig agenc run al qaeda camp north africa',\n 'trump tell plan parenthood fund stay abort goe new york time',\n 'comment hillari clinton gun control agenda expos wikileak email braindiseasecalledliber',\n 'barack obama delay suspend elect hillari forc new fbi email investig',\n 'donald trump incit feud g p candid flee shadow new york time',\n 'germani student forc chant allahu akbar punish refus trip mosqu',\n 'meteor space junk rocket mysteri flash hit siberia',\n 'trump nation secur advis call russian envoy day sanction impos new york time',\n 'project verita implic democrat oper claim credit romney video',\n 'laid american requir zip lip way grow bolder new york time',\n ...]"
     },
     "metadata": {},
     "execution_count": 41
    }
   ],
   "source": [
    "corpus"
   ]
  },
  {
   "cell_type": "code",
   "execution_count": 42,
   "metadata": {},
   "outputs": [
    {
     "output_type": "execute_result",
     "data": {
      "text/plain": ", 4028, 2972, 2768, 797, 1929, 125],\n [2465, 2812, 1980, 4163],\n [118, 4496, 1902, 2351, 4422, 3471, 2138, 1370],\n [2213, 3308, 4730, 2498, 4823, 1474, 2071, 4038, 1402, 4006],\n [4264, 1259, 3804, 4121, 406, 1935, 3542, 2388],\n [1020, 1521, 1020, 3141, 1942, 3387],\n [1823, 2443, 3302, 3868, 4809, 3549, 2884, 2401, 3131, 4038, 1402, 4006],\n [766, 1114, 1751, 2533, 2001, 2096, 1668, 204, 2354, 4038, 1402, 4006],\n [1153, 849, 1535, 257, 3665, 1515, 4113, 2996],\n [1878, 3562, 1751, 3060, 4543, 178, 1153, 4090, 4038, 1402, 4006],\n [1099, 721, 4799, 2280, 1652],\n [2858, 3469, 4983, 3244, 1860, 1277, 3949, 2108, 2464, 4038, 1402, 4006],\n [4695, 524, 4366, 3226, 4707, 2348, 4434, 584, 661],\n [1241, 2313, 1225, 4238, 1010, 3502, 2465],\n [2980, 209, 1295, 1403, 2465, 4869, 632, 2354],\n [3492, 4809, 3388, 471, 2107, 3492],\n [2465, 3004, 4875, 3970],\n [1562, 4930, 1850, 4434, 462, 4624, 3349, 3053, 2388, 3492],\n [3300, 128, 4869, 4751, 3733, 507, 2465, 4038, 1402, 4006],\n [1404, 3349, 1857, 1710, 1150, 1257, 3646, 2355, 4038, 1402, 4006],\n [612, 4134, 3131, 3840, 4633, 1684, 4038, 1402, 4006],\n [2875, 428, 4064, 355, 3004, 1442, 2465, 3492],\n [1645, 4359, 970, 1819, 1800, 3308, 4359, 617, 3626],\n [3748, 3907, 3234, 356, 1515, 3329],\n [4945, 4038, 3967, 3915],\n [3368, 2596, 4434, 4618, 935, 4599],\n [37, 1907, 1558, 4805, 1128, 3414, 3457, 419, 2465, 4038, 1402, 4006],\n [3576, 366],\n [1515, 2067, 3524],\n [2465, 3794, 4708, 3300, 1842],\n [736, 681, 3233, 3431, 3002, 1103, 3769, 3060, 4038, 1402, 4006],\n [2323, 3958, 1442, 4038, 1402, 1923, 4635, 4038, 1402, 4006],\n [4457, 4572, 388, 3289, 4914, 1161, 3492],\n [4107, 4457, 2833, 4206, 4769, 3419, 4009, 3584, 4038, 1402, 4006],\n [4239, 4050, 702, 2696, 1622, 4509, 4038, 1402, 4006],\n [2275, 757, 2250, 4038, 1402, 4006],\n [4069, 4673, 7, 2323, 1286, 3750, 3868, 2933],\n [66, 1881, 1530, 2465, 1521, 309, 3810, 4038, 1187, 4038, 1402, 4006],\n [1460, 654, 2340, 4950, 1403, 2465, 4910, 4038, 1402, 4006],\n [3094,\n  1664,\n  4928,\n  2465,\n  703,\n  4038,\n  3549,\n  4517,\n  2280,\n  3794,\n  1870,\n  2686,\n  2275,\n  837],\n [4165, 555, 3915, 1286, 3404, 4322, 1241, 1529, 1051, 935, 3492],\n [1403, 2465, 3767, 1101, 4414, 1197, 4890, 248, 3753, 147, 4584],\n [],\n [66, 3332, 1186, 2884, 3549, 348, 4019, 3131, 4038, 1402, 4006],\n [1644, 4957, 2511, 50, 1257, 2596, 4853, 2343, 4038, 1402, 4006],\n [2649, 2423, 66, 2144, 1398, 2307, 4650, 2010],\n [2744, 3925, 4938, 354, 2225, 3131, 4038, 1402, 4006],\n [1062, 2622, 3930, 754, 1042, 4802, 1728, 2204, 3492],\n [3663, 3305, 2458, 757, 2053, 20, 2245, 897],\n [3868, 2435, 4412, 2922, 4087, 359, 475, 3489, 2899, 4087, 3492],\n [4367, 2768, 4663, 1342, 3450],\n [4515, 2184, 2024, 1831, 1638, 3771, 4038, 1402, 4006],\n [4676, 2411, 3499, 443, 3472, 1874, 3660, 4038, 1402, 4006],\n [2465, 1874, 3215, 2307, 2465, 4696, 3476, 3088, 2667],\n [1734, 4396, 1746, 4422, 4090, 1289],\n [2465, 2892, 703, 2193, 1986, 4530, 3492],\n [3378, 1374, 4032, 1704, 4469, 531, 1622, 919, 1154, 4124, 2959, 2981],\n [2812, 3339, 4740, 2779, 2465, 2935, 3330, 4497, 323, 4264],\n [434, 1442, 4970, 333, 3857, 1110, 4038, 1402, 4006],\n [4926, 3660, 932, 4626, 2318, 2463, 1253, 4617, 2465, 2481],\n [2323, 712, 4661, 1036, 2481, 1430],\n [3413, 4381, 3242, 3043, 4434, 4934, 4038, 1402, 4006],\n [514, 4787, 4726, 3413, 388, 2876, 1657, 4368, 2497, 1801, 928, 3949],\n [66, 3660, 1430, 3151, 54, 2873, 694, 2323, 2497],\n [2671, 1257, 2293, 2586, 129, 4314, 254, 4038, 1402, 4006],\n [2465, 1878, 1375, 2644, 327, 1639, 4038, 1402, 4006],\n [766, 3609, 3404, 3469, 715, 2761, 1398, 1918, 1842, 4038, 1402, 4006],\n [4119, 4712, 3582, 3918, 2160, 354],\n [2884, 2808, 4766, 3213, 4318, 1442, 4711, 2694, 3782, 4735],\n [2180, 548, 2624, 679, 4087, 2307, 2465, 3810],\n [1645, 220, 2307, 2576, 1355],\n [1097, 1751, 4757, 1317, 149, 1923, 3373, 1197, 4497, 2899, 3096, 641, 3492],\n [1322, 2621, 2289, 4342, 3899, 3935, 4365],\n [4005, 2421, 698, 4854, 4645, 606, 928, 3949],\n [4083,\n  4823,\n  3413,\n  4492,\n  1289,\n  4515,\n  4247,\n  2703,\n  316,\n  3423,\n  3335,\n  2423,\n  4711,\n  3492],\n [3920, 1198, 4840, 935, 2573, 2253, 3430],\n [4399, 927, 4021, 3012, 736, 1986, 3533, 3514, 4038, 1402, 4006],\n [2388, 2973, 1980, 2465, 2567, 1913, 161, 3019, 4809, 3274, 2464],\n [3732, 1430, 3300, 3275, 3508],\n [2479, 2810, 2457, 2935],\n [2423, 1295, 664, 2298, 4558, 654, 885, 4038, 1402, 4006],\n [2728, 1238, 2649, 4543, 2690, 1801, 4038, 1402, 1567, 4038, 1402, 4006],\n [4336, 3335, 1218, 736, 3689, 1936, 2644, 1350, 4038, 1402, 4006],\n [1688, 2763, 2616, 3189, 2533, 3274, 47, 4038, 1402, 4006],\n [2810, 4469, 3215, 2337, 583, 1289, 1265, 3492],\n [1322, 2413, 4017, 145, 2826, 1742, 2786, 3873],\n [349, 2884, 3302, 2289, 2783, 2962, 768, 999, 4564, 703, 3889, 673],\n [1824, 947, 161, 2323, 3660, 161, 3307, 2003, 155],\n [2423, 2672, 415, 3088, 3430, 1187, 677, 3723, 1831, 4038, 1402, 4006],\n [1328, 97, 2058, 2099, 105, 3832, 3449, 3832, 4038, 1402, 4006],\n [4726, 3261, 3430, 4210, 3660, 2783, 624, 4038, 1402, 4006],\n [611, 3857, 984, 2465, 4556, 288, 4038, 1402, 4006],\n [2771, 1179, 1728, 3525, 2642, 2084, 4869, 3001, 1758, 4426],\n [2465, 4096, 1638, 745, 3471, 4136, 1935, 4038, 1402, 4006],\n [182, 4275, 1751, 2962, 4515, 3378, 432, 4850, 4823, 4318, 2034],\n [1511, 3143, 549, 27, 3015, 4558, 3143, 933, 1841, 4455, 1341],\n [1913, 1105, 2465, 2671, 1355, 2689, 3700, 3339, 4038, 1402, 4006],\n [3112, 736, 4396, 217, 2351, 4998, 775, 3512, 3492],\n [4238, 2292, 3742, 3721, 4038, 1402, 4006],\n [3912, 2354, 962, 4358, 161, 12, 1710, 1578, 4038, 1402, 4006],\n [209, 4434, 288, 1099, 2547, 3707, 1529],\n [1728, 1890, 4333, 2786, 251, 2036, 4173, 1194, 4038, 1402, 4006],\n [3978, 4740, 3488, 4530, 1244, 4038, 1402, 4006],\n [4067, 1202, 1413, 4867, 257, 3626, 1403, 2465],\n [631, 3454, 649, 3611, 3330, 1725, 108, 4038, 1402, 4006],\n [1529, 4183, 1913, 1645, 2980, 604, 3453],\n [1299, 3469, 3964, 4968, 1348, 2633, 3138, 4038, 1402, 4006],\n [551, 4056, 419, 4038, 1402, 4006],\n [3694, 4213, 4456, 2578, 2029, 2230, 4489],\n [4415, 2333, 2345, 4771, 1459, 3368, 3274],\n [3476, 2770, 903, 1870, 1343, 3043, 4798, 2980, 3821, 4333, 4038, 1402, 4006],\n [3955, 1300, 735, 4456, 4320, 4869, 4050, 3492],\n [1439, 3655, 3158, 412, 464, 1088, 2644, 4843, 1573, 4989, 4038, 1402, 4006],\n [4926, 4510, 4038, 4626, 932, 3660, 697, 1241, 2618],\n [2458, 1301, 4736, 2688, 2587, 1004],\n [3302, 4385, 4835, 2465, 3869, 2348, 754, 3758, 4226],\n [4051, 209, 858, 4904, 3188, 2547],\n [2119, 907, 645, 849, 94, 4736, 1510, 2879],\n [1108, 163, 2571, 4915, 4038, 1402, 4006],\n [1403, 2465, 499, 117, 4665, 406, 1310, 1878, 4038, 1402, 4006],\n [2559, 2665, 4902, 4543, 1196, 1918, 4038, 1402, 4006],\n [2649, 2188, 3655, 4422, 3845, 4151, 4038, 1402, 4006],\n [37, 3246, 4248, 3858, 4404, 4957, 3978, 4038, 1402, 4006],\n [4627, 4867, 2193, 2316, 4587, 2635, 2582, 605, 481, 4038, 1402, 4006],\n [2497, 1260, 100, 3085, 2497, 2411, 1088],\n [1799, 1571, 3135, 4926, 678, 3498, 927, 919, 4038, 3660, 932, 4626],\n [1403, 2465, 1032, 4707, 4360, 2783],\n [2959, 1020, 354, 4399, 4609, 257, 4038, 1402, 4006],\n [149, 2860, 4870, 2096, 503, 4321, 3469, 4873, 4038, 1402, 4006],\n [4611, 3404, 3261, 1759, 1476],\n [108, 969, 1622, 919, 161, 1911, 2465, 3008, 1173, 3492],\n [1403, 2248],\n [3502, 4860, 4275, 4124, 1603, 4021, 1728, 1391, 681],\n [266, 4824, 2323, 3660, 4515, 3554, 1889, 2497],\n [2892, 2622, 4499, 1420, 116, 4746, 1350, 2102, 4038, 1402, 4006],\n [344, 3483, 100, 349, 3055],\n [1460,\n  809,\n  3816,\n  3809,\n  3414,\n  3816,\n  1460,\n  863,\n  518,\n  1003,\n  989,\n  3816,\n  1460,\n  3782,\n  2499,\n  1441,\n  589,\n  3110,\n  2870],\n [2411, 681, 2972, 2483, 3022, 831, 1442],\n [344, 4279, 2039, 2275, 3381, 385],\n [2465, 2497, 3378, 4074, 2783, 1183],\n [79, 3001, 4740, 1523, 4758, 1800, 257, 2223, 3667, 3215, 3492],\n [3112, 94, 703, 2497, 2465, 134, 2730, 4654, 3466, 3430],\n [4930, 4838, 2465, 1830, 173, 4943, 930, 1078, 4321, 1521],\n [59, 851, 3341],\n [2829, 1913, 4949, 631, 3215, 3022],\n [4853, 3925, 673, 2962, 2854, 4052, 4038, 1402, 4006],\n [2213, 526, 4064, 176, 965, 528, 2872, 4426, 264, 3492],\n [2537, 2814, 492, 4512, 3434, 2680, 1800, 1703, 373, 1786],\n [3302, 4644, 736, 4635, 1042, 1098, 305, 1578, 3492],\n [4598, 3511, 1402, 3467, 2274, 2072, 3182],\n [2184, 4152],\n [3203, 3080, 3570, 1179, 495, 3584, 4038, 1402, 4006],\n [4644, 4949, 1901, 2099, 2025, 4419, 3810, 3492],\n [2463, 254, 2323, 463, 1781, 2777, 684],\n [1186, 3274, 675, 1801, 1725, 1963, 4038, 1402, 4006],\n [2745, 1610, 1426, 1860, 19, 4038, 1402, 4006],\n [561, 2512, 1132, 3647, 4765, 4038, 1402, 4006],\n [118, 3569, 3350, 1636, 1135, 128, 4038, 1402, 4006],\n [2465, 1330, 4005, 2072, 2574, 574, 4671, 4387, 2368, 4038, 1402, 4006],\n [4352,\n  4070,\n  4740,\n  448,\n  4674,\n  1378,\n  3586,\n  3680,\n  2935,\n  2821,\n  702,\n  3784,\n  2706,\n  4038,\n  1402,\n  4006],\n [4850, 4265, 1699, 4223, 2191, 4038, 1402, 4006],\n [55, 4987, 4441, 1112, 503, 2465, 276],\n [3302, 2465, 1638, 3088, 2667, 3215, 992, 3406, 3413, 4492, 3492],\n [1799, 4221, 4336, 4915, 2099, 1030, 3502, 3281, 1241, 3492],\n [1646, 4736, 3380, 2946, 4038, 2323, 932, 342, 1260, 1956, 703, 4926],\n [3067, 4760, 4209, 1646, 4624, 2060, 4038, 1402, 4006],\n [3029, 185, 3183, 3992],\n [4707, 221, 2104, 428, 2283, 4396],\n [660, 2649, 4515, 2064, 697, 4487, 2984, 3492],\n [37, 245, 509, 2167, 3569, 1442, 2458, 4038, 1402, 4006],\n [1725, 935, 1345, 3019, 3539, 3373, 2690, 987, 1458, 1345],\n [898, 943, 4424, 4038, 1402, 4006],\n [4274, 4589, 2323, 2847, 2292, 4209, 4396, 3809, 3690],\n [1205, 2922, 3814, 930, 1321, 3405, 3866, 2938, 3139, 650, 3492],\n [1103, 825, 3430, 1003, 4631, 4132, 327, 4038, 1402, 4006],\n [3165, 4836, 4509, 2465, 4115],\n [3547, 1652, 115, 3554],\n [4973, 4389, 388, 597, 2091, 3220, 1855, 2167, 4038, 1402, 4006],\n [3525, 2275, 2888, 43, 1163, 2749, 1622, 3626, 1403, 2465],\n [3851, 2962, 967, 4680, 3656, 4055, 2694, 4163, 4038, 1402, 4006],\n [3955, 4090, 2812, 4318, 1370, 2388],\n [3742, 4061, 711, 1578, 325, 3302, 4517, 2029, 2980, 4038, 1402, 4006],\n [2323, 1375, 4780, 212, 2744, 1458],\n [4451, 1922, 4906, 439, 1575, 3845, 4151, 4038, 1402, 4006],\n [339, 4542, 4434, 3410, 3282, 4767, 2213, 94, 1947],\n [1842, 3660, 631, 1317, 2, 1758, 4360, 2622, 1753, 412],\n [3525, 1442, 2465, 1286, 1146, 3784, 3643, 4038, 1402, 4006],\n [4163, 1319, 3469, 253, 91, 916],\n [3997, 2323, 410],\n [3378, 2823, 1363, 3151, 3207, 451, 4626, 2323, 3252],\n [3350, 1622, 4469, 683, 1492, 924, 616, 4038, 1402, 4006],\n [2884, 3663, 3305, 2160, 935, 3457, 2048, 1087, 1789, 3305, 2413, 278, 34],\n [2826, 4936, 4292, 3641, 2863, 359, 1442, 4038, 1402, 4006],\n [1511, 2479, 2114, 4020, 1824, 2479, 2114, 4020, 1824, 2574, 806, 791, 1052],\n [222, 1300, 836, 3498, 1789, 2017, 649, 4926, 4603, 4051, 2465, 3539],\n [406, 37, 3637, 2369, 3215, 2822, 3845, 2313],\n [1562, 176, 3151, 4736, 1708, 656, 1439, 4990, 1601, 4639],\n [4107, 4736, 703, 3639, 3019, 2147, 3378, 4809, 2388],\n [574, 2275, 1878, 4873, 3767, 3852, 4823, 548, 3742, 4038, 1402, 4006],\n [3845, 4151, 2323, 3660, 1403, 2465, 2587, 4116, 4038, 1402, 4006],\n [3392, 2697, 3165, 3449, 2108, 4990, 3583, 3060, 4434, 4549, 4069],\n [3742, 4061, 3070, 1020, 4038, 2482, 4038, 1402, 4006],\n [3106, 27, 2610, 1069, 1497, 1515, 1078, 4038, 1402, 4006],\n [2188, 1800, 1570, 2223, 4560, 757, 1122, 4989],\n [1403, 2465, 1725, 4031, 2167, 4292, 398],\n [1562, 2353, 1582, 528, 916, 2884, 125, 2884, 2543, 3696, 3492],\n [3350, 3907, 2911, 2105, 1219, 1922],\n [2355, 2447, 154, 4970, 3076],\n [4467, 434, 1449, 4633, 2190],\n [2888, 2544, 3880, 3096, 2056, 631, 3492],\n [1654, 4590, 2465, 484, 1874, 2972, 3391, 1523, 689, 4038, 1402, 4006],\n [4387, 612, 2779, 3215, 3022, 1874, 2316, 3010, 3492],\n [1421, 2383, 2480, 4322],\n [1728, 932, 2980, 2525, 3112, 1697, 217, 3222, 4038, 1402, 4006],\n [234, 4434, 1791, 2650, 2385, 4038, 1402, 4006],\n [2512, 4364, 1521, 1197, 1515, 1345, 4516],\n [3388, 1564, 4221, 2135, 3331],\n [3369, 2320, 4906, 4587, 3626, 2465, 3015, 4067, 3732, 278, 284, 218],\n [2629, 940, 2826, 25, 1771, 2465, 2313, 2064, 4038, 1402, 4006],\n [2307, 2465, 4452, 544, 2806, 1321, 4495, 2119, 2275, 4499],\n [1885, 2096, 1163, 736, 2208, 488, 4038, 1402, 4006],\n [2240, 984, 222, 3078, 408, 973, 4038, 1402, 4006],\n [4926, 4989, 2096, 4616, 3045, 4736, 4155, 2851, 2465],\n [2749, 3153, 1707, 1812, 1143, 129],\n [481, 4989, 3302, 1609, 2524, 3769, 3730, 3963],\n [3963, 1241, 1529, 3958, 3915, 572, 2105],\n [3378, 4995, 2533, 403, 3469, 3304, 664, 4038, 1402, 4006],\n [1241, 2313, 2131, 3469, 4596, 1925],\n [703,\n  2465,\n  1198,\n  3803,\n  2111,\n  3457,\n  2223,\n  4707,\n  4312,\n  1836,\n  1460,\n  3915,\n  4429,\n  2108,\n  3492],\n [2323, 3660, 1874, 3151, 4719, 3626, 3150, 1521],\n [278, 868, 517, 3678, 2151, 4634, 2862],\n [3801, 1710, 2269, 3182, 4085],\n [3793, 218, 115, 4802, 3182, 1132, 115],\n [3411, 1004, 3347, 1874, 3215, 3022, 511, 641],\n [2307, 2465, 4556, 4247, 129, 1436, 3804],\n [2, 2148, 1800, 2180, 1736, 4396, 4038, 1402, 4006],\n [3649, 445, 278, 34, 3469, 1880, 1297, 2411, 4239],\n [2465, 290, 4239, 333, 2771, 1179, 2923, 641, 4038, 1402, 4006],\n [3492, 4809, 3388, 2922, 3760, 3492],\n [2323, 3404],\n [4297, 2411, 2086, 4540, 2282, 1513, 319, 4312],\n [1403, 2465, 3369, 2668, 4518, 2997, 3845, 4151, 4038, 1402, 4006],\n [3430, 2065, 1709, 572, 2017, 4272, 1685],\n [1460, 1218, 2108, 352, 4337, 3925, 248, 3492],\n [3816, 1038, 4736, 2574, 3542, 3977, 3976],\n [1131, 4339, 3413, 4910, 4346, 4842, 4051, 2879, 3492],\n [2304, 3130, 2826, 2494, 3742, 4038, 1402, 4006],\n [4769, 202, 1095, 326, 1857, 4517, 77, 824, 2667, 2064, 3492],\n [1645, 3275, 1610, 3789, 4556, 3404, 3730, 3576],\n [2465, 1668, 1152, 83, 4730, 1163, 4430, 4038, 1402, 4006],\n [327, 268, 4107, 3300, 4310],\n [2164, 3469, 1240, 4038, 1402, 4006],\n [1511, 428, 2366, 388, 4809],\n [235, 4926, 3660, 932, 4626, 2318, 2463, 1253, 4617, 2465, 2481],\n [1728, 1148, 4469, 916, 3396, 4680, 4230, 1494, 4038, 1402, 4006],\n [4087, 1831, 1322, 3217, 4779, 1786, 2356, 3419, 4869],\n [206, 940, 3404, 4556, 4195, 2524, 4574, 3226, 373],\n [2465, 642, 1242, 2064, 4593, 428, 3356, 217, 4038, 1402, 4006],\n [1438, 2100, 4626, 2233, 681],\n [694, 3029, 108, 2, 3067, 354],\n [1498, 4989, 4739, 1398, 3922, 2135, 2650],\n [2581, 1561, 4680, 3549],\n [2465, 4120, 4038, 1296, 1622, 1870, 3492],\n [4083, 1404, 1521, 1874, 3157, 616, 2972, 4336, 3656, 2209],\n [3742, 670, 1579, 70, 4593, 1198, 3793, 1276, 3492],\n [1935, 186, 2690, 2911],\n [327,\n  4027,\n  4366,\n  264,\n  3549,\n  129,\n  2717,\n  1227,\n  927,\n  2235,\n  3549,\n  3710,\n  3054,\n  4038,\n  1402,\n  4006],\n [1154, 554, 33, 928, 3949, 4556, 2316, 4195, 2524, 4574],\n [118, 114, 257, 3922, 3603, 1669, 4587, 2962, 4556, 3492],\n [2591, 2359, 1880, 1046, 4843, 3845, 2164],\n [2091, 3483, 4867, 328, 3138, 2361, 1751, 2099, 50, 4038, 1402, 4006],\n [3889, 3419, 2481, 2323, 3660, 2337, 1403, 2465, 4038, 1402, 4006],\n [3833, 4809, 4038, 1402, 4006, 1645, 3492, 3302, 3386, 3492],\n [836, 4038, 420, 782, 4349, 604, 4038, 1402, 4006],\n [1010, 36, 3151, 4486, 4116, 1728, 3152, 4766, 3663],\n [3904, 3431, 4625, 1728, 1350, 2280, 1257, 3583, 4038, 1402, 4006],\n [3302, 548, 1801, 2832, 2286],\n [4759, 1498, 3302, 4712, 3833, 4809, 488, 2323, 3660],\n [37, 77, 2300, 2665, 1440, 322, 3383, 4401, 1494, 4038, 1402, 4006],\n [450, 4932, 4775, 2225, 3127, 624, 3096, 4995],\n [3384, 4779, 2303, 3508, 3373, 1322, 878, 1506, 1163, 2550, 1221, 3204, 1532],\n [37, 4693, 2351, 481, 4006, 1003, 3395, 1594, 2609, 4038, 1402, 4006],\n [3430, 4587, 1247, 1936, 2481, 340, 4571],\n [4430, 2078, 549, 4765],\n [2213, 4434, 405, 4751, 2964, 2644, 1019, 4038, 1402, 4006],\n [258, 3907, 1658, 3087],\n [3171, 4124, 3512, 1645, 4353, 3222, 2167, 2696],\n [2984, 4758, 70, 4616, 2503, 2458, 4038, 1402, 4006],\n [2108, 4983, 2566, 4587, 278, 2164, 2864, 503],\n [3812, 4414, 2463, 4878, 548, 1430, 2826, 2854, 2465, 3492],\n [43, 616, 503, 3434, 3773, 1161, 825, 1949, 4072, 4163, 3492],\n [1973, 1147, 3157, 1724, 1751, 2217, 4048, 1257, 4038, 1402, 4006],\n [1168, 2292, 1970, 3004, 2481, 4457, 4572],\n [1975, 3022, 4861, 3002, 3958, 2472],\n [942, 2165, 1066, 4258, 1147],\n [1799, 4336, 3868, 2435, 222, 2604, 2888, 1670, 4916, 1513, 3492],\n [1728, 3940, 2985, 4434, 1728, 713, 419, 1462, 1521, 4038, 1402, 4006],\n [2465, 4069],\n [1329, 3626, 4391, 2906, 689, 4073, 689, 3695, 4038, 1402, 4006],\n [2465, 3883, 4124, 776, 4762, 548, 624, 354, 428, 2388],\n [55, 2096, 4598, 3430, 2919, 3801, 4006, 3700, 4038, 1402, 4006],\n [2959, 3568, 348, 1413, 1588, 145, 1758, 3485, 4587, 302],\n [1783, 2337, 4542, 33, 1901, 3656, 503],\n [3756, 677, 1126, 2770, 3195, 2783, 686, 1405, 4038, 1402, 4006],\n [3256, 4151, 2289, 4342, 3579],\n [4792, 2388, 4122, 112, 4279, 4526, 2323],\n [4743, 4038, 3925, 1103, 4136, 1232, 1639, 4038, 1402, 4006],\n [3660, 175, 2184, 3539, 4968],\n [2323, 4051, 4027, 4224, 1622, 2518, 2465, 3492],\n [125, 2497, 631, 4914, 3343, 1285, 1688, 2164],\n [4360, 4364, 3349, 2671, 3045, 1212, 1232, 43],\n [3603, 3710, 1370, 4538, 4074, 4497],\n [4976, 2718, 3296, 2210, 3469, 3827, 1404, 1521, 3931, 3492],\n [1660, 3314, 688, 4882, 1672, 1749, 4038, 1402, 4006],\n [3430, 1724, 4840, 1934, 2060, 3504, 3868, 4038, 1402, 4006],\n [3740, 3151, 1775, 4282, 3469, 3350, 965, 221],\n [4385, 4856, 366, 4073, 2587, 1511, 2323, 1578, 1379],\n [43, 2704, 4426, 1939, 2780, 661, 4038, 1402, 4006],\n [4752, 2583, 3302, 1121, 1781, 3032, 3716],\n [2884, 4324, 132, 3660, 4708],\n [4076, 366, 4288, 2644, 3992, 3963, 1734, 1935],\n [1639, 1521, 4476, 2465, 1003, 2064, 4038, 1402, 4006],\n [4303, 317, 1751, 366, 4124, 4295, 161, 4618, 2240, 2388],\n [3833, 4809, 2465, 1232, 1391, 2579],\n [927, 4264],\n [1646, 157, 678, 4516, 2602, 4264, 1259, 3492],\n [1601, 488, 561, 4038, 1402, 4006],\n [4990, 4423, 1570, 2497, 1530, 3096, 970, 3912, 2228, 3400, 2463, 71],\n [4157, 4538, 3784, 2224],\n [649, 266, 932, 4279, 340, 2496, 3430, 4115],\n [1077, 1622, 1075, 3622, 1699, 459, 3846, 935],\n [3193, 2304, 66, 756, 2671, 4574, 3499, 2323],\n [4666, 3853, 33, 4898, 1521, 845, 4038, 1402, 4006],\n [1982, 3151, 2465, 3345, 721, 2465, 2827, 1622, 3492],\n [681, 3380, 125, 1571, 317, 3851, 3381, 3112, 4190, 2525],\n [3032, 1951, 4006, 1052, 3165, 2465, 3139, 4567, 3492],\n [276, 292, 794, 3151, 2067, 2067, 4038, 1402, 4006],\n [2323, 3660, 463, 1403, 2465, 4038, 4629, 4238, 2463, 254, 4038, 1402, 4006],\n [1513, 2188, 4526, 712, 1403, 2465, 1132, 3845, 4151, 4038, 1402, 4006],\n [1562, 3328, 2832, 2351, 481, 4736, 2411, 3492],\n [1150, 119, 4487, 2355, 676, 3131, 4038, 1402, 4006],\n [4806, 1622, 4311, 1442, 1145, 1095, 4038, 1402, 4006],\n [164, 740, 3902],\n [703, 1403, 2465, 1186, 928, 2489, 2326, 4027, 1738, 4038, 1402, 4006],\n [4596, 4072, 2715, 1929, 406, 2647, 4038, 1402, 4006],\n [2744, 1032, 4707, 4312, 4893, 4667, 4454, 2085, 1756, 3492],\n [2465, 3165, 4819, 250, 1646, 2085, 163, 927, 2786, 4116],\n [606, 766, 2438, 251, 2375, 4654, 1936, 4038, 1402, 4006],\n [66, 2917, 3589, 4840, 403, 2456, 971, 1095, 1710, 1578, 3492],\n [1460, 4048, 4113, 1923, 1032, 3730, 641, 3492],\n [3509,\n  4843,\n  4038,\n  1734,\n  4912,\n  4219,\n  1393,\n  1844,\n  4957,\n  1751,\n  4,\n  4038,\n  1402,\n  4006],\n [1403, 2465, 2323, 3660, 732, 3739, 3845, 4151, 4038, 1402, 4006],\n [3809, 3469, 2980, 935, 3434, 406, 352, 3549, 2884, 2401],\n [1751, 2533, 736, 266, 2323, 118],\n [2163, 4789, 3297, 2690],\n [1404, 3154, 517, 4034, 3045, 1787, 3683, 3171, 2690, 987, 3590],\n [1878, 4708, 4163, 1728, 3112, 4117, 4674, 3459, 4038, 1402, 4006],\n [4087, 1800, 1752, 2465, 3413, 76, 1874, 2275, 3349, 2001, 426, 3492],\n [4680, 4230, 937, 4711, 2574, 3542, 3883, 766, 757],\n [2465, 1601, 3215, 3022, 4890, 1852, 4511, 1286, 4038, 1402, 4006],\n [1511, 2323, 3660, 4487, 1486, 730, 4279, 4264, 932, 1062],\n [563, 3430, 1697, 4914, 2497, 2323, 2962, 4038, 4926, 932, 4626],\n [1403, 2465, 4078, 3905, 2340, 654, 3154, 4600, 3665, 4038, 1402, 4006],\n [565, 3275, 2962, 288, 1553, 4382, 1261, 3889, 4355, 3400],\n [3379, 2547, 4855, 1050, 1824, 2181, 1232, 3973],\n [2465, 406, 1310, 3339, 3151, 4051, 2985, 3915, 910, 77, 4038, 1402, 4006],\n [1892, 582, 1155, 2826, 4564, 251, 2779, 1294, 2388],\n [3641, 1622, 3613, 4845, 2078, 3978, 3992, 3480, 4038, 1402, 4006],\n ...]"
     },
     "metadata": {},
     "execution_count": 42
    }
   ],
   "source": [
    "# In onehot we need index based on vocab size\n",
    "onehot_rep = [one_hot(words, voc_size) for words in corpus]\n",
    "onehot_rep "
   ]
  },
  {
   "cell_type": "code",
   "execution_count": 44,
   "metadata": {
    "tags": []
   },
   "outputs": [
    {
     "output_type": "stream",
     "name": "stdout",
     "text": "[[   0    0    0 ...  239 1810 1112]\n [   0    0    0 ... 3601 4026 3492]\n [   0    0    0 ... 2518  161  481]\n ...\n [   0    0    0 ... 4038 1402 4006]\n [   0    0    0 ... 4232 2148 1033]\n [   0    0    0 ... 3067 4067 4665]]\n"
    }
   ],
   "source": [
    "sent_length = 20\n",
    "embedded_docs = pad_sequences(onehot_rep, padding='pre', maxlen= sent_length)\n",
    "print(embedded_docs)"
   ]
  },
  {
   "cell_type": "code",
   "execution_count": 45,
   "metadata": {},
   "outputs": [
    {
     "output_type": "execute_result",
     "data": {
      "text/plain": "18285"
     },
     "metadata": {},
     "execution_count": 45
    }
   ],
   "source": [
    "len(embedded_docs)"
   ]
  },
  {
   "cell_type": "code",
   "execution_count": 46,
   "metadata": {
    "tags": []
   },
   "outputs": [
    {
     "output_type": "stream",
     "name": "stdout",
     "text": "Model: \"sequential\"\n_________________________________________________________________\nLayer (type)                 Output Shape              Param #   \n=================================================================\nembedding (Embedding)        (None, 20, 40)            200000    \n_________________________________________________________________\nlstm (LSTM)                  (None, 100)               56400     \n_________________________________________________________________\ndense (Dense)                (None, 1)                 101       \n=================================================================\nTotal params: 256,501\nTrainable params: 256,501\nNon-trainable params: 0\n_________________________________________________________________\nNone\n"
    }
   ],
   "source": [
    "## Creating Model\n",
    "embedding_vec_features = 40\n",
    "model = Sequential()\n",
    "model.add(Embedding(voc_size, embedding_vec_features, input_length=sent_length))\n",
    "model.add(LSTM(100))\n",
    "model.add(Dense(1, activation='sigmoid'))\n",
    "model.compile(loss='binary_crossentropy', optimizer='adam', metrics=['accuracy'])\n",
    "print(model.summary())"
   ]
  },
  {
   "cell_type": "code",
   "execution_count": 47,
   "metadata": {},
   "outputs": [
    {
     "output_type": "execute_result",
     "data": {
      "text/plain": "(18285, (18285,))"
     },
     "metadata": {},
     "execution_count": 47
    }
   ],
   "source": [
    "len(embedded_docs),y.shape"
   ]
  },
  {
   "cell_type": "code",
   "execution_count": 49,
   "metadata": {},
   "outputs": [
    {
     "output_type": "execute_result",
     "data": {
      "text/plain": "((18285, 20), (18285,))"
     },
     "metadata": {},
     "execution_count": 49
    }
   ],
   "source": [
    "import numpy as np\n",
    "X_final = np.array(embedded_docs)\n",
    "y_final = np.array(y)\n",
    "\n",
    "X_final.shape, y_final.shape"
   ]
  },
  {
   "cell_type": "code",
   "execution_count": 54,
   "metadata": {},
   "outputs": [
    {
     "output_type": "execute_result",
     "data": {
      "text/plain": "array([[   0,    0,    0, ...,  239, 1810, 1112],\n       [   0,    0,    0, ..., 3601, 4026, 3492],\n       [   0,    0,    0, ..., 2518,  161,  481],\n       ...,\n       [   0,    0,    0, ..., 4038, 1402, 4006],\n       [   0,    0,    0, ..., 4232, 2148, 1033],\n       [   0,    0,    0, ..., 3067, 4067, 4665]])"
     },
     "metadata": {},
     "execution_count": 54
    }
   ],
   "source": [
    "X_final"
   ]
  },
  {
   "cell_type": "code",
   "execution_count": 52,
   "metadata": {
    "tags": []
   },
   "outputs": [
    {
     "output_type": "stream",
     "name": "stdout",
     "text": "Processing c:\\users\\ag20459\\appdata\\local\\pip\\cache\\wheels\\46\\ef\\c3\\157e41f5ee1372d1be90b09f74f82b10e391eaacca8f22d33e\\sklearn-0.0-py2.py3-none-any.whl\nCollecting scikit-learn\n  Using cached scikit_learn-0.23.2-cp37-cp37m-win_amd64.whl (6.8 MB)\nRequirement already satisfied: scipy>=0.19.1 in c:\\users\\ag20459\\appdata\\local\\continuum\\anaconda3\\envs\\tf2_2\\lib\\site-packages (from scikit-learn->sklearn) (1.5.2)\nCollecting threadpoolctl>=2.0.0\n  Using cached threadpoolctl-2.1.0-py3-none-any.whl (12 kB)\nRequirement already satisfied: joblib>=0.11 in c:\\users\\ag20459\\appdata\\local\\continuum\\anaconda3\\envs\\tf2_2\\lib\\site-packages (from scikit-learn->sklearn) (0.17.0)\nRequirement already satisfied: numpy>=1.13.3 in c:\\users\\ag20459\\appdata\\local\\continuum\\anaconda3\\envs\\tf2_2\\lib\\site-packages (from scikit-learn->sklearn) (1.18.5)\nInstalling collected packages: threadpoolctl, scikit-learn, sklearn\nSuccessfully installed scikit-learn-0.23.2 sklearn-0.0 threadpoolctl-2.1.0\nThe system cannot find the path specified.\nWARNING: You are using pip version 20.0.2; however, version 20.2.3 is available.\nYou should consider upgrading via the 'C:\\Users\\AG20459\\AppData\\Local\\Continuum\\anaconda3\\envs\\tf2_2\\python.exe -m pip install --upgrade pip' command.\n"
    }
   ],
   "source": [
    "!pip install sklearn\n"
   ]
  },
  {
   "cell_type": "code",
   "execution_count": 53,
   "metadata": {},
   "outputs": [],
   "source": [
    "from sklearn.model_selection import train_test_split\n",
    "X_train, X_test, y_train, y_test = train_test_split(X_final, y_final, test_size=0.33, random_state=42)"
   ]
  },
  {
   "cell_type": "code",
   "execution_count": 72,
   "metadata": {
    "tags": []
   },
   "outputs": [
    {
     "output_type": "stream",
     "name": "stdout",
     "text": "Epoch 1/10\n192/192 [==============================] - 3s 16ms/step - loss: 0.3466 - accuracy: 0.8424 - val_loss: 0.2037 - val_accuracy: 0.9165\nEpoch 2/10\n192/192 [==============================] - 5s 24ms/step - loss: 0.1455 - accuracy: 0.9447 - val_loss: 0.1956 - val_accuracy: 0.9225\nEpoch 3/10\n192/192 [==============================] - 6s 29ms/step - loss: 0.0978 - accuracy: 0.9641 - val_loss: 0.2425 - val_accuracy: 0.9216\nEpoch 4/10\n192/192 [==============================] - 5s 25ms/step - loss: 0.0711 - accuracy: 0.9743 - val_loss: 0.2371 - val_accuracy: 0.9120\nEpoch 5/10\n192/192 [==============================] - 5s 25ms/step - loss: 0.0525 - accuracy: 0.9821 - val_loss: 0.2710 - val_accuracy: 0.9175\nEpoch 6/10\n192/192 [==============================] - 5s 24ms/step - loss: 0.0358 - accuracy: 0.9876 - val_loss: 0.3630 - val_accuracy: 0.9153\nEpoch 7/10\n192/192 [==============================] - 5s 26ms/step - loss: 0.0249 - accuracy: 0.9910 - val_loss: 0.3319 - val_accuracy: 0.9157\nEpoch 8/10\n192/192 [==============================] - 5s 26ms/step - loss: 0.0187 - accuracy: 0.9934 - val_loss: 0.4627 - val_accuracy: 0.9026\nEpoch 9/10\n192/192 [==============================] - 6s 30ms/step - loss: 0.0160 - accuracy: 0.9951 - val_loss: 0.3750 - val_accuracy: 0.9104\nEpoch 10/10\n192/192 [==============================] - 5s 26ms/step - loss: 0.0124 - accuracy: 0.9954 - val_loss: 0.4844 - val_accuracy: 0.9107\n"
    },
    {
     "output_type": "execute_result",
     "data": {
      "text/plain": "<tensorflow.python.keras.callbacks.History at 0x2a8ffc8a358>"
     },
     "metadata": {},
     "execution_count": 72
    }
   ],
   "source": [
    "## Model Training\n",
    "model.fit(X_train, y_train, validation_data=(X_test,y_test), epochs=10, batch_size=64)"
   ]
  },
  {
   "cell_type": "code",
   "execution_count": 71,
   "metadata": {},
   "outputs": [],
   "source": [
    "## Adding Dropout\n",
    "from tensorflow.keras.layers import Dropout\n",
    "# Creating model\n",
    "embedding_vec_features = 40\n",
    "model =  Sequential()\n",
    "model.add(Embedding(voc_size, embedding_vec_features, input_length=sent_length))\n",
    "model.add(Dropout(0.3))\n",
    "model.add(LSTM(100))\n",
    "model.add(Dropout(0.3))\n",
    "model.add(Dense(1, activation='sigmoid'))\n",
    "model.compile(loss='binary_crossentropy', optimizer='adam', metrics=['accuracy'])"
   ]
  },
  {
   "cell_type": "code",
   "execution_count": 73,
   "metadata": {
    "tags": []
   },
   "outputs": [],
   "source": [
    "## Performance Metrics and Accuracy\n",
    "y_pred = model.predict_classes(X_test)"
   ]
  },
  {
   "cell_type": "code",
   "execution_count": 74,
   "metadata": {},
   "outputs": [],
   "source": [
    "from sklearn.metrics import confusion_matrix"
   ]
  },
  {
   "cell_type": "code",
   "execution_count": 75,
   "metadata": {},
   "outputs": [
    {
     "output_type": "execute_result",
     "data": {
      "text/plain": "array([[3124,  295],\n       [ 244, 2372]], dtype=int64)"
     },
     "metadata": {},
     "execution_count": 75
    }
   ],
   "source": [
    "confusion_matrix(y_test, y_pred)"
   ]
  },
  {
   "cell_type": "code",
   "execution_count": 76,
   "metadata": {},
   "outputs": [
    {
     "output_type": "execute_result",
     "data": {
      "text/plain": "0.9106876553438277"
     },
     "metadata": {},
     "execution_count": 76
    }
   ],
   "source": [
    "from sklearn.metrics import accuracy_score\n",
    "accuracy_score(y_test, y_pred)"
   ]
  },
  {
   "cell_type": "code",
   "execution_count": null,
   "metadata": {},
   "outputs": [],
   "source": []
  }
 ],
 "metadata": {
  "kernelspec": {
   "display_name": "Python 3.7.0 64-bit ('tf2_2': conda)",
   "language": "python",
   "name": "python_defaultSpec_1602048399736"
  },
  "language_info": {
   "codemirror_mode": {
    "name": "ipython",
    "version": 3
   },
   "file_extension": ".py",
   "mimetype": "text/x-python",
   "name": "python",
   "nbconvert_exporter": "python",
   "pygments_lexer": "ipython3",
   "version": "3.7.0-final"
  }
 },
 "nbformat": 4,
 "nbformat_minor": 4
}