{
 "cells": [
  {
   "cell_type": "code",
   "execution_count": 2,
   "id": "heard-moisture",
   "metadata": {},
   "outputs": [
    {
     "name": "stdout",
     "output_type": "stream",
     "text": [
      "Collecting PyPDF2\n",
      "  Downloading PyPDF2-1.26.0.tar.gz (77 kB)\n",
      "Building wheels for collected packages: PyPDF2\n",
      "  Building wheel for PyPDF2 (setup.py): started\n",
      "  Building wheel for PyPDF2 (setup.py): finished with status 'done'\n",
      "  Created wheel for PyPDF2: filename=PyPDF2-1.26.0-py3-none-any.whl size=61085 sha256=fd830113f92382f183c4b59dad2033207cb217c6155c2248d435c7e3ec7e7634\n",
      "  Stored in directory: c:\\users\\ag20459\\appdata\\local\\pip\\cache\\wheels\\80\\1a\\24\\648467ade3a77ed20f35cfd2badd32134e96dd25ca811e64b3\n",
      "Successfully built PyPDF2\n",
      "Installing collected packages: PyPDF2\n",
      "Successfully installed PyPDF2-1.26.0\n"
     ]
    },
    {
     "name": "stderr",
     "output_type": "stream",
     "text": [
      "The system cannot find the path specified.\n",
      "WARNING: pip is being invoked by an old script wrapper. This will fail in a future version of pip.\n",
      "Please see https://github.com/pypa/pip/issues/5599 for advice on fixing the underlying issue.\n",
      "To avoid this problem you can invoke Python with '-m pip' instead of running pip directly.\n",
      "WARNING: You are using pip version 20.0.2; however, version 21.0.1 is available.\n",
      "You should consider upgrading via the 'C:\\Users\\AG20459\\AppData\\Local\\Continuum\\anaconda3\\envs\\nlp_course\\python.exe -m pip install --upgrade pip' command.\n"
     ]
    }
   ],
   "source": [
    "!pip install PyPDF2\n"
   ]
  },
  {
   "cell_type": "code",
   "execution_count": 8,
   "id": "retired-banks",
   "metadata": {},
   "outputs": [
    {
     "name": "stdout",
     "output_type": "stream",
     "text": [
      "Collecting jupyter_contrib_nbextensions\n",
      "  Downloading jupyter_contrib_nbextensions-0.5.1-py2.py3-none-any.whl (20.9 MB)\n",
      "Requirement already satisfied: notebook>=4.0 in c:\\users\\ag20459\\appdata\\local\\continuum\\anaconda3\\envs\\nlp_course\\lib\\site-packages (from jupyter_contrib_nbextensions) (6.2.0)\n",
      "Collecting jupyter-highlight-selected-word>=0.1.1\n",
      "  Downloading jupyter_highlight_selected_word-0.2.0-py2.py3-none-any.whl (11 kB)\n",
      "Requirement already satisfied: traitlets>=4.1 in c:\\users\\ag20459\\appdata\\local\\continuum\\anaconda3\\envs\\nlp_course\\lib\\site-packages (from jupyter_contrib_nbextensions) (5.0.5)\n",
      "Requirement already satisfied: tornado in c:\\users\\ag20459\\appdata\\local\\continuum\\anaconda3\\envs\\nlp_course\\lib\\site-packages (from jupyter_contrib_nbextensions) (6.1)\n",
      "Requirement already satisfied: jupyter-core in c:\\users\\ag20459\\appdata\\local\\continuum\\anaconda3\\envs\\nlp_course\\lib\\site-packages (from jupyter_contrib_nbextensions) (4.7.1)\n",
      "Requirement already satisfied: nbconvert>=4.2 in c:\\users\\ag20459\\appdata\\local\\continuum\\anaconda3\\envs\\nlp_course\\lib\\site-packages (from jupyter_contrib_nbextensions) (6.0.7)\n",
      "Collecting jupyter-contrib-core>=0.3.3\n",
      "  Downloading jupyter_contrib_core-0.3.3-py2.py3-none-any.whl (18 kB)\n",
      "Requirement already satisfied: pyyaml in c:\\users\\ag20459\\appdata\\local\\continuum\\anaconda3\\envs\\nlp_course\\lib\\site-packages (from jupyter_contrib_nbextensions) (5.4.1)\n",
      "Requirement already satisfied: ipython-genutils in c:\\users\\ag20459\\appdata\\local\\continuum\\anaconda3\\envs\\nlp_course\\lib\\site-packages (from jupyter_contrib_nbextensions) (0.2.0)\n",
      "Collecting lxml\n"
     ]
    },
    {
     "name": "stderr",
     "output_type": "stream",
     "text": [
      "The system cannot find the path specified.\n",
      "WARNING: pip is being invoked by an old script wrapper. This will fail in a future version of pip.\n",
      "Please see https://github.com/pypa/pip/issues/5599 for advice on fixing the underlying issue.\n",
      "To avoid this problem you can invoke Python with '-m pip' instead of running pip directly.\n",
      "WARNING: You are using pip version 20.0.2; however, version 21.0.1 is available.\n",
      "You should consider upgrading via the 'C:\\Users\\AG20459\\AppData\\Local\\Continuum\\anaconda3\\envs\\nlp_course\\python.exe -m pip install --upgrade pip' command.\n"
     ]
    },
    {
     "name": "stdout",
     "output_type": "stream",
     "text": [
      "  Downloading lxml-4.6.2-cp37-cp37m-win_amd64.whl (3.5 MB)\n",
      "Collecting jupyter-latex-envs>=1.3.8\n",
      "  Downloading jupyter_latex_envs-1.4.6.tar.gz (861 kB)\n",
      "Collecting jupyter-nbextensions-configurator>=0.4.0\n",
      "  Downloading jupyter_nbextensions_configurator-0.4.1.tar.gz (479 kB)\n",
      "Requirement already satisfied: prometheus-client in c:\\users\\ag20459\\appdata\\local\\continuum\\anaconda3\\envs\\nlp_course\\lib\\site-packages (from notebook>=4.0->jupyter_contrib_nbextensions) (0.9.0)\n",
      "Requirement already satisfied: nbformat in c:\\users\\ag20459\\appdata\\local\\continuum\\anaconda3\\envs\\nlp_course\\lib\\site-packages (from notebook>=4.0->jupyter_contrib_nbextensions) (5.1.2)\n",
      "Requirement already satisfied: Send2Trash>=1.5.0 in c:\\users\\ag20459\\appdata\\local\\continuum\\anaconda3\\envs\\nlp_course\\lib\\site-packages (from notebook>=4.0->jupyter_contrib_nbextensions) (1.5.0)\n",
      "Requirement already satisfied: pyzmq>=17 in c:\\users\\ag20459\\appdata\\local\\continuum\\anaconda3\\envs\\nlp_course\\lib\\site-packages (from notebook>=4.0->jupyter_contrib_nbextensions) (20.0.0)\n",
      "Requirement already satisfied: ipykernel in c:\\users\\ag20459\\appdata\\local\\continuum\\anaconda3\\envs\\nlp_course\\lib\\site-packages (from notebook>=4.0->jupyter_contrib_nbextensions) (5.3.4)\n",
      "Requirement already satisfied: argon2-cffi in c:\\users\\ag20459\\appdata\\local\\continuum\\anaconda3\\envs\\nlp_course\\lib\\site-packages (from notebook>=4.0->jupyter_contrib_nbextensions) (20.1.0)\n",
      "Requirement already satisfied: jupyter-client>=5.3.4 in c:\\users\\ag20459\\appdata\\local\\continuum\\anaconda3\\envs\\nlp_course\\lib\\site-packages (from notebook>=4.0->jupyter_contrib_nbextensions) (6.1.7)\n",
      "Requirement already satisfied: jinja2 in c:\\users\\ag20459\\appdata\\local\\continuum\\anaconda3\\envs\\nlp_course\\lib\\site-packages (from notebook>=4.0->jupyter_contrib_nbextensions) (2.11.3)\n",
      "Requirement already satisfied: terminado>=0.8.3 in c:\\users\\ag20459\\appdata\\local\\continuum\\anaconda3\\envs\\nlp_course\\lib\\site-packages (from notebook>=4.0->jupyter_contrib_nbextensions) (0.9.2)\n",
      "Requirement already satisfied: pywin32>=1.0; sys_platform == \"win32\" in c:\\users\\ag20459\\appdata\\local\\continuum\\anaconda3\\envs\\nlp_course\\lib\\site-packages (from jupyter-core->jupyter_contrib_nbextensions) (227)\n",
      "Requirement already satisfied: nbclient<0.6.0,>=0.5.0 in c:\\users\\ag20459\\appdata\\local\\continuum\\anaconda3\\envs\\nlp_course\\lib\\site-packages (from nbconvert>=4.2->jupyter_contrib_nbextensions) (0.5.1)\n",
      "Requirement already satisfied: mistune<2,>=0.8.1 in c:\\users\\ag20459\\appdata\\local\\continuum\\anaconda3\\envs\\nlp_course\\lib\\site-packages (from nbconvert>=4.2->jupyter_contrib_nbextensions) (0.8.4)\n",
      "Requirement already satisfied: bleach in c:\\users\\ag20459\\appdata\\local\\continuum\\anaconda3\\envs\\nlp_course\\lib\\site-packages (from nbconvert>=4.2->jupyter_contrib_nbextensions) (3.3.0)\n",
      "Requirement already satisfied: entrypoints>=0.2.2 in c:\\users\\ag20459\\appdata\\local\\continuum\\anaconda3\\envs\\nlp_course\\lib\\site-packages (from nbconvert>=4.2->jupyter_contrib_nbextensions) (0.3)\n",
      "Requirement already satisfied: testpath in c:\\users\\ag20459\\appdata\\local\\continuum\\anaconda3\\envs\\nlp_course\\lib\\site-packages (from nbconvert>=4.2->jupyter_contrib_nbextensions) (0.4.4)\n",
      "Requirement already satisfied: defusedxml in c:\\users\\ag20459\\appdata\\local\\continuum\\anaconda3\\envs\\nlp_course\\lib\\site-packages (from nbconvert>=4.2->jupyter_contrib_nbextensions) (0.6.0)\n",
      "Requirement already satisfied: jupyterlab-pygments in c:\\users\\ag20459\\appdata\\local\\continuum\\anaconda3\\envs\\nlp_course\\lib\\site-packages (from nbconvert>=4.2->jupyter_contrib_nbextensions) (0.1.2)\n",
      "Requirement already satisfied: pandocfilters>=1.4.1 in c:\\users\\ag20459\\appdata\\local\\continuum\\anaconda3\\envs\\nlp_course\\lib\\site-packages (from nbconvert>=4.2->jupyter_contrib_nbextensions) (1.4.3)\n",
      "Requirement already satisfied: pygments>=2.4.1 in c:\\users\\ag20459\\appdata\\local\\continuum\\anaconda3\\envs\\nlp_course\\lib\\site-packages (from nbconvert>=4.2->jupyter_contrib_nbextensions) (2.7.4)\n",
      "Requirement already satisfied: setuptools in c:\\users\\ag20459\\appdata\\local\\continuum\\anaconda3\\envs\\nlp_course\\lib\\site-packages (from jupyter-contrib-core>=0.3.3->jupyter_contrib_nbextensions) (52.0.0.post20210125)\n",
      "Requirement already satisfied: ipython in c:\\users\\ag20459\\appdata\\local\\continuum\\anaconda3\\envs\\nlp_course\\lib\\site-packages (from jupyter-latex-envs>=1.3.8->jupyter_contrib_nbextensions) (7.20.0)\n",
      "Requirement already satisfied: jsonschema!=2.5.0,>=2.4 in c:\\users\\ag20459\\appdata\\local\\continuum\\anaconda3\\envs\\nlp_course\\lib\\site-packages (from nbformat->notebook>=4.0->jupyter_contrib_nbextensions) (3.2.0)\n",
      "Requirement already satisfied: six in c:\\users\\ag20459\\appdata\\local\\continuum\\anaconda3\\envs\\nlp_course\\lib\\site-packages (from argon2-cffi->notebook>=4.0->jupyter_contrib_nbextensions) (1.15.0)\n",
      "Requirement already satisfied: cffi>=1.0.0 in c:\\users\\ag20459\\appdata\\local\\continuum\\anaconda3\\envs\\nlp_course\\lib\\site-packages (from argon2-cffi->notebook>=4.0->jupyter_contrib_nbextensions) (1.14.5)\n",
      "Requirement already satisfied: python-dateutil>=2.1 in c:\\users\\ag20459\\appdata\\local\\continuum\\anaconda3\\envs\\nlp_course\\lib\\site-packages (from jupyter-client>=5.3.4->notebook>=4.0->jupyter_contrib_nbextensions) (2.8.1)\n",
      "Requirement already satisfied: MarkupSafe>=0.23 in c:\\users\\ag20459\\appdata\\local\\continuum\\anaconda3\\envs\\nlp_course\\lib\\site-packages (from jinja2->notebook>=4.0->jupyter_contrib_nbextensions) (1.1.1)\n",
      "Requirement already satisfied: pywinpty>=0.5 in c:\\users\\ag20459\\appdata\\local\\continuum\\anaconda3\\envs\\nlp_course\\lib\\site-packages (from terminado>=0.8.3->notebook>=4.0->jupyter_contrib_nbextensions) (0.5.7)\n",
      "Requirement already satisfied: async-generator in c:\\users\\ag20459\\appdata\\local\\continuum\\anaconda3\\envs\\nlp_course\\lib\\site-packages (from nbclient<0.6.0,>=0.5.0->nbconvert>=4.2->jupyter_contrib_nbextensions) (1.10)\n",
      "Requirement already satisfied: nest-asyncio in c:\\users\\ag20459\\appdata\\local\\continuum\\anaconda3\\envs\\nlp_course\\lib\\site-packages (from nbclient<0.6.0,>=0.5.0->nbconvert>=4.2->jupyter_contrib_nbextensions) (1.4.3)\n",
      "Requirement already satisfied: webencodings in c:\\users\\ag20459\\appdata\\local\\continuum\\anaconda3\\envs\\nlp_course\\lib\\site-packages (from bleach->nbconvert>=4.2->jupyter_contrib_nbextensions) (0.5.1)\n",
      "Requirement already satisfied: packaging in c:\\users\\ag20459\\appdata\\local\\continuum\\anaconda3\\envs\\nlp_course\\lib\\site-packages (from bleach->nbconvert>=4.2->jupyter_contrib_nbextensions) (20.9)\n",
      "Requirement already satisfied: backcall in c:\\users\\ag20459\\appdata\\local\\continuum\\anaconda3\\envs\\nlp_course\\lib\\site-packages (from ipython->jupyter-latex-envs>=1.3.8->jupyter_contrib_nbextensions) (0.2.0)\n",
      "Requirement already satisfied: pickleshare in c:\\users\\ag20459\\appdata\\local\\continuum\\anaconda3\\envs\\nlp_course\\lib\\site-packages (from ipython->jupyter-latex-envs>=1.3.8->jupyter_contrib_nbextensions) (0.7.5)\n",
      "Requirement already satisfied: colorama; sys_platform == \"win32\" in c:\\users\\ag20459\\appdata\\local\\continuum\\anaconda3\\envs\\nlp_course\\lib\\site-packages (from ipython->jupyter-latex-envs>=1.3.8->jupyter_contrib_nbextensions) (0.4.4)\n",
      "Requirement already satisfied: prompt-toolkit!=3.0.0,!=3.0.1,<3.1.0,>=2.0.0 in c:\\users\\ag20459\\appdata\\local\\continuum\\anaconda3\\envs\\nlp_course\\lib\\site-packages (from ipython->jupyter-latex-envs>=1.3.8->jupyter_contrib_nbextensions) (3.0.8)\n",
      "Requirement already satisfied: decorator in c:\\users\\ag20459\\appdata\\local\\continuum\\anaconda3\\envs\\nlp_course\\lib\\site-packages (from ipython->jupyter-latex-envs>=1.3.8->jupyter_contrib_nbextensions) (4.4.2)\n",
      "Requirement already satisfied: jedi>=0.16 in c:\\users\\ag20459\\appdata\\local\\continuum\\anaconda3\\envs\\nlp_course\\lib\\site-packages (from ipython->jupyter-latex-envs>=1.3.8->jupyter_contrib_nbextensions) (0.17.0)\n",
      "Requirement already satisfied: pyrsistent>=0.14.0 in c:\\users\\ag20459\\appdata\\local\\continuum\\anaconda3\\envs\\nlp_course\\lib\\site-packages (from jsonschema!=2.5.0,>=2.4->nbformat->notebook>=4.0->jupyter_contrib_nbextensions) (0.17.3)\n",
      "Requirement already satisfied: attrs>=17.4.0 in c:\\users\\ag20459\\appdata\\local\\continuum\\anaconda3\\envs\\nlp_course\\lib\\site-packages (from jsonschema!=2.5.0,>=2.4->nbformat->notebook>=4.0->jupyter_contrib_nbextensions) (20.3.0)\n",
      "Requirement already satisfied: importlib-metadata; python_version < \"3.8\" in c:\\users\\ag20459\\appdata\\local\\continuum\\anaconda3\\envs\\nlp_course\\lib\\site-packages (from jsonschema!=2.5.0,>=2.4->nbformat->notebook>=4.0->jupyter_contrib_nbextensions) (2.0.0)\n",
      "Requirement already satisfied: pycparser in c:\\users\\ag20459\\appdata\\local\\continuum\\anaconda3\\envs\\nlp_course\\lib\\site-packages (from cffi>=1.0.0->argon2-cffi->notebook>=4.0->jupyter_contrib_nbextensions) (2.20)\n",
      "Requirement already satisfied: pyparsing>=2.0.2 in c:\\users\\ag20459\\appdata\\local\\continuum\\anaconda3\\envs\\nlp_course\\lib\\site-packages (from packaging->bleach->nbconvert>=4.2->jupyter_contrib_nbextensions) (2.4.7)\n",
      "Requirement already satisfied: wcwidth in c:\\users\\ag20459\\appdata\\local\\continuum\\anaconda3\\envs\\nlp_course\\lib\\site-packages (from prompt-toolkit!=3.0.0,!=3.0.1,<3.1.0,>=2.0.0->ipython->jupyter-latex-envs>=1.3.8->jupyter_contrib_nbextensions) (0.2.5)\n",
      "Requirement already satisfied: parso>=0.7.0 in c:\\users\\ag20459\\appdata\\local\\continuum\\anaconda3\\envs\\nlp_course\\lib\\site-packages (from jedi>=0.16->ipython->jupyter-latex-envs>=1.3.8->jupyter_contrib_nbextensions) (0.8.1)\n",
      "Requirement already satisfied: zipp>=0.5 in c:\\users\\ag20459\\appdata\\local\\continuum\\anaconda3\\envs\\nlp_course\\lib\\site-packages (from importlib-metadata; python_version < \"3.8\"->jsonschema!=2.5.0,>=2.4->nbformat->notebook>=4.0->jupyter_contrib_nbextensions) (3.4.0)\n",
      "Building wheels for collected packages: jupyter-latex-envs, jupyter-nbextensions-configurator\n",
      "  Building wheel for jupyter-latex-envs (setup.py): started\n",
      "  Building wheel for jupyter-latex-envs (setup.py): finished with status 'done'\n",
      "  Created wheel for jupyter-latex-envs: filename=jupyter_latex_envs-1.4.6-py2.py3-none-any.whl size=963394 sha256=779b3e1dab3f3519e566d05eb1259999f682060139300ef441b602dd0f858eea\n",
      "  Stored in directory: c:\\users\\ag20459\\appdata\\local\\pip\\cache\\wheels\\a0\\95\\26\\4cf34fb92765c95fb7851fd447511594bcc3a50e504bd09af9\n",
      "  Building wheel for jupyter-nbextensions-configurator (setup.py): started\n",
      "  Building wheel for jupyter-nbextensions-configurator (setup.py): finished with status 'done'\n",
      "  Created wheel for jupyter-nbextensions-configurator: filename=jupyter_nbextensions_configurator-0.4.1-py2.py3-none-any.whl size=465825 sha256=93650ab0ed01b3e6e6aec1dd2b183f3bfee7e28c18489ee071d722245a87e9f2\n",
      "  Stored in directory: c:\\users\\ag20459\\appdata\\local\\pip\\cache\\wheels\\8d\\c4\\b5\\e4b61f624036f83566580d61f24af7b73180b1361ee1ab3722\n",
      "Successfully built jupyter-latex-envs jupyter-nbextensions-configurator\n",
      "Installing collected packages: jupyter-highlight-selected-word, jupyter-contrib-core, lxml, jupyter-latex-envs, jupyter-nbextensions-configurator, jupyter-contrib-nbextensions\n",
      "Successfully installed jupyter-contrib-core-0.3.3 jupyter-contrib-nbextensions-0.5.1 jupyter-highlight-selected-word-0.2.0 jupyter-latex-envs-1.4.6 jupyter-nbextensions-configurator-0.4.1 lxml-4.6.2\n"
     ]
    }
   ],
   "source": [
    "# Installing autocomplete hinterland\n",
    "!pip install jupyter_contrib_nbextensions"
   ]
  },
  {
   "cell_type": "code",
   "execution_count": 10,
   "id": "aboriginal-empire",
   "metadata": {},
   "outputs": [
    {
     "name": "stderr",
     "output_type": "stream",
     "text": [
      "The system cannot find the path specified.\n",
      "[I 11:38:03 InstallContribNbextensionsApp] jupyter contrib nbextension install --user\n",
      "[I 11:38:03 InstallContribNbextensionsApp] Installing jupyter_contrib_nbextensions nbextension files to jupyter data directory\n",
      "[I 11:38:03 InstallContribNbextensionsApp] Installing c:\\users\\ag20459\\appdata\\local\\continuum\\anaconda3\\envs\\nlp_course\\lib\\site-packages\\jupyter_contrib_nbextensions\\nbextensions\\addbefore -> addbefore\n",
      "[I 11:38:03 InstallContribNbextensionsApp] Making directory: C:\\Users\\AG20459\\AppData\\Roaming\\jupyter\\nbextensions\\addbefore\\\n",
      "[I 11:38:03 InstallContribNbextensionsApp] Copying: c:\\users\\ag20459\\appdata\\local\\continuum\\anaconda3\\envs\\nlp_course\\lib\\site-packages\\jupyter_contrib_nbextensions\\nbextensions\\addbefore\\addbefore.yaml -> C:\\Users\\AG20459\\AppData\\Roaming\\jupyter\\nbextensions\\addbefore\\addbefore.yaml\n",
      "[I 11:38:03 InstallContribNbextensionsApp] Copying: c:\\users\\ag20459\\appdata\\local\\continuum\\anaconda3\\envs\\nlp_course\\lib\\site-packages\\jupyter_contrib_nbextensions\\nbextensions\\addbefore\\icon.png -> C:\\Users\\AG20459\\AppData\\Roaming\\jupyter\\nbextensions\\addbefore\\icon.png\n",
      "[I 11:38:03 InstallContribNbextensionsApp] Copying: c:\\users\\ag20459\\appdata\\local\\continuum\\anaconda3\\envs\\nlp_course\\lib\\site-packages\\jupyter_contrib_nbextensions\\nbextensions\\addbefore\\main.js -> C:\\Users\\AG20459\\AppData\\Roaming\\jupyter\\nbextensions\\addbefore\\main.js\n",
      "[I 11:38:03 InstallContribNbextensionsApp] Copying: c:\\users\\ag20459\\appdata\\local\\continuum\\anaconda3\\envs\\nlp_course\\lib\\site-packages\\jupyter_contrib_nbextensions\\nbextensions\\addbefore\\readme.md -> C:\\Users\\AG20459\\AppData\\Roaming\\jupyter\\nbextensions\\addbefore\\readme.md\n",
      "[I 11:38:03 InstallContribNbextensionsApp] - Validating: ok\n",
      "[I 11:38:03 InstallContribNbextensionsApp] Installing c:\\users\\ag20459\\appdata\\local\\continuum\\anaconda3\\envs\\nlp_course\\lib\\site-packages\\jupyter_contrib_nbextensions\\nbextensions\\autosavetime -> autosavetime\n",
      "[I 11:38:03 InstallContribNbextensionsApp] Making directory: C:\\Users\\AG20459\\AppData\\Roaming\\jupyter\\nbextensions\\autosavetime\\\n",
      "[I 11:38:03 InstallContribNbextensionsApp] Copying: c:\\users\\ag20459\\appdata\\local\\continuum\\anaconda3\\envs\\nlp_course\\lib\\site-packages\\jupyter_contrib_nbextensions\\nbextensions\\autosavetime\\autosavetime.yaml -> C:\\Users\\AG20459\\AppData\\Roaming\\jupyter\\nbextensions\\autosavetime\\autosavetime.yaml\n",
      "[I 11:38:03 InstallContribNbextensionsApp] Copying: c:\\users\\ag20459\\appdata\\local\\continuum\\anaconda3\\envs\\nlp_course\\lib\\site-packages\\jupyter_contrib_nbextensions\\nbextensions\\autosavetime\\icon.png -> C:\\Users\\AG20459\\AppData\\Roaming\\jupyter\\nbextensions\\autosavetime\\icon.png\n",
      "[I 11:38:03 InstallContribNbextensionsApp] Copying: c:\\users\\ag20459\\appdata\\local\\continuum\\anaconda3\\envs\\nlp_course\\lib\\site-packages\\jupyter_contrib_nbextensions\\nbextensions\\autosavetime\\main.js -> C:\\Users\\AG20459\\AppData\\Roaming\\jupyter\\nbextensions\\autosavetime\\main.js\n",
      "[I 11:38:03 InstallContribNbextensionsApp] Copying: c:\\users\\ag20459\\appdata\\local\\continuum\\anaconda3\\envs\\nlp_course\\lib\\site-packages\\jupyter_contrib_nbextensions\\nbextensions\\autosavetime\\README.md -> C:\\Users\\AG20459\\AppData\\Roaming\\jupyter\\nbextensions\\autosavetime\\README.md\n",
      "[I 11:38:03 InstallContribNbextensionsApp] - Validating: ok\n",
      "[I 11:38:03 InstallContribNbextensionsApp] Installing c:\\users\\ag20459\\appdata\\local\\continuum\\anaconda3\\envs\\nlp_course\\lib\\site-packages\\jupyter_contrib_nbextensions\\nbextensions\\autoscroll -> autoscroll\n",
      "[I 11:38:03 InstallContribNbextensionsApp] Making directory: C:\\Users\\AG20459\\AppData\\Roaming\\jupyter\\nbextensions\\autoscroll\\\n",
      "[I 11:38:03 InstallContribNbextensionsApp] Copying: c:\\users\\ag20459\\appdata\\local\\continuum\\anaconda3\\envs\\nlp_course\\lib\\site-packages\\jupyter_contrib_nbextensions\\nbextensions\\autoscroll\\autoscroll.yaml -> C:\\Users\\AG20459\\AppData\\Roaming\\jupyter\\nbextensions\\autoscroll\\autoscroll.yaml\n",
      "[I 11:38:03 InstallContribNbextensionsApp] Copying: c:\\users\\ag20459\\appdata\\local\\continuum\\anaconda3\\envs\\nlp_course\\lib\\site-packages\\jupyter_contrib_nbextensions\\nbextensions\\autoscroll\\icon.png -> C:\\Users\\AG20459\\AppData\\Roaming\\jupyter\\nbextensions\\autoscroll\\icon.png\n",
      "[I 11:38:03 InstallContribNbextensionsApp] Copying: c:\\users\\ag20459\\appdata\\local\\continuum\\anaconda3\\envs\\nlp_course\\lib\\site-packages\\jupyter_contrib_nbextensions\\nbextensions\\autoscroll\\main.js -> C:\\Users\\AG20459\\AppData\\Roaming\\jupyter\\nbextensions\\autoscroll\\main.js\n",
      "[I 11:38:03 InstallContribNbextensionsApp] Copying: c:\\users\\ag20459\\appdata\\local\\continuum\\anaconda3\\envs\\nlp_course\\lib\\site-packages\\jupyter_contrib_nbextensions\\nbextensions\\autoscroll\\README.md -> C:\\Users\\AG20459\\AppData\\Roaming\\jupyter\\nbextensions\\autoscroll\\README.md\n",
      "[I 11:38:03 InstallContribNbextensionsApp] - Validating: ok\n",
      "[I 11:38:03 InstallContribNbextensionsApp] Installing c:\\users\\ag20459\\appdata\\local\\continuum\\anaconda3\\envs\\nlp_course\\lib\\site-packages\\jupyter_contrib_nbextensions\\nbextensions\\cell_filter -> cell_filter\n",
      "[I 11:38:03 InstallContribNbextensionsApp] Making directory: C:\\Users\\AG20459\\AppData\\Roaming\\jupyter\\nbextensions\\cell_filter\\\n",
      "[I 11:38:03 InstallContribNbextensionsApp] Copying: c:\\users\\ag20459\\appdata\\local\\continuum\\anaconda3\\envs\\nlp_course\\lib\\site-packages\\jupyter_contrib_nbextensions\\nbextensions\\cell_filter\\cell_filter.js -> C:\\Users\\AG20459\\AppData\\Roaming\\jupyter\\nbextensions\\cell_filter\\cell_filter.js\n",
      "[I 11:38:03 InstallContribNbextensionsApp] Copying: c:\\users\\ag20459\\appdata\\local\\continuum\\anaconda3\\envs\\nlp_course\\lib\\site-packages\\jupyter_contrib_nbextensions\\nbextensions\\cell_filter\\cell_filter.yml -> C:\\Users\\AG20459\\AppData\\Roaming\\jupyter\\nbextensions\\cell_filter\\cell_filter.yml\n",
      "[I 11:38:03 InstallContribNbextensionsApp] Copying: c:\\users\\ag20459\\appdata\\local\\continuum\\anaconda3\\envs\\nlp_course\\lib\\site-packages\\jupyter_contrib_nbextensions\\nbextensions\\cell_filter\\README.md -> C:\\Users\\AG20459\\AppData\\Roaming\\jupyter\\nbextensions\\cell_filter\\README.md\n",
      "[I 11:38:03 InstallContribNbextensionsApp] - Validating: ok\n",
      "[I 11:38:03 InstallContribNbextensionsApp] Installing c:\\users\\ag20459\\appdata\\local\\continuum\\anaconda3\\envs\\nlp_course\\lib\\site-packages\\jupyter_contrib_nbextensions\\nbextensions\\codefolding -> codefolding\n",
      "[I 11:38:03 InstallContribNbextensionsApp] Making directory: C:\\Users\\AG20459\\AppData\\Roaming\\jupyter\\nbextensions\\codefolding\\\n",
      "[I 11:38:03 InstallContribNbextensionsApp] Copying: c:\\users\\ag20459\\appdata\\local\\continuum\\anaconda3\\envs\\nlp_course\\lib\\site-packages\\jupyter_contrib_nbextensions\\nbextensions\\codefolding\\codefolding.yaml -> C:\\Users\\AG20459\\AppData\\Roaming\\jupyter\\nbextensions\\codefolding\\codefolding.yaml\n",
      "[I 11:38:03 InstallContribNbextensionsApp] Copying: c:\\users\\ag20459\\appdata\\local\\continuum\\anaconda3\\envs\\nlp_course\\lib\\site-packages\\jupyter_contrib_nbextensions\\nbextensions\\codefolding\\codefolding_editor.png -> C:\\Users\\AG20459\\AppData\\Roaming\\jupyter\\nbextensions\\codefolding\\codefolding_editor.png\n",
      "[I 11:38:03 InstallContribNbextensionsApp] Copying: c:\\users\\ag20459\\appdata\\local\\continuum\\anaconda3\\envs\\nlp_course\\lib\\site-packages\\jupyter_contrib_nbextensions\\nbextensions\\codefolding\\codefolding_editor.yaml -> C:\\Users\\AG20459\\AppData\\Roaming\\jupyter\\nbextensions\\codefolding\\codefolding_editor.yaml\n",
      "[I 11:38:03 InstallContribNbextensionsApp] Copying: c:\\users\\ag20459\\appdata\\local\\continuum\\anaconda3\\envs\\nlp_course\\lib\\site-packages\\jupyter_contrib_nbextensions\\nbextensions\\codefolding\\codefolding_firstline_folded.png -> C:\\Users\\AG20459\\AppData\\Roaming\\jupyter\\nbextensions\\codefolding\\codefolding_firstline_folded.png\n",
      "[I 11:38:03 InstallContribNbextensionsApp] Copying: c:\\users\\ag20459\\appdata\\local\\continuum\\anaconda3\\envs\\nlp_course\\lib\\site-packages\\jupyter_contrib_nbextensions\\nbextensions\\codefolding\\codefolding_firstline_unfolded.png -> C:\\Users\\AG20459\\AppData\\Roaming\\jupyter\\nbextensions\\codefolding\\codefolding_firstline_unfolded.png\n",
      "[I 11:38:03 InstallContribNbextensionsApp] Copying: c:\\users\\ag20459\\appdata\\local\\continuum\\anaconda3\\envs\\nlp_course\\lib\\site-packages\\jupyter_contrib_nbextensions\\nbextensions\\codefolding\\codefolding_indent_folded_1.png -> C:\\Users\\AG20459\\AppData\\Roaming\\jupyter\\nbextensions\\codefolding\\codefolding_indent_folded_1.png\n",
      "[I 11:38:03 InstallContribNbextensionsApp] Copying: c:\\users\\ag20459\\appdata\\local\\continuum\\anaconda3\\envs\\nlp_course\\lib\\site-packages\\jupyter_contrib_nbextensions\\nbextensions\\codefolding\\codefolding_indent_folded_2.png -> C:\\Users\\AG20459\\AppData\\Roaming\\jupyter\\nbextensions\\codefolding\\codefolding_indent_folded_2.png\n",
      "[I 11:38:03 InstallContribNbextensionsApp] Copying: c:\\users\\ag20459\\appdata\\local\\continuum\\anaconda3\\envs\\nlp_course\\lib\\site-packages\\jupyter_contrib_nbextensions\\nbextensions\\codefolding\\codefolding_indent_unfolded.png -> C:\\Users\\AG20459\\AppData\\Roaming\\jupyter\\nbextensions\\codefolding\\codefolding_indent_unfolded.png\n",
      "[I 11:38:03 InstallContribNbextensionsApp] Copying: c:\\users\\ag20459\\appdata\\local\\continuum\\anaconda3\\envs\\nlp_course\\lib\\site-packages\\jupyter_contrib_nbextensions\\nbextensions\\codefolding\\edit.js -> C:\\Users\\AG20459\\AppData\\Roaming\\jupyter\\nbextensions\\codefolding\\edit.js\n",
      "[I 11:38:03 InstallContribNbextensionsApp] Copying: c:\\users\\ag20459\\appdata\\local\\continuum\\anaconda3\\envs\\nlp_course\\lib\\site-packages\\jupyter_contrib_nbextensions\\nbextensions\\codefolding\\firstline-fold.js -> C:\\Users\\AG20459\\AppData\\Roaming\\jupyter\\nbextensions\\codefolding\\firstline-fold.js\n",
      "[I 11:38:03 InstallContribNbextensionsApp] Copying: c:\\users\\ag20459\\appdata\\local\\continuum\\anaconda3\\envs\\nlp_course\\lib\\site-packages\\jupyter_contrib_nbextensions\\nbextensions\\codefolding\\foldgutter.css -> C:\\Users\\AG20459\\AppData\\Roaming\\jupyter\\nbextensions\\codefolding\\foldgutter.css\n",
      "[I 11:38:03 InstallContribNbextensionsApp] Copying: c:\\users\\ag20459\\appdata\\local\\continuum\\anaconda3\\envs\\nlp_course\\lib\\site-packages\\jupyter_contrib_nbextensions\\nbextensions\\codefolding\\icon.png -> C:\\Users\\AG20459\\AppData\\Roaming\\jupyter\\nbextensions\\codefolding\\icon.png\n",
      "[I 11:38:03 InstallContribNbextensionsApp] Copying: c:\\users\\ag20459\\appdata\\local\\continuum\\anaconda3\\envs\\nlp_course\\lib\\site-packages\\jupyter_contrib_nbextensions\\nbextensions\\codefolding\\magic-fold.js -> C:\\Users\\AG20459\\AppData\\Roaming\\jupyter\\nbextensions\\codefolding\\magic-fold.js\n",
      "[I 11:38:03 InstallContribNbextensionsApp] Copying: c:\\users\\ag20459\\appdata\\local\\continuum\\anaconda3\\envs\\nlp_course\\lib\\site-packages\\jupyter_contrib_nbextensions\\nbextensions\\codefolding\\magic-folded.png -> C:\\Users\\AG20459\\AppData\\Roaming\\jupyter\\nbextensions\\codefolding\\magic-folded.png\n",
      "[I 11:38:03 InstallContribNbextensionsApp] Copying: c:\\users\\ag20459\\appdata\\local\\continuum\\anaconda3\\envs\\nlp_course\\lib\\site-packages\\jupyter_contrib_nbextensions\\nbextensions\\codefolding\\magic-unfolded.png -> C:\\Users\\AG20459\\AppData\\Roaming\\jupyter\\nbextensions\\codefolding\\magic-unfolded.png\n",
      "[I 11:38:03 InstallContribNbextensionsApp] Copying: c:\\users\\ag20459\\appdata\\local\\continuum\\anaconda3\\envs\\nlp_course\\lib\\site-packages\\jupyter_contrib_nbextensions\\nbextensions\\codefolding\\main.js -> C:\\Users\\AG20459\\AppData\\Roaming\\jupyter\\nbextensions\\codefolding\\main.js\n",
      "[I 11:38:03 InstallContribNbextensionsApp] Copying: c:\\users\\ag20459\\appdata\\local\\continuum\\anaconda3\\envs\\nlp_course\\lib\\site-packages\\jupyter_contrib_nbextensions\\nbextensions\\codefolding\\readme.md -> C:\\Users\\AG20459\\AppData\\Roaming\\jupyter\\nbextensions\\codefolding\\readme.md\n",
      "[I 11:38:03 InstallContribNbextensionsApp] - Validating: ok\n",
      "[I 11:38:03 InstallContribNbextensionsApp] Installing c:\\users\\ag20459\\appdata\\local\\continuum\\anaconda3\\envs\\nlp_course\\lib\\site-packages\\jupyter_contrib_nbextensions\\nbextensions\\codefolding -> codefolding\n",
      "[I 11:38:03 InstallContribNbextensionsApp] Up to date: C:\\Users\\AG20459\\AppData\\Roaming\\jupyter\\nbextensions\\codefolding\\codefolding.yaml\n",
      "[I 11:38:03 InstallContribNbextensionsApp] Up to date: C:\\Users\\AG20459\\AppData\\Roaming\\jupyter\\nbextensions\\codefolding\\codefolding_editor.png\n",
      "[I 11:38:03 InstallContribNbextensionsApp] Up to date: C:\\Users\\AG20459\\AppData\\Roaming\\jupyter\\nbextensions\\codefolding\\codefolding_editor.yaml\n",
      "[I 11:38:03 InstallContribNbextensionsApp] Up to date: C:\\Users\\AG20459\\AppData\\Roaming\\jupyter\\nbextensions\\codefolding\\codefolding_firstline_folded.png\n",
      "[I 11:38:03 InstallContribNbextensionsApp] Up to date: C:\\Users\\AG20459\\AppData\\Roaming\\jupyter\\nbextensions\\codefolding\\codefolding_firstline_unfolded.png\n",
      "[I 11:38:03 InstallContribNbextensionsApp] Up to date: C:\\Users\\AG20459\\AppData\\Roaming\\jupyter\\nbextensions\\codefolding\\codefolding_indent_folded_1.png\n",
      "[I 11:38:03 InstallContribNbextensionsApp] Up to date: C:\\Users\\AG20459\\AppData\\Roaming\\jupyter\\nbextensions\\codefolding\\codefolding_indent_folded_2.png\n",
      "[I 11:38:03 InstallContribNbextensionsApp] Up to date: C:\\Users\\AG20459\\AppData\\Roaming\\jupyter\\nbextensions\\codefolding\\codefolding_indent_unfolded.png\n",
      "[I 11:38:03 InstallContribNbextensionsApp] Up to date: C:\\Users\\AG20459\\AppData\\Roaming\\jupyter\\nbextensions\\codefolding\\edit.js\n",
      "[I 11:38:03 InstallContribNbextensionsApp] Up to date: C:\\Users\\AG20459\\AppData\\Roaming\\jupyter\\nbextensions\\codefolding\\firstline-fold.js\n",
      "[I 11:38:03 InstallContribNbextensionsApp] Up to date: C:\\Users\\AG20459\\AppData\\Roaming\\jupyter\\nbextensions\\codefolding\\foldgutter.css\n",
      "[I 11:38:03 InstallContribNbextensionsApp] Up to date: C:\\Users\\AG20459\\AppData\\Roaming\\jupyter\\nbextensions\\codefolding\\icon.png\n",
      "[I 11:38:03 InstallContribNbextensionsApp] Up to date: C:\\Users\\AG20459\\AppData\\Roaming\\jupyter\\nbextensions\\codefolding\\magic-fold.js\n",
      "[I 11:38:03 InstallContribNbextensionsApp] Up to date: C:\\Users\\AG20459\\AppData\\Roaming\\jupyter\\nbextensions\\codefolding\\magic-folded.png\n",
      "[I 11:38:03 InstallContribNbextensionsApp] Up to date: C:\\Users\\AG20459\\AppData\\Roaming\\jupyter\\nbextensions\\codefolding\\magic-unfolded.png\n",
      "[I 11:38:03 InstallContribNbextensionsApp] Up to date: C:\\Users\\AG20459\\AppData\\Roaming\\jupyter\\nbextensions\\codefolding\\main.js\n",
      "[I 11:38:03 InstallContribNbextensionsApp] Up to date: C:\\Users\\AG20459\\AppData\\Roaming\\jupyter\\nbextensions\\codefolding\\readme.md\n",
      "[I 11:38:03 InstallContribNbextensionsApp] - Validating: ok\n",
      "[I 11:38:03 InstallContribNbextensionsApp] Installing c:\\users\\ag20459\\appdata\\local\\continuum\\anaconda3\\envs\\nlp_course\\lib\\site-packages\\jupyter_contrib_nbextensions\\nbextensions\\codemirror_mode_extensions -> codemirror_mode_extensions\n",
      "[I 11:38:03 InstallContribNbextensionsApp] Making directory: C:\\Users\\AG20459\\AppData\\Roaming\\jupyter\\nbextensions\\codemirror_mode_extensions\\\n",
      "[I 11:38:03 InstallContribNbextensionsApp] Copying: c:\\users\\ag20459\\appdata\\local\\continuum\\anaconda3\\envs\\nlp_course\\lib\\site-packages\\jupyter_contrib_nbextensions\\nbextensions\\codemirror_mode_extensions\\codemirror_mode_extensions.yaml -> C:\\Users\\AG20459\\AppData\\Roaming\\jupyter\\nbextensions\\codemirror_mode_extensions\\codemirror_mode_extensions.yaml\n",
      "[I 11:38:03 InstallContribNbextensionsApp] Copying: c:\\users\\ag20459\\appdata\\local\\continuum\\anaconda3\\envs\\nlp_course\\lib\\site-packages\\jupyter_contrib_nbextensions\\nbextensions\\codemirror_mode_extensions\\main.js -> C:\\Users\\AG20459\\AppData\\Roaming\\jupyter\\nbextensions\\codemirror_mode_extensions\\main.js\n",
      "[I 11:38:03 InstallContribNbextensionsApp] - Validating: ok\n",
      "[I 11:38:03 InstallContribNbextensionsApp] Installing c:\\users\\ag20459\\appdata\\local\\continuum\\anaconda3\\envs\\nlp_course\\lib\\site-packages\\jupyter_contrib_nbextensions\\nbextensions\\code_font_size -> code_font_size\n",
      "[I 11:38:03 InstallContribNbextensionsApp] Making directory: C:\\Users\\AG20459\\AppData\\Roaming\\jupyter\\nbextensions\\code_font_size\\\n",
      "[I 11:38:03 InstallContribNbextensionsApp] Copying: c:\\users\\ag20459\\appdata\\local\\continuum\\anaconda3\\envs\\nlp_course\\lib\\site-packages\\jupyter_contrib_nbextensions\\nbextensions\\code_font_size\\code_font_size.js -> C:\\Users\\AG20459\\AppData\\Roaming\\jupyter\\nbextensions\\code_font_size\\code_font_size.js\n",
      "[I 11:38:03 InstallContribNbextensionsApp] Copying: c:\\users\\ag20459\\appdata\\local\\continuum\\anaconda3\\envs\\nlp_course\\lib\\site-packages\\jupyter_contrib_nbextensions\\nbextensions\\code_font_size\\code_font_size.yaml -> C:\\Users\\AG20459\\AppData\\Roaming\\jupyter\\nbextensions\\code_font_size\\code_font_size.yaml\n",
      "[I 11:38:03 InstallContribNbextensionsApp] Copying: c:\\users\\ag20459\\appdata\\local\\continuum\\anaconda3\\envs\\nlp_course\\lib\\site-packages\\jupyter_contrib_nbextensions\\nbextensions\\code_font_size\\README.md -> C:\\Users\\AG20459\\AppData\\Roaming\\jupyter\\nbextensions\\code_font_size\\README.md\n",
      "[I 11:38:03 InstallContribNbextensionsApp] - Validating: ok\n",
      "[I 11:38:03 InstallContribNbextensionsApp] Installing c:\\users\\ag20459\\appdata\\local\\continuum\\anaconda3\\envs\\nlp_course\\lib\\site-packages\\jupyter_contrib_nbextensions\\nbextensions\\code_prettify -> code_prettify\n",
      "[I 11:38:03 InstallContribNbextensionsApp] Making directory: C:\\Users\\AG20459\\AppData\\Roaming\\jupyter\\nbextensions\\code_prettify\\\n",
      "[I 11:38:03 InstallContribNbextensionsApp] Copying: c:\\users\\ag20459\\appdata\\local\\continuum\\anaconda3\\envs\\nlp_course\\lib\\site-packages\\jupyter_contrib_nbextensions\\nbextensions\\code_prettify\\2to3.js -> C:\\Users\\AG20459\\AppData\\Roaming\\jupyter\\nbextensions\\code_prettify\\2to3.js\n",
      "[I 11:38:03 InstallContribNbextensionsApp] Copying: c:\\users\\ag20459\\appdata\\local\\continuum\\anaconda3\\envs\\nlp_course\\lib\\site-packages\\jupyter_contrib_nbextensions\\nbextensions\\code_prettify\\2to3.yaml -> C:\\Users\\AG20459\\AppData\\Roaming\\jupyter\\nbextensions\\code_prettify\\2to3.yaml\n",
      "[I 11:38:03 InstallContribNbextensionsApp] Copying: c:\\users\\ag20459\\appdata\\local\\continuum\\anaconda3\\envs\\nlp_course\\lib\\site-packages\\jupyter_contrib_nbextensions\\nbextensions\\code_prettify\\autopep8.js -> C:\\Users\\AG20459\\AppData\\Roaming\\jupyter\\nbextensions\\code_prettify\\autopep8.js\n",
      "[I 11:38:03 InstallContribNbextensionsApp] Copying: c:\\users\\ag20459\\appdata\\local\\continuum\\anaconda3\\envs\\nlp_course\\lib\\site-packages\\jupyter_contrib_nbextensions\\nbextensions\\code_prettify\\autopep8.yaml -> C:\\Users\\AG20459\\AppData\\Roaming\\jupyter\\nbextensions\\code_prettify\\autopep8.yaml\n",
      "[I 11:38:03 InstallContribNbextensionsApp] Copying: c:\\users\\ag20459\\appdata\\local\\continuum\\anaconda3\\envs\\nlp_course\\lib\\site-packages\\jupyter_contrib_nbextensions\\nbextensions\\code_prettify\\code_prettify.js -> C:\\Users\\AG20459\\AppData\\Roaming\\jupyter\\nbextensions\\code_prettify\\code_prettify.js\n",
      "[I 11:38:03 InstallContribNbextensionsApp] Copying: c:\\users\\ag20459\\appdata\\local\\continuum\\anaconda3\\envs\\nlp_course\\lib\\site-packages\\jupyter_contrib_nbextensions\\nbextensions\\code_prettify\\code_prettify.yaml -> C:\\Users\\AG20459\\AppData\\Roaming\\jupyter\\nbextensions\\code_prettify\\code_prettify.yaml\n",
      "[I 11:38:03 InstallContribNbextensionsApp] Copying: c:\\users\\ag20459\\appdata\\local\\continuum\\anaconda3\\envs\\nlp_course\\lib\\site-packages\\jupyter_contrib_nbextensions\\nbextensions\\code_prettify\\demo-jv.gif -> C:\\Users\\AG20459\\AppData\\Roaming\\jupyter\\nbextensions\\code_prettify\\demo-jv.gif\n",
      "[I 11:38:03 InstallContribNbextensionsApp] Copying: c:\\users\\ag20459\\appdata\\local\\continuum\\anaconda3\\envs\\nlp_course\\lib\\site-packages\\jupyter_contrib_nbextensions\\nbextensions\\code_prettify\\demo-py.gif -> C:\\Users\\AG20459\\AppData\\Roaming\\jupyter\\nbextensions\\code_prettify\\demo-py.gif\n",
      "[I 11:38:03 InstallContribNbextensionsApp] Copying: c:\\users\\ag20459\\appdata\\local\\continuum\\anaconda3\\envs\\nlp_course\\lib\\site-packages\\jupyter_contrib_nbextensions\\nbextensions\\code_prettify\\demo-R.gif -> C:\\Users\\AG20459\\AppData\\Roaming\\jupyter\\nbextensions\\code_prettify\\demo-R.gif\n",
      "[I 11:38:03 InstallContribNbextensionsApp] Copying: c:\\users\\ag20459\\appdata\\local\\continuum\\anaconda3\\envs\\nlp_course\\lib\\site-packages\\jupyter_contrib_nbextensions\\nbextensions\\code_prettify\\demo_2to3.gif -> C:\\Users\\AG20459\\AppData\\Roaming\\jupyter\\nbextensions\\code_prettify\\demo_2to3.gif\n",
      "[I 11:38:03 InstallContribNbextensionsApp] Copying: c:\\users\\ag20459\\appdata\\local\\continuum\\anaconda3\\envs\\nlp_course\\lib\\site-packages\\jupyter_contrib_nbextensions\\nbextensions\\code_prettify\\isort.js -> C:\\Users\\AG20459\\AppData\\Roaming\\jupyter\\nbextensions\\code_prettify\\isort.js\n"
     ]
    },
    {
     "name": "stderr",
     "output_type": "stream",
     "text": [
      "[I 11:38:04 InstallContribNbextensionsApp] Copying: c:\\users\\ag20459\\appdata\\local\\continuum\\anaconda3\\envs\\nlp_course\\lib\\site-packages\\jupyter_contrib_nbextensions\\nbextensions\\code_prettify\\isort.yaml -> C:\\Users\\AG20459\\AppData\\Roaming\\jupyter\\nbextensions\\code_prettify\\isort.yaml\n",
      "[I 11:38:04 InstallContribNbextensionsApp] Copying: c:\\users\\ag20459\\appdata\\local\\continuum\\anaconda3\\envs\\nlp_course\\lib\\site-packages\\jupyter_contrib_nbextensions\\nbextensions\\code_prettify\\kernel_exec_on_cell.js -> C:\\Users\\AG20459\\AppData\\Roaming\\jupyter\\nbextensions\\code_prettify\\kernel_exec_on_cell.js\n",
      "[I 11:38:04 InstallContribNbextensionsApp] Copying: c:\\users\\ag20459\\appdata\\local\\continuum\\anaconda3\\envs\\nlp_course\\lib\\site-packages\\jupyter_contrib_nbextensions\\nbextensions\\code_prettify\\README.md -> C:\\Users\\AG20459\\AppData\\Roaming\\jupyter\\nbextensions\\code_prettify\\README.md\n",
      "[I 11:38:04 InstallContribNbextensionsApp] Copying: c:\\users\\ag20459\\appdata\\local\\continuum\\anaconda3\\envs\\nlp_course\\lib\\site-packages\\jupyter_contrib_nbextensions\\nbextensions\\code_prettify\\README_2to3.md -> C:\\Users\\AG20459\\AppData\\Roaming\\jupyter\\nbextensions\\code_prettify\\README_2to3.md\n",
      "[I 11:38:04 InstallContribNbextensionsApp] Copying: c:\\users\\ag20459\\appdata\\local\\continuum\\anaconda3\\envs\\nlp_course\\lib\\site-packages\\jupyter_contrib_nbextensions\\nbextensions\\code_prettify\\README_autopep8.md -> C:\\Users\\AG20459\\AppData\\Roaming\\jupyter\\nbextensions\\code_prettify\\README_autopep8.md\n",
      "[I 11:38:04 InstallContribNbextensionsApp] Copying: c:\\users\\ag20459\\appdata\\local\\continuum\\anaconda3\\envs\\nlp_course\\lib\\site-packages\\jupyter_contrib_nbextensions\\nbextensions\\code_prettify\\README_code_prettify.md -> C:\\Users\\AG20459\\AppData\\Roaming\\jupyter\\nbextensions\\code_prettify\\README_code_prettify.md\n",
      "[I 11:38:04 InstallContribNbextensionsApp] Copying: c:\\users\\ag20459\\appdata\\local\\continuum\\anaconda3\\envs\\nlp_course\\lib\\site-packages\\jupyter_contrib_nbextensions\\nbextensions\\code_prettify\\README_isort.md -> C:\\Users\\AG20459\\AppData\\Roaming\\jupyter\\nbextensions\\code_prettify\\README_isort.md\n",
      "[I 11:38:04 InstallContribNbextensionsApp] - Validating: ok\n",
      "[I 11:38:04 InstallContribNbextensionsApp] Installing c:\\users\\ag20459\\appdata\\local\\continuum\\anaconda3\\envs\\nlp_course\\lib\\site-packages\\jupyter_contrib_nbextensions\\nbextensions\\code_prettify -> code_prettify\n",
      "[I 11:38:04 InstallContribNbextensionsApp] Up to date: C:\\Users\\AG20459\\AppData\\Roaming\\jupyter\\nbextensions\\code_prettify\\2to3.js\n",
      "[I 11:38:04 InstallContribNbextensionsApp] Up to date: C:\\Users\\AG20459\\AppData\\Roaming\\jupyter\\nbextensions\\code_prettify\\2to3.yaml\n",
      "[I 11:38:04 InstallContribNbextensionsApp] Up to date: C:\\Users\\AG20459\\AppData\\Roaming\\jupyter\\nbextensions\\code_prettify\\autopep8.js\n",
      "[I 11:38:04 InstallContribNbextensionsApp] Up to date: C:\\Users\\AG20459\\AppData\\Roaming\\jupyter\\nbextensions\\code_prettify\\autopep8.yaml\n",
      "[I 11:38:04 InstallContribNbextensionsApp] Up to date: C:\\Users\\AG20459\\AppData\\Roaming\\jupyter\\nbextensions\\code_prettify\\code_prettify.js\n",
      "[I 11:38:04 InstallContribNbextensionsApp] Up to date: C:\\Users\\AG20459\\AppData\\Roaming\\jupyter\\nbextensions\\code_prettify\\code_prettify.yaml\n",
      "[I 11:38:04 InstallContribNbextensionsApp] Up to date: C:\\Users\\AG20459\\AppData\\Roaming\\jupyter\\nbextensions\\code_prettify\\demo-jv.gif\n",
      "[I 11:38:04 InstallContribNbextensionsApp] Up to date: C:\\Users\\AG20459\\AppData\\Roaming\\jupyter\\nbextensions\\code_prettify\\demo-py.gif\n",
      "[I 11:38:04 InstallContribNbextensionsApp] Up to date: C:\\Users\\AG20459\\AppData\\Roaming\\jupyter\\nbextensions\\code_prettify\\demo-R.gif\n",
      "[I 11:38:04 InstallContribNbextensionsApp] Up to date: C:\\Users\\AG20459\\AppData\\Roaming\\jupyter\\nbextensions\\code_prettify\\demo_2to3.gif\n",
      "[I 11:38:04 InstallContribNbextensionsApp] Up to date: C:\\Users\\AG20459\\AppData\\Roaming\\jupyter\\nbextensions\\code_prettify\\isort.js\n",
      "[I 11:38:04 InstallContribNbextensionsApp] Up to date: C:\\Users\\AG20459\\AppData\\Roaming\\jupyter\\nbextensions\\code_prettify\\isort.yaml\n",
      "[I 11:38:04 InstallContribNbextensionsApp] Up to date: C:\\Users\\AG20459\\AppData\\Roaming\\jupyter\\nbextensions\\code_prettify\\kernel_exec_on_cell.js\n",
      "[I 11:38:04 InstallContribNbextensionsApp] Up to date: C:\\Users\\AG20459\\AppData\\Roaming\\jupyter\\nbextensions\\code_prettify\\README.md\n",
      "[I 11:38:04 InstallContribNbextensionsApp] Up to date: C:\\Users\\AG20459\\AppData\\Roaming\\jupyter\\nbextensions\\code_prettify\\README_2to3.md\n",
      "[I 11:38:04 InstallContribNbextensionsApp] Up to date: C:\\Users\\AG20459\\AppData\\Roaming\\jupyter\\nbextensions\\code_prettify\\README_autopep8.md\n",
      "[I 11:38:04 InstallContribNbextensionsApp] Up to date: C:\\Users\\AG20459\\AppData\\Roaming\\jupyter\\nbextensions\\code_prettify\\README_code_prettify.md\n",
      "[I 11:38:04 InstallContribNbextensionsApp] Up to date: C:\\Users\\AG20459\\AppData\\Roaming\\jupyter\\nbextensions\\code_prettify\\README_isort.md\n",
      "[I 11:38:04 InstallContribNbextensionsApp] - Validating: ok\n",
      "[I 11:38:04 InstallContribNbextensionsApp] Installing c:\\users\\ag20459\\appdata\\local\\continuum\\anaconda3\\envs\\nlp_course\\lib\\site-packages\\jupyter_contrib_nbextensions\\nbextensions\\code_prettify -> code_prettify\n",
      "[I 11:38:04 InstallContribNbextensionsApp] Up to date: C:\\Users\\AG20459\\AppData\\Roaming\\jupyter\\nbextensions\\code_prettify\\2to3.js\n",
      "[I 11:38:04 InstallContribNbextensionsApp] Up to date: C:\\Users\\AG20459\\AppData\\Roaming\\jupyter\\nbextensions\\code_prettify\\2to3.yaml\n",
      "[I 11:38:04 InstallContribNbextensionsApp] Up to date: C:\\Users\\AG20459\\AppData\\Roaming\\jupyter\\nbextensions\\code_prettify\\autopep8.js\n",
      "[I 11:38:04 InstallContribNbextensionsApp] Up to date: C:\\Users\\AG20459\\AppData\\Roaming\\jupyter\\nbextensions\\code_prettify\\autopep8.yaml\n",
      "[I 11:38:04 InstallContribNbextensionsApp] Up to date: C:\\Users\\AG20459\\AppData\\Roaming\\jupyter\\nbextensions\\code_prettify\\code_prettify.js\n",
      "[I 11:38:04 InstallContribNbextensionsApp] Up to date: C:\\Users\\AG20459\\AppData\\Roaming\\jupyter\\nbextensions\\code_prettify\\code_prettify.yaml\n",
      "[I 11:38:04 InstallContribNbextensionsApp] Up to date: C:\\Users\\AG20459\\AppData\\Roaming\\jupyter\\nbextensions\\code_prettify\\demo-jv.gif\n",
      "[I 11:38:04 InstallContribNbextensionsApp] Up to date: C:\\Users\\AG20459\\AppData\\Roaming\\jupyter\\nbextensions\\code_prettify\\demo-py.gif\n",
      "[I 11:38:04 InstallContribNbextensionsApp] Up to date: C:\\Users\\AG20459\\AppData\\Roaming\\jupyter\\nbextensions\\code_prettify\\demo-R.gif\n",
      "[I 11:38:04 InstallContribNbextensionsApp] Up to date: C:\\Users\\AG20459\\AppData\\Roaming\\jupyter\\nbextensions\\code_prettify\\demo_2to3.gif\n",
      "[I 11:38:04 InstallContribNbextensionsApp] Up to date: C:\\Users\\AG20459\\AppData\\Roaming\\jupyter\\nbextensions\\code_prettify\\isort.js\n",
      "[I 11:38:04 InstallContribNbextensionsApp] Up to date: C:\\Users\\AG20459\\AppData\\Roaming\\jupyter\\nbextensions\\code_prettify\\isort.yaml\n",
      "[I 11:38:04 InstallContribNbextensionsApp] Up to date: C:\\Users\\AG20459\\AppData\\Roaming\\jupyter\\nbextensions\\code_prettify\\kernel_exec_on_cell.js\n",
      "[I 11:38:04 InstallContribNbextensionsApp] Up to date: C:\\Users\\AG20459\\AppData\\Roaming\\jupyter\\nbextensions\\code_prettify\\README.md\n",
      "[I 11:38:04 InstallContribNbextensionsApp] Up to date: C:\\Users\\AG20459\\AppData\\Roaming\\jupyter\\nbextensions\\code_prettify\\README_2to3.md\n",
      "[I 11:38:04 InstallContribNbextensionsApp] Up to date: C:\\Users\\AG20459\\AppData\\Roaming\\jupyter\\nbextensions\\code_prettify\\README_autopep8.md\n",
      "[I 11:38:04 InstallContribNbextensionsApp] Up to date: C:\\Users\\AG20459\\AppData\\Roaming\\jupyter\\nbextensions\\code_prettify\\README_code_prettify.md\n",
      "[I 11:38:04 InstallContribNbextensionsApp] Up to date: C:\\Users\\AG20459\\AppData\\Roaming\\jupyter\\nbextensions\\code_prettify\\README_isort.md\n",
      "[I 11:38:04 InstallContribNbextensionsApp] - Validating: ok\n",
      "[I 11:38:04 InstallContribNbextensionsApp] Installing c:\\users\\ag20459\\appdata\\local\\continuum\\anaconda3\\envs\\nlp_course\\lib\\site-packages\\jupyter_contrib_nbextensions\\nbextensions\\code_prettify -> code_prettify\n",
      "[I 11:38:04 InstallContribNbextensionsApp] Up to date: C:\\Users\\AG20459\\AppData\\Roaming\\jupyter\\nbextensions\\code_prettify\\2to3.js\n",
      "[I 11:38:04 InstallContribNbextensionsApp] Up to date: C:\\Users\\AG20459\\AppData\\Roaming\\jupyter\\nbextensions\\code_prettify\\2to3.yaml\n",
      "[I 11:38:04 InstallContribNbextensionsApp] Up to date: C:\\Users\\AG20459\\AppData\\Roaming\\jupyter\\nbextensions\\code_prettify\\autopep8.js\n",
      "[I 11:38:04 InstallContribNbextensionsApp] Up to date: C:\\Users\\AG20459\\AppData\\Roaming\\jupyter\\nbextensions\\code_prettify\\autopep8.yaml\n",
      "[I 11:38:04 InstallContribNbextensionsApp] Up to date: C:\\Users\\AG20459\\AppData\\Roaming\\jupyter\\nbextensions\\code_prettify\\code_prettify.js\n",
      "[I 11:38:04 InstallContribNbextensionsApp] Up to date: C:\\Users\\AG20459\\AppData\\Roaming\\jupyter\\nbextensions\\code_prettify\\code_prettify.yaml\n",
      "[I 11:38:04 InstallContribNbextensionsApp] Up to date: C:\\Users\\AG20459\\AppData\\Roaming\\jupyter\\nbextensions\\code_prettify\\demo-jv.gif\n",
      "[I 11:38:04 InstallContribNbextensionsApp] Up to date: C:\\Users\\AG20459\\AppData\\Roaming\\jupyter\\nbextensions\\code_prettify\\demo-py.gif\n",
      "[I 11:38:04 InstallContribNbextensionsApp] Up to date: C:\\Users\\AG20459\\AppData\\Roaming\\jupyter\\nbextensions\\code_prettify\\demo-R.gif\n",
      "[I 11:38:04 InstallContribNbextensionsApp] Up to date: C:\\Users\\AG20459\\AppData\\Roaming\\jupyter\\nbextensions\\code_prettify\\demo_2to3.gif\n",
      "[I 11:38:04 InstallContribNbextensionsApp] Up to date: C:\\Users\\AG20459\\AppData\\Roaming\\jupyter\\nbextensions\\code_prettify\\isort.js\n",
      "[I 11:38:04 InstallContribNbextensionsApp] Up to date: C:\\Users\\AG20459\\AppData\\Roaming\\jupyter\\nbextensions\\code_prettify\\isort.yaml\n",
      "[I 11:38:04 InstallContribNbextensionsApp] Up to date: C:\\Users\\AG20459\\AppData\\Roaming\\jupyter\\nbextensions\\code_prettify\\kernel_exec_on_cell.js\n",
      "[I 11:38:04 InstallContribNbextensionsApp] Up to date: C:\\Users\\AG20459\\AppData\\Roaming\\jupyter\\nbextensions\\code_prettify\\README.md\n",
      "[I 11:38:04 InstallContribNbextensionsApp] Up to date: C:\\Users\\AG20459\\AppData\\Roaming\\jupyter\\nbextensions\\code_prettify\\README_2to3.md\n",
      "[I 11:38:04 InstallContribNbextensionsApp] Up to date: C:\\Users\\AG20459\\AppData\\Roaming\\jupyter\\nbextensions\\code_prettify\\README_autopep8.md\n",
      "[I 11:38:04 InstallContribNbextensionsApp] Up to date: C:\\Users\\AG20459\\AppData\\Roaming\\jupyter\\nbextensions\\code_prettify\\README_code_prettify.md\n",
      "[I 11:38:04 InstallContribNbextensionsApp] Up to date: C:\\Users\\AG20459\\AppData\\Roaming\\jupyter\\nbextensions\\code_prettify\\README_isort.md\n",
      "[I 11:38:04 InstallContribNbextensionsApp] - Validating: ok\n",
      "[I 11:38:04 InstallContribNbextensionsApp] Installing c:\\users\\ag20459\\appdata\\local\\continuum\\anaconda3\\envs\\nlp_course\\lib\\site-packages\\jupyter_contrib_nbextensions\\nbextensions\\collapsible_headings -> collapsible_headings\n",
      "[I 11:38:04 InstallContribNbextensionsApp] Making directory: C:\\Users\\AG20459\\AppData\\Roaming\\jupyter\\nbextensions\\collapsible_headings\\\n",
      "[I 11:38:04 InstallContribNbextensionsApp] Copying: c:\\users\\ag20459\\appdata\\local\\continuum\\anaconda3\\envs\\nlp_course\\lib\\site-packages\\jupyter_contrib_nbextensions\\nbextensions\\collapsible_headings\\collapsible_headings.yaml -> C:\\Users\\AG20459\\AppData\\Roaming\\jupyter\\nbextensions\\collapsible_headings\\collapsible_headings.yaml\n",
      "[I 11:38:04 InstallContribNbextensionsApp] Copying: c:\\users\\ag20459\\appdata\\local\\continuum\\anaconda3\\envs\\nlp_course\\lib\\site-packages\\jupyter_contrib_nbextensions\\nbextensions\\collapsible_headings\\icon.png -> C:\\Users\\AG20459\\AppData\\Roaming\\jupyter\\nbextensions\\collapsible_headings\\icon.png\n",
      "[I 11:38:04 InstallContribNbextensionsApp] Copying: c:\\users\\ag20459\\appdata\\local\\continuum\\anaconda3\\envs\\nlp_course\\lib\\site-packages\\jupyter_contrib_nbextensions\\nbextensions\\collapsible_headings\\main.css -> C:\\Users\\AG20459\\AppData\\Roaming\\jupyter\\nbextensions\\collapsible_headings\\main.css\n",
      "[I 11:38:04 InstallContribNbextensionsApp] Copying: c:\\users\\ag20459\\appdata\\local\\continuum\\anaconda3\\envs\\nlp_course\\lib\\site-packages\\jupyter_contrib_nbextensions\\nbextensions\\collapsible_headings\\main.js -> C:\\Users\\AG20459\\AppData\\Roaming\\jupyter\\nbextensions\\collapsible_headings\\main.js\n",
      "[I 11:38:04 InstallContribNbextensionsApp] Copying: c:\\users\\ag20459\\appdata\\local\\continuum\\anaconda3\\envs\\nlp_course\\lib\\site-packages\\jupyter_contrib_nbextensions\\nbextensions\\collapsible_headings\\readme.md -> C:\\Users\\AG20459\\AppData\\Roaming\\jupyter\\nbextensions\\collapsible_headings\\readme.md\n",
      "[I 11:38:04 InstallContribNbextensionsApp] Copying: c:\\users\\ag20459\\appdata\\local\\continuum\\anaconda3\\envs\\nlp_course\\lib\\site-packages\\jupyter_contrib_nbextensions\\nbextensions\\collapsible_headings\\screenshot.png -> C:\\Users\\AG20459\\AppData\\Roaming\\jupyter\\nbextensions\\collapsible_headings\\screenshot.png\n",
      "[I 11:38:04 InstallContribNbextensionsApp] - Validating: ok\n",
      "[I 11:38:04 InstallContribNbextensionsApp] Installing c:\\users\\ag20459\\appdata\\local\\continuum\\anaconda3\\envs\\nlp_course\\lib\\site-packages\\jupyter_contrib_nbextensions\\nbextensions\\comment-uncomment -> comment-uncomment\n",
      "[I 11:38:04 InstallContribNbextensionsApp] Making directory: C:\\Users\\AG20459\\AppData\\Roaming\\jupyter\\nbextensions\\comment-uncomment\\\n",
      "[I 11:38:04 InstallContribNbextensionsApp] Copying: c:\\users\\ag20459\\appdata\\local\\continuum\\anaconda3\\envs\\nlp_course\\lib\\site-packages\\jupyter_contrib_nbextensions\\nbextensions\\comment-uncomment\\comment-uncomment.yaml -> C:\\Users\\AG20459\\AppData\\Roaming\\jupyter\\nbextensions\\comment-uncomment\\comment-uncomment.yaml\n",
      "[I 11:38:04 InstallContribNbextensionsApp] Copying: c:\\users\\ag20459\\appdata\\local\\continuum\\anaconda3\\envs\\nlp_course\\lib\\site-packages\\jupyter_contrib_nbextensions\\nbextensions\\comment-uncomment\\icon.png -> C:\\Users\\AG20459\\AppData\\Roaming\\jupyter\\nbextensions\\comment-uncomment\\icon.png\n",
      "[I 11:38:04 InstallContribNbextensionsApp] Copying: c:\\users\\ag20459\\appdata\\local\\continuum\\anaconda3\\envs\\nlp_course\\lib\\site-packages\\jupyter_contrib_nbextensions\\nbextensions\\comment-uncomment\\main.js -> C:\\Users\\AG20459\\AppData\\Roaming\\jupyter\\nbextensions\\comment-uncomment\\main.js\n",
      "[I 11:38:04 InstallContribNbextensionsApp] Copying: c:\\users\\ag20459\\appdata\\local\\continuum\\anaconda3\\envs\\nlp_course\\lib\\site-packages\\jupyter_contrib_nbextensions\\nbextensions\\comment-uncomment\\readme.md -> C:\\Users\\AG20459\\AppData\\Roaming\\jupyter\\nbextensions\\comment-uncomment\\readme.md\n",
      "[I 11:38:04 InstallContribNbextensionsApp] - Validating: ok\n",
      "[I 11:38:04 InstallContribNbextensionsApp] Installing c:\\users\\ag20459\\appdata\\local\\continuum\\anaconda3\\envs\\nlp_course\\lib\\site-packages\\jupyter_contrib_nbextensions\\nbextensions\\contrib_nbextensions_help_item -> contrib_nbextensions_help_item\n",
      "[I 11:38:04 InstallContribNbextensionsApp] Making directory: C:\\Users\\AG20459\\AppData\\Roaming\\jupyter\\nbextensions\\contrib_nbextensions_help_item\\\n",
      "[I 11:38:04 InstallContribNbextensionsApp] Copying: c:\\users\\ag20459\\appdata\\local\\continuum\\anaconda3\\envs\\nlp_course\\lib\\site-packages\\jupyter_contrib_nbextensions\\nbextensions\\contrib_nbextensions_help_item\\contrib_nbextensions_help_item.yaml -> C:\\Users\\AG20459\\AppData\\Roaming\\jupyter\\nbextensions\\contrib_nbextensions_help_item\\contrib_nbextensions_help_item.yaml\n",
      "[I 11:38:04 InstallContribNbextensionsApp] Copying: c:\\users\\ag20459\\appdata\\local\\continuum\\anaconda3\\envs\\nlp_course\\lib\\site-packages\\jupyter_contrib_nbextensions\\nbextensions\\contrib_nbextensions_help_item\\main.js -> C:\\Users\\AG20459\\AppData\\Roaming\\jupyter\\nbextensions\\contrib_nbextensions_help_item\\main.js\n",
      "[I 11:38:04 InstallContribNbextensionsApp] Copying: c:\\users\\ag20459\\appdata\\local\\continuum\\anaconda3\\envs\\nlp_course\\lib\\site-packages\\jupyter_contrib_nbextensions\\nbextensions\\contrib_nbextensions_help_item\\README.md -> C:\\Users\\AG20459\\AppData\\Roaming\\jupyter\\nbextensions\\contrib_nbextensions_help_item\\README.md\n",
      "[I 11:38:04 InstallContribNbextensionsApp] - Validating: ok\n",
      "[I 11:38:04 InstallContribNbextensionsApp] Installing c:\\users\\ag20459\\appdata\\local\\continuum\\anaconda3\\envs\\nlp_course\\lib\\site-packages\\jupyter_contrib_nbextensions\\nbextensions\\datestamper -> datestamper\n",
      "[I 11:38:04 InstallContribNbextensionsApp] Making directory: C:\\Users\\AG20459\\AppData\\Roaming\\jupyter\\nbextensions\\datestamper\\\n",
      "[I 11:38:04 InstallContribNbextensionsApp] Copying: c:\\users\\ag20459\\appdata\\local\\continuum\\anaconda3\\envs\\nlp_course\\lib\\site-packages\\jupyter_contrib_nbextensions\\nbextensions\\datestamper\\icon.png -> C:\\Users\\AG20459\\AppData\\Roaming\\jupyter\\nbextensions\\datestamper\\icon.png\n",
      "[I 11:38:04 InstallContribNbextensionsApp] Copying: c:\\users\\ag20459\\appdata\\local\\continuum\\anaconda3\\envs\\nlp_course\\lib\\site-packages\\jupyter_contrib_nbextensions\\nbextensions\\datestamper\\main.js -> C:\\Users\\AG20459\\AppData\\Roaming\\jupyter\\nbextensions\\datestamper\\main.js\n",
      "[I 11:38:04 InstallContribNbextensionsApp] Copying: c:\\users\\ag20459\\appdata\\local\\continuum\\anaconda3\\envs\\nlp_course\\lib\\site-packages\\jupyter_contrib_nbextensions\\nbextensions\\datestamper\\main.yaml -> C:\\Users\\AG20459\\AppData\\Roaming\\jupyter\\nbextensions\\datestamper\\main.yaml\n",
      "[I 11:38:04 InstallContribNbextensionsApp] Copying: c:\\users\\ag20459\\appdata\\local\\continuum\\anaconda3\\envs\\nlp_course\\lib\\site-packages\\jupyter_contrib_nbextensions\\nbextensions\\datestamper\\readme.md -> C:\\Users\\AG20459\\AppData\\Roaming\\jupyter\\nbextensions\\datestamper\\readme.md\n",
      "[I 11:38:04 InstallContribNbextensionsApp] - Validating: ok\n",
      "[I 11:38:04 InstallContribNbextensionsApp] Installing c:\\users\\ag20459\\appdata\\local\\continuum\\anaconda3\\envs\\nlp_course\\lib\\site-packages\\jupyter_contrib_nbextensions\\nbextensions\\equation-numbering -> equation-numbering\n",
      "[I 11:38:04 InstallContribNbextensionsApp] Making directory: C:\\Users\\AG20459\\AppData\\Roaming\\jupyter\\nbextensions\\equation-numbering\\\n",
      "[I 11:38:04 InstallContribNbextensionsApp] Copying: c:\\users\\ag20459\\appdata\\local\\continuum\\anaconda3\\envs\\nlp_course\\lib\\site-packages\\jupyter_contrib_nbextensions\\nbextensions\\equation-numbering\\button.png -> C:\\Users\\AG20459\\AppData\\Roaming\\jupyter\\nbextensions\\equation-numbering\\button.png\n",
      "[I 11:38:04 InstallContribNbextensionsApp] Copying: c:\\users\\ag20459\\appdata\\local\\continuum\\anaconda3\\envs\\nlp_course\\lib\\site-packages\\jupyter_contrib_nbextensions\\nbextensions\\equation-numbering\\icon.png -> C:\\Users\\AG20459\\AppData\\Roaming\\jupyter\\nbextensions\\equation-numbering\\icon.png\n",
      "[I 11:38:04 InstallContribNbextensionsApp] Copying: c:\\users\\ag20459\\appdata\\local\\continuum\\anaconda3\\envs\\nlp_course\\lib\\site-packages\\jupyter_contrib_nbextensions\\nbextensions\\equation-numbering\\info.yaml -> C:\\Users\\AG20459\\AppData\\Roaming\\jupyter\\nbextensions\\equation-numbering\\info.yaml\n",
      "[I 11:38:04 InstallContribNbextensionsApp] Copying: c:\\users\\ag20459\\appdata\\local\\continuum\\anaconda3\\envs\\nlp_course\\lib\\site-packages\\jupyter_contrib_nbextensions\\nbextensions\\equation-numbering\\main.js -> C:\\Users\\AG20459\\AppData\\Roaming\\jupyter\\nbextensions\\equation-numbering\\main.js\n",
      "[I 11:38:04 InstallContribNbextensionsApp] Copying: c:\\users\\ag20459\\appdata\\local\\continuum\\anaconda3\\envs\\nlp_course\\lib\\site-packages\\jupyter_contrib_nbextensions\\nbextensions\\equation-numbering\\readme.md -> C:\\Users\\AG20459\\AppData\\Roaming\\jupyter\\nbextensions\\equation-numbering\\readme.md\n",
      "[I 11:38:04 InstallContribNbextensionsApp] - Validating: ok\n",
      "[I 11:38:04 InstallContribNbextensionsApp] Installing c:\\users\\ag20459\\appdata\\local\\continuum\\anaconda3\\envs\\nlp_course\\lib\\site-packages\\jupyter_contrib_nbextensions\\nbextensions\\execute_time -> execute_time\n",
      "[I 11:38:04 InstallContribNbextensionsApp] Making directory: C:\\Users\\AG20459\\AppData\\Roaming\\jupyter\\nbextensions\\execute_time\\\n",
      "[I 11:38:04 InstallContribNbextensionsApp] Copying: c:\\users\\ag20459\\appdata\\local\\continuum\\anaconda3\\envs\\nlp_course\\lib\\site-packages\\jupyter_contrib_nbextensions\\nbextensions\\execute_time\\ExecuteTime.css -> C:\\Users\\AG20459\\AppData\\Roaming\\jupyter\\nbextensions\\execute_time\\ExecuteTime.css\n",
      "[I 11:38:04 InstallContribNbextensionsApp] Copying: c:\\users\\ag20459\\appdata\\local\\continuum\\anaconda3\\envs\\nlp_course\\lib\\site-packages\\jupyter_contrib_nbextensions\\nbextensions\\execute_time\\ExecuteTime.js -> C:\\Users\\AG20459\\AppData\\Roaming\\jupyter\\nbextensions\\execute_time\\ExecuteTime.js\n",
      "[I 11:38:04 InstallContribNbextensionsApp] Copying: c:\\users\\ag20459\\appdata\\local\\continuum\\anaconda3\\envs\\nlp_course\\lib\\site-packages\\jupyter_contrib_nbextensions\\nbextensions\\execute_time\\ExecuteTime.yaml -> C:\\Users\\AG20459\\AppData\\Roaming\\jupyter\\nbextensions\\execute_time\\ExecuteTime.yaml\n",
      "[I 11:38:04 InstallContribNbextensionsApp] Copying: c:\\users\\ag20459\\appdata\\local\\continuum\\anaconda3\\envs\\nlp_course\\lib\\site-packages\\jupyter_contrib_nbextensions\\nbextensions\\execute_time\\execution-timings-box.png -> C:\\Users\\AG20459\\AppData\\Roaming\\jupyter\\nbextensions\\execute_time\\execution-timings-box.png\n",
      "[I 11:38:04 InstallContribNbextensionsApp] Copying: c:\\users\\ag20459\\appdata\\local\\continuum\\anaconda3\\envs\\nlp_course\\lib\\site-packages\\jupyter_contrib_nbextensions\\nbextensions\\execute_time\\execution-timings-menu.png -> C:\\Users\\AG20459\\AppData\\Roaming\\jupyter\\nbextensions\\execute_time\\execution-timings-menu.png\n",
      "[I 11:38:04 InstallContribNbextensionsApp] Copying: c:\\users\\ag20459\\appdata\\local\\continuum\\anaconda3\\envs\\nlp_course\\lib\\site-packages\\jupyter_contrib_nbextensions\\nbextensions\\execute_time\\icon.png -> C:\\Users\\AG20459\\AppData\\Roaming\\jupyter\\nbextensions\\execute_time\\icon.png\n",
      "[I 11:38:04 InstallContribNbextensionsApp] Copying: c:\\users\\ag20459\\appdata\\local\\continuum\\anaconda3\\envs\\nlp_course\\lib\\site-packages\\jupyter_contrib_nbextensions\\nbextensions\\execute_time\\readme.md -> C:\\Users\\AG20459\\AppData\\Roaming\\jupyter\\nbextensions\\execute_time\\readme.md\n",
      "[I 11:38:04 InstallContribNbextensionsApp] - Validating: ok\n",
      "[I 11:38:04 InstallContribNbextensionsApp] Installing c:\\users\\ag20459\\appdata\\local\\continuum\\anaconda3\\envs\\nlp_course\\lib\\site-packages\\jupyter_contrib_nbextensions\\nbextensions\\execution_dependencies -> execution_dependencies\n",
      "[I 11:38:04 InstallContribNbextensionsApp] Making directory: C:\\Users\\AG20459\\AppData\\Roaming\\jupyter\\nbextensions\\execution_dependencies\\\n",
      "[I 11:38:04 InstallContribNbextensionsApp] Copying: c:\\users\\ag20459\\appdata\\local\\continuum\\anaconda3\\envs\\nlp_course\\lib\\site-packages\\jupyter_contrib_nbextensions\\nbextensions\\execution_dependencies\\execution_dependencies.js -> C:\\Users\\AG20459\\AppData\\Roaming\\jupyter\\nbextensions\\execution_dependencies\\execution_dependencies.js\n",
      "[I 11:38:04 InstallContribNbextensionsApp] Copying: c:\\users\\ag20459\\appdata\\local\\continuum\\anaconda3\\envs\\nlp_course\\lib\\site-packages\\jupyter_contrib_nbextensions\\nbextensions\\execution_dependencies\\execution_dependencies.yml -> C:\\Users\\AG20459\\AppData\\Roaming\\jupyter\\nbextensions\\execution_dependencies\\execution_dependencies.yml\n",
      "[I 11:38:04 InstallContribNbextensionsApp] Copying: c:\\users\\ag20459\\appdata\\local\\continuum\\anaconda3\\envs\\nlp_course\\lib\\site-packages\\jupyter_contrib_nbextensions\\nbextensions\\execution_dependencies\\README.md -> C:\\Users\\AG20459\\AppData\\Roaming\\jupyter\\nbextensions\\execution_dependencies\\README.md\n",
      "[I 11:38:04 InstallContribNbextensionsApp] - Validating: ok\n",
      "[I 11:38:04 InstallContribNbextensionsApp] Installing c:\\users\\ag20459\\appdata\\local\\continuum\\anaconda3\\envs\\nlp_course\\lib\\site-packages\\jupyter_contrib_nbextensions\\nbextensions\\exercise -> exercise\n",
      "[I 11:38:04 InstallContribNbextensionsApp] Making directory: C:\\Users\\AG20459\\AppData\\Roaming\\jupyter\\nbextensions\\exercise\\\n",
      "[I 11:38:04 InstallContribNbextensionsApp] Copying: c:\\users\\ag20459\\appdata\\local\\continuum\\anaconda3\\envs\\nlp_course\\lib\\site-packages\\jupyter_contrib_nbextensions\\nbextensions\\exercise\\exercise.yaml -> C:\\Users\\AG20459\\AppData\\Roaming\\jupyter\\nbextensions\\exercise\\exercise.yaml\n",
      "[I 11:38:04 InstallContribNbextensionsApp] Copying: c:\\users\\ag20459\\appdata\\local\\continuum\\anaconda3\\envs\\nlp_course\\lib\\site-packages\\jupyter_contrib_nbextensions\\nbextensions\\exercise\\history.md -> C:\\Users\\AG20459\\AppData\\Roaming\\jupyter\\nbextensions\\exercise\\history.md\n",
      "[I 11:38:04 InstallContribNbextensionsApp] Copying: c:\\users\\ag20459\\appdata\\local\\continuum\\anaconda3\\envs\\nlp_course\\lib\\site-packages\\jupyter_contrib_nbextensions\\nbextensions\\exercise\\icon.png -> C:\\Users\\AG20459\\AppData\\Roaming\\jupyter\\nbextensions\\exercise\\icon.png\n",
      "[I 11:38:04 InstallContribNbextensionsApp] Copying: c:\\users\\ag20459\\appdata\\local\\continuum\\anaconda3\\envs\\nlp_course\\lib\\site-packages\\jupyter_contrib_nbextensions\\nbextensions\\exercise\\image.gif -> C:\\Users\\AG20459\\AppData\\Roaming\\jupyter\\nbextensions\\exercise\\image.gif\n",
      "[I 11:38:04 InstallContribNbextensionsApp] Copying: c:\\users\\ag20459\\appdata\\local\\continuum\\anaconda3\\envs\\nlp_course\\lib\\site-packages\\jupyter_contrib_nbextensions\\nbextensions\\exercise\\main.css -> C:\\Users\\AG20459\\AppData\\Roaming\\jupyter\\nbextensions\\exercise\\main.css\n",
      "[I 11:38:04 InstallContribNbextensionsApp] Copying: c:\\users\\ag20459\\appdata\\local\\continuum\\anaconda3\\envs\\nlp_course\\lib\\site-packages\\jupyter_contrib_nbextensions\\nbextensions\\exercise\\main.js -> C:\\Users\\AG20459\\AppData\\Roaming\\jupyter\\nbextensions\\exercise\\main.js\n",
      "[I 11:38:04 InstallContribNbextensionsApp] Copying: c:\\users\\ag20459\\appdata\\local\\continuum\\anaconda3\\envs\\nlp_course\\lib\\site-packages\\jupyter_contrib_nbextensions\\nbextensions\\exercise\\readme.md -> C:\\Users\\AG20459\\AppData\\Roaming\\jupyter\\nbextensions\\exercise\\readme.md\n",
      "[I 11:38:04 InstallContribNbextensionsApp] - Validating: ok\n",
      "[I 11:38:04 InstallContribNbextensionsApp] Installing c:\\users\\ag20459\\appdata\\local\\continuum\\anaconda3\\envs\\nlp_course\\lib\\site-packages\\jupyter_contrib_nbextensions\\nbextensions\\exercise2 -> exercise2\n",
      "[I 11:38:04 InstallContribNbextensionsApp] Making directory: C:\\Users\\AG20459\\AppData\\Roaming\\jupyter\\nbextensions\\exercise2\\\n",
      "[I 11:38:04 InstallContribNbextensionsApp] Copying: c:\\users\\ag20459\\appdata\\local\\continuum\\anaconda3\\envs\\nlp_course\\lib\\site-packages\\jupyter_contrib_nbextensions\\nbextensions\\exercise2\\exercise2.yaml -> C:\\Users\\AG20459\\AppData\\Roaming\\jupyter\\nbextensions\\exercise2\\exercise2.yaml\n",
      "[I 11:38:04 InstallContribNbextensionsApp] Copying: c:\\users\\ag20459\\appdata\\local\\continuum\\anaconda3\\envs\\nlp_course\\lib\\site-packages\\jupyter_contrib_nbextensions\\nbextensions\\exercise2\\icon.png -> C:\\Users\\AG20459\\AppData\\Roaming\\jupyter\\nbextensions\\exercise2\\icon.png\n",
      "[I 11:38:04 InstallContribNbextensionsApp] Copying: c:\\users\\ag20459\\appdata\\local\\continuum\\anaconda3\\envs\\nlp_course\\lib\\site-packages\\jupyter_contrib_nbextensions\\nbextensions\\exercise2\\image.gif -> C:\\Users\\AG20459\\AppData\\Roaming\\jupyter\\nbextensions\\exercise2\\image.gif\n",
      "[I 11:38:04 InstallContribNbextensionsApp] Copying: c:\\users\\ag20459\\appdata\\local\\continuum\\anaconda3\\envs\\nlp_course\\lib\\site-packages\\jupyter_contrib_nbextensions\\nbextensions\\exercise2\\main.css -> C:\\Users\\AG20459\\AppData\\Roaming\\jupyter\\nbextensions\\exercise2\\main.css\n",
      "[I 11:38:04 InstallContribNbextensionsApp] Copying: c:\\users\\ag20459\\appdata\\local\\continuum\\anaconda3\\envs\\nlp_course\\lib\\site-packages\\jupyter_contrib_nbextensions\\nbextensions\\exercise2\\main.js -> C:\\Users\\AG20459\\AppData\\Roaming\\jupyter\\nbextensions\\exercise2\\main.js\n",
      "[I 11:38:04 InstallContribNbextensionsApp] Copying: c:\\users\\ag20459\\appdata\\local\\continuum\\anaconda3\\envs\\nlp_course\\lib\\site-packages\\jupyter_contrib_nbextensions\\nbextensions\\exercise2\\readme.md -> C:\\Users\\AG20459\\AppData\\Roaming\\jupyter\\nbextensions\\exercise2\\readme.md\n",
      "[I 11:38:04 InstallContribNbextensionsApp] - Validating: ok\n",
      "[I 11:38:04 InstallContribNbextensionsApp] Installing c:\\users\\ag20459\\appdata\\local\\continuum\\anaconda3\\envs\\nlp_course\\lib\\site-packages\\jupyter_contrib_nbextensions\\nbextensions\\export_embedded -> export_embedded\n",
      "[I 11:38:04 InstallContribNbextensionsApp] Making directory: C:\\Users\\AG20459\\AppData\\Roaming\\jupyter\\nbextensions\\export_embedded\\\n",
      "[I 11:38:04 InstallContribNbextensionsApp] Copying: c:\\users\\ag20459\\appdata\\local\\continuum\\anaconda3\\envs\\nlp_course\\lib\\site-packages\\jupyter_contrib_nbextensions\\nbextensions\\export_embedded\\export_embedded.yaml -> C:\\Users\\AG20459\\AppData\\Roaming\\jupyter\\nbextensions\\export_embedded\\export_embedded.yaml\n",
      "[I 11:38:04 InstallContribNbextensionsApp] Copying: c:\\users\\ag20459\\appdata\\local\\continuum\\anaconda3\\envs\\nlp_course\\lib\\site-packages\\jupyter_contrib_nbextensions\\nbextensions\\export_embedded\\icon.png -> C:\\Users\\AG20459\\AppData\\Roaming\\jupyter\\nbextensions\\export_embedded\\icon.png\n",
      "[I 11:38:04 InstallContribNbextensionsApp] Copying: c:\\users\\ag20459\\appdata\\local\\continuum\\anaconda3\\envs\\nlp_course\\lib\\site-packages\\jupyter_contrib_nbextensions\\nbextensions\\export_embedded\\main.js -> C:\\Users\\AG20459\\AppData\\Roaming\\jupyter\\nbextensions\\export_embedded\\main.js\n",
      "[I 11:38:04 InstallContribNbextensionsApp] Copying: c:\\users\\ag20459\\appdata\\local\\continuum\\anaconda3\\envs\\nlp_course\\lib\\site-packages\\jupyter_contrib_nbextensions\\nbextensions\\export_embedded\\readme.md -> C:\\Users\\AG20459\\AppData\\Roaming\\jupyter\\nbextensions\\export_embedded\\readme.md\n",
      "[I 11:38:04 InstallContribNbextensionsApp] - Validating: ok\n",
      "[I 11:38:04 InstallContribNbextensionsApp] Installing c:\\users\\ag20459\\appdata\\local\\continuum\\anaconda3\\envs\\nlp_course\\lib\\site-packages\\jupyter_contrib_nbextensions\\nbextensions\\freeze -> freeze\n",
      "[I 11:38:04 InstallContribNbextensionsApp] Making directory: C:\\Users\\AG20459\\AppData\\Roaming\\jupyter\\nbextensions\\freeze\\\n",
      "[I 11:38:04 InstallContribNbextensionsApp] Copying: c:\\users\\ag20459\\appdata\\local\\continuum\\anaconda3\\envs\\nlp_course\\lib\\site-packages\\jupyter_contrib_nbextensions\\nbextensions\\freeze\\config.yaml -> C:\\Users\\AG20459\\AppData\\Roaming\\jupyter\\nbextensions\\freeze\\config.yaml\n",
      "[I 11:38:04 InstallContribNbextensionsApp] Copying: c:\\users\\ag20459\\appdata\\local\\continuum\\anaconda3\\envs\\nlp_course\\lib\\site-packages\\jupyter_contrib_nbextensions\\nbextensions\\freeze\\icon.png -> C:\\Users\\AG20459\\AppData\\Roaming\\jupyter\\nbextensions\\freeze\\icon.png\n",
      "[I 11:38:04 InstallContribNbextensionsApp] Copying: c:\\users\\ag20459\\appdata\\local\\continuum\\anaconda3\\envs\\nlp_course\\lib\\site-packages\\jupyter_contrib_nbextensions\\nbextensions\\freeze\\main.js -> C:\\Users\\AG20459\\AppData\\Roaming\\jupyter\\nbextensions\\freeze\\main.js\n",
      "[I 11:38:04 InstallContribNbextensionsApp] Copying: c:\\users\\ag20459\\appdata\\local\\continuum\\anaconda3\\envs\\nlp_course\\lib\\site-packages\\jupyter_contrib_nbextensions\\nbextensions\\freeze\\readme.md -> C:\\Users\\AG20459\\AppData\\Roaming\\jupyter\\nbextensions\\freeze\\readme.md\n",
      "[I 11:38:04 InstallContribNbextensionsApp] - Validating: ok\n",
      "[I 11:38:04 InstallContribNbextensionsApp] Installing c:\\users\\ag20459\\appdata\\local\\continuum\\anaconda3\\envs\\nlp_course\\lib\\site-packages\\jupyter_contrib_nbextensions\\nbextensions\\gist_it -> gist_it\n",
      "[I 11:38:04 InstallContribNbextensionsApp] Making directory: C:\\Users\\AG20459\\AppData\\Roaming\\jupyter\\nbextensions\\gist_it\\\n",
      "[I 11:38:04 InstallContribNbextensionsApp] Copying: c:\\users\\ag20459\\appdata\\local\\continuum\\anaconda3\\envs\\nlp_course\\lib\\site-packages\\jupyter_contrib_nbextensions\\nbextensions\\gist_it\\gist_it.yaml -> C:\\Users\\AG20459\\AppData\\Roaming\\jupyter\\nbextensions\\gist_it\\gist_it.yaml\n",
      "[I 11:38:04 InstallContribNbextensionsApp] Copying: c:\\users\\ag20459\\appdata\\local\\continuum\\anaconda3\\envs\\nlp_course\\lib\\site-packages\\jupyter_contrib_nbextensions\\nbextensions\\gist_it\\icon.png -> C:\\Users\\AG20459\\AppData\\Roaming\\jupyter\\nbextensions\\gist_it\\icon.png\n",
      "[I 11:38:04 InstallContribNbextensionsApp] Copying: c:\\users\\ag20459\\appdata\\local\\continuum\\anaconda3\\envs\\nlp_course\\lib\\site-packages\\jupyter_contrib_nbextensions\\nbextensions\\gist_it\\main.js -> C:\\Users\\AG20459\\AppData\\Roaming\\jupyter\\nbextensions\\gist_it\\main.js\n",
      "[I 11:38:04 InstallContribNbextensionsApp] Copying: c:\\users\\ag20459\\appdata\\local\\continuum\\anaconda3\\envs\\nlp_course\\lib\\site-packages\\jupyter_contrib_nbextensions\\nbextensions\\gist_it\\readme.md -> C:\\Users\\AG20459\\AppData\\Roaming\\jupyter\\nbextensions\\gist_it\\readme.md\n",
      "[I 11:38:04 InstallContribNbextensionsApp] - Validating: ok\n",
      "[I 11:38:04 InstallContribNbextensionsApp] Installing c:\\users\\ag20459\\appdata\\local\\continuum\\anaconda3\\envs\\nlp_course\\lib\\site-packages\\jupyter_contrib_nbextensions\\nbextensions\\help_panel -> help_panel\n",
      "[I 11:38:04 InstallContribNbextensionsApp] Making directory: C:\\Users\\AG20459\\AppData\\Roaming\\jupyter\\nbextensions\\help_panel\\\n",
      "[I 11:38:04 InstallContribNbextensionsApp] Copying: c:\\users\\ag20459\\appdata\\local\\continuum\\anaconda3\\envs\\nlp_course\\lib\\site-packages\\jupyter_contrib_nbextensions\\nbextensions\\help_panel\\help_panel.css -> C:\\Users\\AG20459\\AppData\\Roaming\\jupyter\\nbextensions\\help_panel\\help_panel.css\n",
      "[I 11:38:04 InstallContribNbextensionsApp] Copying: c:\\users\\ag20459\\appdata\\local\\continuum\\anaconda3\\envs\\nlp_course\\lib\\site-packages\\jupyter_contrib_nbextensions\\nbextensions\\help_panel\\help_panel.js -> C:\\Users\\AG20459\\AppData\\Roaming\\jupyter\\nbextensions\\help_panel\\help_panel.js\n",
      "[I 11:38:04 InstallContribNbextensionsApp] Copying: c:\\users\\ag20459\\appdata\\local\\continuum\\anaconda3\\envs\\nlp_course\\lib\\site-packages\\jupyter_contrib_nbextensions\\nbextensions\\help_panel\\help_panel.yaml -> C:\\Users\\AG20459\\AppData\\Roaming\\jupyter\\nbextensions\\help_panel\\help_panel.yaml\n",
      "[I 11:38:04 InstallContribNbextensionsApp] Copying: c:\\users\\ag20459\\appdata\\local\\continuum\\anaconda3\\envs\\nlp_course\\lib\\site-packages\\jupyter_contrib_nbextensions\\nbextensions\\help_panel\\help_panel_ext.png -> C:\\Users\\AG20459\\AppData\\Roaming\\jupyter\\nbextensions\\help_panel\\help_panel_ext.png\n",
      "[I 11:38:04 InstallContribNbextensionsApp] Copying: c:\\users\\ag20459\\appdata\\local\\continuum\\anaconda3\\envs\\nlp_course\\lib\\site-packages\\jupyter_contrib_nbextensions\\nbextensions\\help_panel\\help_panel_ext_fullscreen.png -> C:\\Users\\AG20459\\AppData\\Roaming\\jupyter\\nbextensions\\help_panel\\help_panel_ext_fullscreen.png\n",
      "[I 11:38:04 InstallContribNbextensionsApp] Copying: c:\\users\\ag20459\\appdata\\local\\continuum\\anaconda3\\envs\\nlp_course\\lib\\site-packages\\jupyter_contrib_nbextensions\\nbextensions\\help_panel\\icon.png -> C:\\Users\\AG20459\\AppData\\Roaming\\jupyter\\nbextensions\\help_panel\\icon.png\n",
      "[I 11:38:04 InstallContribNbextensionsApp] Copying: c:\\users\\ag20459\\appdata\\local\\continuum\\anaconda3\\envs\\nlp_course\\lib\\site-packages\\jupyter_contrib_nbextensions\\nbextensions\\help_panel\\readme.md -> C:\\Users\\AG20459\\AppData\\Roaming\\jupyter\\nbextensions\\help_panel\\readme.md\n",
      "[I 11:38:04 InstallContribNbextensionsApp] Making directory: C:\\Users\\AG20459\\AppData\\Roaming\\jupyter\\nbextensions\\help_panel\\img\n",
      "[I 11:38:04 InstallContribNbextensionsApp] Copying: c:\\users\\ag20459\\appdata\\local\\continuum\\anaconda3\\envs\\nlp_course\\lib\\site-packages\\jupyter_contrib_nbextensions\\nbextensions\\help_panel\\img\\handle-v.png -> C:\\Users\\AG20459\\AppData\\Roaming\\jupyter\\nbextensions\\help_panel\\img\\handle-v.png\n",
      "[I 11:38:04 InstallContribNbextensionsApp] - Validating: ok\n",
      "[I 11:38:04 InstallContribNbextensionsApp] Installing c:\\users\\ag20459\\appdata\\local\\continuum\\anaconda3\\envs\\nlp_course\\lib\\site-packages\\jupyter_contrib_nbextensions\\nbextensions\\hide_header -> hide_header\n",
      "[I 11:38:04 InstallContribNbextensionsApp] Making directory: C:\\Users\\AG20459\\AppData\\Roaming\\jupyter\\nbextensions\\hide_header\\\n",
      "[I 11:38:04 InstallContribNbextensionsApp] Copying: c:\\users\\ag20459\\appdata\\local\\continuum\\anaconda3\\envs\\nlp_course\\lib\\site-packages\\jupyter_contrib_nbextensions\\nbextensions\\hide_header\\hide_header.yaml -> C:\\Users\\AG20459\\AppData\\Roaming\\jupyter\\nbextensions\\hide_header\\hide_header.yaml\n",
      "[I 11:38:04 InstallContribNbextensionsApp] Copying: c:\\users\\ag20459\\appdata\\local\\continuum\\anaconda3\\envs\\nlp_course\\lib\\site-packages\\jupyter_contrib_nbextensions\\nbextensions\\hide_header\\main.js -> C:\\Users\\AG20459\\AppData\\Roaming\\jupyter\\nbextensions\\hide_header\\main.js\n",
      "[I 11:38:04 InstallContribNbextensionsApp] Copying: c:\\users\\ag20459\\appdata\\local\\continuum\\anaconda3\\envs\\nlp_course\\lib\\site-packages\\jupyter_contrib_nbextensions\\nbextensions\\hide_header\\README.md -> C:\\Users\\AG20459\\AppData\\Roaming\\jupyter\\nbextensions\\hide_header\\README.md\n",
      "[I 11:38:04 InstallContribNbextensionsApp] - Validating: ok\n",
      "[I 11:38:04 InstallContribNbextensionsApp] Installing c:\\users\\ag20459\\appdata\\local\\continuum\\anaconda3\\envs\\nlp_course\\lib\\site-packages\\jupyter_contrib_nbextensions\\nbextensions\\hide_input -> hide_input\n",
      "[I 11:38:04 InstallContribNbextensionsApp] Making directory: C:\\Users\\AG20459\\AppData\\Roaming\\jupyter\\nbextensions\\hide_input\\\n",
      "[I 11:38:04 InstallContribNbextensionsApp] Copying: c:\\users\\ag20459\\appdata\\local\\continuum\\anaconda3\\envs\\nlp_course\\lib\\site-packages\\jupyter_contrib_nbextensions\\nbextensions\\hide_input\\hide-input.yaml -> C:\\Users\\AG20459\\AppData\\Roaming\\jupyter\\nbextensions\\hide_input\\hide-input.yaml\n",
      "[I 11:38:04 InstallContribNbextensionsApp] Copying: c:\\users\\ag20459\\appdata\\local\\continuum\\anaconda3\\envs\\nlp_course\\lib\\site-packages\\jupyter_contrib_nbextensions\\nbextensions\\hide_input\\icon.png -> C:\\Users\\AG20459\\AppData\\Roaming\\jupyter\\nbextensions\\hide_input\\icon.png\n",
      "[I 11:38:04 InstallContribNbextensionsApp] Copying: c:\\users\\ag20459\\appdata\\local\\continuum\\anaconda3\\envs\\nlp_course\\lib\\site-packages\\jupyter_contrib_nbextensions\\nbextensions\\hide_input\\main.js -> C:\\Users\\AG20459\\AppData\\Roaming\\jupyter\\nbextensions\\hide_input\\main.js\n",
      "[I 11:38:04 InstallContribNbextensionsApp] Copying: c:\\users\\ag20459\\appdata\\local\\continuum\\anaconda3\\envs\\nlp_course\\lib\\site-packages\\jupyter_contrib_nbextensions\\nbextensions\\hide_input\\readme.md -> C:\\Users\\AG20459\\AppData\\Roaming\\jupyter\\nbextensions\\hide_input\\readme.md\n",
      "[I 11:38:04 InstallContribNbextensionsApp] - Validating: ok\n",
      "[I 11:38:04 InstallContribNbextensionsApp] Installing c:\\users\\ag20459\\appdata\\local\\continuum\\anaconda3\\envs\\nlp_course\\lib\\site-packages\\jupyter_contrib_nbextensions\\nbextensions\\hide_input_all -> hide_input_all\n",
      "[I 11:38:04 InstallContribNbextensionsApp] Making directory: C:\\Users\\AG20459\\AppData\\Roaming\\jupyter\\nbextensions\\hide_input_all\\\n",
      "[I 11:38:04 InstallContribNbextensionsApp] Copying: c:\\users\\ag20459\\appdata\\local\\continuum\\anaconda3\\envs\\nlp_course\\lib\\site-packages\\jupyter_contrib_nbextensions\\nbextensions\\hide_input_all\\hide_input_all.yaml -> C:\\Users\\AG20459\\AppData\\Roaming\\jupyter\\nbextensions\\hide_input_all\\hide_input_all.yaml\n",
      "[I 11:38:04 InstallContribNbextensionsApp] Copying: c:\\users\\ag20459\\appdata\\local\\continuum\\anaconda3\\envs\\nlp_course\\lib\\site-packages\\jupyter_contrib_nbextensions\\nbextensions\\hide_input_all\\hide_input_all_hide.png -> C:\\Users\\AG20459\\AppData\\Roaming\\jupyter\\nbextensions\\hide_input_all\\hide_input_all_hide.png\n",
      "[I 11:38:04 InstallContribNbextensionsApp] Copying: c:\\users\\ag20459\\appdata\\local\\continuum\\anaconda3\\envs\\nlp_course\\lib\\site-packages\\jupyter_contrib_nbextensions\\nbextensions\\hide_input_all\\hide_input_all_show.png -> C:\\Users\\AG20459\\AppData\\Roaming\\jupyter\\nbextensions\\hide_input_all\\hide_input_all_show.png\n",
      "[I 11:38:04 InstallContribNbextensionsApp] Copying: c:\\users\\ag20459\\appdata\\local\\continuum\\anaconda3\\envs\\nlp_course\\lib\\site-packages\\jupyter_contrib_nbextensions\\nbextensions\\hide_input_all\\icon.png -> C:\\Users\\AG20459\\AppData\\Roaming\\jupyter\\nbextensions\\hide_input_all\\icon.png\n",
      "[I 11:38:04 InstallContribNbextensionsApp] Copying: c:\\users\\ag20459\\appdata\\local\\continuum\\anaconda3\\envs\\nlp_course\\lib\\site-packages\\jupyter_contrib_nbextensions\\nbextensions\\hide_input_all\\main.js -> C:\\Users\\AG20459\\AppData\\Roaming\\jupyter\\nbextensions\\hide_input_all\\main.js\n",
      "[I 11:38:04 InstallContribNbextensionsApp] Copying: c:\\users\\ag20459\\appdata\\local\\continuum\\anaconda3\\envs\\nlp_course\\lib\\site-packages\\jupyter_contrib_nbextensions\\nbextensions\\hide_input_all\\readme.md -> C:\\Users\\AG20459\\AppData\\Roaming\\jupyter\\nbextensions\\hide_input_all\\readme.md\n",
      "[I 11:38:04 InstallContribNbextensionsApp] - Validating: ok\n",
      "[I 11:38:04 InstallContribNbextensionsApp] Installing c:\\users\\ag20459\\appdata\\local\\continuum\\anaconda3\\envs\\nlp_course\\lib\\site-packages\\jupyter_contrib_nbextensions\\nbextensions\\highlighter -> highlighter\n",
      "[I 11:38:04 InstallContribNbextensionsApp] Making directory: C:\\Users\\AG20459\\AppData\\Roaming\\jupyter\\nbextensions\\highlighter\\\n",
      "[I 11:38:04 InstallContribNbextensionsApp] Copying: c:\\users\\ag20459\\appdata\\local\\continuum\\anaconda3\\envs\\nlp_course\\lib\\site-packages\\jupyter_contrib_nbextensions\\nbextensions\\highlighter\\demo_highlighter.html -> C:\\Users\\AG20459\\AppData\\Roaming\\jupyter\\nbextensions\\highlighter\\demo_highlighter.html\n",
      "[I 11:38:04 InstallContribNbextensionsApp] Copying: c:\\users\\ag20459\\appdata\\local\\continuum\\anaconda3\\envs\\nlp_course\\lib\\site-packages\\jupyter_contrib_nbextensions\\nbextensions\\highlighter\\demo_highlighter.ipynb -> C:\\Users\\AG20459\\AppData\\Roaming\\jupyter\\nbextensions\\highlighter\\demo_highlighter.ipynb\n",
      "[I 11:38:04 InstallContribNbextensionsApp] Copying: c:\\users\\ag20459\\appdata\\local\\continuum\\anaconda3\\envs\\nlp_course\\lib\\site-packages\\jupyter_contrib_nbextensions\\nbextensions\\highlighter\\export_highlights.html -> C:\\Users\\AG20459\\AppData\\Roaming\\jupyter\\nbextensions\\highlighter\\export_highlights.html\n",
      "[I 11:38:04 InstallContribNbextensionsApp] Copying: c:\\users\\ag20459\\appdata\\local\\continuum\\anaconda3\\envs\\nlp_course\\lib\\site-packages\\jupyter_contrib_nbextensions\\nbextensions\\highlighter\\export_highlights.ipynb -> C:\\Users\\AG20459\\AppData\\Roaming\\jupyter\\nbextensions\\highlighter\\export_highlights.ipynb\n",
      "[I 11:38:04 InstallContribNbextensionsApp] Copying: c:\\users\\ag20459\\appdata\\local\\continuum\\anaconda3\\envs\\nlp_course\\lib\\site-packages\\jupyter_contrib_nbextensions\\nbextensions\\highlighter\\export_highlights.pdf -> C:\\Users\\AG20459\\AppData\\Roaming\\jupyter\\nbextensions\\highlighter\\export_highlights.pdf\n",
      "[I 11:38:04 InstallContribNbextensionsApp] Copying: c:\\users\\ag20459\\appdata\\local\\continuum\\anaconda3\\envs\\nlp_course\\lib\\site-packages\\jupyter_contrib_nbextensions\\nbextensions\\highlighter\\export_highlights.tex -> C:\\Users\\AG20459\\AppData\\Roaming\\jupyter\\nbextensions\\highlighter\\export_highlights.tex\n",
      "[I 11:38:04 InstallContribNbextensionsApp] Copying: c:\\users\\ag20459\\appdata\\local\\continuum\\anaconda3\\envs\\nlp_course\\lib\\site-packages\\jupyter_contrib_nbextensions\\nbextensions\\highlighter\\highlighter.css -> C:\\Users\\AG20459\\AppData\\Roaming\\jupyter\\nbextensions\\highlighter\\highlighter.css\n",
      "[I 11:38:04 InstallContribNbextensionsApp] Copying: c:\\users\\ag20459\\appdata\\local\\continuum\\anaconda3\\envs\\nlp_course\\lib\\site-packages\\jupyter_contrib_nbextensions\\nbextensions\\highlighter\\highlighter.js -> C:\\Users\\AG20459\\AppData\\Roaming\\jupyter\\nbextensions\\highlighter\\highlighter.js\n",
      "[I 11:38:04 InstallContribNbextensionsApp] Copying: c:\\users\\ag20459\\appdata\\local\\continuum\\anaconda3\\envs\\nlp_course\\lib\\site-packages\\jupyter_contrib_nbextensions\\nbextensions\\highlighter\\highlighter.yaml -> C:\\Users\\AG20459\\AppData\\Roaming\\jupyter\\nbextensions\\highlighter\\highlighter.yaml\n",
      "[I 11:38:05 InstallContribNbextensionsApp] Copying: c:\\users\\ag20459\\appdata\\local\\continuum\\anaconda3\\envs\\nlp_course\\lib\\site-packages\\jupyter_contrib_nbextensions\\nbextensions\\highlighter\\icon.png -> C:\\Users\\AG20459\\AppData\\Roaming\\jupyter\\nbextensions\\highlighter\\icon.png\n",
      "[I 11:38:05 InstallContribNbextensionsApp] Copying: c:\\users\\ag20459\\appdata\\local\\continuum\\anaconda3\\envs\\nlp_course\\lib\\site-packages\\jupyter_contrib_nbextensions\\nbextensions\\highlighter\\image.gif -> C:\\Users\\AG20459\\AppData\\Roaming\\jupyter\\nbextensions\\highlighter\\image.gif\n",
      "[I 11:38:05 InstallContribNbextensionsApp] Copying: c:\\users\\ag20459\\appdata\\local\\continuum\\anaconda3\\envs\\nlp_course\\lib\\site-packages\\jupyter_contrib_nbextensions\\nbextensions\\highlighter\\readme.md -> C:\\Users\\AG20459\\AppData\\Roaming\\jupyter\\nbextensions\\highlighter\\readme.md\n",
      "[I 11:38:05 InstallContribNbextensionsApp] Copying: c:\\users\\ag20459\\appdata\\local\\continuum\\anaconda3\\envs\\nlp_course\\lib\\site-packages\\jupyter_contrib_nbextensions\\nbextensions\\highlighter\\tst_highlights.html -> C:\\Users\\AG20459\\AppData\\Roaming\\jupyter\\nbextensions\\highlighter\\tst_highlights.html\n",
      "[I 11:38:05 InstallContribNbextensionsApp] Copying: c:\\users\\ag20459\\appdata\\local\\continuum\\anaconda3\\envs\\nlp_course\\lib\\site-packages\\jupyter_contrib_nbextensions\\nbextensions\\highlighter\\tst_highlights.ipynb -> C:\\Users\\AG20459\\AppData\\Roaming\\jupyter\\nbextensions\\highlighter\\tst_highlights.ipynb\n",
      "[I 11:38:05 InstallContribNbextensionsApp] Copying: c:\\users\\ag20459\\appdata\\local\\continuum\\anaconda3\\envs\\nlp_course\\lib\\site-packages\\jupyter_contrib_nbextensions\\nbextensions\\highlighter\\tst_highlights.pdf -> C:\\Users\\AG20459\\AppData\\Roaming\\jupyter\\nbextensions\\highlighter\\tst_highlights.pdf\n",
      "[I 11:38:05 InstallContribNbextensionsApp] Copying: c:\\users\\ag20459\\appdata\\local\\continuum\\anaconda3\\envs\\nlp_course\\lib\\site-packages\\jupyter_contrib_nbextensions\\nbextensions\\highlighter\\tst_highlights.tex -> C:\\Users\\AG20459\\AppData\\Roaming\\jupyter\\nbextensions\\highlighter\\tst_highlights.tex\n",
      "[I 11:38:05 InstallContribNbextensionsApp] - Validating: ok\n",
      "[I 11:38:05 InstallContribNbextensionsApp] Installing c:\\users\\ag20459\\appdata\\local\\continuum\\anaconda3\\envs\\nlp_course\\lib\\site-packages\\jupyter_contrib_nbextensions\\nbextensions\\hinterland -> hinterland\n",
      "[I 11:38:05 InstallContribNbextensionsApp] Making directory: C:\\Users\\AG20459\\AppData\\Roaming\\jupyter\\nbextensions\\hinterland\\\n",
      "[I 11:38:05 InstallContribNbextensionsApp] Copying: c:\\users\\ag20459\\appdata\\local\\continuum\\anaconda3\\envs\\nlp_course\\lib\\site-packages\\jupyter_contrib_nbextensions\\nbextensions\\hinterland\\hinterland.js -> C:\\Users\\AG20459\\AppData\\Roaming\\jupyter\\nbextensions\\hinterland\\hinterland.js\n",
      "[I 11:38:05 InstallContribNbextensionsApp] Copying: c:\\users\\ag20459\\appdata\\local\\continuum\\anaconda3\\envs\\nlp_course\\lib\\site-packages\\jupyter_contrib_nbextensions\\nbextensions\\hinterland\\hinterland.yaml -> C:\\Users\\AG20459\\AppData\\Roaming\\jupyter\\nbextensions\\hinterland\\hinterland.yaml\n",
      "[I 11:38:05 InstallContribNbextensionsApp] Copying: c:\\users\\ag20459\\appdata\\local\\continuum\\anaconda3\\envs\\nlp_course\\lib\\site-packages\\jupyter_contrib_nbextensions\\nbextensions\\hinterland\\README.md -> C:\\Users\\AG20459\\AppData\\Roaming\\jupyter\\nbextensions\\hinterland\\README.md\n",
      "[I 11:38:05 InstallContribNbextensionsApp] - Validating: ok\n",
      "[I 11:38:05 InstallContribNbextensionsApp] Installing c:\\users\\ag20459\\appdata\\local\\continuum\\anaconda3\\envs\\nlp_course\\lib\\site-packages\\jupyter_contrib_nbextensions\\nbextensions\\init_cell -> init_cell\n",
      "[I 11:38:05 InstallContribNbextensionsApp] Making directory: C:\\Users\\AG20459\\AppData\\Roaming\\jupyter\\nbextensions\\init_cell\\\n",
      "[I 11:38:05 InstallContribNbextensionsApp] Copying: c:\\users\\ag20459\\appdata\\local\\continuum\\anaconda3\\envs\\nlp_course\\lib\\site-packages\\jupyter_contrib_nbextensions\\nbextensions\\init_cell\\cell_toolbar_menu.png -> C:\\Users\\AG20459\\AppData\\Roaming\\jupyter\\nbextensions\\init_cell\\cell_toolbar_menu.png\n",
      "[I 11:38:05 InstallContribNbextensionsApp] Copying: c:\\users\\ag20459\\appdata\\local\\continuum\\anaconda3\\envs\\nlp_course\\lib\\site-packages\\jupyter_contrib_nbextensions\\nbextensions\\init_cell\\icon.png -> C:\\Users\\AG20459\\AppData\\Roaming\\jupyter\\nbextensions\\init_cell\\icon.png\n",
      "[I 11:38:05 InstallContribNbextensionsApp] Copying: c:\\users\\ag20459\\appdata\\local\\continuum\\anaconda3\\envs\\nlp_course\\lib\\site-packages\\jupyter_contrib_nbextensions\\nbextensions\\init_cell\\init_cell.yaml -> C:\\Users\\AG20459\\AppData\\Roaming\\jupyter\\nbextensions\\init_cell\\init_cell.yaml\n",
      "[I 11:38:05 InstallContribNbextensionsApp] Copying: c:\\users\\ag20459\\appdata\\local\\continuum\\anaconda3\\envs\\nlp_course\\lib\\site-packages\\jupyter_contrib_nbextensions\\nbextensions\\init_cell\\main.js -> C:\\Users\\AG20459\\AppData\\Roaming\\jupyter\\nbextensions\\init_cell\\main.js\n",
      "[I 11:38:05 InstallContribNbextensionsApp] Copying: c:\\users\\ag20459\\appdata\\local\\continuum\\anaconda3\\envs\\nlp_course\\lib\\site-packages\\jupyter_contrib_nbextensions\\nbextensions\\init_cell\\README.md -> C:\\Users\\AG20459\\AppData\\Roaming\\jupyter\\nbextensions\\init_cell\\README.md\n",
      "[I 11:38:05 InstallContribNbextensionsApp] - Validating: ok\n",
      "[I 11:38:05 InstallContribNbextensionsApp] Installing c:\\users\\ag20459\\appdata\\local\\continuum\\anaconda3\\envs\\nlp_course\\lib\\site-packages\\jupyter_contrib_nbextensions\\nbextensions\\keyboard_shortcut_editor -> keyboard_shortcut_editor\n",
      "[I 11:38:05 InstallContribNbextensionsApp] Making directory: C:\\Users\\AG20459\\AppData\\Roaming\\jupyter\\nbextensions\\keyboard_shortcut_editor\\\n",
      "[I 11:38:05 InstallContribNbextensionsApp] Copying: c:\\users\\ag20459\\appdata\\local\\continuum\\anaconda3\\envs\\nlp_course\\lib\\site-packages\\jupyter_contrib_nbextensions\\nbextensions\\keyboard_shortcut_editor\\icon.png -> C:\\Users\\AG20459\\AppData\\Roaming\\jupyter\\nbextensions\\keyboard_shortcut_editor\\icon.png\n",
      "[I 11:38:05 InstallContribNbextensionsApp] Copying: c:\\users\\ag20459\\appdata\\local\\continuum\\anaconda3\\envs\\nlp_course\\lib\\site-packages\\jupyter_contrib_nbextensions\\nbextensions\\keyboard_shortcut_editor\\keyboard_shortcut_editor.yaml -> C:\\Users\\AG20459\\AppData\\Roaming\\jupyter\\nbextensions\\keyboard_shortcut_editor\\keyboard_shortcut_editor.yaml\n",
      "[I 11:38:05 InstallContribNbextensionsApp] Copying: c:\\users\\ag20459\\appdata\\local\\continuum\\anaconda3\\envs\\nlp_course\\lib\\site-packages\\jupyter_contrib_nbextensions\\nbextensions\\keyboard_shortcut_editor\\kse_components.js -> C:\\Users\\AG20459\\AppData\\Roaming\\jupyter\\nbextensions\\keyboard_shortcut_editor\\kse_components.js\n",
      "[I 11:38:05 InstallContribNbextensionsApp] Copying: c:\\users\\ag20459\\appdata\\local\\continuum\\anaconda3\\envs\\nlp_course\\lib\\site-packages\\jupyter_contrib_nbextensions\\nbextensions\\keyboard_shortcut_editor\\main.css -> C:\\Users\\AG20459\\AppData\\Roaming\\jupyter\\nbextensions\\keyboard_shortcut_editor\\main.css\n",
      "[I 11:38:05 InstallContribNbextensionsApp] Copying: c:\\users\\ag20459\\appdata\\local\\continuum\\anaconda3\\envs\\nlp_course\\lib\\site-packages\\jupyter_contrib_nbextensions\\nbextensions\\keyboard_shortcut_editor\\main.js -> C:\\Users\\AG20459\\AppData\\Roaming\\jupyter\\nbextensions\\keyboard_shortcut_editor\\main.js\n",
      "[I 11:38:05 InstallContribNbextensionsApp] Copying: c:\\users\\ag20459\\appdata\\local\\continuum\\anaconda3\\envs\\nlp_course\\lib\\site-packages\\jupyter_contrib_nbextensions\\nbextensions\\keyboard_shortcut_editor\\quickhelp_shim.js -> C:\\Users\\AG20459\\AppData\\Roaming\\jupyter\\nbextensions\\keyboard_shortcut_editor\\quickhelp_shim.js\n",
      "[I 11:38:05 InstallContribNbextensionsApp] Copying: c:\\users\\ag20459\\appdata\\local\\continuum\\anaconda3\\envs\\nlp_course\\lib\\site-packages\\jupyter_contrib_nbextensions\\nbextensions\\keyboard_shortcut_editor\\README.md -> C:\\Users\\AG20459\\AppData\\Roaming\\jupyter\\nbextensions\\keyboard_shortcut_editor\\README.md\n",
      "[I 11:38:05 InstallContribNbextensionsApp] Copying: c:\\users\\ag20459\\appdata\\local\\continuum\\anaconda3\\envs\\nlp_course\\lib\\site-packages\\jupyter_contrib_nbextensions\\nbextensions\\keyboard_shortcut_editor\\readme_add_new_link.png -> C:\\Users\\AG20459\\AppData\\Roaming\\jupyter\\nbextensions\\keyboard_shortcut_editor\\readme_add_new_link.png\n",
      "[I 11:38:05 InstallContribNbextensionsApp] Copying: c:\\users\\ag20459\\appdata\\local\\continuum\\anaconda3\\envs\\nlp_course\\lib\\site-packages\\jupyter_contrib_nbextensions\\nbextensions\\keyboard_shortcut_editor\\readme_add_new_select_action.png -> C:\\Users\\AG20459\\AppData\\Roaming\\jupyter\\nbextensions\\keyboard_shortcut_editor\\readme_add_new_select_action.png\n",
      "[I 11:38:05 InstallContribNbextensionsApp] Copying: c:\\users\\ag20459\\appdata\\local\\continuum\\anaconda3\\envs\\nlp_course\\lib\\site-packages\\jupyter_contrib_nbextensions\\nbextensions\\keyboard_shortcut_editor\\readme_comma.png -> C:\\Users\\AG20459\\AppData\\Roaming\\jupyter\\nbextensions\\keyboard_shortcut_editor\\readme_comma.png\n",
      "[I 11:38:05 InstallContribNbextensionsApp] Copying: c:\\users\\ag20459\\appdata\\local\\continuum\\anaconda3\\envs\\nlp_course\\lib\\site-packages\\jupyter_contrib_nbextensions\\nbextensions\\keyboard_shortcut_editor\\readme_conflict.png -> C:\\Users\\AG20459\\AppData\\Roaming\\jupyter\\nbextensions\\keyboard_shortcut_editor\\readme_conflict.png\n",
      "[I 11:38:05 InstallContribNbextensionsApp] Copying: c:\\users\\ag20459\\appdata\\local\\continuum\\anaconda3\\envs\\nlp_course\\lib\\site-packages\\jupyter_contrib_nbextensions\\nbextensions\\keyboard_shortcut_editor\\readme_dropdown.png -> C:\\Users\\AG20459\\AppData\\Roaming\\jupyter\\nbextensions\\keyboard_shortcut_editor\\readme_dropdown.png\n",
      "[I 11:38:05 InstallContribNbextensionsApp] Copying: c:\\users\\ag20459\\appdata\\local\\continuum\\anaconda3\\envs\\nlp_course\\lib\\site-packages\\jupyter_contrib_nbextensions\\nbextensions\\keyboard_shortcut_editor\\readme_menu_item.png -> C:\\Users\\AG20459\\AppData\\Roaming\\jupyter\\nbextensions\\keyboard_shortcut_editor\\readme_menu_item.png\n"
     ]
    },
    {
     "name": "stderr",
     "output_type": "stream",
     "text": [
      "[I 11:38:05 InstallContribNbextensionsApp] Copying: c:\\users\\ag20459\\appdata\\local\\continuum\\anaconda3\\envs\\nlp_course\\lib\\site-packages\\jupyter_contrib_nbextensions\\nbextensions\\keyboard_shortcut_editor\\readme_reset_disabled.png -> C:\\Users\\AG20459\\AppData\\Roaming\\jupyter\\nbextensions\\keyboard_shortcut_editor\\readme_reset_disabled.png\n",
      "[I 11:38:05 InstallContribNbextensionsApp] Copying: c:\\users\\ag20459\\appdata\\local\\continuum\\anaconda3\\envs\\nlp_course\\lib\\site-packages\\jupyter_contrib_nbextensions\\nbextensions\\keyboard_shortcut_editor\\readme_shortcut_editor_blank.png -> C:\\Users\\AG20459\\AppData\\Roaming\\jupyter\\nbextensions\\keyboard_shortcut_editor\\readme_shortcut_editor_blank.png\n",
      "[I 11:38:05 InstallContribNbextensionsApp] Copying: c:\\users\\ag20459\\appdata\\local\\continuum\\anaconda3\\envs\\nlp_course\\lib\\site-packages\\jupyter_contrib_nbextensions\\nbextensions\\keyboard_shortcut_editor\\readme_shortcut_editor_success.png -> C:\\Users\\AG20459\\AppData\\Roaming\\jupyter\\nbextensions\\keyboard_shortcut_editor\\readme_shortcut_editor_success.png\n",
      "[I 11:38:05 InstallContribNbextensionsApp] Copying: c:\\users\\ag20459\\appdata\\local\\continuum\\anaconda3\\envs\\nlp_course\\lib\\site-packages\\jupyter_contrib_nbextensions\\nbextensions\\keyboard_shortcut_editor\\readme_undefined_key.png -> C:\\Users\\AG20459\\AppData\\Roaming\\jupyter\\nbextensions\\keyboard_shortcut_editor\\readme_undefined_key.png\n",
      "[I 11:38:05 InstallContribNbextensionsApp] - Validating: ok\n",
      "[I 11:38:05 InstallContribNbextensionsApp] Installing c:\\users\\ag20459\\appdata\\local\\continuum\\anaconda3\\envs\\nlp_course\\lib\\site-packages\\jupyter_contrib_nbextensions\\nbextensions\\limit_output -> limit_output\n",
      "[I 11:38:05 InstallContribNbextensionsApp] Making directory: C:\\Users\\AG20459\\AppData\\Roaming\\jupyter\\nbextensions\\limit_output\\\n",
      "[I 11:38:05 InstallContribNbextensionsApp] Copying: c:\\users\\ag20459\\appdata\\local\\continuum\\anaconda3\\envs\\nlp_course\\lib\\site-packages\\jupyter_contrib_nbextensions\\nbextensions\\limit_output\\icon.png -> C:\\Users\\AG20459\\AppData\\Roaming\\jupyter\\nbextensions\\limit_output\\icon.png\n",
      "[I 11:38:05 InstallContribNbextensionsApp] Copying: c:\\users\\ag20459\\appdata\\local\\continuum\\anaconda3\\envs\\nlp_course\\lib\\site-packages\\jupyter_contrib_nbextensions\\nbextensions\\limit_output\\limit-output.yaml -> C:\\Users\\AG20459\\AppData\\Roaming\\jupyter\\nbextensions\\limit_output\\limit-output.yaml\n",
      "[I 11:38:05 InstallContribNbextensionsApp] Copying: c:\\users\\ag20459\\appdata\\local\\continuum\\anaconda3\\envs\\nlp_course\\lib\\site-packages\\jupyter_contrib_nbextensions\\nbextensions\\limit_output\\main.js -> C:\\Users\\AG20459\\AppData\\Roaming\\jupyter\\nbextensions\\limit_output\\main.js\n",
      "[I 11:38:05 InstallContribNbextensionsApp] Copying: c:\\users\\ag20459\\appdata\\local\\continuum\\anaconda3\\envs\\nlp_course\\lib\\site-packages\\jupyter_contrib_nbextensions\\nbextensions\\limit_output\\readme.md -> C:\\Users\\AG20459\\AppData\\Roaming\\jupyter\\nbextensions\\limit_output\\readme.md\n",
      "[I 11:38:05 InstallContribNbextensionsApp] - Validating: ok\n",
      "[I 11:38:05 InstallContribNbextensionsApp] Installing c:\\users\\ag20459\\appdata\\local\\continuum\\anaconda3\\envs\\nlp_course\\lib\\site-packages\\jupyter_contrib_nbextensions\\nbextensions\\livemdpreview -> livemdpreview\n",
      "[I 11:38:05 InstallContribNbextensionsApp] Making directory: C:\\Users\\AG20459\\AppData\\Roaming\\jupyter\\nbextensions\\livemdpreview\\\n",
      "[I 11:38:05 InstallContribNbextensionsApp] Copying: c:\\users\\ag20459\\appdata\\local\\continuum\\anaconda3\\envs\\nlp_course\\lib\\site-packages\\jupyter_contrib_nbextensions\\nbextensions\\livemdpreview\\livemdpreview.js -> C:\\Users\\AG20459\\AppData\\Roaming\\jupyter\\nbextensions\\livemdpreview\\livemdpreview.js\n",
      "[I 11:38:05 InstallContribNbextensionsApp] Copying: c:\\users\\ag20459\\appdata\\local\\continuum\\anaconda3\\envs\\nlp_course\\lib\\site-packages\\jupyter_contrib_nbextensions\\nbextensions\\livemdpreview\\livemdpreview.yml -> C:\\Users\\AG20459\\AppData\\Roaming\\jupyter\\nbextensions\\livemdpreview\\livemdpreview.yml\n",
      "[I 11:38:05 InstallContribNbextensionsApp] - Validating: ok\n",
      "[I 11:38:05 InstallContribNbextensionsApp] Installing c:\\users\\ag20459\\appdata\\local\\continuum\\anaconda3\\envs\\nlp_course\\lib\\site-packages\\jupyter_contrib_nbextensions\\nbextensions\\load_tex_macros -> load_tex_macros\n",
      "[I 11:38:05 InstallContribNbextensionsApp] Making directory: C:\\Users\\AG20459\\AppData\\Roaming\\jupyter\\nbextensions\\load_tex_macros\\\n",
      "[I 11:38:05 InstallContribNbextensionsApp] Copying: c:\\users\\ag20459\\appdata\\local\\continuum\\anaconda3\\envs\\nlp_course\\lib\\site-packages\\jupyter_contrib_nbextensions\\nbextensions\\load_tex_macros\\icon.png -> C:\\Users\\AG20459\\AppData\\Roaming\\jupyter\\nbextensions\\load_tex_macros\\icon.png\n",
      "[I 11:38:05 InstallContribNbextensionsApp] Copying: c:\\users\\ag20459\\appdata\\local\\continuum\\anaconda3\\envs\\nlp_course\\lib\\site-packages\\jupyter_contrib_nbextensions\\nbextensions\\load_tex_macros\\load_tex_macros.yaml -> C:\\Users\\AG20459\\AppData\\Roaming\\jupyter\\nbextensions\\load_tex_macros\\load_tex_macros.yaml\n",
      "[I 11:38:05 InstallContribNbextensionsApp] Copying: c:\\users\\ag20459\\appdata\\local\\continuum\\anaconda3\\envs\\nlp_course\\lib\\site-packages\\jupyter_contrib_nbextensions\\nbextensions\\load_tex_macros\\main.js -> C:\\Users\\AG20459\\AppData\\Roaming\\jupyter\\nbextensions\\load_tex_macros\\main.js\n",
      "[I 11:38:05 InstallContribNbextensionsApp] Copying: c:\\users\\ag20459\\appdata\\local\\continuum\\anaconda3\\envs\\nlp_course\\lib\\site-packages\\jupyter_contrib_nbextensions\\nbextensions\\load_tex_macros\\readme.md -> C:\\Users\\AG20459\\AppData\\Roaming\\jupyter\\nbextensions\\load_tex_macros\\readme.md\n",
      "[I 11:38:05 InstallContribNbextensionsApp] - Validating: ok\n",
      "[I 11:38:05 InstallContribNbextensionsApp] Installing c:\\users\\ag20459\\appdata\\local\\continuum\\anaconda3\\envs\\nlp_course\\lib\\site-packages\\jupyter_contrib_nbextensions\\nbextensions\\move_selected_cells -> move_selected_cells\n",
      "[I 11:38:05 InstallContribNbextensionsApp] Making directory: C:\\Users\\AG20459\\AppData\\Roaming\\jupyter\\nbextensions\\move_selected_cells\\\n",
      "[I 11:38:05 InstallContribNbextensionsApp] Copying: c:\\users\\ag20459\\appdata\\local\\continuum\\anaconda3\\envs\\nlp_course\\lib\\site-packages\\jupyter_contrib_nbextensions\\nbextensions\\move_selected_cells\\main.js -> C:\\Users\\AG20459\\AppData\\Roaming\\jupyter\\nbextensions\\move_selected_cells\\main.js\n",
      "[I 11:38:05 InstallContribNbextensionsApp] Copying: c:\\users\\ag20459\\appdata\\local\\continuum\\anaconda3\\envs\\nlp_course\\lib\\site-packages\\jupyter_contrib_nbextensions\\nbextensions\\move_selected_cells\\move_selected_cells.yaml -> C:\\Users\\AG20459\\AppData\\Roaming\\jupyter\\nbextensions\\move_selected_cells\\move_selected_cells.yaml\n",
      "[I 11:38:05 InstallContribNbextensionsApp] Copying: c:\\users\\ag20459\\appdata\\local\\continuum\\anaconda3\\envs\\nlp_course\\lib\\site-packages\\jupyter_contrib_nbextensions\\nbextensions\\move_selected_cells\\README.md -> C:\\Users\\AG20459\\AppData\\Roaming\\jupyter\\nbextensions\\move_selected_cells\\README.md\n",
      "[I 11:38:05 InstallContribNbextensionsApp] - Validating: ok\n",
      "[I 11:38:05 InstallContribNbextensionsApp] Installing c:\\users\\ag20459\\appdata\\local\\continuum\\anaconda3\\envs\\nlp_course\\lib\\site-packages\\jupyter_contrib_nbextensions\\nbextensions\\navigation-hotkeys -> navigation-hotkeys\n",
      "[I 11:38:05 InstallContribNbextensionsApp] Making directory: C:\\Users\\AG20459\\AppData\\Roaming\\jupyter\\nbextensions\\navigation-hotkeys\\\n",
      "[I 11:38:05 InstallContribNbextensionsApp] Copying: c:\\users\\ag20459\\appdata\\local\\continuum\\anaconda3\\envs\\nlp_course\\lib\\site-packages\\jupyter_contrib_nbextensions\\nbextensions\\navigation-hotkeys\\hotkeys.yaml -> C:\\Users\\AG20459\\AppData\\Roaming\\jupyter\\nbextensions\\navigation-hotkeys\\hotkeys.yaml\n",
      "[I 11:38:05 InstallContribNbextensionsApp] Copying: c:\\users\\ag20459\\appdata\\local\\continuum\\anaconda3\\envs\\nlp_course\\lib\\site-packages\\jupyter_contrib_nbextensions\\nbextensions\\navigation-hotkeys\\icon.png -> C:\\Users\\AG20459\\AppData\\Roaming\\jupyter\\nbextensions\\navigation-hotkeys\\icon.png\n",
      "[I 11:38:05 InstallContribNbextensionsApp] Copying: c:\\users\\ag20459\\appdata\\local\\continuum\\anaconda3\\envs\\nlp_course\\lib\\site-packages\\jupyter_contrib_nbextensions\\nbextensions\\navigation-hotkeys\\main.js -> C:\\Users\\AG20459\\AppData\\Roaming\\jupyter\\nbextensions\\navigation-hotkeys\\main.js\n",
      "[I 11:38:05 InstallContribNbextensionsApp] Copying: c:\\users\\ag20459\\appdata\\local\\continuum\\anaconda3\\envs\\nlp_course\\lib\\site-packages\\jupyter_contrib_nbextensions\\nbextensions\\navigation-hotkeys\\readme.md -> C:\\Users\\AG20459\\AppData\\Roaming\\jupyter\\nbextensions\\navigation-hotkeys\\readme.md\n",
      "[I 11:38:05 InstallContribNbextensionsApp] - Validating: ok\n",
      "[I 11:38:05 InstallContribNbextensionsApp] Installing c:\\users\\ag20459\\appdata\\local\\continuum\\anaconda3\\envs\\nlp_course\\lib\\site-packages\\jupyter_contrib_nbextensions\\nbextensions\\nbTranslate -> nbTranslate\n",
      "[I 11:38:05 InstallContribNbextensionsApp] Making directory: C:\\Users\\AG20459\\AppData\\Roaming\\jupyter\\nbextensions\\nbTranslate\\\n",
      "[I 11:38:05 InstallContribNbextensionsApp] Copying: c:\\users\\ag20459\\appdata\\local\\continuum\\anaconda3\\envs\\nlp_course\\lib\\site-packages\\jupyter_contrib_nbextensions\\nbextensions\\nbTranslate\\demo1.gif -> C:\\Users\\AG20459\\AppData\\Roaming\\jupyter\\nbextensions\\nbTranslate\\demo1.gif\n",
      "[I 11:38:05 InstallContribNbextensionsApp] Copying: c:\\users\\ag20459\\appdata\\local\\continuum\\anaconda3\\envs\\nlp_course\\lib\\site-packages\\jupyter_contrib_nbextensions\\nbextensions\\nbTranslate\\demo2.gif -> C:\\Users\\AG20459\\AppData\\Roaming\\jupyter\\nbextensions\\nbTranslate\\demo2.gif\n",
      "[I 11:38:05 InstallContribNbextensionsApp] Copying: c:\\users\\ag20459\\appdata\\local\\continuum\\anaconda3\\envs\\nlp_course\\lib\\site-packages\\jupyter_contrib_nbextensions\\nbextensions\\nbTranslate\\languages.js -> C:\\Users\\AG20459\\AppData\\Roaming\\jupyter\\nbextensions\\nbTranslate\\languages.js\n",
      "[I 11:38:05 InstallContribNbextensionsApp] Copying: c:\\users\\ag20459\\appdata\\local\\continuum\\anaconda3\\envs\\nlp_course\\lib\\site-packages\\jupyter_contrib_nbextensions\\nbextensions\\nbTranslate\\main.js -> C:\\Users\\AG20459\\AppData\\Roaming\\jupyter\\nbextensions\\nbTranslate\\main.js\n",
      "[I 11:38:05 InstallContribNbextensionsApp] Copying: c:\\users\\ag20459\\appdata\\local\\continuum\\anaconda3\\envs\\nlp_course\\lib\\site-packages\\jupyter_contrib_nbextensions\\nbextensions\\nbTranslate\\mutils.js -> C:\\Users\\AG20459\\AppData\\Roaming\\jupyter\\nbextensions\\nbTranslate\\mutils.js\n",
      "[I 11:38:05 InstallContribNbextensionsApp] Copying: c:\\users\\ag20459\\appdata\\local\\continuum\\anaconda3\\envs\\nlp_course\\lib\\site-packages\\jupyter_contrib_nbextensions\\nbextensions\\nbTranslate\\nbTranslate.js -> C:\\Users\\AG20459\\AppData\\Roaming\\jupyter\\nbextensions\\nbTranslate\\nbTranslate.js\n",
      "[I 11:38:05 InstallContribNbextensionsApp] Copying: c:\\users\\ag20459\\appdata\\local\\continuum\\anaconda3\\envs\\nlp_course\\lib\\site-packages\\jupyter_contrib_nbextensions\\nbextensions\\nbTranslate\\nbTranslate.yaml -> C:\\Users\\AG20459\\AppData\\Roaming\\jupyter\\nbextensions\\nbTranslate\\nbTranslate.yaml\n",
      "[I 11:38:05 InstallContribNbextensionsApp] Copying: c:\\users\\ag20459\\appdata\\local\\continuum\\anaconda3\\envs\\nlp_course\\lib\\site-packages\\jupyter_contrib_nbextensions\\nbextensions\\nbTranslate\\README.md -> C:\\Users\\AG20459\\AppData\\Roaming\\jupyter\\nbextensions\\nbTranslate\\README.md\n",
      "[I 11:38:05 InstallContribNbextensionsApp] - Validating: ok\n",
      "[I 11:38:05 InstallContribNbextensionsApp] Installing c:\\users\\ag20459\\appdata\\local\\continuum\\anaconda3\\envs\\nlp_course\\lib\\site-packages\\jupyter_contrib_nbextensions\\nbextensions\\notify -> notify\n",
      "[I 11:38:05 InstallContribNbextensionsApp] Making directory: C:\\Users\\AG20459\\AppData\\Roaming\\jupyter\\nbextensions\\notify\\\n",
      "[I 11:38:05 InstallContribNbextensionsApp] Copying: c:\\users\\ag20459\\appdata\\local\\continuum\\anaconda3\\envs\\nlp_course\\lib\\site-packages\\jupyter_contrib_nbextensions\\nbextensions\\notify\\notification.png -> C:\\Users\\AG20459\\AppData\\Roaming\\jupyter\\nbextensions\\notify\\notification.png\n",
      "[I 11:38:05 InstallContribNbextensionsApp] Copying: c:\\users\\ag20459\\appdata\\local\\continuum\\anaconda3\\envs\\nlp_course\\lib\\site-packages\\jupyter_contrib_nbextensions\\nbextensions\\notify\\notify.js -> C:\\Users\\AG20459\\AppData\\Roaming\\jupyter\\nbextensions\\notify\\notify.js\n",
      "[I 11:38:05 InstallContribNbextensionsApp] Copying: c:\\users\\ag20459\\appdata\\local\\continuum\\anaconda3\\envs\\nlp_course\\lib\\site-packages\\jupyter_contrib_nbextensions\\nbextensions\\notify\\notify.mp3 -> C:\\Users\\AG20459\\AppData\\Roaming\\jupyter\\nbextensions\\notify\\notify.mp3\n",
      "[I 11:38:05 InstallContribNbextensionsApp] Copying: c:\\users\\ag20459\\appdata\\local\\continuum\\anaconda3\\envs\\nlp_course\\lib\\site-packages\\jupyter_contrib_nbextensions\\nbextensions\\notify\\notify.yaml -> C:\\Users\\AG20459\\AppData\\Roaming\\jupyter\\nbextensions\\notify\\notify.yaml\n",
      "[I 11:38:05 InstallContribNbextensionsApp] Copying: c:\\users\\ag20459\\appdata\\local\\continuum\\anaconda3\\envs\\nlp_course\\lib\\site-packages\\jupyter_contrib_nbextensions\\nbextensions\\notify\\readme.md -> C:\\Users\\AG20459\\AppData\\Roaming\\jupyter\\nbextensions\\notify\\readme.md\n",
      "[I 11:38:05 InstallContribNbextensionsApp] - Validating: ok\n",
      "[I 11:38:05 InstallContribNbextensionsApp] Installing c:\\users\\ag20459\\appdata\\local\\continuum\\anaconda3\\envs\\nlp_course\\lib\\site-packages\\jupyter_contrib_nbextensions\\nbextensions\\printview -> printview\n",
      "[I 11:38:05 InstallContribNbextensionsApp] Making directory: C:\\Users\\AG20459\\AppData\\Roaming\\jupyter\\nbextensions\\printview\\\n",
      "[I 11:38:05 InstallContribNbextensionsApp] Copying: c:\\users\\ag20459\\appdata\\local\\continuum\\anaconda3\\envs\\nlp_course\\lib\\site-packages\\jupyter_contrib_nbextensions\\nbextensions\\printview\\icon.png -> C:\\Users\\AG20459\\AppData\\Roaming\\jupyter\\nbextensions\\printview\\icon.png\n",
      "[I 11:38:05 InstallContribNbextensionsApp] Copying: c:\\users\\ag20459\\appdata\\local\\continuum\\anaconda3\\envs\\nlp_course\\lib\\site-packages\\jupyter_contrib_nbextensions\\nbextensions\\printview\\main.js -> C:\\Users\\AG20459\\AppData\\Roaming\\jupyter\\nbextensions\\printview\\main.js\n",
      "[I 11:38:05 InstallContribNbextensionsApp] Copying: c:\\users\\ag20459\\appdata\\local\\continuum\\anaconda3\\envs\\nlp_course\\lib\\site-packages\\jupyter_contrib_nbextensions\\nbextensions\\printview\\printview-button.png -> C:\\Users\\AG20459\\AppData\\Roaming\\jupyter\\nbextensions\\printview\\printview-button.png\n",
      "[I 11:38:05 InstallContribNbextensionsApp] Copying: c:\\users\\ag20459\\appdata\\local\\continuum\\anaconda3\\envs\\nlp_course\\lib\\site-packages\\jupyter_contrib_nbextensions\\nbextensions\\printview\\printview.yaml -> C:\\Users\\AG20459\\AppData\\Roaming\\jupyter\\nbextensions\\printview\\printview.yaml\n",
      "[I 11:38:05 InstallContribNbextensionsApp] Copying: c:\\users\\ag20459\\appdata\\local\\continuum\\anaconda3\\envs\\nlp_course\\lib\\site-packages\\jupyter_contrib_nbextensions\\nbextensions\\printview\\readme.md -> C:\\Users\\AG20459\\AppData\\Roaming\\jupyter\\nbextensions\\printview\\readme.md\n",
      "[I 11:38:05 InstallContribNbextensionsApp] - Validating: ok\n",
      "[I 11:38:05 InstallContribNbextensionsApp] Installing c:\\users\\ag20459\\appdata\\local\\continuum\\anaconda3\\envs\\nlp_course\\lib\\site-packages\\jupyter_contrib_nbextensions\\nbextensions\\python-markdown -> python-markdown\n",
      "[I 11:38:05 InstallContribNbextensionsApp] Making directory: C:\\Users\\AG20459\\AppData\\Roaming\\jupyter\\nbextensions\\python-markdown\\\n",
      "[I 11:38:05 InstallContribNbextensionsApp] Copying: c:\\users\\ag20459\\appdata\\local\\continuum\\anaconda3\\envs\\nlp_course\\lib\\site-packages\\jupyter_contrib_nbextensions\\nbextensions\\python-markdown\\main.css -> C:\\Users\\AG20459\\AppData\\Roaming\\jupyter\\nbextensions\\python-markdown\\main.css\n",
      "[I 11:38:05 InstallContribNbextensionsApp] Copying: c:\\users\\ag20459\\appdata\\local\\continuum\\anaconda3\\envs\\nlp_course\\lib\\site-packages\\jupyter_contrib_nbextensions\\nbextensions\\python-markdown\\main.js -> C:\\Users\\AG20459\\AppData\\Roaming\\jupyter\\nbextensions\\python-markdown\\main.js\n",
      "[I 11:38:05 InstallContribNbextensionsApp] Copying: c:\\users\\ag20459\\appdata\\local\\continuum\\anaconda3\\envs\\nlp_course\\lib\\site-packages\\jupyter_contrib_nbextensions\\nbextensions\\python-markdown\\python-markdown-post.png -> C:\\Users\\AG20459\\AppData\\Roaming\\jupyter\\nbextensions\\python-markdown\\python-markdown-post.png\n",
      "[I 11:38:05 InstallContribNbextensionsApp] Copying: c:\\users\\ag20459\\appdata\\local\\continuum\\anaconda3\\envs\\nlp_course\\lib\\site-packages\\jupyter_contrib_nbextensions\\nbextensions\\python-markdown\\python-markdown-pre.png -> C:\\Users\\AG20459\\AppData\\Roaming\\jupyter\\nbextensions\\python-markdown\\python-markdown-pre.png\n",
      "[I 11:38:05 InstallContribNbextensionsApp] Copying: c:\\users\\ag20459\\appdata\\local\\continuum\\anaconda3\\envs\\nlp_course\\lib\\site-packages\\jupyter_contrib_nbextensions\\nbextensions\\python-markdown\\python-markdown.png -> C:\\Users\\AG20459\\AppData\\Roaming\\jupyter\\nbextensions\\python-markdown\\python-markdown.png\n",
      "[I 11:38:05 InstallContribNbextensionsApp] Copying: c:\\users\\ag20459\\appdata\\local\\continuum\\anaconda3\\envs\\nlp_course\\lib\\site-packages\\jupyter_contrib_nbextensions\\nbextensions\\python-markdown\\python-markdown.yaml -> C:\\Users\\AG20459\\AppData\\Roaming\\jupyter\\nbextensions\\python-markdown\\python-markdown.yaml\n",
      "[I 11:38:05 InstallContribNbextensionsApp] Copying: c:\\users\\ag20459\\appdata\\local\\continuum\\anaconda3\\envs\\nlp_course\\lib\\site-packages\\jupyter_contrib_nbextensions\\nbextensions\\python-markdown\\readme.md -> C:\\Users\\AG20459\\AppData\\Roaming\\jupyter\\nbextensions\\python-markdown\\readme.md\n",
      "[I 11:38:05 InstallContribNbextensionsApp] Copying: c:\\users\\ag20459\\appdata\\local\\continuum\\anaconda3\\envs\\nlp_course\\lib\\site-packages\\jupyter_contrib_nbextensions\\nbextensions\\python-markdown\\trusted.png -> C:\\Users\\AG20459\\AppData\\Roaming\\jupyter\\nbextensions\\python-markdown\\trusted.png\n",
      "[I 11:38:05 InstallContribNbextensionsApp] Copying: c:\\users\\ag20459\\appdata\\local\\continuum\\anaconda3\\envs\\nlp_course\\lib\\site-packages\\jupyter_contrib_nbextensions\\nbextensions\\python-markdown\\untrusted.png -> C:\\Users\\AG20459\\AppData\\Roaming\\jupyter\\nbextensions\\python-markdown\\untrusted.png\n",
      "[I 11:38:05 InstallContribNbextensionsApp] - Validating: ok\n",
      "[I 11:38:05 InstallContribNbextensionsApp] Installing c:\\users\\ag20459\\appdata\\local\\continuum\\anaconda3\\envs\\nlp_course\\lib\\site-packages\\jupyter_contrib_nbextensions\\nbextensions\\qtconsole -> qtconsole\n",
      "[I 11:38:05 InstallContribNbextensionsApp] Making directory: C:\\Users\\AG20459\\AppData\\Roaming\\jupyter\\nbextensions\\qtconsole\\\n",
      "[I 11:38:05 InstallContribNbextensionsApp] Copying: c:\\users\\ag20459\\appdata\\local\\continuum\\anaconda3\\envs\\nlp_course\\lib\\site-packages\\jupyter_contrib_nbextensions\\nbextensions\\qtconsole\\qtconsole.js -> C:\\Users\\AG20459\\AppData\\Roaming\\jupyter\\nbextensions\\qtconsole\\qtconsole.js\n",
      "[I 11:38:05 InstallContribNbextensionsApp] Copying: c:\\users\\ag20459\\appdata\\local\\continuum\\anaconda3\\envs\\nlp_course\\lib\\site-packages\\jupyter_contrib_nbextensions\\nbextensions\\qtconsole\\qtconsole.yaml -> C:\\Users\\AG20459\\AppData\\Roaming\\jupyter\\nbextensions\\qtconsole\\qtconsole.yaml\n",
      "[I 11:38:05 InstallContribNbextensionsApp] Copying: c:\\users\\ag20459\\appdata\\local\\continuum\\anaconda3\\envs\\nlp_course\\lib\\site-packages\\jupyter_contrib_nbextensions\\nbextensions\\qtconsole\\README.md -> C:\\Users\\AG20459\\AppData\\Roaming\\jupyter\\nbextensions\\qtconsole\\README.md\n",
      "[I 11:38:05 InstallContribNbextensionsApp] - Validating: ok\n",
      "[I 11:38:05 InstallContribNbextensionsApp] Installing c:\\users\\ag20459\\appdata\\local\\continuum\\anaconda3\\envs\\nlp_course\\lib\\site-packages\\jupyter_contrib_nbextensions\\nbextensions\\rubberband -> rubberband\n",
      "[I 11:38:05 InstallContribNbextensionsApp] Making directory: C:\\Users\\AG20459\\AppData\\Roaming\\jupyter\\nbextensions\\rubberband\\\n",
      "[I 11:38:05 InstallContribNbextensionsApp] Copying: c:\\users\\ag20459\\appdata\\local\\continuum\\anaconda3\\envs\\nlp_course\\lib\\site-packages\\jupyter_contrib_nbextensions\\nbextensions\\rubberband\\icon.png -> C:\\Users\\AG20459\\AppData\\Roaming\\jupyter\\nbextensions\\rubberband\\icon.png\n",
      "[I 11:38:05 InstallContribNbextensionsApp] Copying: c:\\users\\ag20459\\appdata\\local\\continuum\\anaconda3\\envs\\nlp_course\\lib\\site-packages\\jupyter_contrib_nbextensions\\nbextensions\\rubberband\\main.css -> C:\\Users\\AG20459\\AppData\\Roaming\\jupyter\\nbextensions\\rubberband\\main.css\n",
      "[I 11:38:05 InstallContribNbextensionsApp] Copying: c:\\users\\ag20459\\appdata\\local\\continuum\\anaconda3\\envs\\nlp_course\\lib\\site-packages\\jupyter_contrib_nbextensions\\nbextensions\\rubberband\\main.js -> C:\\Users\\AG20459\\AppData\\Roaming\\jupyter\\nbextensions\\rubberband\\main.js\n",
      "[I 11:38:05 InstallContribNbextensionsApp] Copying: c:\\users\\ag20459\\appdata\\local\\continuum\\anaconda3\\envs\\nlp_course\\lib\\site-packages\\jupyter_contrib_nbextensions\\nbextensions\\rubberband\\readme.md -> C:\\Users\\AG20459\\AppData\\Roaming\\jupyter\\nbextensions\\rubberband\\readme.md\n",
      "[I 11:38:05 InstallContribNbextensionsApp] Copying: c:\\users\\ag20459\\appdata\\local\\continuum\\anaconda3\\envs\\nlp_course\\lib\\site-packages\\jupyter_contrib_nbextensions\\nbextensions\\rubberband\\rubberband.yaml -> C:\\Users\\AG20459\\AppData\\Roaming\\jupyter\\nbextensions\\rubberband\\rubberband.yaml\n",
      "[I 11:38:05 InstallContribNbextensionsApp] - Validating: ok\n",
      "[I 11:38:05 InstallContribNbextensionsApp] Installing c:\\users\\ag20459\\appdata\\local\\continuum\\anaconda3\\envs\\nlp_course\\lib\\site-packages\\jupyter_contrib_nbextensions\\nbextensions\\ruler -> ruler\n",
      "[I 11:38:05 InstallContribNbextensionsApp] Making directory: C:\\Users\\AG20459\\AppData\\Roaming\\jupyter\\nbextensions\\ruler\\\n",
      "[I 11:38:05 InstallContribNbextensionsApp] Copying: c:\\users\\ag20459\\appdata\\local\\continuum\\anaconda3\\envs\\nlp_course\\lib\\site-packages\\jupyter_contrib_nbextensions\\nbextensions\\ruler\\edit.js -> C:\\Users\\AG20459\\AppData\\Roaming\\jupyter\\nbextensions\\ruler\\edit.js\n",
      "[I 11:38:05 InstallContribNbextensionsApp] Copying: c:\\users\\ag20459\\appdata\\local\\continuum\\anaconda3\\envs\\nlp_course\\lib\\site-packages\\jupyter_contrib_nbextensions\\nbextensions\\ruler\\icon.png -> C:\\Users\\AG20459\\AppData\\Roaming\\jupyter\\nbextensions\\ruler\\icon.png\n",
      "[I 11:38:05 InstallContribNbextensionsApp] Copying: c:\\users\\ag20459\\appdata\\local\\continuum\\anaconda3\\envs\\nlp_course\\lib\\site-packages\\jupyter_contrib_nbextensions\\nbextensions\\ruler\\main.js -> C:\\Users\\AG20459\\AppData\\Roaming\\jupyter\\nbextensions\\ruler\\main.js\n",
      "[I 11:38:05 InstallContribNbextensionsApp] Copying: c:\\users\\ag20459\\appdata\\local\\continuum\\anaconda3\\envs\\nlp_course\\lib\\site-packages\\jupyter_contrib_nbextensions\\nbextensions\\ruler\\readme.md -> C:\\Users\\AG20459\\AppData\\Roaming\\jupyter\\nbextensions\\ruler\\readme.md\n",
      "[I 11:38:05 InstallContribNbextensionsApp] Copying: c:\\users\\ag20459\\appdata\\local\\continuum\\anaconda3\\envs\\nlp_course\\lib\\site-packages\\jupyter_contrib_nbextensions\\nbextensions\\ruler\\ruler.yaml -> C:\\Users\\AG20459\\AppData\\Roaming\\jupyter\\nbextensions\\ruler\\ruler.yaml\n",
      "[I 11:38:05 InstallContribNbextensionsApp] Copying: c:\\users\\ag20459\\appdata\\local\\continuum\\anaconda3\\envs\\nlp_course\\lib\\site-packages\\jupyter_contrib_nbextensions\\nbextensions\\ruler\\ruler_editor.yaml -> C:\\Users\\AG20459\\AppData\\Roaming\\jupyter\\nbextensions\\ruler\\ruler_editor.yaml\n",
      "[I 11:38:05 InstallContribNbextensionsApp] - Validating: ok\n",
      "[I 11:38:05 InstallContribNbextensionsApp] Installing c:\\users\\ag20459\\appdata\\local\\continuum\\anaconda3\\envs\\nlp_course\\lib\\site-packages\\jupyter_contrib_nbextensions\\nbextensions\\ruler -> ruler\n",
      "[I 11:38:05 InstallContribNbextensionsApp] Up to date: C:\\Users\\AG20459\\AppData\\Roaming\\jupyter\\nbextensions\\ruler\\edit.js\n",
      "[I 11:38:05 InstallContribNbextensionsApp] Up to date: C:\\Users\\AG20459\\AppData\\Roaming\\jupyter\\nbextensions\\ruler\\icon.png\n",
      "[I 11:38:05 InstallContribNbextensionsApp] Up to date: C:\\Users\\AG20459\\AppData\\Roaming\\jupyter\\nbextensions\\ruler\\main.js\n",
      "[I 11:38:05 InstallContribNbextensionsApp] Up to date: C:\\Users\\AG20459\\AppData\\Roaming\\jupyter\\nbextensions\\ruler\\readme.md\n",
      "[I 11:38:05 InstallContribNbextensionsApp] Up to date: C:\\Users\\AG20459\\AppData\\Roaming\\jupyter\\nbextensions\\ruler\\ruler.yaml\n",
      "[I 11:38:05 InstallContribNbextensionsApp] Up to date: C:\\Users\\AG20459\\AppData\\Roaming\\jupyter\\nbextensions\\ruler\\ruler_editor.yaml\n",
      "[I 11:38:05 InstallContribNbextensionsApp] - Validating: ok\n",
      "[I 11:38:05 InstallContribNbextensionsApp] Installing c:\\users\\ag20459\\appdata\\local\\continuum\\anaconda3\\envs\\nlp_course\\lib\\site-packages\\jupyter_contrib_nbextensions\\nbextensions\\runtools -> runtools\n",
      "[I 11:38:05 InstallContribNbextensionsApp] Making directory: C:\\Users\\AG20459\\AppData\\Roaming\\jupyter\\nbextensions\\runtools\\\n",
      "[I 11:38:05 InstallContribNbextensionsApp] Copying: c:\\users\\ag20459\\appdata\\local\\continuum\\anaconda3\\envs\\nlp_course\\lib\\site-packages\\jupyter_contrib_nbextensions\\nbextensions\\runtools\\annotations.odg -> C:\\Users\\AG20459\\AppData\\Roaming\\jupyter\\nbextensions\\runtools\\annotations.odg\n",
      "[I 11:38:05 InstallContribNbextensionsApp] Copying: c:\\users\\ag20459\\appdata\\local\\continuum\\anaconda3\\envs\\nlp_course\\lib\\site-packages\\jupyter_contrib_nbextensions\\nbextensions\\runtools\\cellstate.js -> C:\\Users\\AG20459\\AppData\\Roaming\\jupyter\\nbextensions\\runtools\\cellstate.js\n",
      "[I 11:38:05 InstallContribNbextensionsApp] Copying: c:\\users\\ag20459\\appdata\\local\\continuum\\anaconda3\\envs\\nlp_course\\lib\\site-packages\\jupyter_contrib_nbextensions\\nbextensions\\runtools\\demo.gif -> C:\\Users\\AG20459\\AppData\\Roaming\\jupyter\\nbextensions\\runtools\\demo.gif\n",
      "[I 11:38:05 InstallContribNbextensionsApp] Copying: c:\\users\\ag20459\\appdata\\local\\continuum\\anaconda3\\envs\\nlp_course\\lib\\site-packages\\jupyter_contrib_nbextensions\\nbextensions\\runtools\\gutter.css -> C:\\Users\\AG20459\\AppData\\Roaming\\jupyter\\nbextensions\\runtools\\gutter.css\n",
      "[I 11:38:05 InstallContribNbextensionsApp] Copying: c:\\users\\ag20459\\appdata\\local\\continuum\\anaconda3\\envs\\nlp_course\\lib\\site-packages\\jupyter_contrib_nbextensions\\nbextensions\\runtools\\icon.png -> C:\\Users\\AG20459\\AppData\\Roaming\\jupyter\\nbextensions\\runtools\\icon.png\n",
      "[I 11:38:05 InstallContribNbextensionsApp] Copying: c:\\users\\ag20459\\appdata\\local\\continuum\\anaconda3\\envs\\nlp_course\\lib\\site-packages\\jupyter_contrib_nbextensions\\nbextensions\\runtools\\main.css -> C:\\Users\\AG20459\\AppData\\Roaming\\jupyter\\nbextensions\\runtools\\main.css\n",
      "[I 11:38:05 InstallContribNbextensionsApp] Copying: c:\\users\\ag20459\\appdata\\local\\continuum\\anaconda3\\envs\\nlp_course\\lib\\site-packages\\jupyter_contrib_nbextensions\\nbextensions\\runtools\\main.js -> C:\\Users\\AG20459\\AppData\\Roaming\\jupyter\\nbextensions\\runtools\\main.js\n",
      "[I 11:38:05 InstallContribNbextensionsApp] Copying: c:\\users\\ag20459\\appdata\\local\\continuum\\anaconda3\\envs\\nlp_course\\lib\\site-packages\\jupyter_contrib_nbextensions\\nbextensions\\runtools\\readme.md -> C:\\Users\\AG20459\\AppData\\Roaming\\jupyter\\nbextensions\\runtools\\readme.md\n",
      "[I 11:38:05 InstallContribNbextensionsApp] Copying: c:\\users\\ag20459\\appdata\\local\\continuum\\anaconda3\\envs\\nlp_course\\lib\\site-packages\\jupyter_contrib_nbextensions\\nbextensions\\runtools\\runtools.yaml -> C:\\Users\\AG20459\\AppData\\Roaming\\jupyter\\nbextensions\\runtools\\runtools.yaml\n",
      "[I 11:38:05 InstallContribNbextensionsApp] Copying: c:\\users\\ag20459\\appdata\\local\\continuum\\anaconda3\\envs\\nlp_course\\lib\\site-packages\\jupyter_contrib_nbextensions\\nbextensions\\runtools\\runtools_execute.png -> C:\\Users\\AG20459\\AppData\\Roaming\\jupyter\\nbextensions\\runtools\\runtools_execute.png\n",
      "[I 11:38:05 InstallContribNbextensionsApp] Copying: c:\\users\\ag20459\\appdata\\local\\continuum\\anaconda3\\envs\\nlp_course\\lib\\site-packages\\jupyter_contrib_nbextensions\\nbextensions\\runtools\\runtools_lock.png -> C:\\Users\\AG20459\\AppData\\Roaming\\jupyter\\nbextensions\\runtools\\runtools_lock.png\n",
      "[I 11:38:05 InstallContribNbextensionsApp] Copying: c:\\users\\ag20459\\appdata\\local\\continuum\\anaconda3\\envs\\nlp_course\\lib\\site-packages\\jupyter_contrib_nbextensions\\nbextensions\\runtools\\runtools_marker.png -> C:\\Users\\AG20459\\AppData\\Roaming\\jupyter\\nbextensions\\runtools\\runtools_marker.png\n",
      "[I 11:38:06 InstallContribNbextensionsApp] Copying: c:\\users\\ag20459\\appdata\\local\\continuum\\anaconda3\\envs\\nlp_course\\lib\\site-packages\\jupyter_contrib_nbextensions\\nbextensions\\runtools\\runtools_nb.png -> C:\\Users\\AG20459\\AppData\\Roaming\\jupyter\\nbextensions\\runtools\\runtools_nb.png\n",
      "[I 11:38:06 InstallContribNbextensionsApp] Copying: c:\\users\\ag20459\\appdata\\local\\continuum\\anaconda3\\envs\\nlp_course\\lib\\site-packages\\jupyter_contrib_nbextensions\\nbextensions\\runtools\\runtools_show_hide.png -> C:\\Users\\AG20459\\AppData\\Roaming\\jupyter\\nbextensions\\runtools\\runtools_show_hide.png\n",
      "[I 11:38:06 InstallContribNbextensionsApp] - Validating: ok\n",
      "[I 11:38:06 InstallContribNbextensionsApp] Installing c:\\users\\ag20459\\appdata\\local\\continuum\\anaconda3\\envs\\nlp_course\\lib\\site-packages\\jupyter_contrib_nbextensions\\nbextensions\\scratchpad -> scratchpad\n",
      "[I 11:38:06 InstallContribNbextensionsApp] Making directory: C:\\Users\\AG20459\\AppData\\Roaming\\jupyter\\nbextensions\\scratchpad\\\n",
      "[I 11:38:06 InstallContribNbextensionsApp] Copying: c:\\users\\ag20459\\appdata\\local\\continuum\\anaconda3\\envs\\nlp_course\\lib\\site-packages\\jupyter_contrib_nbextensions\\nbextensions\\scratchpad\\demo.gif -> C:\\Users\\AG20459\\AppData\\Roaming\\jupyter\\nbextensions\\scratchpad\\demo.gif\n",
      "[I 11:38:06 InstallContribNbextensionsApp] Copying: c:\\users\\ag20459\\appdata\\local\\continuum\\anaconda3\\envs\\nlp_course\\lib\\site-packages\\jupyter_contrib_nbextensions\\nbextensions\\scratchpad\\LICENSE -> C:\\Users\\AG20459\\AppData\\Roaming\\jupyter\\nbextensions\\scratchpad\\LICENSE\n",
      "[I 11:38:06 InstallContribNbextensionsApp] Copying: c:\\users\\ag20459\\appdata\\local\\continuum\\anaconda3\\envs\\nlp_course\\lib\\site-packages\\jupyter_contrib_nbextensions\\nbextensions\\scratchpad\\main.js -> C:\\Users\\AG20459\\AppData\\Roaming\\jupyter\\nbextensions\\scratchpad\\main.js\n",
      "[I 11:38:06 InstallContribNbextensionsApp] Copying: c:\\users\\ag20459\\appdata\\local\\continuum\\anaconda3\\envs\\nlp_course\\lib\\site-packages\\jupyter_contrib_nbextensions\\nbextensions\\scratchpad\\README.md -> C:\\Users\\AG20459\\AppData\\Roaming\\jupyter\\nbextensions\\scratchpad\\README.md\n",
      "[I 11:38:06 InstallContribNbextensionsApp] Copying: c:\\users\\ag20459\\appdata\\local\\continuum\\anaconda3\\envs\\nlp_course\\lib\\site-packages\\jupyter_contrib_nbextensions\\nbextensions\\scratchpad\\scratchpad.css -> C:\\Users\\AG20459\\AppData\\Roaming\\jupyter\\nbextensions\\scratchpad\\scratchpad.css\n",
      "[I 11:38:06 InstallContribNbextensionsApp] Copying: c:\\users\\ag20459\\appdata\\local\\continuum\\anaconda3\\envs\\nlp_course\\lib\\site-packages\\jupyter_contrib_nbextensions\\nbextensions\\scratchpad\\scratchpad.yaml -> C:\\Users\\AG20459\\AppData\\Roaming\\jupyter\\nbextensions\\scratchpad\\scratchpad.yaml\n",
      "[I 11:38:06 InstallContribNbextensionsApp] - Validating: ok\n",
      "[I 11:38:06 InstallContribNbextensionsApp] Installing c:\\users\\ag20459\\appdata\\local\\continuum\\anaconda3\\envs\\nlp_course\\lib\\site-packages\\jupyter_contrib_nbextensions\\nbextensions\\scroll_down -> scroll_down\n",
      "[I 11:38:06 InstallContribNbextensionsApp] Making directory: C:\\Users\\AG20459\\AppData\\Roaming\\jupyter\\nbextensions\\scroll_down\\\n",
      "[I 11:38:06 InstallContribNbextensionsApp] Copying: c:\\users\\ag20459\\appdata\\local\\continuum\\anaconda3\\envs\\nlp_course\\lib\\site-packages\\jupyter_contrib_nbextensions\\nbextensions\\scroll_down\\config.yaml -> C:\\Users\\AG20459\\AppData\\Roaming\\jupyter\\nbextensions\\scroll_down\\config.yaml\n",
      "[I 11:38:06 InstallContribNbextensionsApp] Copying: c:\\users\\ag20459\\appdata\\local\\continuum\\anaconda3\\envs\\nlp_course\\lib\\site-packages\\jupyter_contrib_nbextensions\\nbextensions\\scroll_down\\icon.png -> C:\\Users\\AG20459\\AppData\\Roaming\\jupyter\\nbextensions\\scroll_down\\icon.png\n",
      "[I 11:38:06 InstallContribNbextensionsApp] Copying: c:\\users\\ag20459\\appdata\\local\\continuum\\anaconda3\\envs\\nlp_course\\lib\\site-packages\\jupyter_contrib_nbextensions\\nbextensions\\scroll_down\\main.js -> C:\\Users\\AG20459\\AppData\\Roaming\\jupyter\\nbextensions\\scroll_down\\main.js\n",
      "[I 11:38:06 InstallContribNbextensionsApp] Copying: c:\\users\\ag20459\\appdata\\local\\continuum\\anaconda3\\envs\\nlp_course\\lib\\site-packages\\jupyter_contrib_nbextensions\\nbextensions\\scroll_down\\readme.md -> C:\\Users\\AG20459\\AppData\\Roaming\\jupyter\\nbextensions\\scroll_down\\readme.md\n",
      "[I 11:38:06 InstallContribNbextensionsApp] - Validating: ok\n",
      "[I 11:38:06 InstallContribNbextensionsApp] Installing c:\\users\\ag20459\\appdata\\local\\continuum\\anaconda3\\envs\\nlp_course\\lib\\site-packages\\jupyter_contrib_nbextensions\\nbextensions\\select_keymap -> select_keymap\n",
      "[I 11:38:06 InstallContribNbextensionsApp] Making directory: C:\\Users\\AG20459\\AppData\\Roaming\\jupyter\\nbextensions\\select_keymap\\\n",
      "[I 11:38:06 InstallContribNbextensionsApp] Copying: c:\\users\\ag20459\\appdata\\local\\continuum\\anaconda3\\envs\\nlp_course\\lib\\site-packages\\jupyter_contrib_nbextensions\\nbextensions\\select_keymap\\main.js -> C:\\Users\\AG20459\\AppData\\Roaming\\jupyter\\nbextensions\\select_keymap\\main.js\n",
      "[I 11:38:06 InstallContribNbextensionsApp] Copying: c:\\users\\ag20459\\appdata\\local\\continuum\\anaconda3\\envs\\nlp_course\\lib\\site-packages\\jupyter_contrib_nbextensions\\nbextensions\\select_keymap\\README.md -> C:\\Users\\AG20459\\AppData\\Roaming\\jupyter\\nbextensions\\select_keymap\\README.md\n",
      "[I 11:38:06 InstallContribNbextensionsApp] Copying: c:\\users\\ag20459\\appdata\\local\\continuum\\anaconda3\\envs\\nlp_course\\lib\\site-packages\\jupyter_contrib_nbextensions\\nbextensions\\select_keymap\\select_keymap.png -> C:\\Users\\AG20459\\AppData\\Roaming\\jupyter\\nbextensions\\select_keymap\\select_keymap.png\n",
      "[I 11:38:06 InstallContribNbextensionsApp] Copying: c:\\users\\ag20459\\appdata\\local\\continuum\\anaconda3\\envs\\nlp_course\\lib\\site-packages\\jupyter_contrib_nbextensions\\nbextensions\\select_keymap\\select_keymap.yaml -> C:\\Users\\AG20459\\AppData\\Roaming\\jupyter\\nbextensions\\select_keymap\\select_keymap.yaml\n",
      "[I 11:38:06 InstallContribNbextensionsApp] - Validating: ok\n",
      "[I 11:38:06 InstallContribNbextensionsApp] Installing c:\\users\\ag20459\\appdata\\local\\continuum\\anaconda3\\envs\\nlp_course\\lib\\site-packages\\jupyter_contrib_nbextensions\\nbextensions\\skill -> skill\n",
      "[I 11:38:06 InstallContribNbextensionsApp] Making directory: C:\\Users\\AG20459\\AppData\\Roaming\\jupyter\\nbextensions\\skill\\\n",
      "[I 11:38:06 InstallContribNbextensionsApp] Copying: c:\\users\\ag20459\\appdata\\local\\continuum\\anaconda3\\envs\\nlp_course\\lib\\site-packages\\jupyter_contrib_nbextensions\\nbextensions\\skill\\main.js -> C:\\Users\\AG20459\\AppData\\Roaming\\jupyter\\nbextensions\\skill\\main.js\n",
      "[I 11:38:06 InstallContribNbextensionsApp] Copying: c:\\users\\ag20459\\appdata\\local\\continuum\\anaconda3\\envs\\nlp_course\\lib\\site-packages\\jupyter_contrib_nbextensions\\nbextensions\\skill\\README.md -> C:\\Users\\AG20459\\AppData\\Roaming\\jupyter\\nbextensions\\skill\\README.md\n",
      "[I 11:38:06 InstallContribNbextensionsApp] Copying: c:\\users\\ag20459\\appdata\\local\\continuum\\anaconda3\\envs\\nlp_course\\lib\\site-packages\\jupyter_contrib_nbextensions\\nbextensions\\skill\\skill.js -> C:\\Users\\AG20459\\AppData\\Roaming\\jupyter\\nbextensions\\skill\\skill.js\n",
      "[I 11:38:06 InstallContribNbextensionsApp] Copying: c:\\users\\ag20459\\appdata\\local\\continuum\\anaconda3\\envs\\nlp_course\\lib\\site-packages\\jupyter_contrib_nbextensions\\nbextensions\\skill\\skill.yaml -> C:\\Users\\AG20459\\AppData\\Roaming\\jupyter\\nbextensions\\skill\\skill.yaml\n",
      "[I 11:38:06 InstallContribNbextensionsApp] - Validating: ok\n",
      "[I 11:38:06 InstallContribNbextensionsApp] Installing c:\\users\\ag20459\\appdata\\local\\continuum\\anaconda3\\envs\\nlp_course\\lib\\site-packages\\jupyter_contrib_nbextensions\\nbextensions\\skip-traceback -> skip-traceback\n",
      "[I 11:38:06 InstallContribNbextensionsApp] Making directory: C:\\Users\\AG20459\\AppData\\Roaming\\jupyter\\nbextensions\\skip-traceback\\\n",
      "[I 11:38:06 InstallContribNbextensionsApp] Copying: c:\\users\\ag20459\\appdata\\local\\continuum\\anaconda3\\envs\\nlp_course\\lib\\site-packages\\jupyter_contrib_nbextensions\\nbextensions\\skip-traceback\\icon.png -> C:\\Users\\AG20459\\AppData\\Roaming\\jupyter\\nbextensions\\skip-traceback\\icon.png\n",
      "[I 11:38:06 InstallContribNbextensionsApp] Copying: c:\\users\\ag20459\\appdata\\local\\continuum\\anaconda3\\envs\\nlp_course\\lib\\site-packages\\jupyter_contrib_nbextensions\\nbextensions\\skip-traceback\\main.js -> C:\\Users\\AG20459\\AppData\\Roaming\\jupyter\\nbextensions\\skip-traceback\\main.js\n",
      "[I 11:38:06 InstallContribNbextensionsApp] Copying: c:\\users\\ag20459\\appdata\\local\\continuum\\anaconda3\\envs\\nlp_course\\lib\\site-packages\\jupyter_contrib_nbextensions\\nbextensions\\skip-traceback\\readme.md -> C:\\Users\\AG20459\\AppData\\Roaming\\jupyter\\nbextensions\\skip-traceback\\readme.md\n",
      "[I 11:38:06 InstallContribNbextensionsApp] Copying: c:\\users\\ag20459\\appdata\\local\\continuum\\anaconda3\\envs\\nlp_course\\lib\\site-packages\\jupyter_contrib_nbextensions\\nbextensions\\skip-traceback\\skip-traceback.png -> C:\\Users\\AG20459\\AppData\\Roaming\\jupyter\\nbextensions\\skip-traceback\\skip-traceback.png\n",
      "[I 11:38:06 InstallContribNbextensionsApp] Copying: c:\\users\\ag20459\\appdata\\local\\continuum\\anaconda3\\envs\\nlp_course\\lib\\site-packages\\jupyter_contrib_nbextensions\\nbextensions\\skip-traceback\\skip-traceback.yaml -> C:\\Users\\AG20459\\AppData\\Roaming\\jupyter\\nbextensions\\skip-traceback\\skip-traceback.yaml\n",
      "[I 11:38:06 InstallContribNbextensionsApp] Copying: c:\\users\\ag20459\\appdata\\local\\continuum\\anaconda3\\envs\\nlp_course\\lib\\site-packages\\jupyter_contrib_nbextensions\\nbextensions\\skip-traceback\\traceback.png -> C:\\Users\\AG20459\\AppData\\Roaming\\jupyter\\nbextensions\\skip-traceback\\traceback.png\n",
      "[I 11:38:06 InstallContribNbextensionsApp] - Validating: ok\n",
      "[I 11:38:06 InstallContribNbextensionsApp] Installing c:\\users\\ag20459\\appdata\\local\\continuum\\anaconda3\\envs\\nlp_course\\lib\\site-packages\\jupyter_contrib_nbextensions\\nbextensions\\snippets -> snippets\n",
      "[I 11:38:06 InstallContribNbextensionsApp] Making directory: C:\\Users\\AG20459\\AppData\\Roaming\\jupyter\\nbextensions\\snippets\\\n",
      "[I 11:38:06 InstallContribNbextensionsApp] Copying: c:\\users\\ag20459\\appdata\\local\\continuum\\anaconda3\\envs\\nlp_course\\lib\\site-packages\\jupyter_contrib_nbextensions\\nbextensions\\snippets\\main.js -> C:\\Users\\AG20459\\AppData\\Roaming\\jupyter\\nbextensions\\snippets\\main.js\n",
      "[I 11:38:06 InstallContribNbextensionsApp] Copying: c:\\users\\ag20459\\appdata\\local\\continuum\\anaconda3\\envs\\nlp_course\\lib\\site-packages\\jupyter_contrib_nbextensions\\nbextensions\\snippets\\README.md -> C:\\Users\\AG20459\\AppData\\Roaming\\jupyter\\nbextensions\\snippets\\README.md\n",
      "[I 11:38:06 InstallContribNbextensionsApp] Copying: c:\\users\\ag20459\\appdata\\local\\continuum\\anaconda3\\envs\\nlp_course\\lib\\site-packages\\jupyter_contrib_nbextensions\\nbextensions\\snippets\\snippets-demo.gif -> C:\\Users\\AG20459\\AppData\\Roaming\\jupyter\\nbextensions\\snippets\\snippets-demo.gif\n",
      "[I 11:38:06 InstallContribNbextensionsApp] Copying: c:\\users\\ag20459\\appdata\\local\\continuum\\anaconda3\\envs\\nlp_course\\lib\\site-packages\\jupyter_contrib_nbextensions\\nbextensions\\snippets\\snippets.json -> C:\\Users\\AG20459\\AppData\\Roaming\\jupyter\\nbextensions\\snippets\\snippets.json\n",
      "[I 11:38:06 InstallContribNbextensionsApp] Copying: c:\\users\\ag20459\\appdata\\local\\continuum\\anaconda3\\envs\\nlp_course\\lib\\site-packages\\jupyter_contrib_nbextensions\\nbextensions\\snippets\\snippets.yaml -> C:\\Users\\AG20459\\AppData\\Roaming\\jupyter\\nbextensions\\snippets\\snippets.yaml\n",
      "[I 11:38:06 InstallContribNbextensionsApp] - Validating: ok\n",
      "[I 11:38:06 InstallContribNbextensionsApp] Installing c:\\users\\ag20459\\appdata\\local\\continuum\\anaconda3\\envs\\nlp_course\\lib\\site-packages\\jupyter_contrib_nbextensions\\nbextensions\\snippets_menu -> snippets_menu\n",
      "[I 11:38:06 InstallContribNbextensionsApp] Making directory: C:\\Users\\AG20459\\AppData\\Roaming\\jupyter\\nbextensions\\snippets_menu\\\n",
      "[I 11:38:06 InstallContribNbextensionsApp] Copying: c:\\users\\ag20459\\appdata\\local\\continuum\\anaconda3\\envs\\nlp_course\\lib\\site-packages\\jupyter_contrib_nbextensions\\nbextensions\\snippets_menu\\config.yaml -> C:\\Users\\AG20459\\AppData\\Roaming\\jupyter\\nbextensions\\snippets_menu\\config.yaml\n",
      "[I 11:38:06 InstallContribNbextensionsApp] Copying: c:\\users\\ag20459\\appdata\\local\\continuum\\anaconda3\\envs\\nlp_course\\lib\\site-packages\\jupyter_contrib_nbextensions\\nbextensions\\snippets_menu\\examples_for_custom.js -> C:\\Users\\AG20459\\AppData\\Roaming\\jupyter\\nbextensions\\snippets_menu\\examples_for_custom.js\n",
      "[I 11:38:06 InstallContribNbextensionsApp] Copying: c:\\users\\ag20459\\appdata\\local\\continuum\\anaconda3\\envs\\nlp_course\\lib\\site-packages\\jupyter_contrib_nbextensions\\nbextensions\\snippets_menu\\main.js -> C:\\Users\\AG20459\\AppData\\Roaming\\jupyter\\nbextensions\\snippets_menu\\main.js\n",
      "[I 11:38:06 InstallContribNbextensionsApp] Copying: c:\\users\\ag20459\\appdata\\local\\continuum\\anaconda3\\envs\\nlp_course\\lib\\site-packages\\jupyter_contrib_nbextensions\\nbextensions\\snippets_menu\\readme.md -> C:\\Users\\AG20459\\AppData\\Roaming\\jupyter\\nbextensions\\snippets_menu\\readme.md\n",
      "[I 11:38:06 InstallContribNbextensionsApp] Copying: c:\\users\\ag20459\\appdata\\local\\continuum\\anaconda3\\envs\\nlp_course\\lib\\site-packages\\jupyter_contrib_nbextensions\\nbextensions\\snippets_menu\\screenshot1.png -> C:\\Users\\AG20459\\AppData\\Roaming\\jupyter\\nbextensions\\snippets_menu\\screenshot1.png\n",
      "[I 11:38:06 InstallContribNbextensionsApp] Copying: c:\\users\\ag20459\\appdata\\local\\continuum\\anaconda3\\envs\\nlp_course\\lib\\site-packages\\jupyter_contrib_nbextensions\\nbextensions\\snippets_menu\\screenshot2.png -> C:\\Users\\AG20459\\AppData\\Roaming\\jupyter\\nbextensions\\snippets_menu\\screenshot2.png\n",
      "[I 11:38:06 InstallContribNbextensionsApp] Copying: c:\\users\\ag20459\\appdata\\local\\continuum\\anaconda3\\envs\\nlp_course\\lib\\site-packages\\jupyter_contrib_nbextensions\\nbextensions\\snippets_menu\\screenshot3.png -> C:\\Users\\AG20459\\AppData\\Roaming\\jupyter\\nbextensions\\snippets_menu\\screenshot3.png\n",
      "[I 11:38:06 InstallContribNbextensionsApp] Copying: c:\\users\\ag20459\\appdata\\local\\continuum\\anaconda3\\envs\\nlp_course\\lib\\site-packages\\jupyter_contrib_nbextensions\\nbextensions\\snippets_menu\\snippets_menu.css -> C:\\Users\\AG20459\\AppData\\Roaming\\jupyter\\nbextensions\\snippets_menu\\snippets_menu.css\n",
      "[I 11:38:06 InstallContribNbextensionsApp] Copying: c:\\users\\ag20459\\appdata\\local\\continuum\\anaconda3\\envs\\nlp_course\\lib\\site-packages\\jupyter_contrib_nbextensions\\nbextensions\\snippets_menu\\snippets_submenu_markdown.js -> C:\\Users\\AG20459\\AppData\\Roaming\\jupyter\\nbextensions\\snippets_menu\\snippets_submenu_markdown.js\n",
      "[I 11:38:06 InstallContribNbextensionsApp] Copying: c:\\users\\ag20459\\appdata\\local\\continuum\\anaconda3\\envs\\nlp_course\\lib\\site-packages\\jupyter_contrib_nbextensions\\nbextensions\\snippets_menu\\snippets_submenu_python.js -> C:\\Users\\AG20459\\AppData\\Roaming\\jupyter\\nbextensions\\snippets_menu\\snippets_submenu_python.js\n",
      "[I 11:38:06 InstallContribNbextensionsApp] Copying: c:\\users\\ag20459\\appdata\\local\\continuum\\anaconda3\\envs\\nlp_course\\lib\\site-packages\\jupyter_contrib_nbextensions\\nbextensions\\snippets_menu\\thumbnail.png -> C:\\Users\\AG20459\\AppData\\Roaming\\jupyter\\nbextensions\\snippets_menu\\thumbnail.png\n",
      "[I 11:38:06 InstallContribNbextensionsApp] Making directory: C:\\Users\\AG20459\\AppData\\Roaming\\jupyter\\nbextensions\\snippets_menu\\snippets_submenus_python\n",
      "[I 11:38:06 InstallContribNbextensionsApp] Copying: c:\\users\\ag20459\\appdata\\local\\continuum\\anaconda3\\envs\\nlp_course\\lib\\site-packages\\jupyter_contrib_nbextensions\\nbextensions\\snippets_menu\\snippets_submenus_python\\astropy.js -> C:\\Users\\AG20459\\AppData\\Roaming\\jupyter\\nbextensions\\snippets_menu\\snippets_submenus_python\\astropy.js\n",
      "[I 11:38:06 InstallContribNbextensionsApp] Copying: c:\\users\\ag20459\\appdata\\local\\continuum\\anaconda3\\envs\\nlp_course\\lib\\site-packages\\jupyter_contrib_nbextensions\\nbextensions\\snippets_menu\\snippets_submenus_python\\h5py.js -> C:\\Users\\AG20459\\AppData\\Roaming\\jupyter\\nbextensions\\snippets_menu\\snippets_submenus_python\\h5py.js\n",
      "[I 11:38:06 InstallContribNbextensionsApp] Copying: c:\\users\\ag20459\\appdata\\local\\continuum\\anaconda3\\envs\\nlp_course\\lib\\site-packages\\jupyter_contrib_nbextensions\\nbextensions\\snippets_menu\\snippets_submenus_python\\matplotlib.js -> C:\\Users\\AG20459\\AppData\\Roaming\\jupyter\\nbextensions\\snippets_menu\\snippets_submenus_python\\matplotlib.js\n",
      "[I 11:38:06 InstallContribNbextensionsApp] Copying: c:\\users\\ag20459\\appdata\\local\\continuum\\anaconda3\\envs\\nlp_course\\lib\\site-packages\\jupyter_contrib_nbextensions\\nbextensions\\snippets_menu\\snippets_submenus_python\\numba.js -> C:\\Users\\AG20459\\AppData\\Roaming\\jupyter\\nbextensions\\snippets_menu\\snippets_submenus_python\\numba.js\n",
      "[I 11:38:06 InstallContribNbextensionsApp] Copying: c:\\users\\ag20459\\appdata\\local\\continuum\\anaconda3\\envs\\nlp_course\\lib\\site-packages\\jupyter_contrib_nbextensions\\nbextensions\\snippets_menu\\snippets_submenus_python\\numpy.js -> C:\\Users\\AG20459\\AppData\\Roaming\\jupyter\\nbextensions\\snippets_menu\\snippets_submenus_python\\numpy.js\n",
      "[I 11:38:06 InstallContribNbextensionsApp] Copying: c:\\users\\ag20459\\appdata\\local\\continuum\\anaconda3\\envs\\nlp_course\\lib\\site-packages\\jupyter_contrib_nbextensions\\nbextensions\\snippets_menu\\snippets_submenus_python\\numpy_polynomial.js -> C:\\Users\\AG20459\\AppData\\Roaming\\jupyter\\nbextensions\\snippets_menu\\snippets_submenus_python\\numpy_polynomial.js\n",
      "[I 11:38:06 InstallContribNbextensionsApp] Copying: c:\\users\\ag20459\\appdata\\local\\continuum\\anaconda3\\envs\\nlp_course\\lib\\site-packages\\jupyter_contrib_nbextensions\\nbextensions\\snippets_menu\\snippets_submenus_python\\numpy_ufuncs.js -> C:\\Users\\AG20459\\AppData\\Roaming\\jupyter\\nbextensions\\snippets_menu\\snippets_submenus_python\\numpy_ufuncs.js\n",
      "[I 11:38:06 InstallContribNbextensionsApp] Copying: c:\\users\\ag20459\\appdata\\local\\continuum\\anaconda3\\envs\\nlp_course\\lib\\site-packages\\jupyter_contrib_nbextensions\\nbextensions\\snippets_menu\\snippets_submenus_python\\pandas.js -> C:\\Users\\AG20459\\AppData\\Roaming\\jupyter\\nbextensions\\snippets_menu\\snippets_submenus_python\\pandas.js\n",
      "[I 11:38:06 InstallContribNbextensionsApp] Copying: c:\\users\\ag20459\\appdata\\local\\continuum\\anaconda3\\envs\\nlp_course\\lib\\site-packages\\jupyter_contrib_nbextensions\\nbextensions\\snippets_menu\\snippets_submenus_python\\python.js -> C:\\Users\\AG20459\\AppData\\Roaming\\jupyter\\nbextensions\\snippets_menu\\snippets_submenus_python\\python.js\n",
      "[I 11:38:06 InstallContribNbextensionsApp] Copying: c:\\users\\ag20459\\appdata\\local\\continuum\\anaconda3\\envs\\nlp_course\\lib\\site-packages\\jupyter_contrib_nbextensions\\nbextensions\\snippets_menu\\snippets_submenus_python\\python_regex.js -> C:\\Users\\AG20459\\AppData\\Roaming\\jupyter\\nbextensions\\snippets_menu\\snippets_submenus_python\\python_regex.js\n",
      "[I 11:38:06 InstallContribNbextensionsApp] Copying: c:\\users\\ag20459\\appdata\\local\\continuum\\anaconda3\\envs\\nlp_course\\lib\\site-packages\\jupyter_contrib_nbextensions\\nbextensions\\snippets_menu\\snippets_submenus_python\\scipy.js -> C:\\Users\\AG20459\\AppData\\Roaming\\jupyter\\nbextensions\\snippets_menu\\snippets_submenus_python\\scipy.js\n",
      "[I 11:38:06 InstallContribNbextensionsApp] Copying: c:\\users\\ag20459\\appdata\\local\\continuum\\anaconda3\\envs\\nlp_course\\lib\\site-packages\\jupyter_contrib_nbextensions\\nbextensions\\snippets_menu\\snippets_submenus_python\\scipy_constants.js -> C:\\Users\\AG20459\\AppData\\Roaming\\jupyter\\nbextensions\\snippets_menu\\snippets_submenus_python\\scipy_constants.js\n",
      "[I 11:38:06 InstallContribNbextensionsApp] Copying: c:\\users\\ag20459\\appdata\\local\\continuum\\anaconda3\\envs\\nlp_course\\lib\\site-packages\\jupyter_contrib_nbextensions\\nbextensions\\snippets_menu\\snippets_submenus_python\\scipy_special.js -> C:\\Users\\AG20459\\AppData\\Roaming\\jupyter\\nbextensions\\snippets_menu\\snippets_submenus_python\\scipy_special.js\n",
      "[I 11:38:06 InstallContribNbextensionsApp] Copying: c:\\users\\ag20459\\appdata\\local\\continuum\\anaconda3\\envs\\nlp_course\\lib\\site-packages\\jupyter_contrib_nbextensions\\nbextensions\\snippets_menu\\snippets_submenus_python\\sympy.js -> C:\\Users\\AG20459\\AppData\\Roaming\\jupyter\\nbextensions\\snippets_menu\\snippets_submenus_python\\sympy.js\n",
      "[I 11:38:06 InstallContribNbextensionsApp] Copying: c:\\users\\ag20459\\appdata\\local\\continuum\\anaconda3\\envs\\nlp_course\\lib\\site-packages\\jupyter_contrib_nbextensions\\nbextensions\\snippets_menu\\snippets_submenus_python\\sympy_assumptions.js -> C:\\Users\\AG20459\\AppData\\Roaming\\jupyter\\nbextensions\\snippets_menu\\snippets_submenus_python\\sympy_assumptions.js\n",
      "[I 11:38:06 InstallContribNbextensionsApp] Copying: c:\\users\\ag20459\\appdata\\local\\continuum\\anaconda3\\envs\\nlp_course\\lib\\site-packages\\jupyter_contrib_nbextensions\\nbextensions\\snippets_menu\\snippets_submenus_python\\sympy_functions.js -> C:\\Users\\AG20459\\AppData\\Roaming\\jupyter\\nbextensions\\snippets_menu\\snippets_submenus_python\\sympy_functions.js\n",
      "[I 11:38:06 InstallContribNbextensionsApp] - Validating: ok\n",
      "[I 11:38:06 InstallContribNbextensionsApp] Installing c:\\users\\ag20459\\appdata\\local\\continuum\\anaconda3\\envs\\nlp_course\\lib\\site-packages\\jupyter_contrib_nbextensions\\nbextensions\\spellchecker -> spellchecker\n",
      "[I 11:38:06 InstallContribNbextensionsApp] Making directory: C:\\Users\\AG20459\\AppData\\Roaming\\jupyter\\nbextensions\\spellchecker\\\n",
      "[I 11:38:06 InstallContribNbextensionsApp] Copying: c:\\users\\ag20459\\appdata\\local\\continuum\\anaconda3\\envs\\nlp_course\\lib\\site-packages\\jupyter_contrib_nbextensions\\nbextensions\\spellchecker\\config.yaml -> C:\\Users\\AG20459\\AppData\\Roaming\\jupyter\\nbextensions\\spellchecker\\config.yaml\n",
      "[I 11:38:06 InstallContribNbextensionsApp] Copying: c:\\users\\ag20459\\appdata\\local\\continuum\\anaconda3\\envs\\nlp_course\\lib\\site-packages\\jupyter_contrib_nbextensions\\nbextensions\\spellchecker\\download_new_dict.py -> C:\\Users\\AG20459\\AppData\\Roaming\\jupyter\\nbextensions\\spellchecker\\download_new_dict.py\n",
      "[I 11:38:06 InstallContribNbextensionsApp] Copying: c:\\users\\ag20459\\appdata\\local\\continuum\\anaconda3\\envs\\nlp_course\\lib\\site-packages\\jupyter_contrib_nbextensions\\nbextensions\\spellchecker\\main.css -> C:\\Users\\AG20459\\AppData\\Roaming\\jupyter\\nbextensions\\spellchecker\\main.css\n",
      "[I 11:38:06 InstallContribNbextensionsApp] Copying: c:\\users\\ag20459\\appdata\\local\\continuum\\anaconda3\\envs\\nlp_course\\lib\\site-packages\\jupyter_contrib_nbextensions\\nbextensions\\spellchecker\\main.js -> C:\\Users\\AG20459\\AppData\\Roaming\\jupyter\\nbextensions\\spellchecker\\main.js\n",
      "[I 11:38:06 InstallContribNbextensionsApp] Copying: c:\\users\\ag20459\\appdata\\local\\continuum\\anaconda3\\envs\\nlp_course\\lib\\site-packages\\jupyter_contrib_nbextensions\\nbextensions\\spellchecker\\README.md -> C:\\Users\\AG20459\\AppData\\Roaming\\jupyter\\nbextensions\\spellchecker\\README.md\n",
      "[I 11:38:06 InstallContribNbextensionsApp] Copying: c:\\users\\ag20459\\appdata\\local\\continuum\\anaconda3\\envs\\nlp_course\\lib\\site-packages\\jupyter_contrib_nbextensions\\nbextensions\\spellchecker\\screenshot.png -> C:\\Users\\AG20459\\AppData\\Roaming\\jupyter\\nbextensions\\spellchecker\\screenshot.png\n",
      "[I 11:38:06 InstallContribNbextensionsApp] Making directory: C:\\Users\\AG20459\\AppData\\Roaming\\jupyter\\nbextensions\\spellchecker\\typo\n",
      "[I 11:38:06 InstallContribNbextensionsApp] Copying: c:\\users\\ag20459\\appdata\\local\\continuum\\anaconda3\\envs\\nlp_course\\lib\\site-packages\\jupyter_contrib_nbextensions\\nbextensions\\spellchecker\\typo\\LICENSE.txt -> C:\\Users\\AG20459\\AppData\\Roaming\\jupyter\\nbextensions\\spellchecker\\typo\\LICENSE.txt\n",
      "[I 11:38:06 InstallContribNbextensionsApp] Copying: c:\\users\\ag20459\\appdata\\local\\continuum\\anaconda3\\envs\\nlp_course\\lib\\site-packages\\jupyter_contrib_nbextensions\\nbextensions\\spellchecker\\typo\\typo.js -> C:\\Users\\AG20459\\AppData\\Roaming\\jupyter\\nbextensions\\spellchecker\\typo\\typo.js\n",
      "[I 11:38:06 InstallContribNbextensionsApp] Making directory: C:\\Users\\AG20459\\AppData\\Roaming\\jupyter\\nbextensions\\spellchecker\\__pycache__\n",
      "[I 11:38:06 InstallContribNbextensionsApp] Copying: c:\\users\\ag20459\\appdata\\local\\continuum\\anaconda3\\envs\\nlp_course\\lib\\site-packages\\jupyter_contrib_nbextensions\\nbextensions\\spellchecker\\__pycache__\\download_new_dict.cpython-37.pyc -> C:\\Users\\AG20459\\AppData\\Roaming\\jupyter\\nbextensions\\spellchecker\\__pycache__\\download_new_dict.cpython-37.pyc\n",
      "[I 11:38:06 InstallContribNbextensionsApp] - Validating: ok\n",
      "[I 11:38:06 InstallContribNbextensionsApp] Installing c:\\users\\ag20459\\appdata\\local\\continuum\\anaconda3\\envs\\nlp_course\\lib\\site-packages\\jupyter_contrib_nbextensions\\nbextensions\\splitcell -> splitcell\n",
      "[I 11:38:06 InstallContribNbextensionsApp] Making directory: C:\\Users\\AG20459\\AppData\\Roaming\\jupyter\\nbextensions\\splitcell\\\n",
      "[I 11:38:06 InstallContribNbextensionsApp] Copying: c:\\users\\ag20459\\appdata\\local\\continuum\\anaconda3\\envs\\nlp_course\\lib\\site-packages\\jupyter_contrib_nbextensions\\nbextensions\\splitcell\\icon.png -> C:\\Users\\AG20459\\AppData\\Roaming\\jupyter\\nbextensions\\splitcell\\icon.png\n",
      "[I 11:38:06 InstallContribNbextensionsApp] Copying: c:\\users\\ag20459\\appdata\\local\\continuum\\anaconda3\\envs\\nlp_course\\lib\\site-packages\\jupyter_contrib_nbextensions\\nbextensions\\splitcell\\readme.md -> C:\\Users\\AG20459\\AppData\\Roaming\\jupyter\\nbextensions\\splitcell\\readme.md\n",
      "[I 11:38:06 InstallContribNbextensionsApp] Copying: c:\\users\\ag20459\\appdata\\local\\continuum\\anaconda3\\envs\\nlp_course\\lib\\site-packages\\jupyter_contrib_nbextensions\\nbextensions\\splitcell\\splitcell.js -> C:\\Users\\AG20459\\AppData\\Roaming\\jupyter\\nbextensions\\splitcell\\splitcell.js\n",
      "[I 11:38:06 InstallContribNbextensionsApp] Copying: c:\\users\\ag20459\\appdata\\local\\continuum\\anaconda3\\envs\\nlp_course\\lib\\site-packages\\jupyter_contrib_nbextensions\\nbextensions\\splitcell\\splitcell.yaml -> C:\\Users\\AG20459\\AppData\\Roaming\\jupyter\\nbextensions\\splitcell\\splitcell.yaml\n",
      "[I 11:38:06 InstallContribNbextensionsApp] - Validating: ok\n",
      "[I 11:38:06 InstallContribNbextensionsApp] Installing c:\\users\\ag20459\\appdata\\local\\continuum\\anaconda3\\envs\\nlp_course\\lib\\site-packages\\jupyter_contrib_nbextensions\\nbextensions\\table_beautifier -> table_beautifier\n",
      "[I 11:38:06 InstallContribNbextensionsApp] Making directory: C:\\Users\\AG20459\\AppData\\Roaming\\jupyter\\nbextensions\\table_beautifier\\\n",
      "[I 11:38:06 InstallContribNbextensionsApp] Copying: c:\\users\\ag20459\\appdata\\local\\continuum\\anaconda3\\envs\\nlp_course\\lib\\site-packages\\jupyter_contrib_nbextensions\\nbextensions\\table_beautifier\\main.css -> C:\\Users\\AG20459\\AppData\\Roaming\\jupyter\\nbextensions\\table_beautifier\\main.css\n",
      "[I 11:38:06 InstallContribNbextensionsApp] Copying: c:\\users\\ag20459\\appdata\\local\\continuum\\anaconda3\\envs\\nlp_course\\lib\\site-packages\\jupyter_contrib_nbextensions\\nbextensions\\table_beautifier\\main.js -> C:\\Users\\AG20459\\AppData\\Roaming\\jupyter\\nbextensions\\table_beautifier\\main.js\n",
      "[I 11:38:06 InstallContribNbextensionsApp] Copying: c:\\users\\ag20459\\appdata\\local\\continuum\\anaconda3\\envs\\nlp_course\\lib\\site-packages\\jupyter_contrib_nbextensions\\nbextensions\\table_beautifier\\README.md -> C:\\Users\\AG20459\\AppData\\Roaming\\jupyter\\nbextensions\\table_beautifier\\README.md\n",
      "[I 11:38:06 InstallContribNbextensionsApp] Copying: c:\\users\\ag20459\\appdata\\local\\continuum\\anaconda3\\envs\\nlp_course\\lib\\site-packages\\jupyter_contrib_nbextensions\\nbextensions\\table_beautifier\\table_beautifier.yaml -> C:\\Users\\AG20459\\AppData\\Roaming\\jupyter\\nbextensions\\table_beautifier\\table_beautifier.yaml\n",
      "[I 11:38:06 InstallContribNbextensionsApp] - Validating: ok\n",
      "[I 11:38:06 InstallContribNbextensionsApp] Installing c:\\users\\ag20459\\appdata\\local\\continuum\\anaconda3\\envs\\nlp_course\\lib\\site-packages\\jupyter_contrib_nbextensions\\nbextensions\\toc2 -> toc2\n",
      "[I 11:38:06 InstallContribNbextensionsApp] Making directory: C:\\Users\\AG20459\\AppData\\Roaming\\jupyter\\nbextensions\\toc2\\\n",
      "[I 11:38:06 InstallContribNbextensionsApp] Copying: c:\\users\\ag20459\\appdata\\local\\continuum\\anaconda3\\envs\\nlp_course\\lib\\site-packages\\jupyter_contrib_nbextensions\\nbextensions\\toc2\\demo.gif -> C:\\Users\\AG20459\\AppData\\Roaming\\jupyter\\nbextensions\\toc2\\demo.gif\n",
      "[I 11:38:06 InstallContribNbextensionsApp] Copying: c:\\users\\ag20459\\appdata\\local\\continuum\\anaconda3\\envs\\nlp_course\\lib\\site-packages\\jupyter_contrib_nbextensions\\nbextensions\\toc2\\demo2.gif -> C:\\Users\\AG20459\\AppData\\Roaming\\jupyter\\nbextensions\\toc2\\demo2.gif\n",
      "[I 11:38:06 InstallContribNbextensionsApp] Copying: c:\\users\\ag20459\\appdata\\local\\continuum\\anaconda3\\envs\\nlp_course\\lib\\site-packages\\jupyter_contrib_nbextensions\\nbextensions\\toc2\\demo3.gif -> C:\\Users\\AG20459\\AppData\\Roaming\\jupyter\\nbextensions\\toc2\\demo3.gif\n",
      "[I 11:38:06 InstallContribNbextensionsApp] Copying: c:\\users\\ag20459\\appdata\\local\\continuum\\anaconda3\\envs\\nlp_course\\lib\\site-packages\\jupyter_contrib_nbextensions\\nbextensions\\toc2\\demo_dark.png -> C:\\Users\\AG20459\\AppData\\Roaming\\jupyter\\nbextensions\\toc2\\demo_dark.png\n",
      "[I 11:38:06 InstallContribNbextensionsApp] Copying: c:\\users\\ag20459\\appdata\\local\\continuum\\anaconda3\\envs\\nlp_course\\lib\\site-packages\\jupyter_contrib_nbextensions\\nbextensions\\toc2\\icon.png -> C:\\Users\\AG20459\\AppData\\Roaming\\jupyter\\nbextensions\\toc2\\icon.png\n",
      "[I 11:38:06 InstallContribNbextensionsApp] Copying: c:\\users\\ag20459\\appdata\\local\\continuum\\anaconda3\\envs\\nlp_course\\lib\\site-packages\\jupyter_contrib_nbextensions\\nbextensions\\toc2\\image.png -> C:\\Users\\AG20459\\AppData\\Roaming\\jupyter\\nbextensions\\toc2\\image.png\n",
      "[I 11:38:06 InstallContribNbextensionsApp] Copying: c:\\users\\ag20459\\appdata\\local\\continuum\\anaconda3\\envs\\nlp_course\\lib\\site-packages\\jupyter_contrib_nbextensions\\nbextensions\\toc2\\main.css -> C:\\Users\\AG20459\\AppData\\Roaming\\jupyter\\nbextensions\\toc2\\main.css\n",
      "[I 11:38:06 InstallContribNbextensionsApp] Copying: c:\\users\\ag20459\\appdata\\local\\continuum\\anaconda3\\envs\\nlp_course\\lib\\site-packages\\jupyter_contrib_nbextensions\\nbextensions\\toc2\\main.js -> C:\\Users\\AG20459\\AppData\\Roaming\\jupyter\\nbextensions\\toc2\\main.js\n",
      "[I 11:38:06 InstallContribNbextensionsApp] Copying: c:\\users\\ag20459\\appdata\\local\\continuum\\anaconda3\\envs\\nlp_course\\lib\\site-packages\\jupyter_contrib_nbextensions\\nbextensions\\toc2\\README.md -> C:\\Users\\AG20459\\AppData\\Roaming\\jupyter\\nbextensions\\toc2\\README.md\n",
      "[I 11:38:07 InstallContribNbextensionsApp] Copying: c:\\users\\ag20459\\appdata\\local\\continuum\\anaconda3\\envs\\nlp_course\\lib\\site-packages\\jupyter_contrib_nbextensions\\nbextensions\\toc2\\toc2.js -> C:\\Users\\AG20459\\AppData\\Roaming\\jupyter\\nbextensions\\toc2\\toc2.js\n",
      "[I 11:38:07 InstallContribNbextensionsApp] Copying: c:\\users\\ag20459\\appdata\\local\\continuum\\anaconda3\\envs\\nlp_course\\lib\\site-packages\\jupyter_contrib_nbextensions\\nbextensions\\toc2\\toc2.yaml -> C:\\Users\\AG20459\\AppData\\Roaming\\jupyter\\nbextensions\\toc2\\toc2.yaml\n",
      "[I 11:38:07 InstallContribNbextensionsApp] - Validating: ok\n",
      "[I 11:38:07 InstallContribNbextensionsApp] Installing c:\\users\\ag20459\\appdata\\local\\continuum\\anaconda3\\envs\\nlp_course\\lib\\site-packages\\jupyter_contrib_nbextensions\\nbextensions\\toggle_all_line_numbers -> toggle_all_line_numbers\n",
      "[I 11:38:07 InstallContribNbextensionsApp] Making directory: C:\\Users\\AG20459\\AppData\\Roaming\\jupyter\\nbextensions\\toggle_all_line_numbers\\\n",
      "[I 11:38:07 InstallContribNbextensionsApp] Copying: c:\\users\\ag20459\\appdata\\local\\continuum\\anaconda3\\envs\\nlp_course\\lib\\site-packages\\jupyter_contrib_nbextensions\\nbextensions\\toggle_all_line_numbers\\icon.png -> C:\\Users\\AG20459\\AppData\\Roaming\\jupyter\\nbextensions\\toggle_all_line_numbers\\icon.png\n",
      "[I 11:38:07 InstallContribNbextensionsApp] Copying: c:\\users\\ag20459\\appdata\\local\\continuum\\anaconda3\\envs\\nlp_course\\lib\\site-packages\\jupyter_contrib_nbextensions\\nbextensions\\toggle_all_line_numbers\\main.js -> C:\\Users\\AG20459\\AppData\\Roaming\\jupyter\\nbextensions\\toggle_all_line_numbers\\main.js\n",
      "[I 11:38:07 InstallContribNbextensionsApp] Copying: c:\\users\\ag20459\\appdata\\local\\continuum\\anaconda3\\envs\\nlp_course\\lib\\site-packages\\jupyter_contrib_nbextensions\\nbextensions\\toggle_all_line_numbers\\main.yaml -> C:\\Users\\AG20459\\AppData\\Roaming\\jupyter\\nbextensions\\toggle_all_line_numbers\\main.yaml\n",
      "[I 11:38:07 InstallContribNbextensionsApp] Copying: c:\\users\\ag20459\\appdata\\local\\continuum\\anaconda3\\envs\\nlp_course\\lib\\site-packages\\jupyter_contrib_nbextensions\\nbextensions\\toggle_all_line_numbers\\readme.md -> C:\\Users\\AG20459\\AppData\\Roaming\\jupyter\\nbextensions\\toggle_all_line_numbers\\readme.md\n",
      "[I 11:38:07 InstallContribNbextensionsApp] - Validating: ok\n",
      "[I 11:38:07 InstallContribNbextensionsApp] Installing c:\\users\\ag20459\\appdata\\local\\continuum\\anaconda3\\envs\\nlp_course\\lib\\site-packages\\jupyter_contrib_nbextensions\\nbextensions\\tree-filter -> tree-filter\n",
      "[I 11:38:07 InstallContribNbextensionsApp] Making directory: C:\\Users\\AG20459\\AppData\\Roaming\\jupyter\\nbextensions\\tree-filter\\\n",
      "[I 11:38:07 InstallContribNbextensionsApp] Copying: c:\\users\\ag20459\\appdata\\local\\continuum\\anaconda3\\envs\\nlp_course\\lib\\site-packages\\jupyter_contrib_nbextensions\\nbextensions\\tree-filter\\demo.gif -> C:\\Users\\AG20459\\AppData\\Roaming\\jupyter\\nbextensions\\tree-filter\\demo.gif\n",
      "[I 11:38:07 InstallContribNbextensionsApp] Copying: c:\\users\\ag20459\\appdata\\local\\continuum\\anaconda3\\envs\\nlp_course\\lib\\site-packages\\jupyter_contrib_nbextensions\\nbextensions\\tree-filter\\index.js -> C:\\Users\\AG20459\\AppData\\Roaming\\jupyter\\nbextensions\\tree-filter\\index.js\n",
      "[I 11:38:07 InstallContribNbextensionsApp] Copying: c:\\users\\ag20459\\appdata\\local\\continuum\\anaconda3\\envs\\nlp_course\\lib\\site-packages\\jupyter_contrib_nbextensions\\nbextensions\\tree-filter\\readme.md -> C:\\Users\\AG20459\\AppData\\Roaming\\jupyter\\nbextensions\\tree-filter\\readme.md\n",
      "[I 11:38:07 InstallContribNbextensionsApp] Copying: c:\\users\\ag20459\\appdata\\local\\continuum\\anaconda3\\envs\\nlp_course\\lib\\site-packages\\jupyter_contrib_nbextensions\\nbextensions\\tree-filter\\tree-filter.yaml -> C:\\Users\\AG20459\\AppData\\Roaming\\jupyter\\nbextensions\\tree-filter\\tree-filter.yaml\n",
      "[I 11:38:07 InstallContribNbextensionsApp] - Validating: ok\n",
      "[I 11:38:07 InstallContribNbextensionsApp] Installing c:\\users\\ag20459\\appdata\\local\\continuum\\anaconda3\\envs\\nlp_course\\lib\\site-packages\\jupyter_contrib_nbextensions\\nbextensions\\varInspector -> varInspector\n",
      "[I 11:38:07 InstallContribNbextensionsApp] Making directory: C:\\Users\\AG20459\\AppData\\Roaming\\jupyter\\nbextensions\\varInspector\\\n",
      "[I 11:38:07 InstallContribNbextensionsApp] Copying: c:\\users\\ag20459\\appdata\\local\\continuum\\anaconda3\\envs\\nlp_course\\lib\\site-packages\\jupyter_contrib_nbextensions\\nbextensions\\varInspector\\demo.gif -> C:\\Users\\AG20459\\AppData\\Roaming\\jupyter\\nbextensions\\varInspector\\demo.gif\n",
      "[I 11:38:07 InstallContribNbextensionsApp] Copying: c:\\users\\ag20459\\appdata\\local\\continuum\\anaconda3\\envs\\nlp_course\\lib\\site-packages\\jupyter_contrib_nbextensions\\nbextensions\\varInspector\\icon.png -> C:\\Users\\AG20459\\AppData\\Roaming\\jupyter\\nbextensions\\varInspector\\icon.png\n",
      "[I 11:38:07 InstallContribNbextensionsApp] Copying: c:\\users\\ag20459\\appdata\\local\\continuum\\anaconda3\\envs\\nlp_course\\lib\\site-packages\\jupyter_contrib_nbextensions\\nbextensions\\varInspector\\jquery.tablesorter.min.js -> C:\\Users\\AG20459\\AppData\\Roaming\\jupyter\\nbextensions\\varInspector\\jquery.tablesorter.min.js\n",
      "[I 11:38:07 InstallContribNbextensionsApp] Copying: c:\\users\\ag20459\\appdata\\local\\continuum\\anaconda3\\envs\\nlp_course\\lib\\site-packages\\jupyter_contrib_nbextensions\\nbextensions\\varInspector\\main.css -> C:\\Users\\AG20459\\AppData\\Roaming\\jupyter\\nbextensions\\varInspector\\main.css\n",
      "[I 11:38:07 InstallContribNbextensionsApp] Copying: c:\\users\\ag20459\\appdata\\local\\continuum\\anaconda3\\envs\\nlp_course\\lib\\site-packages\\jupyter_contrib_nbextensions\\nbextensions\\varInspector\\main.js -> C:\\Users\\AG20459\\AppData\\Roaming\\jupyter\\nbextensions\\varInspector\\main.js\n",
      "[I 11:38:07 InstallContribNbextensionsApp] Copying: c:\\users\\ag20459\\appdata\\local\\continuum\\anaconda3\\envs\\nlp_course\\lib\\site-packages\\jupyter_contrib_nbextensions\\nbextensions\\varInspector\\README.md -> C:\\Users\\AG20459\\AppData\\Roaming\\jupyter\\nbextensions\\varInspector\\README.md\n",
      "[I 11:38:07 InstallContribNbextensionsApp] Copying: c:\\users\\ag20459\\appdata\\local\\continuum\\anaconda3\\envs\\nlp_course\\lib\\site-packages\\jupyter_contrib_nbextensions\\nbextensions\\varInspector\\tablesorter_LICENSE.txt -> C:\\Users\\AG20459\\AppData\\Roaming\\jupyter\\nbextensions\\varInspector\\tablesorter_LICENSE.txt\n",
      "[I 11:38:07 InstallContribNbextensionsApp] Copying: c:\\users\\ag20459\\appdata\\local\\continuum\\anaconda3\\envs\\nlp_course\\lib\\site-packages\\jupyter_contrib_nbextensions\\nbextensions\\varInspector\\varInspector.yaml -> C:\\Users\\AG20459\\AppData\\Roaming\\jupyter\\nbextensions\\varInspector\\varInspector.yaml\n",
      "[I 11:38:07 InstallContribNbextensionsApp] Copying: c:\\users\\ag20459\\appdata\\local\\continuum\\anaconda3\\envs\\nlp_course\\lib\\site-packages\\jupyter_contrib_nbextensions\\nbextensions\\varInspector\\var_list.py -> C:\\Users\\AG20459\\AppData\\Roaming\\jupyter\\nbextensions\\varInspector\\var_list.py\n",
      "[I 11:38:07 InstallContribNbextensionsApp] Copying: c:\\users\\ag20459\\appdata\\local\\continuum\\anaconda3\\envs\\nlp_course\\lib\\site-packages\\jupyter_contrib_nbextensions\\nbextensions\\varInspector\\var_list.r -> C:\\Users\\AG20459\\AppData\\Roaming\\jupyter\\nbextensions\\varInspector\\var_list.r\n",
      "[I 11:38:07 InstallContribNbextensionsApp] Making directory: C:\\Users\\AG20459\\AppData\\Roaming\\jupyter\\nbextensions\\varInspector\\__pycache__\n",
      "[I 11:38:07 InstallContribNbextensionsApp] Copying: c:\\users\\ag20459\\appdata\\local\\continuum\\anaconda3\\envs\\nlp_course\\lib\\site-packages\\jupyter_contrib_nbextensions\\nbextensions\\varInspector\\__pycache__\\var_list.cpython-37.pyc -> C:\\Users\\AG20459\\AppData\\Roaming\\jupyter\\nbextensions\\varInspector\\__pycache__\\var_list.cpython-37.pyc\n",
      "[I 11:38:07 InstallContribNbextensionsApp] - Validating: ok\n",
      "[I 11:38:07 InstallContribNbextensionsApp] Installing c:\\users\\ag20459\\appdata\\local\\continuum\\anaconda3\\envs\\nlp_course\\lib\\site-packages\\jupyter_contrib_nbextensions\\nbextensions\\zenmode -> zenmode\n",
      "[I 11:38:07 InstallContribNbextensionsApp] Making directory: C:\\Users\\AG20459\\AppData\\Roaming\\jupyter\\nbextensions\\zenmode\\\n",
      "[I 11:38:07 InstallContribNbextensionsApp] Copying: c:\\users\\ag20459\\appdata\\local\\continuum\\anaconda3\\envs\\nlp_course\\lib\\site-packages\\jupyter_contrib_nbextensions\\nbextensions\\zenmode\\main.css -> C:\\Users\\AG20459\\AppData\\Roaming\\jupyter\\nbextensions\\zenmode\\main.css\n",
      "[I 11:38:07 InstallContribNbextensionsApp] Copying: c:\\users\\ag20459\\appdata\\local\\continuum\\anaconda3\\envs\\nlp_course\\lib\\site-packages\\jupyter_contrib_nbextensions\\nbextensions\\zenmode\\main.js -> C:\\Users\\AG20459\\AppData\\Roaming\\jupyter\\nbextensions\\zenmode\\main.js\n",
      "[I 11:38:07 InstallContribNbextensionsApp] Copying: c:\\users\\ag20459\\appdata\\local\\continuum\\anaconda3\\envs\\nlp_course\\lib\\site-packages\\jupyter_contrib_nbextensions\\nbextensions\\zenmode\\README.md -> C:\\Users\\AG20459\\AppData\\Roaming\\jupyter\\nbextensions\\zenmode\\README.md\n",
      "[I 11:38:07 InstallContribNbextensionsApp] Copying: c:\\users\\ag20459\\appdata\\local\\continuum\\anaconda3\\envs\\nlp_course\\lib\\site-packages\\jupyter_contrib_nbextensions\\nbextensions\\zenmode\\zenmode.yaml -> C:\\Users\\AG20459\\AppData\\Roaming\\jupyter\\nbextensions\\zenmode\\zenmode.yaml\n",
      "[I 11:38:07 InstallContribNbextensionsApp] Making directory: C:\\Users\\AG20459\\AppData\\Roaming\\jupyter\\nbextensions\\zenmode\\images\n",
      "[I 11:38:07 InstallContribNbextensionsApp] Copying: c:\\users\\ag20459\\appdata\\local\\continuum\\anaconda3\\envs\\nlp_course\\lib\\site-packages\\jupyter_contrib_nbextensions\\nbextensions\\zenmode\\images\\back1.jpg -> C:\\Users\\AG20459\\AppData\\Roaming\\jupyter\\nbextensions\\zenmode\\images\\back1.jpg\n",
      "[I 11:38:07 InstallContribNbextensionsApp] Copying: c:\\users\\ag20459\\appdata\\local\\continuum\\anaconda3\\envs\\nlp_course\\lib\\site-packages\\jupyter_contrib_nbextensions\\nbextensions\\zenmode\\images\\back11.jpg -> C:\\Users\\AG20459\\AppData\\Roaming\\jupyter\\nbextensions\\zenmode\\images\\back11.jpg\n",
      "[I 11:38:07 InstallContribNbextensionsApp] Copying: c:\\users\\ag20459\\appdata\\local\\continuum\\anaconda3\\envs\\nlp_course\\lib\\site-packages\\jupyter_contrib_nbextensions\\nbextensions\\zenmode\\images\\back12.jpg -> C:\\Users\\AG20459\\AppData\\Roaming\\jupyter\\nbextensions\\zenmode\\images\\back12.jpg\n",
      "[I 11:38:07 InstallContribNbextensionsApp] Copying: c:\\users\\ag20459\\appdata\\local\\continuum\\anaconda3\\envs\\nlp_course\\lib\\site-packages\\jupyter_contrib_nbextensions\\nbextensions\\zenmode\\images\\back2.jpg -> C:\\Users\\AG20459\\AppData\\Roaming\\jupyter\\nbextensions\\zenmode\\images\\back2.jpg\n",
      "[I 11:38:07 InstallContribNbextensionsApp] Copying: c:\\users\\ag20459\\appdata\\local\\continuum\\anaconda3\\envs\\nlp_course\\lib\\site-packages\\jupyter_contrib_nbextensions\\nbextensions\\zenmode\\images\\back21.jpg -> C:\\Users\\AG20459\\AppData\\Roaming\\jupyter\\nbextensions\\zenmode\\images\\back21.jpg\n",
      "[I 11:38:07 InstallContribNbextensionsApp] Copying: c:\\users\\ag20459\\appdata\\local\\continuum\\anaconda3\\envs\\nlp_course\\lib\\site-packages\\jupyter_contrib_nbextensions\\nbextensions\\zenmode\\images\\back22.jpg -> C:\\Users\\AG20459\\AppData\\Roaming\\jupyter\\nbextensions\\zenmode\\images\\back22.jpg\n",
      "[I 11:38:07 InstallContribNbextensionsApp] Copying: c:\\users\\ag20459\\appdata\\local\\continuum\\anaconda3\\envs\\nlp_course\\lib\\site-packages\\jupyter_contrib_nbextensions\\nbextensions\\zenmode\\images\\back3.jpg -> C:\\Users\\AG20459\\AppData\\Roaming\\jupyter\\nbextensions\\zenmode\\images\\back3.jpg\n",
      "[I 11:38:07 InstallContribNbextensionsApp] Copying: c:\\users\\ag20459\\appdata\\local\\continuum\\anaconda3\\envs\\nlp_course\\lib\\site-packages\\jupyter_contrib_nbextensions\\nbextensions\\zenmode\\images\\ipynblogo0.png -> C:\\Users\\AG20459\\AppData\\Roaming\\jupyter\\nbextensions\\zenmode\\images\\ipynblogo0.png\n",
      "[I 11:38:07 InstallContribNbextensionsApp] Copying: c:\\users\\ag20459\\appdata\\local\\continuum\\anaconda3\\envs\\nlp_course\\lib\\site-packages\\jupyter_contrib_nbextensions\\nbextensions\\zenmode\\images\\ipynblogo1.png -> C:\\Users\\AG20459\\AppData\\Roaming\\jupyter\\nbextensions\\zenmode\\images\\ipynblogo1.png\n",
      "[I 11:38:07 InstallContribNbextensionsApp] - Validating: ok\n",
      "[I 11:38:07 InstallContribNbextensionsApp] Installing c:\\users\\ag20459\\appdata\\local\\continuum\\anaconda3\\envs\\nlp_course\\lib\\site-packages\\jupyter_highlight_selected_word\\static\\highlight_selected_word -> highlight_selected_word\n",
      "[I 11:38:07 InstallContribNbextensionsApp] Making directory: C:\\Users\\AG20459\\AppData\\Roaming\\jupyter\\nbextensions\\highlight_selected_word\\\n",
      "[I 11:38:07 InstallContribNbextensionsApp] Copying: c:\\users\\ag20459\\appdata\\local\\continuum\\anaconda3\\envs\\nlp_course\\lib\\site-packages\\jupyter_highlight_selected_word\\static\\highlight_selected_word\\configurator.yaml -> C:\\Users\\AG20459\\AppData\\Roaming\\jupyter\\nbextensions\\highlight_selected_word\\configurator.yaml\n",
      "[I 11:38:07 InstallContribNbextensionsApp] Copying: c:\\users\\ag20459\\appdata\\local\\continuum\\anaconda3\\envs\\nlp_course\\lib\\site-packages\\jupyter_highlight_selected_word\\static\\highlight_selected_word\\main.js -> C:\\Users\\AG20459\\AppData\\Roaming\\jupyter\\nbextensions\\highlight_selected_word\\main.js\n",
      "[I 11:38:07 InstallContribNbextensionsApp] Copying: c:\\users\\ag20459\\appdata\\local\\continuum\\anaconda3\\envs\\nlp_course\\lib\\site-packages\\jupyter_highlight_selected_word\\static\\highlight_selected_word\\README.md -> C:\\Users\\AG20459\\AppData\\Roaming\\jupyter\\nbextensions\\highlight_selected_word\\README.md\n",
      "[I 11:38:07 InstallContribNbextensionsApp] - Validating: ok\n",
      "[I 11:38:07 InstallContribNbextensionsApp] Installing c:\\users\\ag20459\\appdata\\local\\continuum\\anaconda3\\envs\\nlp_course\\lib\\site-packages\\latex_envs\\static -> latex_envs\n",
      "[I 11:38:07 InstallContribNbextensionsApp] Making directory: C:\\Users\\AG20459\\AppData\\Roaming\\jupyter\\nbextensions\\latex_envs\\\n",
      "[I 11:38:07 InstallContribNbextensionsApp] Copying: c:\\users\\ag20459\\appdata\\local\\continuum\\anaconda3\\envs\\nlp_course\\lib\\site-packages\\latex_envs\\static\\bibInNb4.js -> C:\\Users\\AG20459\\AppData\\Roaming\\jupyter\\nbextensions\\latex_envs\\bibInNb4.js\n",
      "[I 11:38:07 InstallContribNbextensionsApp] Copying: c:\\users\\ag20459\\appdata\\local\\continuum\\anaconda3\\envs\\nlp_course\\lib\\site-packages\\latex_envs\\static\\bibtex2.js -> C:\\Users\\AG20459\\AppData\\Roaming\\jupyter\\nbextensions\\latex_envs\\bibtex2.js\n",
      "[I 11:38:07 InstallContribNbextensionsApp] Copying: c:\\users\\ag20459\\appdata\\local\\continuum\\anaconda3\\envs\\nlp_course\\lib\\site-packages\\latex_envs\\static\\configuration_toolbar.png -> C:\\Users\\AG20459\\AppData\\Roaming\\jupyter\\nbextensions\\latex_envs\\configuration_toolbar.png\n",
      "[I 11:38:07 InstallContribNbextensionsApp] Copying: c:\\users\\ag20459\\appdata\\local\\continuum\\anaconda3\\envs\\nlp_course\\lib\\site-packages\\latex_envs\\static\\envsLatex.js -> C:\\Users\\AG20459\\AppData\\Roaming\\jupyter\\nbextensions\\latex_envs\\envsLatex.js\n",
      "[I 11:38:07 InstallContribNbextensionsApp] Copying: c:\\users\\ag20459\\appdata\\local\\continuum\\anaconda3\\envs\\nlp_course\\lib\\site-packages\\latex_envs\\static\\envsLatex.json -> C:\\Users\\AG20459\\AppData\\Roaming\\jupyter\\nbextensions\\latex_envs\\envsLatex.json\n",
      "[I 11:38:07 InstallContribNbextensionsApp] Copying: c:\\users\\ag20459\\appdata\\local\\continuum\\anaconda3\\envs\\nlp_course\\lib\\site-packages\\latex_envs\\static\\example.png -> C:\\Users\\AG20459\\AppData\\Roaming\\jupyter\\nbextensions\\latex_envs\\example.png\n",
      "[I 11:38:07 InstallContribNbextensionsApp] Copying: c:\\users\\ag20459\\appdata\\local\\continuum\\anaconda3\\envs\\nlp_course\\lib\\site-packages\\latex_envs\\static\\example_user_envs.json -> C:\\Users\\AG20459\\AppData\\Roaming\\jupyter\\nbextensions\\latex_envs\\example_user_envs.json\n",
      "[I 11:38:07 InstallContribNbextensionsApp] Copying: c:\\users\\ag20459\\appdata\\local\\continuum\\anaconda3\\envs\\nlp_course\\lib\\site-packages\\latex_envs\\static\\icon.png -> C:\\Users\\AG20459\\AppData\\Roaming\\jupyter\\nbextensions\\latex_envs\\icon.png\n",
      "[I 11:38:07 InstallContribNbextensionsApp] Copying: c:\\users\\ag20459\\appdata\\local\\continuum\\anaconda3\\envs\\nlp_course\\lib\\site-packages\\latex_envs\\static\\initNb.js -> C:\\Users\\AG20459\\AppData\\Roaming\\jupyter\\nbextensions\\latex_envs\\initNb.js\n",
      "[I 11:38:07 InstallContribNbextensionsApp] Copying: c:\\users\\ag20459\\appdata\\local\\continuum\\anaconda3\\envs\\nlp_course\\lib\\site-packages\\latex_envs\\static\\latex_envs.css -> C:\\Users\\AG20459\\AppData\\Roaming\\jupyter\\nbextensions\\latex_envs\\latex_envs.css\n",
      "[I 11:38:07 InstallContribNbextensionsApp] Copying: c:\\users\\ag20459\\appdata\\local\\continuum\\anaconda3\\envs\\nlp_course\\lib\\site-packages\\latex_envs\\static\\latex_envs.js -> C:\\Users\\AG20459\\AppData\\Roaming\\jupyter\\nbextensions\\latex_envs\\latex_envs.js\n",
      "[I 11:38:07 InstallContribNbextensionsApp] Copying: c:\\users\\ag20459\\appdata\\local\\continuum\\anaconda3\\envs\\nlp_course\\lib\\site-packages\\latex_envs\\static\\latex_envs.yaml -> C:\\Users\\AG20459\\AppData\\Roaming\\jupyter\\nbextensions\\latex_envs\\latex_envs.yaml\n",
      "[I 11:38:07 InstallContribNbextensionsApp] Copying: c:\\users\\ag20459\\appdata\\local\\continuum\\anaconda3\\envs\\nlp_course\\lib\\site-packages\\latex_envs\\static\\main_toolbar.png -> C:\\Users\\AG20459\\AppData\\Roaming\\jupyter\\nbextensions\\latex_envs\\main_toolbar.png\n",
      "[I 11:38:07 InstallContribNbextensionsApp] Copying: c:\\users\\ag20459\\appdata\\local\\continuum\\anaconda3\\envs\\nlp_course\\lib\\site-packages\\latex_envs\\static\\README.md -> C:\\Users\\AG20459\\AppData\\Roaming\\jupyter\\nbextensions\\latex_envs\\README.md\n",
      "[I 11:38:07 InstallContribNbextensionsApp] Copying: c:\\users\\ag20459\\appdata\\local\\continuum\\anaconda3\\envs\\nlp_course\\lib\\site-packages\\latex_envs\\static\\thmsInNb4.js -> C:\\Users\\AG20459\\AppData\\Roaming\\jupyter\\nbextensions\\latex_envs\\thmsInNb4.js\n",
      "[I 11:38:07 InstallContribNbextensionsApp] Making directory: C:\\Users\\AG20459\\AppData\\Roaming\\jupyter\\nbextensions\\latex_envs\\doc\n",
      "[I 11:38:07 InstallContribNbextensionsApp] Copying: c:\\users\\ag20459\\appdata\\local\\continuum\\anaconda3\\envs\\nlp_course\\lib\\site-packages\\latex_envs\\static\\doc\\biblio_ipython.bib -> C:\\Users\\AG20459\\AppData\\Roaming\\jupyter\\nbextensions\\latex_envs\\doc\\biblio_ipython.bib\n",
      "[I 11:38:07 InstallContribNbextensionsApp] Copying: c:\\users\\ag20459\\appdata\\local\\continuum\\anaconda3\\envs\\nlp_course\\lib\\site-packages\\latex_envs\\static\\doc\\configuration_toolbar.png -> C:\\Users\\AG20459\\AppData\\Roaming\\jupyter\\nbextensions\\latex_envs\\doc\\configuration_toolbar.png\n",
      "[I 11:38:07 InstallContribNbextensionsApp] Copying: c:\\users\\ag20459\\appdata\\local\\continuum\\anaconda3\\envs\\nlp_course\\lib\\site-packages\\latex_envs\\static\\doc\\config_toolbar.png -> C:\\Users\\AG20459\\AppData\\Roaming\\jupyter\\nbextensions\\latex_envs\\doc\\config_toolbar.png\n",
      "[I 11:38:07 InstallContribNbextensionsApp] Copying: c:\\users\\ag20459\\appdata\\local\\continuum\\anaconda3\\envs\\nlp_course\\lib\\site-packages\\latex_envs\\static\\doc\\documentation.pdf -> C:\\Users\\AG20459\\AppData\\Roaming\\jupyter\\nbextensions\\latex_envs\\doc\\documentation.pdf\n",
      "[I 11:38:07 InstallContribNbextensionsApp] Copying: c:\\users\\ag20459\\appdata\\local\\continuum\\anaconda3\\envs\\nlp_course\\lib\\site-packages\\latex_envs\\static\\doc\\documentation.tex -> C:\\Users\\AG20459\\AppData\\Roaming\\jupyter\\nbextensions\\latex_envs\\doc\\documentation.tex\n",
      "[I 11:38:07 InstallContribNbextensionsApp] Copying: c:\\users\\ag20459\\appdata\\local\\continuum\\anaconda3\\envs\\nlp_course\\lib\\site-packages\\latex_envs\\static\\doc\\example.png -> C:\\Users\\AG20459\\AppData\\Roaming\\jupyter\\nbextensions\\latex_envs\\doc\\example.png\n",
      "[I 11:38:07 InstallContribNbextensionsApp] Copying: c:\\users\\ag20459\\appdata\\local\\continuum\\anaconda3\\envs\\nlp_course\\lib\\site-packages\\latex_envs\\static\\doc\\header.tex -> C:\\Users\\AG20459\\AppData\\Roaming\\jupyter\\nbextensions\\latex_envs\\doc\\header.tex\n",
      "[I 11:38:07 InstallContribNbextensionsApp] Copying: c:\\users\\ag20459\\appdata\\local\\continuum\\anaconda3\\envs\\nlp_course\\lib\\site-packages\\latex_envs\\static\\doc\\IEEEtran.bst -> C:\\Users\\AG20459\\AppData\\Roaming\\jupyter\\nbextensions\\latex_envs\\doc\\IEEEtran.bst\n",
      "[I 11:38:07 InstallContribNbextensionsApp] Copying: c:\\users\\ag20459\\appdata\\local\\continuum\\anaconda3\\envs\\nlp_course\\lib\\site-packages\\latex_envs\\static\\doc\\LaTeX_envs_menu.png -> C:\\Users\\AG20459\\AppData\\Roaming\\jupyter\\nbextensions\\latex_envs\\doc\\LaTeX_envs_menu.png\n",
      "[I 11:38:07 InstallContribNbextensionsApp] Copying: c:\\users\\ag20459\\appdata\\local\\continuum\\anaconda3\\envs\\nlp_course\\lib\\site-packages\\latex_envs\\static\\doc\\latex_env_doc.html -> C:\\Users\\AG20459\\AppData\\Roaming\\jupyter\\nbextensions\\latex_envs\\doc\\latex_env_doc.html\n",
      "[I 11:38:07 InstallContribNbextensionsApp] Copying: c:\\users\\ag20459\\appdata\\local\\continuum\\anaconda3\\envs\\nlp_course\\lib\\site-packages\\latex_envs\\static\\doc\\latex_env_doc.ipynb -> C:\\Users\\AG20459\\AppData\\Roaming\\jupyter\\nbextensions\\latex_envs\\doc\\latex_env_doc.ipynb\n",
      "[I 11:38:07 InstallContribNbextensionsApp] Copying: c:\\users\\ag20459\\appdata\\local\\continuum\\anaconda3\\envs\\nlp_course\\lib\\site-packages\\latex_envs\\static\\doc\\latex_env_doc.tex -> C:\\Users\\AG20459\\AppData\\Roaming\\jupyter\\nbextensions\\latex_envs\\doc\\latex_env_doc.tex\n",
      "[I 11:38:07 InstallContribNbextensionsApp] Copying: c:\\users\\ag20459\\appdata\\local\\continuum\\anaconda3\\envs\\nlp_course\\lib\\site-packages\\latex_envs\\static\\doc\\main_toolbar.png -> C:\\Users\\AG20459\\AppData\\Roaming\\jupyter\\nbextensions\\latex_envs\\doc\\main_toolbar.png\n",
      "[I 11:38:07 InstallContribNbextensionsApp] Copying: c:\\users\\ag20459\\appdata\\local\\continuum\\anaconda3\\envs\\nlp_course\\lib\\site-packages\\latex_envs\\static\\doc\\README.md -> C:\\Users\\AG20459\\AppData\\Roaming\\jupyter\\nbextensions\\latex_envs\\doc\\README.md\n",
      "[I 11:38:07 InstallContribNbextensionsApp] Copying: c:\\users\\ag20459\\appdata\\local\\continuum\\anaconda3\\envs\\nlp_course\\lib\\site-packages\\latex_envs\\static\\doc\\Toggles.png -> C:\\Users\\AG20459\\AppData\\Roaming\\jupyter\\nbextensions\\latex_envs\\doc\\Toggles.png\n",
      "[I 11:38:07 InstallContribNbextensionsApp] Making directory: C:\\Users\\AG20459\\AppData\\Roaming\\jupyter\\nbextensions\\latex_envs\\doc\\.ipynb_checkpoints\n",
      "[I 11:38:07 InstallContribNbextensionsApp] Copying: c:\\users\\ag20459\\appdata\\local\\continuum\\anaconda3\\envs\\nlp_course\\lib\\site-packages\\latex_envs\\static\\doc\\.ipynb_checkpoints\\latex_env_doc-checkpoint.ipynb -> C:\\Users\\AG20459\\AppData\\Roaming\\jupyter\\nbextensions\\latex_envs\\doc\\.ipynb_checkpoints\\latex_env_doc-checkpoint.ipynb\n",
      "[I 11:38:07 InstallContribNbextensionsApp] Making directory: C:\\Users\\AG20459\\AppData\\Roaming\\jupyter\\nbextensions\\latex_envs\\doc\\latex_env_doc_files\n",
      "[I 11:38:07 InstallContribNbextensionsApp] Copying: c:\\users\\ag20459\\appdata\\local\\continuum\\anaconda3\\envs\\nlp_course\\lib\\site-packages\\latex_envs\\static\\doc\\latex_env_doc_files\\latex_env_doc_23_2.png -> C:\\Users\\AG20459\\AppData\\Roaming\\jupyter\\nbextensions\\latex_envs\\doc\\latex_env_doc_files\\latex_env_doc_23_2.png\n",
      "[I 11:38:07 InstallContribNbextensionsApp] Copying: c:\\users\\ag20459\\appdata\\local\\continuum\\anaconda3\\envs\\nlp_course\\lib\\site-packages\\latex_envs\\static\\doc\\latex_env_doc_files\\latex_env_doc_24_2.png -> C:\\Users\\AG20459\\AppData\\Roaming\\jupyter\\nbextensions\\latex_envs\\doc\\latex_env_doc_files\\latex_env_doc_24_2.png\n",
      "[I 11:38:07 InstallContribNbextensionsApp] Copying: c:\\users\\ag20459\\appdata\\local\\continuum\\anaconda3\\envs\\nlp_course\\lib\\site-packages\\latex_envs\\static\\doc\\latex_env_doc_files\\latex_env_doc_26_2.png -> C:\\Users\\AG20459\\AppData\\Roaming\\jupyter\\nbextensions\\latex_envs\\doc\\latex_env_doc_files\\latex_env_doc_26_2.png\n",
      "[I 11:38:07 InstallContribNbextensionsApp] Copying: c:\\users\\ag20459\\appdata\\local\\continuum\\anaconda3\\envs\\nlp_course\\lib\\site-packages\\latex_envs\\static\\doc\\latex_env_doc_files\\latex_env_doc_27_2.png -> C:\\Users\\AG20459\\AppData\\Roaming\\jupyter\\nbextensions\\latex_envs\\doc\\latex_env_doc_files\\latex_env_doc_27_2.png\n",
      "[I 11:38:07 InstallContribNbextensionsApp] Copying: c:\\users\\ag20459\\appdata\\local\\continuum\\anaconda3\\envs\\nlp_course\\lib\\site-packages\\latex_envs\\static\\doc\\latex_env_doc_files\\latex_env_doc_41_0.png -> C:\\Users\\AG20459\\AppData\\Roaming\\jupyter\\nbextensions\\latex_envs\\doc\\latex_env_doc_files\\latex_env_doc_41_0.png\n",
      "[I 11:38:07 InstallContribNbextensionsApp] Copying: c:\\users\\ag20459\\appdata\\local\\continuum\\anaconda3\\envs\\nlp_course\\lib\\site-packages\\latex_envs\\static\\doc\\latex_env_doc_files\\latex_env_doc_42_0.png -> C:\\Users\\AG20459\\AppData\\Roaming\\jupyter\\nbextensions\\latex_envs\\doc\\latex_env_doc_files\\latex_env_doc_42_0.png\n",
      "[I 11:38:07 InstallContribNbextensionsApp] Copying: c:\\users\\ag20459\\appdata\\local\\continuum\\anaconda3\\envs\\nlp_course\\lib\\site-packages\\latex_envs\\static\\doc\\latex_env_doc_files\\latex_env_doc_43_0.png -> C:\\Users\\AG20459\\AppData\\Roaming\\jupyter\\nbextensions\\latex_envs\\doc\\latex_env_doc_files\\latex_env_doc_43_0.png\n",
      "[I 11:38:07 InstallContribNbextensionsApp] Copying: c:\\users\\ag20459\\appdata\\local\\continuum\\anaconda3\\envs\\nlp_course\\lib\\site-packages\\latex_envs\\static\\doc\\latex_env_doc_files\\latex_env_doc_44_0.png -> C:\\Users\\AG20459\\AppData\\Roaming\\jupyter\\nbextensions\\latex_envs\\doc\\latex_env_doc_files\\latex_env_doc_44_0.png\n",
      "[I 11:38:07 InstallContribNbextensionsApp] Copying: c:\\users\\ag20459\\appdata\\local\\continuum\\anaconda3\\envs\\nlp_course\\lib\\site-packages\\latex_envs\\static\\doc\\latex_env_doc_files\\latex_env_doc_45_0.png -> C:\\Users\\AG20459\\AppData\\Roaming\\jupyter\\nbextensions\\latex_envs\\doc\\latex_env_doc_files\\latex_env_doc_45_0.png\n",
      "[I 11:38:07 InstallContribNbextensionsApp] Copying: c:\\users\\ag20459\\appdata\\local\\continuum\\anaconda3\\envs\\nlp_course\\lib\\site-packages\\latex_envs\\static\\doc\\latex_env_doc_files\\latex_env_doc_46_0.png -> C:\\Users\\AG20459\\AppData\\Roaming\\jupyter\\nbextensions\\latex_envs\\doc\\latex_env_doc_files\\latex_env_doc_46_0.png\n",
      "[I 11:38:07 InstallContribNbextensionsApp] Copying: c:\\users\\ag20459\\appdata\\local\\continuum\\anaconda3\\envs\\nlp_course\\lib\\site-packages\\latex_envs\\static\\doc\\latex_env_doc_files\\latex_env_doc_47_0.png -> C:\\Users\\AG20459\\AppData\\Roaming\\jupyter\\nbextensions\\latex_envs\\doc\\latex_env_doc_files\\latex_env_doc_47_0.png\n",
      "[I 11:38:07 InstallContribNbextensionsApp] Copying: c:\\users\\ag20459\\appdata\\local\\continuum\\anaconda3\\envs\\nlp_course\\lib\\site-packages\\latex_envs\\static\\doc\\latex_env_doc_files\\latex_env_doc_48_0.png -> C:\\Users\\AG20459\\AppData\\Roaming\\jupyter\\nbextensions\\latex_envs\\doc\\latex_env_doc_files\\latex_env_doc_48_0.png\n",
      "[I 11:38:07 InstallContribNbextensionsApp] Copying: c:\\users\\ag20459\\appdata\\local\\continuum\\anaconda3\\envs\\nlp_course\\lib\\site-packages\\latex_envs\\static\\doc\\latex_env_doc_files\\latex_env_doc_49_0.png -> C:\\Users\\AG20459\\AppData\\Roaming\\jupyter\\nbextensions\\latex_envs\\doc\\latex_env_doc_files\\latex_env_doc_49_0.png\n",
      "[I 11:38:08 InstallContribNbextensionsApp] Copying: c:\\users\\ag20459\\appdata\\local\\continuum\\anaconda3\\envs\\nlp_course\\lib\\site-packages\\latex_envs\\static\\doc\\latex_env_doc_files\\latex_env_doc_50_0.png -> C:\\Users\\AG20459\\AppData\\Roaming\\jupyter\\nbextensions\\latex_envs\\doc\\latex_env_doc_files\\latex_env_doc_50_0.png\n",
      "[I 11:38:08 InstallContribNbextensionsApp] Copying: c:\\users\\ag20459\\appdata\\local\\continuum\\anaconda3\\envs\\nlp_course\\lib\\site-packages\\latex_envs\\static\\doc\\latex_env_doc_files\\latex_env_doc_51_0.png -> C:\\Users\\AG20459\\AppData\\Roaming\\jupyter\\nbextensions\\latex_envs\\doc\\latex_env_doc_files\\latex_env_doc_51_0.png\n",
      "[I 11:38:08 InstallContribNbextensionsApp] Copying: c:\\users\\ag20459\\appdata\\local\\continuum\\anaconda3\\envs\\nlp_course\\lib\\site-packages\\latex_envs\\static\\doc\\latex_env_doc_files\\latex_env_doc_52_0.png -> C:\\Users\\AG20459\\AppData\\Roaming\\jupyter\\nbextensions\\latex_envs\\doc\\latex_env_doc_files\\latex_env_doc_52_0.png\n",
      "[I 11:38:08 InstallContribNbextensionsApp] - Validating: ok\n",
      "[I 11:38:08 InstallContribNbextensionsApp] Installing jupyter_contrib_nbextensions items to config in C:\\Users\\AG20459\\.jupyter\n",
      "Enabling: jupyter_nbextensions_configurator\n",
      "- Writing config: C:\\Users\\AG20459\\.jupyter\n",
      "    - Validating...\n",
      "      jupyter_nbextensions_configurator 0.4.1 ok\n",
      "Enabling notebook nbextension nbextensions_configurator/config_menu/main...\n",
      "Enabling tree nbextension nbextensions_configurator/tree_tab/main...\n",
      "[I 11:38:08 InstallContribNbextensionsApp] Enabling notebook extension contrib_nbextensions_help_item/main...\n",
      "[I 11:38:08 InstallContribNbextensionsApp]       - Validating: ok\n",
      "[I 11:38:08 InstallContribNbextensionsApp] - Editing config: C:\\Users\\AG20459\\.jupyter\\jupyter_nbconvert_config.json\n",
      "[I 11:38:08 InstallContribNbextensionsApp] --  Configuring nbconvert template path\n",
      "[I 11:38:08 InstallContribNbextensionsApp] --  Configuring nbconvert preprocessors\n",
      "[I 11:38:08 InstallContribNbextensionsApp] - Writing config: C:\\Users\\AG20459\\.jupyter\\jupyter_nbconvert_config.json\n",
      "[I 11:38:08 InstallContribNbextensionsApp] --  Writing updated config file C:\\Users\\AG20459\\.jupyter\\jupyter_nbconvert_config.json\n"
     ]
    }
   ],
   "source": [
    "!jupyter contrib nbextension install --user"
   ]
  },
  {
   "cell_type": "code",
   "execution_count": 14,
   "id": "caring-handle",
   "metadata": {},
   "outputs": [
    {
     "data": {
      "text/plain": [
       "'C:\\\\Shubham\\\\Studies\\\\Data Science\\\\NLP\\\\code\\\\udemy'"
      ]
     },
     "execution_count": 14,
     "metadata": {},
     "output_type": "execute_result"
    }
   ],
   "source": [
    "pwd"
   ]
  },
  {
   "cell_type": "code",
   "execution_count": 4,
   "id": "pressed-stuart",
   "metadata": {},
   "outputs": [],
   "source": [
    "import PyPDF2"
   ]
  },
  {
   "cell_type": "code",
   "execution_count": 5,
   "id": "received-attraction",
   "metadata": {},
   "outputs": [],
   "source": [
    "# rb - read binary mode as it is pdf file\n",
    "myfile = open('US_Declaration.pdf',mode='rb')"
   ]
  },
  {
   "cell_type": "code",
   "execution_count": 15,
   "id": "reflected-momentum",
   "metadata": {},
   "outputs": [],
   "source": [
    "pdf_reader = PyPDF2.PdfFileReader(myfile)"
   ]
  },
  {
   "cell_type": "code",
   "execution_count": 16,
   "id": "collectible-retention",
   "metadata": {},
   "outputs": [
    {
     "data": {
      "text/plain": [
       "5"
      ]
     },
     "execution_count": 16,
     "metadata": {},
     "output_type": "execute_result"
    }
   ],
   "source": [
    "pdf_reader.numPages"
   ]
  },
  {
   "cell_type": "code",
   "execution_count": 17,
   "id": "acoustic-mason",
   "metadata": {},
   "outputs": [],
   "source": [
    "page_one = pdf_reader.getPage(0)"
   ]
  },
  {
   "cell_type": "code",
   "execution_count": 19,
   "id": "satisfied-gateway",
   "metadata": {},
   "outputs": [
    {
     "name": "stdout",
     "output_type": "stream",
     "text": [
      "Declaration of IndependenceIN CONGRESS, July 4, 1776. The unanimous Declaration of the thirteen united States of America, When in the Course of human events, it becomes necessary for one people to dissolve the\n",
      "political bands which have connected them with another, and to assume among the powers of the\n",
      "earth, the separate and equal station to which the Laws of Nature and of Nature's God entitle\n",
      "\n",
      "them, a decent respect to the opinions of mankind requires that they should declare the causes\n",
      "\n",
      "which impel them to the separation. \n",
      "We hold these truths to be self-evident, that all men are created equal, that they are endowed by\n",
      "\n",
      "their Creator with certain unalienable Rights, that among these are Life, Liberty and the pursuit\n",
      "of Happiness.ŠThat to secure these rights, Governments are instituted among Men, deriving\n",
      "\n",
      "their just powers from the consent of the governed,ŠThat whenever any Form of Government\n",
      "becomes destructive of these ends, it is the Right of the People to alter or to abolish it, and to\n",
      "institute new Government, laying its foundation on such principles and organizing its powers in\n",
      "such form, as to them shall seem most likely to effect their Safety and Happiness. Prudence,\n",
      "\n",
      "indeed, will dictate that Governments long established should not be changed for light and\n",
      "transient causes; and accordingly all experience hath shewn, that mankind are more disposed to\n",
      "suffer, while evils are sufferable, than to right themselves by abolishing the forms to which they\n",
      "\n",
      "are accustomed. But when a long train of abuses and usurpations, pursuing invariably the same\n",
      "Object evinces a design to reduce them under absolute Despotism, it is their right, it is their duty,\n",
      "to throw off such Government, and to provide new Guards for their future security.ŠSuch has\n",
      "been the patient sufferance of these Colonies; and such is now the necessity which constrains\n",
      "\n",
      "them to alter their former Systems of Government. The history of the present King of Great\n",
      "\n",
      "Britain is a history of repeated injuries and usurpations, all having in direct object the\n",
      "establishment of an absolute Tyranny over these States. To prove this, let Facts be submitted to a\n",
      "candid world. He has refused his Assent to Laws, the most wholesome and necessary for the\n",
      "public good.\n",
      "He has forbidden his Governors to pass Laws of immediate and pressing\n",
      "importance, unless suspended in their operation till his Assent should be obtained;\n",
      "and when so suspended, he has utterly neglected to attend to them.\n",
      "\n",
      "He has refused to pass other Laws for the accommodation of large districts of\n",
      "people, unless those people would relinquish the right of Representation in the\n",
      "Legislature, a right inestimable to them and formidable to tyrants only. \n",
      "\n",
      "He has called together legislative bodies at places unusual, uncomfortable, and distant\n",
      "from the depository of their public Records, for the sole purpose of fatiguing them into\n",
      "compliance with his measures.\n",
      "\n"
     ]
    }
   ],
   "source": [
    "print(page_one.extractText())"
   ]
  },
  {
   "cell_type": "code",
   "execution_count": 20,
   "id": "allied-probe",
   "metadata": {},
   "outputs": [],
   "source": [
    "myfile.close()"
   ]
  },
  {
   "cell_type": "code",
   "execution_count": 22,
   "id": "circular-watershed",
   "metadata": {},
   "outputs": [],
   "source": [
    "f = open('US_Declaration.pdf','rb')"
   ]
  },
  {
   "cell_type": "code",
   "execution_count": 23,
   "id": "vietnamese-stanley",
   "metadata": {},
   "outputs": [],
   "source": [
    "pdf_reader = PyPDF2.PdfFileReader(f)"
   ]
  },
  {
   "cell_type": "code",
   "execution_count": 24,
   "id": "urban-silicon",
   "metadata": {},
   "outputs": [],
   "source": [
    "first_page = pdf_reader.getPage(0)"
   ]
  },
  {
   "cell_type": "code",
   "execution_count": 25,
   "id": "delayed-wisconsin",
   "metadata": {},
   "outputs": [],
   "source": [
    "pdf_writer = PyPDF2.PdfFileWriter()"
   ]
  },
  {
   "cell_type": "code",
   "execution_count": 26,
   "id": "looking-leader",
   "metadata": {},
   "outputs": [],
   "source": [
    "pdf_writer.addPage(first_page)"
   ]
  },
  {
   "cell_type": "code",
   "execution_count": 27,
   "id": "nutritional-juice",
   "metadata": {},
   "outputs": [],
   "source": [
    "pdf_output = open('Brand_New.pdf','wb')"
   ]
  },
  {
   "cell_type": "code",
   "execution_count": 28,
   "id": "skilled-dress",
   "metadata": {},
   "outputs": [],
   "source": [
    "pdf_writer.write(pdf_output)"
   ]
  },
  {
   "cell_type": "code",
   "execution_count": 29,
   "id": "promotional-thread",
   "metadata": {},
   "outputs": [],
   "source": [
    "pdf_output.close()"
   ]
  },
  {
   "cell_type": "code",
   "execution_count": 30,
   "id": "naughty-problem",
   "metadata": {},
   "outputs": [],
   "source": [
    "f.close()"
   ]
  },
  {
   "cell_type": "code",
   "execution_count": null,
   "id": "robust-wisdom",
   "metadata": {},
   "outputs": [],
   "source": []
  },
  {
   "cell_type": "code",
   "execution_count": 33,
   "id": "demographic-seattle",
   "metadata": {},
   "outputs": [],
   "source": [
    "brand_new = open('Brand_New.pdf','rb')\n",
    "pdf_reader = PyPDF2.PdfFileReader(brand_new)"
   ]
  },
  {
   "cell_type": "code",
   "execution_count": 34,
   "id": "geological-mouth",
   "metadata": {},
   "outputs": [
    {
     "data": {
      "text/plain": [
       "1"
      ]
     },
     "execution_count": 34,
     "metadata": {},
     "output_type": "execute_result"
    }
   ],
   "source": [
    "pdf_reader.numPages"
   ]
  },
  {
   "cell_type": "code",
   "execution_count": 36,
   "id": "unknown-lesson",
   "metadata": {},
   "outputs": [],
   "source": [
    "f = open('US_Declaration.pdf','rb')\n",
    "\n",
    "pdf_text= []\n",
    "\n",
    "pdf_reader = PyPDF2.PdfFileReader(f)\n",
    "\n",
    "for p in range(pdf_reader.numPages):\n",
    "    page = pdf_reader.getPage(p)\n",
    "    pdf_text.append(page.extractText())\n",
    "f.close()"
   ]
  },
  {
   "cell_type": "code",
   "execution_count": 38,
   "id": "optional-magnet",
   "metadata": {},
   "outputs": [
    {
     "data": {
      "text/plain": [
       "5"
      ]
     },
     "execution_count": 38,
     "metadata": {},
     "output_type": "execute_result"
    }
   ],
   "source": [
    "len(pdf_text)"
   ]
  },
  {
   "cell_type": "code",
   "execution_count": 39,
   "id": "dying-blond",
   "metadata": {},
   "outputs": [
    {
     "name": "stdout",
     "output_type": "stream",
     "text": [
      "Declaration of IndependenceIN CONGRESS, July 4, 1776. The unanimous Declaration of the thirteen united States of America, When in the Course of human events, it becomes necessary for one people to dissolve the\n",
      "political bands which have connected them with another, and to assume among the powers of the\n",
      "earth, the separate and equal station to which the Laws of Nature and of Nature's God entitle\n",
      "\n",
      "them, a decent respect to the opinions of mankind requires that they should declare the causes\n",
      "\n",
      "which impel them to the separation. \n",
      "We hold these truths to be self-evident, that all men are created equal, that they are endowed by\n",
      "\n",
      "their Creator with certain unalienable Rights, that among these are Life, Liberty and the pursuit\n",
      "of Happiness.ŠThat to secure these rights, Governments are instituted among Men, deriving\n",
      "\n",
      "their just powers from the consent of the governed,ŠThat whenever any Form of Government\n",
      "becomes destructive of these ends, it is the Right of the People to alter or to abolish it, and to\n",
      "institute new Government, laying its foundation on such principles and organizing its powers in\n",
      "such form, as to them shall seem most likely to effect their Safety and Happiness. Prudence,\n",
      "\n",
      "indeed, will dictate that Governments long established should not be changed for light and\n",
      "transient causes; and accordingly all experience hath shewn, that mankind are more disposed to\n",
      "suffer, while evils are sufferable, than to right themselves by abolishing the forms to which they\n",
      "\n",
      "are accustomed. But when a long train of abuses and usurpations, pursuing invariably the same\n",
      "Object evinces a design to reduce them under absolute Despotism, it is their right, it is their duty,\n",
      "to throw off such Government, and to provide new Guards for their future security.ŠSuch has\n",
      "been the patient sufferance of these Colonies; and such is now the necessity which constrains\n",
      "\n",
      "them to alter their former Systems of Government. The history of the present King of Great\n",
      "\n",
      "Britain is a history of repeated injuries and usurpations, all having in direct object the\n",
      "establishment of an absolute Tyranny over these States. To prove this, let Facts be submitted to a\n",
      "candid world. He has refused his Assent to Laws, the most wholesome and necessary for the\n",
      "public good.\n",
      "He has forbidden his Governors to pass Laws of immediate and pressing\n",
      "importance, unless suspended in their operation till his Assent should be obtained;\n",
      "and when so suspended, he has utterly neglected to attend to them.\n",
      "\n",
      "He has refused to pass other Laws for the accommodation of large districts of\n",
      "people, unless those people would relinquish the right of Representation in the\n",
      "Legislature, a right inestimable to them and formidable to tyrants only. \n",
      "\n",
      "He has called together legislative bodies at places unusual, uncomfortable, and distant\n",
      "from the depository of their public Records, for the sole purpose of fatiguing them into\n",
      "compliance with his measures.\n",
      "\n",
      "\n",
      "\n",
      "\n",
      "\n",
      "\n",
      "\n",
      "He has dissolved Representative Houses repeatedly, for opposing with manlyfirmness his invasions on the rights of the people.He has refused for a long time, after such dissolutions, to cause others to beelected; whereby the Legislative powers, incapable of Annihilation, have returnedto the People at large for their exercise; the State remaining in the mean timeexposed to all the dangers of invasion from without, and convulsions within.He has endeavoured to prevent the population of these States; for that purposeobstructing the Laws for Naturalization of Foreigners; refusing to pass others toencourage their migrations hither, and raising the conditions of newAppropriations of Lands.He has obstructed the Administration of Justice, by refusing his Assent to Lawsfor establishing Judiciary powers.He has made Judges dependent on his Will alone, for the tenure of their offices,and the amount and payment of their salaries.He has erected a multitude of New Offices, and sent hither swarms of Officers toharrass our people, and eat out their substance.He has kept among us, in times of peace, Standing Armies without the Consent ofour legislatures.He has affected to render the Military independent of and superior to the Civil power.He has combined with others to subject us to a jurisdiction foreign to ourconstitution, and unacknowledged by our laws; giving his Assent to their Acts ofpretended Legislation:For Quartering large bodies of armed troops among us:For protecting them, by a mock Trial, from punishment for any Murders whichthey should commit on the Inhabitants of these States:For cutting off our Trade with all parts of the world:For imposing Taxes on us without our Consent: For depriving us in many cases,of the benefits of Trial by Jury:For transporting us beyond Seas to be tried for pretended offencesFor abolishing the free System of English Laws in a neighbouring Province,establishing therein an Arbitrary government, and enlarging its Boundaries so as\n",
      "\n",
      "\n",
      "\n",
      "\n",
      "\n",
      "\n",
      "to render it at once an example and fit instrument for introducing the sameabsolute rule into these Colonies:For taking away our Charters, abolishing our most valuable Laws, and alteringfundamentally the Forms of our Governments:For suspending our own Legislatures, and declaring themselves invested withpower to legislate for us in all cases whatsoever.He has abdicated Government here, by declaring us out of his Protection andwaging War against us.He has plundered our seas, ravaged our Coasts, burnt our towns, and destroyed thelives of our people.He is at this time transporting large Armies of foreign Mercenaries to compleatthe works of death, desolation and tyranny, already begun with circumstances ofCruelty & perfidy scarcely paralleled in the most barbarous ages, and totallyunworthy of the Head of a civilized nation.He has constrained our fellow Citizens taken Captive on the high Seas to bearArms against their Country, to become the executioners of their friends and\n",
      "Brethren, or to fall themselves by their Hands.He has excited domestic insurrections amongst us, and has endeavoured to bringon the inhabitants of our frontiers, the merciless Indian Savages, whose known\n",
      "rule of warfare, is an undistinguished destruction of all ages, sexes and conditions. In every stage of these Oppressions We have Petitioned for Redress in the most humble terms:Our repeated Petitions have been answered only by repeated injury. A Prince whose character isthus marked by every act which may define a Tyrant, is unfit to be the ruler of a free people. Nor have We been wanting in attentions to our Brittish brethren. We have warned them fromtime to time of attempts by their legislature to extend an unwarrantable jurisdiction over us. Wehave reminded them of the circumstances of our emigration and settlement here. We haveappealed to their native justice and magnanimity, and we have conjured them by the ties of ourcommon kindred to disavow these usurpations, which, would inevitably interrupt ourconnections and correspondence. They too have been deaf to the voice of justice and ofconsanguinity. We must, therefore, acquiesce in the necessity, which denounces our Separation,and hold them, as we hold the rest of mankind, Enemies in War, in Peace Friends. We, therefore, the Representatives of the united States of America, in General Congress,Assembled, appealing to the Supreme Judge of the world for the rectitude of our intentions, do,in the Name, and by Authority of the good People of these Colonies, solemnly publish anddeclare, That these United Colonies are, and of Right ought to be Free and Independent States;that they are Absolved from all Allegiance to the British Crown, and that all political connection\n",
      "\n",
      "\n",
      "\n",
      "\n",
      "\n",
      "\n",
      "between them and the State of Great Britain, is and ought to be totally dissolved; and that as Free\n",
      "\n",
      "and Independent States, they have full Power to levy War, conclude Peace, contract Alliances,\n",
      "establish Commerce, and to do all other Acts and Things which Independent States may of right\n",
      "\n",
      "do. And for the support of this Declaration, with a firm reliance on the protection of divine\n",
      "Providence, we mutually pledge to each other our Lives, our Fortunes and our sacred Honor.\n",
      "\n",
      "[The 56 signatures on the Declaration were arranged in six columns:\n",
      "] [Column 1]\n",
      " Georgia:   Button Gwinnett\n",
      "   Lyman \n",
      "Hall   George Walton \n",
      "[Column 2]\n",
      " North Carolina:   William Hooper\n",
      "   Joseph Hewes\n",
      "   John Penn\n",
      " South Carolina:   Edward Ru\n",
      "tledge   Thomas Heyward, Jr.\n",
      "  Thomas Lynch, Jr.\n",
      "  Arthur Middleton \n",
      "[Column 3]\n",
      " Massachusetts:   John Hancock\n",
      "\n",
      " Maryland:   Samuel Chase\n",
      "\n",
      "   William Paca\n",
      "\n",
      "   Thomas Stone\n",
      "\n",
      "   Charles Carroll of Carrollton\n",
      "\n",
      " Virginia:   George Wythe\n",
      "\n",
      "   Richard Henry Lee\n",
      "\n",
      "   Thomas Jefferson\n",
      "\n",
      "   Benjamin Harrison\n",
      "\n",
      "   Thomas Nelson, Jr.\n",
      "\n",
      "   Francis Lightfoot Lee\n",
      "\n",
      "   Carter Braxton \n",
      "\n",
      "[Column 4]\n",
      " Pennsylvania:  Robert Morris\n",
      "\n",
      "   Benjamin Rush\n",
      "   Benjamin Fran\n",
      "klin   John Morton\n",
      "\n",
      "\n",
      "\n",
      "\n",
      "\n",
      "\n",
      "\n",
      "   George Clymer\n",
      "   James Smith\n",
      "   George Taylor\n",
      "   James Wilson\n",
      "   George Ross\n",
      " Delaware:   Caesar Rodney\n",
      "   George Read\n",
      "   Thomas McKean \n",
      "[Column 5]\n",
      " New York:   Wi\n",
      "lliam Floyd   Philip Livingston\n",
      "   Francis L\n",
      "ewis   Lewis Morris\n",
      " New Jersey:   Richard Stockton\n",
      "   John Witherspoon\n",
      "   Francis Hopkinson\n",
      "   John Hart\n",
      "   Abraham Clark \n",
      "[Column 6]\n",
      " New Hampshire:   Josiah Bartlett\n",
      "   William Whipple\n",
      " Massachusetts:   Samuel Adams\n",
      "   John Adams\n",
      "   Robert Treat Paine\n",
      "   Elbridge Gerry\n",
      " Rhode Island:   Stephen Hopkins\n",
      "   William Ellery\n",
      " Connecticut:   Roger Sherman\n",
      "   Samuel Huntington\n",
      "   William Williams\n",
      "   Oliver Wolcott\n",
      " New Hampshire: Matthew Thornton\n",
      " \n",
      "\n",
      "\n",
      "\n",
      "\n",
      "\n",
      "\n"
     ]
    }
   ],
   "source": [
    "for page in pdf_text:\n",
    "    print(page)\n",
    "    print('\\n')\n",
    "    print('\\n')\n",
    "    print('\\n')"
   ]
  },
  {
   "cell_type": "markdown",
   "id": "lightweight-prediction",
   "metadata": {},
   "source": [
    "### Regex"
   ]
  },
  {
   "cell_type": "code",
   "execution_count": 1,
   "id": "musical-means",
   "metadata": {},
   "outputs": [],
   "source": [
    "text = 'The phone no of the agent is 408-555-1234. Call soon!'"
   ]
  },
  {
   "cell_type": "code",
   "execution_count": 2,
   "id": "popular-bracelet",
   "metadata": {},
   "outputs": [],
   "source": [
    "import re"
   ]
  },
  {
   "cell_type": "code",
   "execution_count": 3,
   "id": "popular-egyptian",
   "metadata": {},
   "outputs": [],
   "source": [
    "pattern = \"phone\""
   ]
  },
  {
   "cell_type": "code",
   "execution_count": 4,
   "id": "classical-reproduction",
   "metadata": {},
   "outputs": [
    {
     "data": {
      "text/plain": [
       "<re.Match object; span=(4, 9), match='phone'>"
      ]
     },
     "execution_count": 4,
     "metadata": {},
     "output_type": "execute_result"
    }
   ],
   "source": [
    "re.search(pattern, text)"
   ]
  },
  {
   "cell_type": "code",
   "execution_count": 5,
   "id": "extensive-accuracy",
   "metadata": {},
   "outputs": [],
   "source": [
    "my_match = re.search(pattern, text)"
   ]
  },
  {
   "cell_type": "code",
   "execution_count": 6,
   "id": "cathedral-district",
   "metadata": {},
   "outputs": [
    {
     "data": {
      "text/plain": [
       "(4, 9)"
      ]
     },
     "execution_count": 6,
     "metadata": {},
     "output_type": "execute_result"
    }
   ],
   "source": [
    "my_match.span()"
   ]
  },
  {
   "cell_type": "code",
   "execution_count": 7,
   "id": "following-chambers",
   "metadata": {},
   "outputs": [
    {
     "data": {
      "text/plain": [
       "4"
      ]
     },
     "execution_count": 7,
     "metadata": {},
     "output_type": "execute_result"
    }
   ],
   "source": [
    "my_match.start()"
   ]
  },
  {
   "cell_type": "code",
   "execution_count": 8,
   "id": "plastic-viewer",
   "metadata": {},
   "outputs": [
    {
     "data": {
      "text/plain": [
       "9"
      ]
     },
     "execution_count": 8,
     "metadata": {},
     "output_type": "execute_result"
    }
   ],
   "source": [
    "my_match.end()"
   ]
  },
  {
   "cell_type": "code",
   "execution_count": 15,
   "id": "original-eclipse",
   "metadata": {},
   "outputs": [],
   "source": [
    "text = 'my phone is a new phone is 777-555-1234'"
   ]
  },
  {
   "cell_type": "code",
   "execution_count": 10,
   "id": "published-timeline",
   "metadata": {},
   "outputs": [],
   "source": [
    "all_matches = re.findall(pattern, text)"
   ]
  },
  {
   "cell_type": "code",
   "execution_count": 11,
   "id": "subtle-convergence",
   "metadata": {},
   "outputs": [
    {
     "data": {
      "text/plain": [
       "2"
      ]
     },
     "execution_count": 11,
     "metadata": {},
     "output_type": "execute_result"
    }
   ],
   "source": [
    "len(all_matches)"
   ]
  },
  {
   "cell_type": "code",
   "execution_count": 13,
   "id": "young-synthetic",
   "metadata": {},
   "outputs": [
    {
     "name": "stdout",
     "output_type": "stream",
     "text": [
      "(3, 8)\n",
      "(18, 23)\n"
     ]
    }
   ],
   "source": [
    "for match in re.finditer(\"phone\",text):\n",
    "    print(match.span())"
   ]
  },
  {
   "cell_type": "code",
   "execution_count": 16,
   "id": "secure-fitting",
   "metadata": {},
   "outputs": [
    {
     "data": {
      "text/plain": [
       "'my phone is a new phone is 777-555-1234'"
      ]
     },
     "execution_count": 16,
     "metadata": {},
     "output_type": "execute_result"
    }
   ],
   "source": [
    "text"
   ]
  },
  {
   "cell_type": "code",
   "execution_count": 17,
   "id": "defined-gross",
   "metadata": {},
   "outputs": [],
   "source": [
    "pattern = r'\\d\\d\\d-\\d\\d\\d-\\d\\d\\d\\d'"
   ]
  },
  {
   "cell_type": "code",
   "execution_count": 18,
   "id": "arranged-killing",
   "metadata": {},
   "outputs": [],
   "source": [
    "phone_number = re.search(pattern, text)"
   ]
  },
  {
   "cell_type": "code",
   "execution_count": 20,
   "id": "increasing-floor",
   "metadata": {},
   "outputs": [
    {
     "data": {
      "text/plain": [
       "'777-555-1234'"
      ]
     },
     "execution_count": 20,
     "metadata": {},
     "output_type": "execute_result"
    }
   ],
   "source": [
    "phone_number.group()"
   ]
  },
  {
   "cell_type": "code",
   "execution_count": 21,
   "id": "sorted-lawsuit",
   "metadata": {},
   "outputs": [],
   "source": [
    "pattern = r'\\d{3}-\\d{3}-\\d{4}'"
   ]
  },
  {
   "cell_type": "code",
   "execution_count": 22,
   "id": "optimum-clerk",
   "metadata": {},
   "outputs": [
    {
     "data": {
      "text/plain": [
       "<re.Match object; span=(27, 39), match='777-555-1234'>"
      ]
     },
     "execution_count": 22,
     "metadata": {},
     "output_type": "execute_result"
    }
   ],
   "source": [
    "re.search(pattern, text)"
   ]
  },
  {
   "cell_type": "code",
   "execution_count": 23,
   "id": "civilian-address",
   "metadata": {},
   "outputs": [],
   "source": [
    "pattern = r\"(\\d{3})-(\\d{3})-(\\d{4})\""
   ]
  },
  {
   "cell_type": "code",
   "execution_count": 24,
   "id": "polished-loading",
   "metadata": {},
   "outputs": [],
   "source": [
    "mymatch = re.search(pattern, text)"
   ]
  },
  {
   "cell_type": "code",
   "execution_count": 25,
   "id": "white-celebration",
   "metadata": {},
   "outputs": [
    {
     "data": {
      "text/plain": [
       "'777-555-1234'"
      ]
     },
     "execution_count": 25,
     "metadata": {},
     "output_type": "execute_result"
    }
   ],
   "source": [
    "mymatch.group()"
   ]
  },
  {
   "cell_type": "code",
   "execution_count": 26,
   "id": "senior-sending",
   "metadata": {},
   "outputs": [
    {
     "data": {
      "text/plain": [
       "<re.Match object; span=(5, 8), match='man'>"
      ]
     },
     "execution_count": 26,
     "metadata": {},
     "output_type": "execute_result"
    }
   ],
   "source": [
    "re.search(r\"man|woman\",\"This man was here\")"
   ]
  },
  {
   "cell_type": "code",
   "execution_count": 27,
   "id": "capital-father",
   "metadata": {},
   "outputs": [
    {
     "data": {
      "text/plain": [
       "['cat', 'hat', 'sat']"
      ]
     },
     "execution_count": 27,
     "metadata": {},
     "output_type": "execute_result"
    }
   ],
   "source": [
    "re.findall(r\".at\",\"The cat in the hat sat\")"
   ]
  },
  {
   "cell_type": "code",
   "execution_count": 29,
   "id": "second-burst",
   "metadata": {},
   "outputs": [
    {
     "data": {
      "text/plain": [
       "['2']"
      ]
     },
     "execution_count": 29,
     "metadata": {},
     "output_type": "execute_result"
    }
   ],
   "source": [
    "re.findall(r\"\\d$\",\"This ends with 2\")"
   ]
  },
  {
   "cell_type": "code",
   "execution_count": 30,
   "id": "dynamic-bread",
   "metadata": {},
   "outputs": [],
   "source": [
    "phrase =\"there are 3 no and 34 in this sentence\""
   ]
  },
  {
   "cell_type": "code",
   "execution_count": 33,
   "id": "vocal-convergence",
   "metadata": {},
   "outputs": [
    {
     "data": {
      "text/plain": [
       "['there are ', ' no and ', ' in this sentence']"
      ]
     },
     "execution_count": 33,
     "metadata": {},
     "output_type": "execute_result"
    }
   ],
   "source": [
    "re.findall(r\"[^\\d]+\",phrase)"
   ]
  },
  {
   "cell_type": "code",
   "execution_count": 34,
   "id": "standard-fleece",
   "metadata": {},
   "outputs": [],
   "source": [
    "test_phrase =\"This is a string! but it has punctuation. How to remove it?\""
   ]
  },
  {
   "cell_type": "code",
   "execution_count": 37,
   "id": "czech-money",
   "metadata": {},
   "outputs": [],
   "source": [
    "mylist = re.findall(r\"[^!.? ]+\",test_phrase)"
   ]
  },
  {
   "cell_type": "code",
   "execution_count": 38,
   "id": "satisfactory-bleeding",
   "metadata": {},
   "outputs": [
    {
     "data": {
      "text/plain": [
       "['This',\n",
       " 'is',\n",
       " 'a',\n",
       " 'string',\n",
       " 'but',\n",
       " 'it',\n",
       " 'has',\n",
       " 'punctuation',\n",
       " 'How',\n",
       " 'to',\n",
       " 'remove',\n",
       " 'it']"
      ]
     },
     "execution_count": 38,
     "metadata": {},
     "output_type": "execute_result"
    }
   ],
   "source": [
    "mylist"
   ]
  },
  {
   "cell_type": "code",
   "execution_count": 39,
   "id": "reasonable-master",
   "metadata": {},
   "outputs": [
    {
     "data": {
      "text/plain": [
       "'This is a string but it has punctuation How to remove it'"
      ]
     },
     "execution_count": 39,
     "metadata": {},
     "output_type": "execute_result"
    }
   ],
   "source": [
    " ' '.join(mylist)"
   ]
  },
  {
   "cell_type": "code",
   "execution_count": 40,
   "id": "medical-device",
   "metadata": {},
   "outputs": [],
   "source": [
    "text = \"Only to find the hyphen-words. Were are the long-ish dash words? \""
   ]
  },
  {
   "cell_type": "code",
   "execution_count": 42,
   "id": "latest-telescope",
   "metadata": {},
   "outputs": [
    {
     "data": {
      "text/plain": [
       "['hyphen-words', 'long-ish']"
      ]
     },
     "execution_count": 42,
     "metadata": {},
     "output_type": "execute_result"
    }
   ],
   "source": [
    "re.findall(r\"[\\w]+-[\\w]+\",text)"
   ]
  },
  {
   "cell_type": "code",
   "execution_count": null,
   "id": "cathedral-forum",
   "metadata": {},
   "outputs": [],
   "source": []
  }
 ],
 "metadata": {
  "kernelspec": {
   "display_name": "Python 3",
   "language": "python",
   "name": "python3"
  },
  "language_info": {
   "codemirror_mode": {
    "name": "ipython",
    "version": 3
   },
   "file_extension": ".py",
   "mimetype": "text/x-python",
   "name": "python",
   "nbconvert_exporter": "python",
   "pygments_lexer": "ipython3",
   "version": "3.7.9"
  }
 },
 "nbformat": 4,
 "nbformat_minor": 5
}
