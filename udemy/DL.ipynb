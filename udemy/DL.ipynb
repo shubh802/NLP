{
 "cells": [
  {
   "cell_type": "code",
   "execution_count": 1,
   "id": "north-period",
   "metadata": {},
   "outputs": [],
   "source": [
    "import numpy as np"
   ]
  },
  {
   "cell_type": "code",
   "execution_count": 2,
   "id": "illegal-drinking",
   "metadata": {},
   "outputs": [],
   "source": [
    "from sklearn.datasets import load_iris"
   ]
  },
  {
   "cell_type": "code",
   "execution_count": 3,
   "id": "higher-leone",
   "metadata": {},
   "outputs": [],
   "source": [
    "iris = load_iris()"
   ]
  },
  {
   "cell_type": "code",
   "execution_count": 4,
   "id": "russian-scholar",
   "metadata": {},
   "outputs": [
    {
     "data": {
      "text/plain": [
       "sklearn.utils.Bunch"
      ]
     },
     "execution_count": 4,
     "metadata": {},
     "output_type": "execute_result"
    }
   ],
   "source": [
    "type(iris)"
   ]
  },
  {
   "cell_type": "code",
   "execution_count": 5,
   "id": "weird-paintball",
   "metadata": {},
   "outputs": [
    {
     "data": {
      "text/plain": [
       "{'data': array([[5.1, 3.5, 1.4, 0.2],\n",
       "        [4.9, 3. , 1.4, 0.2],\n",
       "        [4.7, 3.2, 1.3, 0.2],\n",
       "        [4.6, 3.1, 1.5, 0.2],\n",
       "        [5. , 3.6, 1.4, 0.2],\n",
       "        [5.4, 3.9, 1.7, 0.4],\n",
       "        [4.6, 3.4, 1.4, 0.3],\n",
       "        [5. , 3.4, 1.5, 0.2],\n",
       "        [4.4, 2.9, 1.4, 0.2],\n",
       "        [4.9, 3.1, 1.5, 0.1],\n",
       "        [5.4, 3.7, 1.5, 0.2],\n",
       "        [4.8, 3.4, 1.6, 0.2],\n",
       "        [4.8, 3. , 1.4, 0.1],\n",
       "        [4.3, 3. , 1.1, 0.1],\n",
       "        [5.8, 4. , 1.2, 0.2],\n",
       "        [5.7, 4.4, 1.5, 0.4],\n",
       "        [5.4, 3.9, 1.3, 0.4],\n",
       "        [5.1, 3.5, 1.4, 0.3],\n",
       "        [5.7, 3.8, 1.7, 0.3],\n",
       "        [5.1, 3.8, 1.5, 0.3],\n",
       "        [5.4, 3.4, 1.7, 0.2],\n",
       "        [5.1, 3.7, 1.5, 0.4],\n",
       "        [4.6, 3.6, 1. , 0.2],\n",
       "        [5.1, 3.3, 1.7, 0.5],\n",
       "        [4.8, 3.4, 1.9, 0.2],\n",
       "        [5. , 3. , 1.6, 0.2],\n",
       "        [5. , 3.4, 1.6, 0.4],\n",
       "        [5.2, 3.5, 1.5, 0.2],\n",
       "        [5.2, 3.4, 1.4, 0.2],\n",
       "        [4.7, 3.2, 1.6, 0.2],\n",
       "        [4.8, 3.1, 1.6, 0.2],\n",
       "        [5.4, 3.4, 1.5, 0.4],\n",
       "        [5.2, 4.1, 1.5, 0.1],\n",
       "        [5.5, 4.2, 1.4, 0.2],\n",
       "        [4.9, 3.1, 1.5, 0.2],\n",
       "        [5. , 3.2, 1.2, 0.2],\n",
       "        [5.5, 3.5, 1.3, 0.2],\n",
       "        [4.9, 3.6, 1.4, 0.1],\n",
       "        [4.4, 3. , 1.3, 0.2],\n",
       "        [5.1, 3.4, 1.5, 0.2],\n",
       "        [5. , 3.5, 1.3, 0.3],\n",
       "        [4.5, 2.3, 1.3, 0.3],\n",
       "        [4.4, 3.2, 1.3, 0.2],\n",
       "        [5. , 3.5, 1.6, 0.6],\n",
       "        [5.1, 3.8, 1.9, 0.4],\n",
       "        [4.8, 3. , 1.4, 0.3],\n",
       "        [5.1, 3.8, 1.6, 0.2],\n",
       "        [4.6, 3.2, 1.4, 0.2],\n",
       "        [5.3, 3.7, 1.5, 0.2],\n",
       "        [5. , 3.3, 1.4, 0.2],\n",
       "        [7. , 3.2, 4.7, 1.4],\n",
       "        [6.4, 3.2, 4.5, 1.5],\n",
       "        [6.9, 3.1, 4.9, 1.5],\n",
       "        [5.5, 2.3, 4. , 1.3],\n",
       "        [6.5, 2.8, 4.6, 1.5],\n",
       "        [5.7, 2.8, 4.5, 1.3],\n",
       "        [6.3, 3.3, 4.7, 1.6],\n",
       "        [4.9, 2.4, 3.3, 1. ],\n",
       "        [6.6, 2.9, 4.6, 1.3],\n",
       "        [5.2, 2.7, 3.9, 1.4],\n",
       "        [5. , 2. , 3.5, 1. ],\n",
       "        [5.9, 3. , 4.2, 1.5],\n",
       "        [6. , 2.2, 4. , 1. ],\n",
       "        [6.1, 2.9, 4.7, 1.4],\n",
       "        [5.6, 2.9, 3.6, 1.3],\n",
       "        [6.7, 3.1, 4.4, 1.4],\n",
       "        [5.6, 3. , 4.5, 1.5],\n",
       "        [5.8, 2.7, 4.1, 1. ],\n",
       "        [6.2, 2.2, 4.5, 1.5],\n",
       "        [5.6, 2.5, 3.9, 1.1],\n",
       "        [5.9, 3.2, 4.8, 1.8],\n",
       "        [6.1, 2.8, 4. , 1.3],\n",
       "        [6.3, 2.5, 4.9, 1.5],\n",
       "        [6.1, 2.8, 4.7, 1.2],\n",
       "        [6.4, 2.9, 4.3, 1.3],\n",
       "        [6.6, 3. , 4.4, 1.4],\n",
       "        [6.8, 2.8, 4.8, 1.4],\n",
       "        [6.7, 3. , 5. , 1.7],\n",
       "        [6. , 2.9, 4.5, 1.5],\n",
       "        [5.7, 2.6, 3.5, 1. ],\n",
       "        [5.5, 2.4, 3.8, 1.1],\n",
       "        [5.5, 2.4, 3.7, 1. ],\n",
       "        [5.8, 2.7, 3.9, 1.2],\n",
       "        [6. , 2.7, 5.1, 1.6],\n",
       "        [5.4, 3. , 4.5, 1.5],\n",
       "        [6. , 3.4, 4.5, 1.6],\n",
       "        [6.7, 3.1, 4.7, 1.5],\n",
       "        [6.3, 2.3, 4.4, 1.3],\n",
       "        [5.6, 3. , 4.1, 1.3],\n",
       "        [5.5, 2.5, 4. , 1.3],\n",
       "        [5.5, 2.6, 4.4, 1.2],\n",
       "        [6.1, 3. , 4.6, 1.4],\n",
       "        [5.8, 2.6, 4. , 1.2],\n",
       "        [5. , 2.3, 3.3, 1. ],\n",
       "        [5.6, 2.7, 4.2, 1.3],\n",
       "        [5.7, 3. , 4.2, 1.2],\n",
       "        [5.7, 2.9, 4.2, 1.3],\n",
       "        [6.2, 2.9, 4.3, 1.3],\n",
       "        [5.1, 2.5, 3. , 1.1],\n",
       "        [5.7, 2.8, 4.1, 1.3],\n",
       "        [6.3, 3.3, 6. , 2.5],\n",
       "        [5.8, 2.7, 5.1, 1.9],\n",
       "        [7.1, 3. , 5.9, 2.1],\n",
       "        [6.3, 2.9, 5.6, 1.8],\n",
       "        [6.5, 3. , 5.8, 2.2],\n",
       "        [7.6, 3. , 6.6, 2.1],\n",
       "        [4.9, 2.5, 4.5, 1.7],\n",
       "        [7.3, 2.9, 6.3, 1.8],\n",
       "        [6.7, 2.5, 5.8, 1.8],\n",
       "        [7.2, 3.6, 6.1, 2.5],\n",
       "        [6.5, 3.2, 5.1, 2. ],\n",
       "        [6.4, 2.7, 5.3, 1.9],\n",
       "        [6.8, 3. , 5.5, 2.1],\n",
       "        [5.7, 2.5, 5. , 2. ],\n",
       "        [5.8, 2.8, 5.1, 2.4],\n",
       "        [6.4, 3.2, 5.3, 2.3],\n",
       "        [6.5, 3. , 5.5, 1.8],\n",
       "        [7.7, 3.8, 6.7, 2.2],\n",
       "        [7.7, 2.6, 6.9, 2.3],\n",
       "        [6. , 2.2, 5. , 1.5],\n",
       "        [6.9, 3.2, 5.7, 2.3],\n",
       "        [5.6, 2.8, 4.9, 2. ],\n",
       "        [7.7, 2.8, 6.7, 2. ],\n",
       "        [6.3, 2.7, 4.9, 1.8],\n",
       "        [6.7, 3.3, 5.7, 2.1],\n",
       "        [7.2, 3.2, 6. , 1.8],\n",
       "        [6.2, 2.8, 4.8, 1.8],\n",
       "        [6.1, 3. , 4.9, 1.8],\n",
       "        [6.4, 2.8, 5.6, 2.1],\n",
       "        [7.2, 3. , 5.8, 1.6],\n",
       "        [7.4, 2.8, 6.1, 1.9],\n",
       "        [7.9, 3.8, 6.4, 2. ],\n",
       "        [6.4, 2.8, 5.6, 2.2],\n",
       "        [6.3, 2.8, 5.1, 1.5],\n",
       "        [6.1, 2.6, 5.6, 1.4],\n",
       "        [7.7, 3. , 6.1, 2.3],\n",
       "        [6.3, 3.4, 5.6, 2.4],\n",
       "        [6.4, 3.1, 5.5, 1.8],\n",
       "        [6. , 3. , 4.8, 1.8],\n",
       "        [6.9, 3.1, 5.4, 2.1],\n",
       "        [6.7, 3.1, 5.6, 2.4],\n",
       "        [6.9, 3.1, 5.1, 2.3],\n",
       "        [5.8, 2.7, 5.1, 1.9],\n",
       "        [6.8, 3.2, 5.9, 2.3],\n",
       "        [6.7, 3.3, 5.7, 2.5],\n",
       "        [6.7, 3. , 5.2, 2.3],\n",
       "        [6.3, 2.5, 5. , 1.9],\n",
       "        [6.5, 3. , 5.2, 2. ],\n",
       "        [6.2, 3.4, 5.4, 2.3],\n",
       "        [5.9, 3. , 5.1, 1.8]]),\n",
       " 'target': array([0, 0, 0, 0, 0, 0, 0, 0, 0, 0, 0, 0, 0, 0, 0, 0, 0, 0, 0, 0, 0, 0,\n",
       "        0, 0, 0, 0, 0, 0, 0, 0, 0, 0, 0, 0, 0, 0, 0, 0, 0, 0, 0, 0, 0, 0,\n",
       "        0, 0, 0, 0, 0, 0, 1, 1, 1, 1, 1, 1, 1, 1, 1, 1, 1, 1, 1, 1, 1, 1,\n",
       "        1, 1, 1, 1, 1, 1, 1, 1, 1, 1, 1, 1, 1, 1, 1, 1, 1, 1, 1, 1, 1, 1,\n",
       "        1, 1, 1, 1, 1, 1, 1, 1, 1, 1, 1, 1, 2, 2, 2, 2, 2, 2, 2, 2, 2, 2,\n",
       "        2, 2, 2, 2, 2, 2, 2, 2, 2, 2, 2, 2, 2, 2, 2, 2, 2, 2, 2, 2, 2, 2,\n",
       "        2, 2, 2, 2, 2, 2, 2, 2, 2, 2, 2, 2, 2, 2, 2, 2, 2, 2]),\n",
       " 'target_names': array(['setosa', 'versicolor', 'virginica'], dtype='<U10'),\n",
       " 'DESCR': '.. _iris_dataset:\\n\\nIris plants dataset\\n--------------------\\n\\n**Data Set Characteristics:**\\n\\n    :Number of Instances: 150 (50 in each of three classes)\\n    :Number of Attributes: 4 numeric, predictive attributes and the class\\n    :Attribute Information:\\n        - sepal length in cm\\n        - sepal width in cm\\n        - petal length in cm\\n        - petal width in cm\\n        - class:\\n                - Iris-Setosa\\n                - Iris-Versicolour\\n                - Iris-Virginica\\n                \\n    :Summary Statistics:\\n\\n    ============== ==== ==== ======= ===== ====================\\n                    Min  Max   Mean    SD   Class Correlation\\n    ============== ==== ==== ======= ===== ====================\\n    sepal length:   4.3  7.9   5.84   0.83    0.7826\\n    sepal width:    2.0  4.4   3.05   0.43   -0.4194\\n    petal length:   1.0  6.9   3.76   1.76    0.9490  (high!)\\n    petal width:    0.1  2.5   1.20   0.76    0.9565  (high!)\\n    ============== ==== ==== ======= ===== ====================\\n\\n    :Missing Attribute Values: None\\n    :Class Distribution: 33.3% for each of 3 classes.\\n    :Creator: R.A. Fisher\\n    :Donor: Michael Marshall (MARSHALL%PLU@io.arc.nasa.gov)\\n    :Date: July, 1988\\n\\nThe famous Iris database, first used by Sir R.A. Fisher. The dataset is taken\\nfrom Fisher\\'s paper. Note that it\\'s the same as in R, but not as in the UCI\\nMachine Learning Repository, which has two wrong data points.\\n\\nThis is perhaps the best known database to be found in the\\npattern recognition literature.  Fisher\\'s paper is a classic in the field and\\nis referenced frequently to this day.  (See Duda & Hart, for example.)  The\\ndata set contains 3 classes of 50 instances each, where each class refers to a\\ntype of iris plant.  One class is linearly separable from the other 2; the\\nlatter are NOT linearly separable from each other.\\n\\n.. topic:: References\\n\\n   - Fisher, R.A. \"The use of multiple measurements in taxonomic problems\"\\n     Annual Eugenics, 7, Part II, 179-188 (1936); also in \"Contributions to\\n     Mathematical Statistics\" (John Wiley, NY, 1950).\\n   - Duda, R.O., & Hart, P.E. (1973) Pattern Classification and Scene Analysis.\\n     (Q327.D83) John Wiley & Sons.  ISBN 0-471-22361-1.  See page 218.\\n   - Dasarathy, B.V. (1980) \"Nosing Around the Neighborhood: A New System\\n     Structure and Classification Rule for Recognition in Partially Exposed\\n     Environments\".  IEEE Transactions on Pattern Analysis and Machine\\n     Intelligence, Vol. PAMI-2, No. 1, 67-71.\\n   - Gates, G.W. (1972) \"The Reduced Nearest Neighbor Rule\".  IEEE Transactions\\n     on Information Theory, May 1972, 431-433.\\n   - See also: 1988 MLC Proceedings, 54-64.  Cheeseman et al\"s AUTOCLASS II\\n     conceptual clustering system finds 3 classes in the data.\\n   - Many, many more ...',\n",
       " 'feature_names': ['sepal length (cm)',\n",
       "  'sepal width (cm)',\n",
       "  'petal length (cm)',\n",
       "  'petal width (cm)'],\n",
       " 'filename': 'C:\\\\Users\\\\AG20459\\\\AppData\\\\Local\\\\Continuum\\\\anaconda3\\\\envs\\\\nlp_course\\\\lib\\\\site-packages\\\\sklearn\\\\datasets\\\\data\\\\iris.csv'}"
      ]
     },
     "execution_count": 5,
     "metadata": {},
     "output_type": "execute_result"
    }
   ],
   "source": [
    "iris"
   ]
  },
  {
   "cell_type": "code",
   "execution_count": 6,
   "id": "signal-farming",
   "metadata": {},
   "outputs": [
    {
     "name": "stdout",
     "output_type": "stream",
     "text": [
      ".. _iris_dataset:\n",
      "\n",
      "Iris plants dataset\n",
      "--------------------\n",
      "\n",
      "**Data Set Characteristics:**\n",
      "\n",
      "    :Number of Instances: 150 (50 in each of three classes)\n",
      "    :Number of Attributes: 4 numeric, predictive attributes and the class\n",
      "    :Attribute Information:\n",
      "        - sepal length in cm\n",
      "        - sepal width in cm\n",
      "        - petal length in cm\n",
      "        - petal width in cm\n",
      "        - class:\n",
      "                - Iris-Setosa\n",
      "                - Iris-Versicolour\n",
      "                - Iris-Virginica\n",
      "                \n",
      "    :Summary Statistics:\n",
      "\n",
      "    ============== ==== ==== ======= ===== ====================\n",
      "                    Min  Max   Mean    SD   Class Correlation\n",
      "    ============== ==== ==== ======= ===== ====================\n",
      "    sepal length:   4.3  7.9   5.84   0.83    0.7826\n",
      "    sepal width:    2.0  4.4   3.05   0.43   -0.4194\n",
      "    petal length:   1.0  6.9   3.76   1.76    0.9490  (high!)\n",
      "    petal width:    0.1  2.5   1.20   0.76    0.9565  (high!)\n",
      "    ============== ==== ==== ======= ===== ====================\n",
      "\n",
      "    :Missing Attribute Values: None\n",
      "    :Class Distribution: 33.3% for each of 3 classes.\n",
      "    :Creator: R.A. Fisher\n",
      "    :Donor: Michael Marshall (MARSHALL%PLU@io.arc.nasa.gov)\n",
      "    :Date: July, 1988\n",
      "\n",
      "The famous Iris database, first used by Sir R.A. Fisher. The dataset is taken\n",
      "from Fisher's paper. Note that it's the same as in R, but not as in the UCI\n",
      "Machine Learning Repository, which has two wrong data points.\n",
      "\n",
      "This is perhaps the best known database to be found in the\n",
      "pattern recognition literature.  Fisher's paper is a classic in the field and\n",
      "is referenced frequently to this day.  (See Duda & Hart, for example.)  The\n",
      "data set contains 3 classes of 50 instances each, where each class refers to a\n",
      "type of iris plant.  One class is linearly separable from the other 2; the\n",
      "latter are NOT linearly separable from each other.\n",
      "\n",
      ".. topic:: References\n",
      "\n",
      "   - Fisher, R.A. \"The use of multiple measurements in taxonomic problems\"\n",
      "     Annual Eugenics, 7, Part II, 179-188 (1936); also in \"Contributions to\n",
      "     Mathematical Statistics\" (John Wiley, NY, 1950).\n",
      "   - Duda, R.O., & Hart, P.E. (1973) Pattern Classification and Scene Analysis.\n",
      "     (Q327.D83) John Wiley & Sons.  ISBN 0-471-22361-1.  See page 218.\n",
      "   - Dasarathy, B.V. (1980) \"Nosing Around the Neighborhood: A New System\n",
      "     Structure and Classification Rule for Recognition in Partially Exposed\n",
      "     Environments\".  IEEE Transactions on Pattern Analysis and Machine\n",
      "     Intelligence, Vol. PAMI-2, No. 1, 67-71.\n",
      "   - Gates, G.W. (1972) \"The Reduced Nearest Neighbor Rule\".  IEEE Transactions\n",
      "     on Information Theory, May 1972, 431-433.\n",
      "   - See also: 1988 MLC Proceedings, 54-64.  Cheeseman et al\"s AUTOCLASS II\n",
      "     conceptual clustering system finds 3 classes in the data.\n",
      "   - Many, many more ...\n"
     ]
    }
   ],
   "source": [
    "print(iris.DESCR)"
   ]
  },
  {
   "cell_type": "code",
   "execution_count": 7,
   "id": "rural-initial",
   "metadata": {},
   "outputs": [],
   "source": [
    "X =  iris.data"
   ]
  },
  {
   "cell_type": "code",
   "execution_count": 8,
   "id": "absent-blond",
   "metadata": {},
   "outputs": [],
   "source": [
    "# X"
   ]
  },
  {
   "cell_type": "code",
   "execution_count": 9,
   "id": "becoming-response",
   "metadata": {},
   "outputs": [],
   "source": [
    "y = iris.target"
   ]
  },
  {
   "cell_type": "code",
   "execution_count": 10,
   "id": "removable-combining",
   "metadata": {},
   "outputs": [],
   "source": [
    "# One hot encoding - categorical labelling\n",
    "# class 0 ---> [1,0,0]\n",
    "# class 1 ---> [0,1,0]\n",
    "# class 2 ---> [0,0,1]"
   ]
  },
  {
   "cell_type": "code",
   "execution_count": 11,
   "id": "united-expert",
   "metadata": {},
   "outputs": [
    {
     "name": "stderr",
     "output_type": "stream",
     "text": [
      "Using TensorFlow backend.\n"
     ]
    }
   ],
   "source": [
    "from keras.utils import to_categorical"
   ]
  },
  {
   "cell_type": "code",
   "execution_count": 12,
   "id": "registered-chaos",
   "metadata": {},
   "outputs": [],
   "source": [
    "y = to_categorical(y)"
   ]
  },
  {
   "cell_type": "code",
   "execution_count": 13,
   "id": "greater-directory",
   "metadata": {},
   "outputs": [
    {
     "data": {
      "text/plain": [
       "(150, 3)"
      ]
     },
     "execution_count": 13,
     "metadata": {},
     "output_type": "execute_result"
    }
   ],
   "source": [
    "y.shape"
   ]
  },
  {
   "cell_type": "code",
   "execution_count": 14,
   "id": "blond-knitting",
   "metadata": {},
   "outputs": [],
   "source": [
    "# y"
   ]
  },
  {
   "cell_type": "code",
   "execution_count": 15,
   "id": "gentle-environment",
   "metadata": {},
   "outputs": [],
   "source": [
    "from sklearn.model_selection import train_test_split"
   ]
  },
  {
   "cell_type": "code",
   "execution_count": 16,
   "id": "center-lucas",
   "metadata": {},
   "outputs": [],
   "source": [
    "X_train, X_test, y_train, y_test = train_test_split(X,y,test_size=0.33,random_state=42)"
   ]
  },
  {
   "cell_type": "code",
   "execution_count": 17,
   "id": "hazardous-retrieval",
   "metadata": {},
   "outputs": [],
   "source": [
    "# MinMax it divides all the value with the max value\n",
    "from sklearn.preprocessing import MinMaxScaler"
   ]
  },
  {
   "cell_type": "code",
   "execution_count": 18,
   "id": "forbidden-tribune",
   "metadata": {},
   "outputs": [],
   "source": [
    "# np.array([5,10,15,20])/20"
   ]
  },
  {
   "cell_type": "code",
   "execution_count": 19,
   "id": "after-shaft",
   "metadata": {},
   "outputs": [],
   "source": [
    "scaler_obj = MinMaxScaler()"
   ]
  },
  {
   "cell_type": "code",
   "execution_count": 20,
   "id": "measured-basket",
   "metadata": {},
   "outputs": [
    {
     "data": {
      "text/plain": [
       "MinMaxScaler(copy=True, feature_range=(0, 1))"
      ]
     },
     "execution_count": 20,
     "metadata": {},
     "output_type": "execute_result"
    }
   ],
   "source": [
    "scaler_obj.fit(X_train)"
   ]
  },
  {
   "cell_type": "code",
   "execution_count": 21,
   "id": "clean-basket",
   "metadata": {},
   "outputs": [],
   "source": [
    "scaled_X_train = scaler_obj.transform(X_train)"
   ]
  },
  {
   "cell_type": "code",
   "execution_count": 22,
   "id": "endless-veteran",
   "metadata": {},
   "outputs": [],
   "source": [
    "scaled_X_test = scaler_obj.transform(X_test)"
   ]
  },
  {
   "cell_type": "code",
   "execution_count": 23,
   "id": "protecting-czech",
   "metadata": {},
   "outputs": [],
   "source": [
    "# scaled_X_train"
   ]
  },
  {
   "cell_type": "code",
   "execution_count": 24,
   "id": "amateur-farmer",
   "metadata": {},
   "outputs": [],
   "source": [
    "from keras.models import Sequential\n",
    "from keras.layers import Dense"
   ]
  },
  {
   "cell_type": "code",
   "execution_count": 25,
   "id": "considered-continuity",
   "metadata": {},
   "outputs": [
    {
     "name": "stdout",
     "output_type": "stream",
     "text": [
      "WARNING:tensorflow:From C:\\Users\\AG20459\\AppData\\Local\\Continuum\\anaconda3\\envs\\nlp_course\\lib\\site-packages\\tensorflow\\python\\ops\\resource_variable_ops.py:435: colocate_with (from tensorflow.python.framework.ops) is deprecated and will be removed in a future version.\n",
      "Instructions for updating:\n",
      "Colocations handled automatically by placer.\n"
     ]
    }
   ],
   "source": [
    "model = Sequential()\n",
    "model.add(Dense(8,input_dim=4,activation='relu'))\n",
    "model.add(Dense(8,input_dim=4,activation='relu'))\n",
    "model.add(Dense(3,input_dim=4,activation='softmax')) # [0.2, 0.3, 0.5]\n",
    "model.compile(loss='categorical_crossentropy', optimizer='adam', metrics=['accuracy'])"
   ]
  },
  {
   "cell_type": "code",
   "execution_count": 26,
   "id": "external-introduction",
   "metadata": {},
   "outputs": [
    {
     "name": "stdout",
     "output_type": "stream",
     "text": [
      "Model: \"sequential_1\"\n",
      "_________________________________________________________________\n",
      "Layer (type)                 Output Shape              Param #   \n",
      "=================================================================\n",
      "dense_1 (Dense)              (None, 8)                 40        \n",
      "_________________________________________________________________\n",
      "dense_2 (Dense)              (None, 8)                 72        \n",
      "_________________________________________________________________\n",
      "dense_3 (Dense)              (None, 3)                 27        \n",
      "=================================================================\n",
      "Total params: 139\n",
      "Trainable params: 139\n",
      "Non-trainable params: 0\n",
      "_________________________________________________________________\n"
     ]
    }
   ],
   "source": [
    "model.summary()"
   ]
  },
  {
   "cell_type": "code",
   "execution_count": 28,
   "id": "personal-david",
   "metadata": {},
   "outputs": [
    {
     "name": "stdout",
     "output_type": "stream",
     "text": [
      "Epoch 1/200\n",
      " - 0s - loss: 0.5000 - accuracy: 0.6600\n",
      "Epoch 2/200\n",
      " - 0s - loss: 0.4977 - accuracy: 0.6800\n",
      "Epoch 3/200\n",
      " - 0s - loss: 0.4954 - accuracy: 0.6800\n",
      "Epoch 4/200\n",
      " - 0s - loss: 0.4932 - accuracy: 0.6800\n",
      "Epoch 5/200\n",
      " - 0s - loss: 0.4917 - accuracy: 0.7200\n",
      "Epoch 6/200\n",
      " - 0s - loss: 0.4894 - accuracy: 0.7500\n",
      "Epoch 7/200\n",
      " - 0s - loss: 0.4873 - accuracy: 0.7800\n",
      "Epoch 8/200\n",
      " - 0s - loss: 0.4853 - accuracy: 0.7900\n",
      "Epoch 9/200\n",
      " - 0s - loss: 0.4833 - accuracy: 0.7700\n",
      "Epoch 10/200\n",
      " - 0s - loss: 0.4809 - accuracy: 0.7300\n",
      "Epoch 11/200\n",
      " - 0s - loss: 0.4788 - accuracy: 0.7200\n",
      "Epoch 12/200\n",
      " - 0s - loss: 0.4767 - accuracy: 0.7100\n",
      "Epoch 13/200\n",
      " - 0s - loss: 0.4747 - accuracy: 0.7100\n",
      "Epoch 14/200\n",
      " - 0s - loss: 0.4728 - accuracy: 0.7100\n",
      "Epoch 15/200\n",
      " - 0s - loss: 0.4709 - accuracy: 0.7100\n",
      "Epoch 16/200\n",
      " - 0s - loss: 0.4693 - accuracy: 0.7100\n",
      "Epoch 17/200\n",
      " - 0s - loss: 0.4672 - accuracy: 0.7100\n",
      "Epoch 18/200\n",
      " - 0s - loss: 0.4656 - accuracy: 0.7300\n",
      "Epoch 19/200\n",
      " - 0s - loss: 0.4637 - accuracy: 0.7400\n",
      "Epoch 20/200\n",
      " - 0s - loss: 0.4620 - accuracy: 0.7600\n",
      "Epoch 21/200\n",
      " - 0s - loss: 0.4602 - accuracy: 0.8200\n",
      "Epoch 22/200\n",
      " - 0s - loss: 0.4587 - accuracy: 0.8500\n",
      "Epoch 23/200\n",
      " - 0s - loss: 0.4572 - accuracy: 0.8700\n",
      "Epoch 24/200\n",
      " - 0s - loss: 0.4553 - accuracy: 0.8800\n",
      "Epoch 25/200\n",
      " - 0s - loss: 0.4535 - accuracy: 0.8800\n",
      "Epoch 26/200\n",
      " - 0s - loss: 0.4519 - accuracy: 0.8600\n",
      "Epoch 27/200\n",
      " - 0s - loss: 0.4500 - accuracy: 0.8600\n",
      "Epoch 28/200\n",
      " - 0s - loss: 0.4485 - accuracy: 0.8600\n",
      "Epoch 29/200\n",
      " - 0s - loss: 0.4464 - accuracy: 0.8600\n",
      "Epoch 30/200\n",
      " - 0s - loss: 0.4446 - accuracy: 0.8600\n",
      "Epoch 31/200\n",
      " - 0s - loss: 0.4430 - accuracy: 0.8600\n",
      "Epoch 32/200\n",
      " - 0s - loss: 0.4413 - accuracy: 0.8800\n",
      "Epoch 33/200\n",
      " - 0s - loss: 0.4397 - accuracy: 0.8700\n",
      "Epoch 34/200\n",
      " - 0s - loss: 0.4377 - accuracy: 0.8600\n",
      "Epoch 35/200\n",
      " - 0s - loss: 0.4359 - accuracy: 0.8600\n",
      "Epoch 36/200\n",
      " - 0s - loss: 0.4342 - accuracy: 0.8600\n",
      "Epoch 37/200\n",
      " - 0s - loss: 0.4326 - accuracy: 0.8700\n",
      "Epoch 38/200\n",
      " - 0s - loss: 0.4309 - accuracy: 0.8800\n",
      "Epoch 39/200\n",
      " - 0s - loss: 0.4294 - accuracy: 0.8600\n",
      "Epoch 40/200\n",
      " - 0s - loss: 0.4277 - accuracy: 0.8600\n",
      "Epoch 41/200\n",
      " - 0s - loss: 0.4261 - accuracy: 0.8600\n",
      "Epoch 42/200\n",
      " - 0s - loss: 0.4252 - accuracy: 0.8200\n",
      "Epoch 43/200\n",
      " - 0s - loss: 0.4238 - accuracy: 0.8000\n",
      "Epoch 44/200\n",
      " - 0s - loss: 0.4232 - accuracy: 0.7500\n",
      "Epoch 45/200\n",
      " - 0s - loss: 0.4218 - accuracy: 0.7700\n",
      "Epoch 46/200\n",
      " - 0s - loss: 0.4193 - accuracy: 0.8000\n",
      "Epoch 47/200\n",
      " - 0s - loss: 0.4172 - accuracy: 0.8200\n",
      "Epoch 48/200\n",
      " - 0s - loss: 0.4159 - accuracy: 0.8600\n",
      "Epoch 49/200\n",
      " - 0s - loss: 0.4138 - accuracy: 0.8800\n",
      "Epoch 50/200\n",
      " - 0s - loss: 0.4123 - accuracy: 0.8800\n",
      "Epoch 51/200\n",
      " - 0s - loss: 0.4105 - accuracy: 0.8800\n",
      "Epoch 52/200\n",
      " - 0s - loss: 0.4090 - accuracy: 0.8800\n",
      "Epoch 53/200\n",
      " - 0s - loss: 0.4080 - accuracy: 0.8600\n",
      "Epoch 54/200\n",
      " - 0s - loss: 0.4064 - accuracy: 0.8600\n",
      "Epoch 55/200\n",
      " - 0s - loss: 0.4053 - accuracy: 0.8600\n",
      "Epoch 56/200\n",
      " - 0s - loss: 0.4037 - accuracy: 0.8600\n",
      "Epoch 57/200\n",
      " - 0s - loss: 0.4023 - accuracy: 0.8600\n",
      "Epoch 58/200\n",
      " - 0s - loss: 0.4004 - accuracy: 0.8700\n",
      "Epoch 59/200\n",
      " - 0s - loss: 0.3979 - accuracy: 0.9000\n",
      "Epoch 60/200\n",
      " - 0s - loss: 0.3970 - accuracy: 0.9200\n",
      "Epoch 61/200\n",
      " - 0s - loss: 0.3955 - accuracy: 0.9200\n",
      "Epoch 62/200\n",
      " - 0s - loss: 0.3942 - accuracy: 0.9400\n",
      "Epoch 63/200\n",
      " - 0s - loss: 0.3927 - accuracy: 0.9400\n",
      "Epoch 64/200\n",
      " - 0s - loss: 0.3906 - accuracy: 0.9300\n",
      "Epoch 65/200\n",
      " - 0s - loss: 0.3893 - accuracy: 0.9200\n",
      "Epoch 66/200\n",
      " - 0s - loss: 0.3882 - accuracy: 0.9200\n",
      "Epoch 67/200\n",
      " - 0s - loss: 0.3866 - accuracy: 0.9200\n",
      "Epoch 68/200\n",
      " - 0s - loss: 0.3859 - accuracy: 0.8900\n",
      "Epoch 69/200\n",
      " - 0s - loss: 0.3848 - accuracy: 0.8900\n",
      "Epoch 70/200\n",
      " - 0s - loss: 0.3835 - accuracy: 0.9000\n",
      "Epoch 71/200\n",
      " - 0s - loss: 0.3823 - accuracy: 0.9100\n",
      "Epoch 72/200\n",
      " - 0s - loss: 0.3808 - accuracy: 0.9100\n",
      "Epoch 73/200\n",
      " - 0s - loss: 0.3790 - accuracy: 0.9200\n",
      "Epoch 74/200\n",
      " - 0s - loss: 0.3777 - accuracy: 0.9200\n",
      "Epoch 75/200\n",
      " - 0s - loss: 0.3768 - accuracy: 0.9000\n",
      "Epoch 76/200\n",
      " - 0s - loss: 0.3754 - accuracy: 0.9100\n",
      "Epoch 77/200\n",
      " - 0s - loss: 0.3734 - accuracy: 0.9200\n",
      "Epoch 78/200\n",
      " - 0s - loss: 0.3716 - accuracy: 0.9200\n",
      "Epoch 79/200\n",
      " - 0s - loss: 0.3697 - accuracy: 0.9200\n",
      "Epoch 80/200\n",
      " - 0s - loss: 0.3688 - accuracy: 0.9400\n",
      "Epoch 81/200\n",
      " - 0s - loss: 0.3669 - accuracy: 0.9400\n",
      "Epoch 82/200\n",
      " - 0s - loss: 0.3656 - accuracy: 0.9400\n",
      "Epoch 83/200\n",
      " - 0s - loss: 0.3641 - accuracy: 0.9200\n",
      "Epoch 84/200\n",
      " - 0s - loss: 0.3629 - accuracy: 0.9200\n",
      "Epoch 85/200\n",
      " - 0s - loss: 0.3615 - accuracy: 0.9200\n",
      "Epoch 86/200\n",
      " - 0s - loss: 0.3603 - accuracy: 0.9200\n",
      "Epoch 87/200\n",
      " - 0s - loss: 0.3590 - accuracy: 0.9200\n",
      "Epoch 88/200\n",
      " - 0s - loss: 0.3574 - accuracy: 0.9200\n",
      "Epoch 89/200\n",
      " - 0s - loss: 0.3559 - accuracy: 0.9200\n",
      "Epoch 90/200\n",
      " - 0s - loss: 0.3543 - accuracy: 0.9400\n",
      "Epoch 91/200\n",
      " - 0s - loss: 0.3526 - accuracy: 0.9400\n",
      "Epoch 92/200\n",
      " - 0s - loss: 0.3517 - accuracy: 0.9300\n",
      "Epoch 93/200\n",
      " - 0s - loss: 0.3508 - accuracy: 0.9200\n",
      "Epoch 94/200\n",
      " - 0s - loss: 0.3492 - accuracy: 0.9200\n",
      "Epoch 95/200\n",
      " - 0s - loss: 0.3480 - accuracy: 0.9200\n",
      "Epoch 96/200\n",
      " - 0s - loss: 0.3464 - accuracy: 0.9200\n",
      "Epoch 97/200\n",
      " - 0s - loss: 0.3447 - accuracy: 0.9400\n",
      "Epoch 98/200\n",
      " - 0s - loss: 0.3429 - accuracy: 0.9300\n",
      "Epoch 99/200\n",
      " - 0s - loss: 0.3414 - accuracy: 0.9300\n",
      "Epoch 100/200\n",
      " - 0s - loss: 0.3401 - accuracy: 0.9300\n",
      "Epoch 101/200\n",
      " - 0s - loss: 0.3396 - accuracy: 0.9500\n",
      "Epoch 102/200\n",
      " - 0s - loss: 0.3378 - accuracy: 0.9500\n",
      "Epoch 103/200\n",
      " - 0s - loss: 0.3355 - accuracy: 0.9300\n",
      "Epoch 104/200\n",
      " - 0s - loss: 0.3341 - accuracy: 0.9300\n",
      "Epoch 105/200\n",
      " - 0s - loss: 0.3329 - accuracy: 0.9400\n",
      "Epoch 106/200\n",
      " - 0s - loss: 0.3316 - accuracy: 0.9400\n",
      "Epoch 107/200\n",
      " - 0s - loss: 0.3303 - accuracy: 0.9300\n",
      "Epoch 108/200\n",
      " - 0s - loss: 0.3289 - accuracy: 0.9300\n",
      "Epoch 109/200\n",
      " - 0s - loss: 0.3276 - accuracy: 0.9300\n",
      "Epoch 110/200\n",
      " - 0s - loss: 0.3261 - accuracy: 0.9400\n",
      "Epoch 111/200\n",
      " - 0s - loss: 0.3247 - accuracy: 0.9400\n",
      "Epoch 112/200\n",
      " - 0s - loss: 0.3233 - accuracy: 0.9300\n",
      "Epoch 113/200\n",
      " - 0s - loss: 0.3220 - accuracy: 0.9300\n",
      "Epoch 114/200\n",
      " - 0s - loss: 0.3210 - accuracy: 0.9400\n",
      "Epoch 115/200\n",
      " - 0s - loss: 0.3189 - accuracy: 0.9500\n",
      "Epoch 116/200\n",
      " - 0s - loss: 0.3185 - accuracy: 0.9400\n",
      "Epoch 117/200\n",
      " - 0s - loss: 0.3166 - accuracy: 0.9400\n",
      "Epoch 118/200\n",
      " - 0s - loss: 0.3153 - accuracy: 0.9400\n",
      "Epoch 119/200\n",
      " - 0s - loss: 0.3147 - accuracy: 0.9400\n",
      "Epoch 120/200\n",
      " - 0s - loss: 0.3129 - accuracy: 0.9400\n",
      "Epoch 121/200\n",
      " - 0s - loss: 0.3117 - accuracy: 0.9400\n",
      "Epoch 122/200\n",
      " - 0s - loss: 0.3096 - accuracy: 0.9300\n",
      "Epoch 123/200\n",
      " - 0s - loss: 0.3084 - accuracy: 0.9400\n",
      "Epoch 124/200\n",
      " - 0s - loss: 0.3074 - accuracy: 0.9400\n",
      "Epoch 125/200\n",
      " - 0s - loss: 0.3058 - accuracy: 0.9400\n",
      "Epoch 126/200\n",
      " - 0s - loss: 0.3056 - accuracy: 0.9400\n",
      "Epoch 127/200\n",
      " - 0s - loss: 0.3034 - accuracy: 0.9500\n",
      "Epoch 128/200\n",
      " - 0s - loss: 0.3025 - accuracy: 0.9500\n",
      "Epoch 129/200\n",
      " - 0s - loss: 0.3014 - accuracy: 0.9600\n",
      "Epoch 130/200\n",
      " - 0s - loss: 0.3001 - accuracy: 0.9600\n",
      "Epoch 131/200\n",
      " - 0s - loss: 0.2987 - accuracy: 0.9600\n",
      "Epoch 132/200\n",
      " - 0s - loss: 0.2971 - accuracy: 0.9500\n",
      "Epoch 133/200\n",
      " - 0s - loss: 0.2956 - accuracy: 0.9500\n",
      "Epoch 134/200\n",
      " - 0s - loss: 0.2942 - accuracy: 0.9500\n",
      "Epoch 135/200\n",
      " - 0s - loss: 0.2928 - accuracy: 0.9500\n",
      "Epoch 136/200\n",
      " - 0s - loss: 0.2914 - accuracy: 0.9500\n",
      "Epoch 137/200\n",
      " - 0s - loss: 0.2900 - accuracy: 0.9500\n",
      "Epoch 138/200\n",
      " - 0s - loss: 0.2889 - accuracy: 0.9500\n",
      "Epoch 139/200\n",
      " - 0s - loss: 0.2874 - accuracy: 0.9500\n",
      "Epoch 140/200\n",
      " - 0s - loss: 0.2859 - accuracy: 0.9500\n",
      "Epoch 141/200\n",
      " - 0s - loss: 0.2842 - accuracy: 0.9500\n",
      "Epoch 142/200\n",
      " - 0s - loss: 0.2842 - accuracy: 0.9500\n",
      "Epoch 143/200\n",
      " - 0s - loss: 0.2823 - accuracy: 0.9600\n",
      "Epoch 144/200\n",
      " - 0s - loss: 0.2824 - accuracy: 0.9600\n",
      "Epoch 145/200\n",
      " - 0s - loss: 0.2809 - accuracy: 0.9600\n",
      "Epoch 146/200\n",
      " - 0s - loss: 0.2787 - accuracy: 0.9600\n",
      "Epoch 147/200\n",
      " - 0s - loss: 0.2769 - accuracy: 0.9500\n",
      "Epoch 148/200\n",
      " - 0s - loss: 0.2752 - accuracy: 0.9500\n",
      "Epoch 149/200\n",
      " - 0s - loss: 0.2740 - accuracy: 0.9500\n",
      "Epoch 150/200\n",
      " - 0s - loss: 0.2733 - accuracy: 0.9400\n",
      "Epoch 151/200\n",
      " - 0s - loss: 0.2730 - accuracy: 0.9400\n",
      "Epoch 152/200\n",
      " - 0s - loss: 0.2719 - accuracy: 0.9400\n",
      "Epoch 153/200\n",
      " - 0s - loss: 0.2701 - accuracy: 0.9300\n",
      "Epoch 154/200\n",
      " - 0s - loss: 0.2684 - accuracy: 0.9500\n"
     ]
    },
    {
     "name": "stdout",
     "output_type": "stream",
     "text": [
      "Epoch 155/200\n",
      " - 0s - loss: 0.2665 - accuracy: 0.9500\n",
      "Epoch 156/200\n",
      " - 0s - loss: 0.2652 - accuracy: 0.9500\n",
      "Epoch 157/200\n",
      " - 0s - loss: 0.2639 - accuracy: 0.9500\n",
      "Epoch 158/200\n",
      " - 0s - loss: 0.2634 - accuracy: 0.9600\n",
      "Epoch 159/200\n",
      " - 0s - loss: 0.2629 - accuracy: 0.9600\n",
      "Epoch 160/200\n",
      " - 0s - loss: 0.2625 - accuracy: 0.9600\n",
      "Epoch 161/200\n",
      " - 0s - loss: 0.2629 - accuracy: 0.9600\n",
      "Epoch 162/200\n",
      " - 0s - loss: 0.2635 - accuracy: 0.9800\n",
      "Epoch 163/200\n",
      " - 0s - loss: 0.2627 - accuracy: 0.9800\n",
      "Epoch 164/200\n",
      " - 0s - loss: 0.2618 - accuracy: 0.9800\n",
      "Epoch 165/200\n",
      " - 0s - loss: 0.2592 - accuracy: 0.9800\n",
      "Epoch 166/200\n",
      " - 0s - loss: 0.2556 - accuracy: 0.9700\n",
      "Epoch 167/200\n",
      " - 0s - loss: 0.2539 - accuracy: 0.9600\n",
      "Epoch 168/200\n",
      " - 0s - loss: 0.2515 - accuracy: 0.9600\n",
      "Epoch 169/200\n",
      " - 0s - loss: 0.2499 - accuracy: 0.9600\n",
      "Epoch 170/200\n",
      " - 0s - loss: 0.2487 - accuracy: 0.9500\n",
      "Epoch 171/200\n",
      " - 0s - loss: 0.2472 - accuracy: 0.9500\n",
      "Epoch 172/200\n",
      " - 0s - loss: 0.2465 - accuracy: 0.9600\n",
      "Epoch 173/200\n",
      " - 0s - loss: 0.2455 - accuracy: 0.9600\n",
      "Epoch 174/200\n",
      " - 0s - loss: 0.2442 - accuracy: 0.9500\n",
      "Epoch 175/200\n",
      " - 0s - loss: 0.2427 - accuracy: 0.9500\n",
      "Epoch 176/200\n",
      " - 0s - loss: 0.2419 - accuracy: 0.9500\n",
      "Epoch 177/200\n",
      " - 0s - loss: 0.2427 - accuracy: 0.9500\n",
      "Epoch 178/200\n",
      " - 0s - loss: 0.2417 - accuracy: 0.9500\n",
      "Epoch 179/200\n",
      " - 0s - loss: 0.2408 - accuracy: 0.9500\n",
      "Epoch 180/200\n",
      " - 0s - loss: 0.2400 - accuracy: 0.9400\n",
      "Epoch 181/200\n",
      " - 0s - loss: 0.2389 - accuracy: 0.9500\n",
      "Epoch 182/200\n",
      " - 0s - loss: 0.2372 - accuracy: 0.9500\n",
      "Epoch 183/200\n",
      " - 0s - loss: 0.2357 - accuracy: 0.9500\n",
      "Epoch 184/200\n",
      " - 0s - loss: 0.2342 - accuracy: 0.9500\n",
      "Epoch 185/200\n",
      " - 0s - loss: 0.2329 - accuracy: 0.9500\n",
      "Epoch 186/200\n",
      " - 0s - loss: 0.2318 - accuracy: 0.9500\n",
      "Epoch 187/200\n",
      " - 0s - loss: 0.2308 - accuracy: 0.9500\n",
      "Epoch 188/200\n",
      " - 0s - loss: 0.2295 - accuracy: 0.9500\n",
      "Epoch 189/200\n",
      " - 0s - loss: 0.2282 - accuracy: 0.9600\n",
      "Epoch 190/200\n",
      " - 0s - loss: 0.2277 - accuracy: 0.9600\n",
      "Epoch 191/200\n",
      " - 0s - loss: 0.2260 - accuracy: 0.9600\n",
      "Epoch 192/200\n",
      " - 0s - loss: 0.2268 - accuracy: 0.9500\n",
      "Epoch 193/200\n",
      " - 0s - loss: 0.2253 - accuracy: 0.9500\n",
      "Epoch 194/200\n",
      " - 0s - loss: 0.2241 - accuracy: 0.9500\n",
      "Epoch 195/200\n",
      " - 0s - loss: 0.2234 - accuracy: 0.9500\n",
      "Epoch 196/200\n",
      " - 0s - loss: 0.2216 - accuracy: 0.9500\n",
      "Epoch 197/200\n",
      " - 0s - loss: 0.2208 - accuracy: 0.9500\n",
      "Epoch 198/200\n",
      " - 0s - loss: 0.2194 - accuracy: 0.9500\n",
      "Epoch 199/200\n",
      " - 0s - loss: 0.2186 - accuracy: 0.9500\n",
      "Epoch 200/200\n",
      " - 0s - loss: 0.2177 - accuracy: 0.9600\n"
     ]
    },
    {
     "data": {
      "text/plain": [
       "<keras.callbacks.callbacks.History at 0x2b7dd59e848>"
      ]
     },
     "execution_count": 28,
     "metadata": {},
     "output_type": "execute_result"
    }
   ],
   "source": [
    "model.fit(scaled_X_train, y_train, epochs=200, verbose=2)"
   ]
  },
  {
   "cell_type": "code",
   "execution_count": 29,
   "id": "stunning-serbia",
   "metadata": {},
   "outputs": [],
   "source": [
    "# How do we predict for unseen data"
   ]
  },
  {
   "cell_type": "code",
   "execution_count": 30,
   "id": "direct-carbon",
   "metadata": {},
   "outputs": [
    {
     "data": {
      "text/plain": [
       "array([[ 0.52941176,  0.36363636,  0.64285714,  0.45833333],\n",
       "       [ 0.41176471,  0.81818182,  0.10714286,  0.08333333],\n",
       "       [ 1.        ,  0.27272727,  1.03571429,  0.91666667],\n",
       "       [ 0.5       ,  0.40909091,  0.60714286,  0.58333333],\n",
       "       [ 0.73529412,  0.36363636,  0.66071429,  0.54166667],\n",
       "       [ 0.32352941,  0.63636364,  0.07142857,  0.125     ],\n",
       "       [ 0.38235294,  0.40909091,  0.44642857,  0.5       ],\n",
       "       [ 0.76470588,  0.5       ,  0.71428571,  0.91666667],\n",
       "       [ 0.55882353,  0.09090909,  0.60714286,  0.58333333],\n",
       "       [ 0.44117647,  0.31818182,  0.5       ,  0.45833333],\n",
       "       [ 0.64705882,  0.54545455,  0.71428571,  0.79166667],\n",
       "       [ 0.14705882,  0.45454545,  0.05357143,  0.        ],\n",
       "       [ 0.35294118,  0.68181818,  0.03571429,  0.04166667],\n",
       "       [ 0.17647059,  0.5       ,  0.07142857,  0.        ],\n",
       "       [ 0.23529412,  0.81818182,  0.07142857,  0.08333333],\n",
       "       [ 0.58823529,  0.59090909,  0.64285714,  0.625     ],\n",
       "       [ 0.64705882,  0.45454545,  0.83928571,  0.875     ],\n",
       "       [ 0.38235294,  0.22727273,  0.5       ,  0.41666667],\n",
       "       [ 0.41176471,  0.36363636,  0.60714286,  0.5       ],\n",
       "       [ 0.61764706,  0.36363636,  0.80357143,  0.875     ],\n",
       "       [ 0.11764706,  0.54545455,  0.08928571,  0.04166667],\n",
       "       [ 0.52941176,  0.45454545,  0.67857143,  0.70833333],\n",
       "       [ 0.20588235,  0.63636364,  0.08928571,  0.125     ],\n",
       "       [ 0.61764706,  0.36363636,  0.80357143,  0.83333333],\n",
       "       [ 1.05882353,  0.81818182,  0.94642857,  0.79166667],\n",
       "       [ 0.70588235,  0.45454545,  0.73214286,  0.91666667],\n",
       "       [ 0.70588235,  0.22727273,  0.83928571,  0.70833333],\n",
       "       [ 0.73529412,  0.54545455,  0.85714286,  0.91666667],\n",
       "       [ 0.14705882,  0.45454545,  0.05357143,  0.08333333],\n",
       "       [ 0.14705882,  0.5       ,  0.08928571,  0.04166667],\n",
       "       [ 0.08823529,  0.72727273, -0.01785714,  0.04166667],\n",
       "       [ 0.41176471,  1.09090909,  0.07142857,  0.125     ],\n",
       "       [ 0.70588235,  0.5       ,  0.58928571,  0.54166667],\n",
       "       [ 0.14705882,  0.63636364,  0.08928571,  0.04166667],\n",
       "       [ 0.02941176,  0.54545455,  0.03571429,  0.04166667],\n",
       "       [ 0.58823529,  0.22727273,  0.69642857,  0.75      ],\n",
       "       [ 0.61764706,  0.54545455,  0.60714286,  0.58333333],\n",
       "       [ 0.26470588,  0.68181818,  0.07142857,  0.04166667],\n",
       "       [ 0.20588235,  0.72727273,  0.05357143,  0.04166667],\n",
       "       [ 0.26470588,  0.95454545,  0.07142857,  0.        ],\n",
       "       [ 0.44117647,  0.31818182,  0.71428571,  0.75      ],\n",
       "       [ 0.5       ,  0.63636364,  0.60714286,  0.625     ],\n",
       "       [ 0.70588235,  0.5       ,  0.64285714,  0.58333333],\n",
       "       [ 0.32352941,  0.86363636,  0.03571429,  0.125     ],\n",
       "       [ 0.32352941,  0.77272727,  0.07142857,  0.04166667],\n",
       "       [ 0.35294118,  0.18181818,  0.46428571,  0.375     ],\n",
       "       [ 0.58823529,  0.36363636,  0.71428571,  0.58333333],\n",
       "       [ 0.61764706,  0.5       ,  0.78571429,  0.70833333],\n",
       "       [ 0.67647059,  0.45454545,  0.58928571,  0.54166667],\n",
       "       [ 0.85294118,  0.72727273,  0.89285714,  1.        ]])"
      ]
     },
     "execution_count": 30,
     "metadata": {},
     "output_type": "execute_result"
    }
   ],
   "source": [
    "scaled_X_test"
   ]
  },
  {
   "cell_type": "code",
   "execution_count": 33,
   "id": "creative-milan",
   "metadata": {},
   "outputs": [],
   "source": [
    "# model.predict(scaled_X_test)\n",
    "# Classes are the index position\n",
    "predictions = model.predict_classes(scaled_X_test)"
   ]
  },
  {
   "cell_type": "code",
   "execution_count": 34,
   "id": "grand-direction",
   "metadata": {},
   "outputs": [
    {
     "data": {
      "text/plain": [
       "array([1, 0, 2, 1, 1, 0, 1, 2, 1, 1, 2, 0, 0, 0, 0, 1, 2, 1, 1, 2, 0, 2,\n",
       "       0, 2, 2, 2, 2, 2, 0, 0, 0, 0, 1, 0, 0, 2, 1, 0, 0, 0, 2, 1, 1, 0,\n",
       "       0, 1, 2, 2, 1, 2], dtype=int64)"
      ]
     },
     "execution_count": 34,
     "metadata": {},
     "output_type": "execute_result"
    }
   ],
   "source": [
    "# argmax gives the index value of the max value\n",
    "y_test.argmax(axis=1)"
   ]
  },
  {
   "cell_type": "code",
   "execution_count": 36,
   "id": "genuine-rotation",
   "metadata": {},
   "outputs": [],
   "source": [
    "# y_test"
   ]
  },
  {
   "cell_type": "code",
   "execution_count": 37,
   "id": "toxic-possession",
   "metadata": {},
   "outputs": [],
   "source": [
    "from sklearn.metrics import confusion_matrix, classification_report, accuracy_score"
   ]
  },
  {
   "cell_type": "code",
   "execution_count": 38,
   "id": "interpreted-crystal",
   "metadata": {},
   "outputs": [
    {
     "data": {
      "text/plain": [
       "array([[19,  0,  0],\n",
       "       [ 0, 14,  1],\n",
       "       [ 0,  1, 15]], dtype=int64)"
      ]
     },
     "execution_count": 38,
     "metadata": {},
     "output_type": "execute_result"
    }
   ],
   "source": [
    "confusion_matrix(y_test.argmax(axis=1), predictions)"
   ]
  },
  {
   "cell_type": "code",
   "execution_count": 39,
   "id": "durable-delaware",
   "metadata": {},
   "outputs": [
    {
     "name": "stdout",
     "output_type": "stream",
     "text": [
      "              precision    recall  f1-score   support\n",
      "\n",
      "           0       1.00      1.00      1.00        19\n",
      "           1       0.93      0.93      0.93        15\n",
      "           2       0.94      0.94      0.94        16\n",
      "\n",
      "   micro avg       0.96      0.96      0.96        50\n",
      "   macro avg       0.96      0.96      0.96        50\n",
      "weighted avg       0.96      0.96      0.96        50\n",
      "\n"
     ]
    }
   ],
   "source": [
    "print(classification_report(y_test.argmax(axis=1), predictions))"
   ]
  },
  {
   "cell_type": "code",
   "execution_count": 40,
   "id": "alien-newman",
   "metadata": {},
   "outputs": [
    {
     "name": "stdout",
     "output_type": "stream",
     "text": [
      "0.96\n"
     ]
    }
   ],
   "source": [
    "print(accuracy_score(y_test.argmax(axis=1), predictions))"
   ]
  },
  {
   "cell_type": "code",
   "execution_count": 41,
   "id": "juvenile-lender",
   "metadata": {},
   "outputs": [],
   "source": [
    "model.save('myfirstmodel.h5')"
   ]
  },
  {
   "cell_type": "code",
   "execution_count": 42,
   "id": "dominant-arthur",
   "metadata": {},
   "outputs": [],
   "source": [
    "from keras.models import load_model"
   ]
  },
  {
   "cell_type": "code",
   "execution_count": 43,
   "id": "arranged-wales",
   "metadata": {},
   "outputs": [],
   "source": [
    "new_model = load_model('myfirstmodel.h5')"
   ]
  },
  {
   "cell_type": "code",
   "execution_count": 44,
   "id": "baking-liabilities",
   "metadata": {},
   "outputs": [
    {
     "data": {
      "text/plain": [
       "array([1, 0, 2, 1, 1, 0, 1, 2, 2, 1, 2, 0, 0, 0, 0, 1, 2, 1, 1, 2, 0, 2,\n",
       "       0, 2, 2, 2, 2, 2, 0, 0, 0, 0, 1, 0, 0, 2, 1, 0, 0, 0, 2, 1, 1, 0,\n",
       "       0, 1, 1, 2, 1, 2], dtype=int64)"
      ]
     },
     "execution_count": 44,
     "metadata": {},
     "output_type": "execute_result"
    }
   ],
   "source": [
    "new_model.predict_classes(scaled_X_test)"
   ]
  },
  {
   "cell_type": "code",
   "execution_count": null,
   "id": "gross-delhi",
   "metadata": {},
   "outputs": [],
   "source": []
  }
 ],
 "metadata": {
  "kernelspec": {
   "display_name": "Python 3",
   "language": "python",
   "name": "python3"
  },
  "language_info": {
   "codemirror_mode": {
    "name": "ipython",
    "version": 3
   },
   "file_extension": ".py",
   "mimetype": "text/x-python",
   "name": "python",
   "nbconvert_exporter": "python",
   "pygments_lexer": "ipython3",
   "version": "3.7.9"
  }
 },
 "nbformat": 4,
 "nbformat_minor": 5
}
